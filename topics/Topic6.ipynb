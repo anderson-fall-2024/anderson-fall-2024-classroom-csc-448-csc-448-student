{
 "cells": [
  {
   "cell_type": "markdown",
   "metadata": {},
   "source": [
    "# Colab Start Section"
   ]
  },
  {
   "cell_type": "markdown",
   "metadata": {},
   "source": [
    "Step 1 is to upload a copy of your private key. I am assuming your private key is named id_ed25519. If that isn't the case, you'll have to make manual changes."
   ]
  },
  {
   "cell_type": "code",
   "execution_count": 1,
   "metadata": {},
   "outputs": [],
   "source": [
    "# Change these of course to what is your email and your GitHub username\n",
    "EMAIL = \"pauleanderson@gmail.com\"\n",
    "USERNAME = \"instructor\""
   ]
  },
  {
   "cell_type": "code",
   "execution_count": null,
   "metadata": {},
   "outputs": [],
   "source": [
    "from google.colab import files\n",
    "uploaded = files.upload()"
   ]
  },
  {
   "cell_type": "code",
   "execution_count": null,
   "metadata": {},
   "outputs": [],
   "source": [
    "%%bash -s \"$EMAIL\" \"$USERNAME\"\n",
    "\n",
    "rm -rf /root/.ssh/*\n",
    "mkdir /root/.ssh\n",
    "\n",
    "mv id_ed25519 /root/.ssh/\n",
    "\n",
    "chmod 600 /root/.ssh/id_ed25519\n",
    "\n",
    "git config --global user.email \"$1\"\n",
    "git config --global user.name \"$2\""
   ]
  },
  {
   "cell_type": "code",
   "execution_count": 2,
   "metadata": {},
   "outputs": [
    {
     "name": "stderr",
     "output_type": "stream",
     "text": [
      "UsageError: Cell magic `%%shell` not found.\n"
     ]
    }
   ],
   "source": [
    "%%bash -s \"$USERNAME\"\n",
    "\n",
    "eval \"$(ssh-agent -s)\"\n",
    "\n",
    "ssh-add ~/.ssh/id_ed25519\n",
    "\n",
    "ssh-keyscan -t rsa github.com >> ~/.ssh/known_hosts\n",
    "\n",
    "git clone git@github.com:anderson-fall-2024/csc-448-$1.git"
   ]
  },
  {
   "cell_type": "markdown",
   "metadata": {
    "slideshow": {
     "slide_type": "slide"
    }
   },
   "source": [
    "# Topic 6 - Are there fragile regions in the human genome?\n",
    "\n",
    "## Combinatorial Algorithms - Chapter 6\n",
    "Motivation and some exercises are variations on those available in Bioinformatics Algorithms: An Active-Learning Approach by Phillip Compeau & Pavel Pevzner."
   ]
  },
  {
   "cell_type": "code",
   "execution_count": 2,
   "metadata": {
    "slideshow": {
     "slide_type": "subslide"
    }
   },
   "outputs": [
    {
     "data": {
      "text/plain": [
       "RendererRegistry.enable('html')"
      ]
     },
     "execution_count": 2,
     "metadata": {},
     "output_type": "execute_result"
    }
   ],
   "source": [
    "#### NO NEED TO EDIT ####\n",
    "%load_ext autoreload\n",
    "%autoreload 2\n",
    "%matplotlib inline\n",
    "\n",
    "import sys\n",
    "sys.path.insert(0,f\"csc-448-{USERNAME}\")\n",
    "sys.path.insert(0,\"..\")\n",
    "\n",
    "from py448 import Topic6_helper\n",
    "\n",
    "#### NO NEED TO EDIT ####\n",
    "\n",
    "import altair as alt\n",
    "alt.renderers.enable('html')"
   ]
  },
  {
   "cell_type": "markdown",
   "metadata": {
    "slideshow": {
     "slide_type": "subslide"
    }
   },
   "source": [
    "## Ice breaker\n",
    "\n",
    "What is the best candy bar?"
   ]
  },
  {
   "cell_type": "markdown",
   "metadata": {
    "slideshow": {
     "slide_type": "slide"
    }
   },
   "source": [
    "## Rearrangements in Tumor Genomes\n",
    "Before we go forward with terminology, background, and algorithms, let's take a look at a success story.\n",
    "### A win that shows why many of us work in bioinformatics...\n",
    "<img src=\"http://bioinformaticsalgorithms.com/images/Rearrangements/Philadelphia_chromosome.png\" width=600>\n",
    "\n",
    "* Rare form of cancer called chronic myeloid leukemia (CML)\n",
    "* Involves the rearrangement of human chromosomes 9 and 22\n",
    "* Once scientists understood the root cause of CML, they started searching for a compound inhibiting ABL-BCR, which resulted in the introduction of a drug called Gleevec in 2001."
   ]
  },
  {
   "cell_type": "markdown",
   "metadata": {
    "slideshow": {
     "slide_type": "slide"
    }
   },
   "source": [
    "## Background and terminology\n",
    "What is a genomic rearrangement?\n",
    "* You can think of it as a \"genomic earthquake\" that dramatically changes the chromosomal architecture of an organism\n",
    "\n",
    "**Stop and think:** What other changes have we been talking about before in this class?"
   ]
  },
  {
   "cell_type": "markdown",
   "metadata": {
    "slideshow": {
     "slide_type": "fragment"
    }
   },
   "source": [
    "* Point mutations - work slowly and are analogous to \"genomic erosion\""
   ]
  },
  {
   "cell_type": "markdown",
   "metadata": {
    "slideshow": {
     "slide_type": "subslide"
    }
   },
   "source": [
    "What is a central theme when studying genomic rearrangement?\n",
    "* Earthquakes that occur more frequently along fault lines. We want to know if a similar principal holds for genomic regions\n",
    "\n",
    "We call these potential fault lines in the genome **rearrangement hotspots**. If these hotspots exist, we want to locate them and determine how they might relate to genetic disorders.\n",
    "\n",
    "Because the true rearrangement scenario is unknown, it is not immediately clear how we could determine whether rearrangement hotspots exist."
   ]
  },
  {
   "cell_type": "markdown",
   "metadata": {
    "slideshow": {
     "slide_type": "slide"
    }
   },
   "source": [
    "# Of Mice and Men\n",
    "* Nearly every human gene has a mouse counterpart\n",
    "* We even have genes that make tails, but those are silenced\n",
    "\n",
    "So the question is:\n",
    "> What evolutionary forces have transformed the genome of the human-mouse ancestor into the present-day human and mouse genomes?\n",
    "\n"
   ]
  },
  {
   "cell_type": "markdown",
   "metadata": {
    "slideshow": {
     "slide_type": "subslide"
    }
   },
   "source": [
    "## Genome rearrangement\n",
    "* You can cut the 23 human chromosomes into 280 pieces, shuffle these DNA fragments and then glue the pieces together in a new order to form the 20 mouse chromosomes\n",
    "* In this chapter and lab we will work to understand the genome rearrangements that have separated the human and mouse genomes"
   ]
  },
  {
   "cell_type": "markdown",
   "metadata": {
    "slideshow": {
     "slide_type": "subslide"
    }
   },
   "source": [
    "## Quick word about the X chromosome\n",
    "* One of two sex-determining chromosomes in mammals\n",
    "* It's retained nearly all its genes throughout mammalian evolution\n",
    "* We can view it as a mini-genome because this chromosome's genes have not jumped onto different chromosomes"
   ]
  },
  {
   "cell_type": "markdown",
   "metadata": {
    "slideshow": {
     "slide_type": "subslide"
    }
   },
   "source": [
    "## Synteny blocks\n",
    "* Genes across species often appear in procession\n",
    "* This is known as a synteny block\n",
    "* Constructing these blocks simplifies our problem from 150 million base pairs on the X chromosome to only eleven units"
   ]
  },
  {
   "cell_type": "markdown",
   "metadata": {
    "slideshow": {
     "slide_type": "subslide"
    }
   },
   "source": [
    "<img src=\"http://bioinformaticsalgorithms.com/images/Rearrangements/mouse_and_human_synteny_blocks.png\">\n",
    "Color and shape indicate a block. Direction indicated by arrow head. Note that some blocks are longer than others."
   ]
  },
  {
   "cell_type": "markdown",
   "metadata": {
    "slideshow": {
     "slide_type": "subslide"
    }
   },
   "source": [
    "## Reversal Genome Rearrangment\n",
    "* Flips around an interval of a chromosome and inverts the directions of any synteny blocks within that interval\n",
    "* Genome rearrangements typically cause the death or sterility of the mutated organism\n",
    "* So they are pretty rare\n",
    "* A tiny fraction may have a positive effect on survival and propagate"
   ]
  },
  {
   "cell_type": "markdown",
   "metadata": {
    "slideshow": {
     "slide_type": "subslide"
    }
   },
   "source": [
    "**Stop and think (5 mins individual and then a few more minutes with folks near you):** Can you go from mouse to human in 7 moves?\n",
    "\n",
    "<img src=\"https://docs.google.com/drawings/d/e/2PACX-1vTipOfR48sRPj13b4H9BSHq2RNdVOc320leFCSv0igxByC1SI4uncM0YnJI7bJAeHJou26lw5iXORam/pub?w=1245&h=498\">"
   ]
  },
  {
   "cell_type": "markdown",
   "metadata": {
    "slideshow": {
     "slide_type": "subslide"
    }
   },
   "source": [
    "Anwser: How do we go from human to mouse (and is this the only way we can do so with 7 changes)? \n",
    "<img src=\"http://bioinformaticsalgorithms.com/images/Rearrangements/transforming_mouse_into_human_7_reversals.png\">"
   ]
  },
  {
   "cell_type": "markdown",
   "metadata": {
    "slideshow": {
     "slide_type": "slide"
    }
   },
   "source": [
    "## Random Breakage Model\n",
    "* 1973, Susumu Ohno proposed the Random Breakage Model of chromosome evolution\n",
    "* Hypothesizes that the breakage points of rearrangements are selected randomly\n",
    "* Implies that rearrangement hotspots in mammalian genomes do not exist\n",
    "* Yet Ohno's model lacked supporting evidence when it was introduced"
   ]
  },
  {
   "cell_type": "markdown",
   "metadata": {
    "slideshow": {
     "slide_type": "subslide"
    }
   },
   "source": [
    "## Replicating a computational experiment\n",
    "\n",
    "* In 1984, Joseph Nadeau and Benjamin Taylor asked what the expected lengths of synteny blocks should be after N reversals occurring at random locations in the genome.\n",
    "* Rule out the unlikely event that two random reversals cut the chromosome in exactly the same position\n",
    "* Assuming this, N random reversals cut the chromosome in 2N locations and produce 2N + 1 synteny blocks\n",
    "* We will simulate this with 25,000 genes and 320 random reversals resulting in 2*320+1=641 synteny blocks"
   ]
  },
  {
   "cell_type": "markdown",
   "metadata": {
    "slideshow": {
     "slide_type": "subslide"
    }
   },
   "source": [
    "**Exercise 1 (optional and not graded)**: Simulating reversals\n",
    "\n",
    "Using the method descried above, I want you to write a simulation that cuts the chromosome into blocks. You should end up with 2N+1 blocks (N=320 below). The autograder is going to look at the distribution of the lengths of your blocks. This is a stochastic simulation, so the autograder has run this simulation many times, and it is aware of reasonable levels of variation. "
   ]
  },
  {
   "cell_type": "code",
   "execution_count": 12,
   "metadata": {
    "slideshow": {
     "slide_type": "subslide"
    }
   },
   "outputs": [
    {
     "data": {
      "text/plain": [
       "0            g0\n",
       "1            g1\n",
       "2            g2\n",
       "3            g3\n",
       "4            g4\n",
       "          ...  \n",
       "24995    g24995\n",
       "24996    g24996\n",
       "24997    g24997\n",
       "24998    g24998\n",
       "24999    g24999\n",
       "Length: 25000, dtype: object"
      ]
     },
     "execution_count": 12,
     "metadata": {},
     "output_type": "execute_result"
    }
   ],
   "source": [
    "import pandas as pd\n",
    "ngenes = 25000\n",
    "chromosome = [\"g%d\"%i for i in range(ngenes)]\n",
    "pd.Series(chromosome)"
   ]
  },
  {
   "cell_type": "code",
   "execution_count": 13,
   "metadata": {
    "slideshow": {
     "slide_type": "subslide"
    }
   },
   "outputs": [
    {
     "data": {
      "text/plain": [
       "array([340, 157,  61,  40,  19,  15,   4,   1,   2,   1])"
      ]
     },
     "execution_count": 13,
     "metadata": {},
     "output_type": "execute_result"
    }
   ],
   "source": [
    "%matplotlib inline \n",
    "\n",
    "bins = [0. ,  27.8,  55.6,  83.4, 111.2, 139. , 166.8, 194.6, 222.4, 250.2, 278.]\n",
    "# YOUR SOLUTION HERE\n",
    "counts,centers = np.histogram(lens,bins=bins)\n",
    "counts"
   ]
  },
  {
   "cell_type": "code",
   "execution_count": 14,
   "metadata": {
    "slideshow": {
     "slide_type": "subslide"
    }
   },
   "outputs": [
    {
     "data": {
      "text/plain": [
       "[0.0, 27.8, 55.6, 83.4, 111.2, 139.0, 166.8, 194.6, 222.4, 250.2, 278.0]"
      ]
     },
     "execution_count": 14,
     "metadata": {},
     "output_type": "execute_result"
    }
   ],
   "source": [
    "bins"
   ]
  },
  {
   "cell_type": "code",
   "execution_count": 15,
   "metadata": {
    "slideshow": {
     "slide_type": "subslide"
    }
   },
   "outputs": [
    {
     "data": {
      "text/html": [
       "\n",
       "<style>\n",
       "  #altair-viz-30c9919c205b43f0bbf87c3747fcd182.vega-embed {\n",
       "    width: 100%;\n",
       "    display: flex;\n",
       "  }\n",
       "\n",
       "  #altair-viz-30c9919c205b43f0bbf87c3747fcd182.vega-embed details,\n",
       "  #altair-viz-30c9919c205b43f0bbf87c3747fcd182.vega-embed details summary {\n",
       "    position: relative;\n",
       "  }\n",
       "</style>\n",
       "<div id=\"altair-viz-30c9919c205b43f0bbf87c3747fcd182\"></div>\n",
       "<script type=\"text/javascript\">\n",
       "  var VEGA_DEBUG = (typeof VEGA_DEBUG == \"undefined\") ? {} : VEGA_DEBUG;\n",
       "  (function(spec, embedOpt){\n",
       "    let outputDiv = document.currentScript.previousElementSibling;\n",
       "    if (outputDiv.id !== \"altair-viz-30c9919c205b43f0bbf87c3747fcd182\") {\n",
       "      outputDiv = document.getElementById(\"altair-viz-30c9919c205b43f0bbf87c3747fcd182\");\n",
       "    }\n",
       "    const paths = {\n",
       "      \"vega\": \"https://cdn.jsdelivr.net/npm/vega@5?noext\",\n",
       "      \"vega-lib\": \"https://cdn.jsdelivr.net/npm/vega-lib?noext\",\n",
       "      \"vega-lite\": \"https://cdn.jsdelivr.net/npm/vega-lite@5.20.1?noext\",\n",
       "      \"vega-embed\": \"https://cdn.jsdelivr.net/npm/vega-embed@6?noext\",\n",
       "    };\n",
       "\n",
       "    function maybeLoadScript(lib, version) {\n",
       "      var key = `${lib.replace(\"-\", \"\")}_version`;\n",
       "      return (VEGA_DEBUG[key] == version) ?\n",
       "        Promise.resolve(paths[lib]) :\n",
       "        new Promise(function(resolve, reject) {\n",
       "          var s = document.createElement('script');\n",
       "          document.getElementsByTagName(\"head\")[0].appendChild(s);\n",
       "          s.async = true;\n",
       "          s.onload = () => {\n",
       "            VEGA_DEBUG[key] = version;\n",
       "            return resolve(paths[lib]);\n",
       "          };\n",
       "          s.onerror = () => reject(`Error loading script: ${paths[lib]}`);\n",
       "          s.src = paths[lib];\n",
       "        });\n",
       "    }\n",
       "\n",
       "    function showError(err) {\n",
       "      outputDiv.innerHTML = `<div class=\"error\" style=\"color:red;\">${err}</div>`;\n",
       "      throw err;\n",
       "    }\n",
       "\n",
       "    function displayChart(vegaEmbed) {\n",
       "      vegaEmbed(outputDiv, spec, embedOpt)\n",
       "        .catch(err => showError(`Javascript Error: ${err.message}<br>This usually means there's a typo in your chart specification. See the javascript console for the full traceback.`));\n",
       "    }\n",
       "\n",
       "    if(typeof define === \"function\" && define.amd) {\n",
       "      requirejs.config({paths});\n",
       "      require([\"vega-embed\"], displayChart, err => showError(`Error loading script: ${err.message}`));\n",
       "    } else {\n",
       "      maybeLoadScript(\"vega\", \"5\")\n",
       "        .then(() => maybeLoadScript(\"vega-lite\", \"5.20.1\"))\n",
       "        .then(() => maybeLoadScript(\"vega-embed\", \"6\"))\n",
       "        .catch(showError)\n",
       "        .then(() => displayChart(vegaEmbed));\n",
       "    }\n",
       "  })({\"config\": {\"view\": {\"continuousWidth\": 300, \"continuousHeight\": 300}}, \"data\": {\"name\": \"data-4edfb0a7be638601f14d816e04713cdb\"}, \"mark\": {\"type\": \"bar\"}, \"encoding\": {\"x\": {\"field\": \"length\", \"type\": \"quantitative\"}, \"y\": {\"field\": \"count\", \"type\": \"quantitative\"}}, \"$schema\": \"https://vega.github.io/schema/vega-lite/v5.20.1.json\", \"datasets\": {\"data-4edfb0a7be638601f14d816e04713cdb\": [{\"count\": 340, \"length\": 27.8}, {\"count\": 157, \"length\": 55.6}, {\"count\": 61, \"length\": 83.4}, {\"count\": 40, \"length\": 111.2}, {\"count\": 19, \"length\": 139.0}, {\"count\": 15, \"length\": 166.8}, {\"count\": 4, \"length\": 194.6}, {\"count\": 1, \"length\": 222.4}, {\"count\": 2, \"length\": 250.2}, {\"count\": 1, \"length\": 278.0}]}}, {\"mode\": \"vega-lite\"});\n",
       "</script>"
      ],
      "text/plain": [
       "alt.Chart(...)"
      ]
     },
     "execution_count": 15,
     "metadata": {},
     "output_type": "execute_result"
    }
   ],
   "source": [
    "alt.Chart(pd.DataFrame({\"count\":counts,\"length\":bins[1:]})).mark_bar().encode(\n",
    "    x='length',\n",
    "    y='count'\n",
    ")"
   ]
  },
  {
   "cell_type": "markdown",
   "metadata": {
    "slideshow": {
     "slide_type": "slide"
    }
   },
   "source": [
    "## Why simulate and a greedy heuristic?\n",
    "I find it very useful to simulate my own data if for no other reason than to enhance my understanding. Since you've done a simulation, consider this:\n",
    "\n",
    "> If I gave you the blocks you arrived at in the end, can you tell me how we arrived at them?\n",
    "\n",
    "Consider the greedy heuristic next..."
   ]
  },
  {
   "cell_type": "markdown",
   "metadata": {
    "slideshow": {
     "slide_type": "subslide"
    }
   },
   "source": [
    "### Greedy Heuristic\n",
    "Simple idea that says to perform reversals that fix +1 in the first position. Followed by reversals that fix +2 in the second position and so on. By iterating we can move larger and larger elements into their correct positions.\n",
    "<pre>\n",
    "(+1 −7 +6 −10 +9 −8 +2 −11 −3 +5 +4)\n",
    "(+1 −2 +8 −9 +10 −6 +7 −11 −3 +5 +4)\n",
    "(+1 +2 +8 −9 +10 −6 +7 −11 −3 +5 +4)\n",
    "(+1 +2 +3 +11 −7 +6 −10 +9 −8 +5 +4)\n",
    "</pre>\n",
    "**Stop and think:** Take 3-5 minutes on paper and try to finish. "
   ]
  },
  {
   "cell_type": "markdown",
   "metadata": {
    "slideshow": {
     "slide_type": "subslide"
    }
   },
   "source": [
    "Rest of the greedy solution:\n",
    "<pre>\n",
    "(+1 +2 +3 −4 −5 +8 −9 +10 −6 +7 −11)\n",
    "(+1 +2 +3 +4 −5 +8 −9 +10 −6 +7 −11)\n",
    "(+1 +2 +3 +4 +5 +8 −9 +10 −6 +7 −11)\n",
    "(+1 +2 +3 +4 +5 +6 −10 +9 −8 +7 −11)\n",
    "(+1 +2 +3 +4 +5 +6 −7 +8 −9 +10 −11)\n",
    "(+1 +2 +3 +4 +5 +6 +7 +8 −9 +10 −11)\n",
    "(+1 +2 +3 +4 +5 +6 +7 +8 +9 +10 −11)\n",
    "(+1 +2 +3 +4 +5 +6 +7 +8 +9 +10 +11)\n",
    "</pre>"
   ]
  },
  {
   "cell_type": "markdown",
   "metadata": {
    "slideshow": {
     "slide_type": "subslide"
    }
   },
   "source": [
    "**Stop and think:** Take another minute and jot down some pseudocode about how you would implement this in a function"
   ]
  },
  {
   "cell_type": "markdown",
   "metadata": {
    "slideshow": {
     "slide_type": "subslide"
    }
   },
   "source": [
    "**Exercise 2**: Greedy heuristic for sorting by reversals\n",
    "\n",
    "For this exercise, I want you to implement the greedy heuristic as described here and in Chapter 6. \n",
    "\n",
    "Input: $P$ - signed permutation (pandas Series object)\n",
    "\n",
    "Output: $d_{rev}(P)$ - number of reversals"
   ]
  },
  {
   "cell_type": "code",
   "execution_count": 43,
   "metadata": {
    "slideshow": {
     "slide_type": "subslide"
    }
   },
   "outputs": [
    {
     "name": "stdout",
     "output_type": "stream",
     "text": [
      "1\t-7\t6\t-10\t9\t-8\t2\t-11\t-3\t5\t4\n",
      "1\t-2\t8\t-9\t10\t-6\t7\t-11\t-3\t5\t4\n",
      "1\t2\t8\t-9\t10\t-6\t7\t-11\t-3\t5\t4\n",
      "1\t2\t3\t11\t-7\t6\t-10\t9\t-8\t5\t4\n",
      "1\t2\t3\t-4\t-5\t8\t-9\t10\t-6\t7\t-11\n",
      "1\t2\t3\t4\t-5\t8\t-9\t10\t-6\t7\t-11\n",
      "1\t2\t3\t4\t5\t8\t-9\t10\t-6\t7\t-11\n",
      "1\t2\t3\t4\t5\t6\t-10\t9\t-8\t7\t-11\n",
      "1\t2\t3\t4\t5\t6\t-7\t8\t-9\t10\t-11\n",
      "1\t2\t3\t4\t5\t6\t7\t8\t-9\t10\t-11\n",
      "1\t2\t3\t4\t5\t6\t7\t8\t-9\t10\t-11\n",
      "1\t2\t3\t4\t5\t6\t7\t8\t9\t10\t-11\n",
      "1\t2\t3\t4\t5\t6\t7\t8\t9\t10\t-11\n",
      "1\t2\t3\t4\t5\t6\t7\t8\t9\t10\t11\n",
      "Target:\n",
      "1\t2\t3\t4\t5\t6\t7\t8\t9\t10\t11\n",
      "Solution trace:\n",
      "1\t-7\t6\t-10\t9\t-8\t2\t-11\t-3\t5\t4\n",
      "1\t-2\t8\t-9\t10\t-6\t7\t-11\t-3\t5\t4\n",
      "1\t2\t8\t-9\t10\t-6\t7\t-11\t-3\t5\t4\n",
      "1\t2\t3\t11\t-7\t6\t-10\t9\t-8\t5\t4\n",
      "1\t2\t3\t-4\t-5\t8\t-9\t10\t-6\t7\t-11\n",
      "1\t2\t3\t4\t-5\t8\t-9\t10\t-6\t7\t-11\n",
      "1\t2\t3\t4\t5\t8\t-9\t10\t-6\t7\t-11\n",
      "1\t2\t3\t4\t5\t6\t-10\t9\t-8\t7\t-11\n",
      "1\t2\t3\t4\t5\t6\t-7\t8\t-9\t10\t-11\n",
      "1\t2\t3\t4\t5\t6\t7\t8\t-9\t10\t-11\n",
      "1\t2\t3\t4\t5\t6\t7\t8\t-9\t10\t-11\n",
      "1\t2\t3\t4\t5\t6\t7\t8\t9\t10\t-11\n",
      "1\t2\t3\t4\t5\t6\t7\t8\t9\t10\t-11\n",
      "1\t2\t3\t4\t5\t6\t7\t8\t9\t10\t11\n",
      "Approximate reversal distance: 11\n"
     ]
    }
   ],
   "source": [
    "P_list = [1,-7,6,-10,9,-8,2,-11,-3,5,4]\n",
    "P = pd.Series(P_list,index=list(range(1,len(P_list)+1)))\n",
    "\n",
    "print(\"Target:\")\n",
    "print(\"\\t\".join(P.index.astype(str)))\n",
    "print(\"Solution trace:\")\n",
    "approx_rev_distance = Topic6_helper.greedy_sorting(P)\n",
    "print(\"Approximate reversal distance:\",approx_rev_distance)"
   ]
  },
  {
   "cell_type": "markdown",
   "metadata": {
    "slideshow": {
     "slide_type": "slide"
    }
   },
   "source": [
    "## Moving past our greedy solution\n",
    "We are going to move towards creating what are known as breakpoint graphs. A natural question then is \"What is a breakpoint?\" My favorite way to understanding the world... If I can code it, I understand it (probably :)"
   ]
  },
  {
   "cell_type": "markdown",
   "metadata": {
    "slideshow": {
     "slide_type": "subslide"
    }
   },
   "source": [
    "## Breakpoints\n",
    "Put simply breakpoints are located in between adjacent blocks (a,b) that do not differ by 1. i.e., b-a=1\n",
    "\n",
    "* Breakpoint exists between (5,7) ... 7-5=2\n",
    "* Breakpoint does not exist between (5,6) ... 6-5=1\n",
    "* Breakpoint does not exist between (-7,-6) ... -6--7=1\n",
    "* Breakpoints also exist at the beginning and the end when the beginning is not 1 and the end is not equal to the number of blocks"
   ]
  },
  {
   "cell_type": "markdown",
   "metadata": {
    "slideshow": {
     "slide_type": "subslide"
    }
   },
   "source": [
    "**Stop and think:** Take 2-3 minutes and see if you and those around you can work out the number of breakpoints in:\n",
    "<pre>\n",
    "(3 4 5 -12 -8 -7 -6 1 2 10 9 -11 13 14)\n",
    "</pre>"
   ]
  },
  {
   "cell_type": "markdown",
   "metadata": {
    "slideshow": {
     "slide_type": "subslide"
    }
   },
   "source": [
    "Does a breakpoint exist between (10,9)?"
   ]
  },
  {
   "cell_type": "markdown",
   "metadata": {
    "slideshow": {
     "slide_type": "fragment"
    }
   },
   "source": [
    "Yes. Consider if you just rearranged it without breaking. You would get (-9,-10). The only way this can be fixed so that it is (9,10) is if there is at least point breakpoint between 9 and 10."
   ]
  },
  {
   "cell_type": "markdown",
   "metadata": {
    "slideshow": {
     "slide_type": "subslide"
    }
   },
   "source": [
    "**Exercise 3**: Number of breakpoints problem\n",
    "\n",
    "For this exercise, I want you to find the number of breakpoints in a permutation. \n",
    "\n",
    "Input: $P$ - signed permutation (pandas Series object)\n",
    "\n",
    "Output: Number of breakpoints in this permutation"
   ]
  },
  {
   "cell_type": "code",
   "execution_count": 44,
   "metadata": {
    "slideshow": {
     "slide_type": "subslide"
    }
   },
   "outputs": [
    {
     "data": {
      "text/plain": [
       "(8, 10)"
      ]
     },
     "execution_count": 44,
     "metadata": {},
     "output_type": "execute_result"
    }
   ],
   "source": [
    "import pandas as pd\n",
    "\n",
    "P_list2 = [3,4,5,-12,-8,-7,-6,1,2,10,9,-11,13,14]\n",
    "P2 = pd.Series(P_list2,index=list(range(1,len(P_list2)+1)))\n",
    "nbreakpoints_P2 = Topic6_helper.count_breakpoints(P2)\n",
    "P_list3 = [3,4,5,-12,-8,-7,-6,1,2,10,9,-11,14,13]\n",
    "P3 = pd.Series(P_list3,index=list(range(1,len(P_list2)+1)))\n",
    "nbreakpoints_P3 = Topic6_helper.count_breakpoints(P3)\n",
    "nbreakpoints_P2,nbreakpoints_P3"
   ]
  },
  {
   "cell_type": "markdown",
   "metadata": {
    "slideshow": {
     "slide_type": "slide"
    }
   },
   "source": [
    "## From Unichromosomal to Multichromosomal Genomes\n",
    "Four types of rearrangements\n",
    " * reversals\n",
    " * translocations - exchanges segments of different chromosomes\n",
    " * fusions - fuse two chromosomes\n",
    " * fissions - split a chromosome into two"
   ]
  },
  {
   "cell_type": "markdown",
   "metadata": {
    "slideshow": {
     "slide_type": "subslide"
    }
   },
   "source": [
    "**Translocation example**"
   ]
  },
  {
   "cell_type": "code",
   "execution_count": 45,
   "metadata": {
    "slideshow": {
     "slide_type": "fragment"
    }
   },
   "outputs": [
    {
     "name": "stdout",
     "output_type": "stream",
     "text": [
      "(1, 2, 3, 4) (5, 6)\n",
      "(7, 8) (9, 10, 11)\n",
      "(1, 2, 3, 4, 9, 10, 11) (7, 8, 5, 6)\n"
     ]
    }
   ],
   "source": [
    "chromosome1 = [1,2,3,4,5,6]; chromosome2 = [7,8,9,10,11]\n",
    "cut1 = 4; cut2 = 2 # inclusive indices of the cuts\n",
    "chromosome1a = chromosome1[:cut1]\n",
    "chromosome1b = chromosome1[cut1:]\n",
    "chromosome2a = chromosome2[:cut2]\n",
    "chromosome2b = chromosome2[cut2:]\n",
    "new_chromosome1 = chromosome1a + chromosome2b\n",
    "new_chromosome2 = chromosome2a + chromosome1b\n",
    "print(tuple(chromosome1a),tuple(chromosome1b));print(tuple(chromosome2a),tuple(chromosome2b));print(tuple(new_chromosome1),tuple(new_chromosome2))"
   ]
  },
  {
   "cell_type": "markdown",
   "metadata": {
    "slideshow": {
     "slide_type": "subslide"
    }
   },
   "source": [
    "You guessed it... Now it is time for more graphs\n",
    "<img src=\"http://bioinformaticsalgorithms.com/images/Rearrangements/genome_graph.png\" width=400>\n",
    "\n",
    "> Figure: A genome with two circular chromosomes, (+a −b −c +d) and (+e +f +g +h +i +j). Grey directed edges represent synteny blocks, and red undirected edges connect adjacent synteny blocks. A circular chromosome with n﻿ elements can be written in 2n different ways; the chromosome on the left can be written as (+a −b −c +d), (−b −c +d +a), (−c +d +a −b), (+d +a −b −c), (−a −d +c +b) (−d +c +b −a), (+c +b −a −d), and (+b −a −d +c)."
   ]
  },
  {
   "cell_type": "markdown",
   "metadata": {
    "slideshow": {
     "slide_type": "subslide"
    }
   },
   "source": [
    "**Some notes on our graphs this week**\n",
    "* Color is going to be meaningful\n",
    "* Positive and negative is going to be meaningful\n",
    "* Our graphs are going to be undirected networkx graphs, but we will put +/- on the vertices to show the direction like the last slide.\n",
    "\n",
    "Grey is going to mean exactly what is shown above.\n",
    "\n",
    "We will also use red, blue, and purple. Why... red + blue makes purple.\n",
    "\n",
    "I've included different functions in the notebook that assumes you are using these colors."
   ]
  },
  {
   "cell_type": "markdown",
   "metadata": {
    "slideshow": {
     "slide_type": "subslide"
    }
   },
   "source": [
    "**Exercise 4**: Representing a graph\n",
    "\n",
    "For this exercise, I want you to adopt a specific format for representing the genome graphs. We can't easily construct the arrow (directed and undirected), but we can come up with a straightforward way to represent it.\n",
    "\n",
    "Input: genome - a list of signed permutation (pandas Series objects)\n",
    "\n",
    "Output: A networkx graph"
   ]
  },
  {
   "cell_type": "markdown",
   "metadata": {},
   "source": [
    "**Helper functions are supplied in the helper file.**"
   ]
  },
  {
   "cell_type": "code",
   "execution_count": 46,
   "metadata": {
    "slideshow": {
     "slide_type": "subslide"
    }
   },
   "outputs": [
    {
     "data": {
      "image/png": "[encoded data removed]",
      "text/plain": [
       "<Figure size 640x480 with 1 Axes>"
      ]
     },
     "metadata": {},
     "output_type": "display_data"
    }
   ],
   "source": [
    "G = Topic6_helper.genome_to_graph([pd.Series([1,-2,-3,4]),pd.Series([5,6,7,8,9,10])])\n",
    "Topic6_helper.show(G)"
   ]
  },
  {
   "cell_type": "markdown",
   "metadata": {
    "slideshow": {
     "slide_type": "subslide"
    }
   },
   "source": [
    "## What is a breakpoint graph and why make one?\n",
    "We can take two graphs like the one above, and combine them to make a breakpoint graph. Our algorithms can then work on the breakpoint graph (to come a bit later). Skip paste exercise 5 to see examples of the breakpoint graphs."
   ]
  },
  {
   "cell_type": "markdown",
   "metadata": {
    "slideshow": {
     "slide_type": "subslide"
    }
   },
   "source": [
    "**Exercise 5**: Creating a breakpoint graph\n",
    "\n",
    "For this exercise, I want you to construct a breakpoint graph. Again, I use a slightly different notation than the one in the book, but the results are the same.\n",
    "\n",
    "Input: two genomes where a genome is a list of signed permutation (pandas Series objects)\n",
    "\n",
    "Output: A networkx graph"
   ]
  },
  {
   "cell_type": "code",
   "execution_count": 47,
   "metadata": {
    "slideshow": {
     "slide_type": "subslide"
    }
   },
   "outputs": [
    {
     "data": {
      "image/png": "[encoded data removed]",
      "text/plain": [
       "<Figure size 640x480 with 1 Axes>"
      ]
     },
     "metadata": {},
     "output_type": "display_data"
    }
   ],
   "source": [
    "P4_list = [1,-2,-3,4]\n",
    "P4 = pd.Series(P4_list)\n",
    "P5_list = [1,3,2,-4]\n",
    "P5 = pd.Series(P5_list)\n",
    "\n",
    "G_P4_P5 = Topic6_helper.combine(Topic6_helper.genome_to_graph([P4]),Topic6_helper.genome_to_graph([P5]))\n",
    "Topic6_helper.show_combined(G_P4_P5)"
   ]
  },
  {
   "cell_type": "markdown",
   "metadata": {
    "slideshow": {
     "slide_type": "subslide"
    }
   },
   "source": [
    "## Example breakpoint graphs\n",
    "* Below you will see the different ways you can visualize them\n",
    "* This is to demonstrate the semantics of the colors\n",
    "* And to demonstrate the function I provide for you\n",
    "\n",
    "Consider what the purple means?"
   ]
  },
  {
   "cell_type": "code",
   "execution_count": 48,
   "metadata": {
    "slideshow": {
     "slide_type": "subslide"
    }
   },
   "outputs": [
    {
     "data": {
      "image/png": "[encoded data removed]",
      "text/plain": [
       "<Figure size 1500x300 with 4 Axes>"
      ]
     },
     "metadata": {},
     "output_type": "display_data"
    }
   ],
   "source": [
    "G4 = Topic6_helper.genome_to_graph([P4])\n",
    "G5 = Topic6_helper.genome_to_graph([P5])\n",
    "\n",
    "import matplotlib.pyplot as plt\n",
    "f,axs=plt.subplots(1,4,figsize=(15,3))\n",
    "plt.subplot(141)\n",
    "Topic6_helper.show(G4)\n",
    "plt.subplot(142)\n",
    "Topic6_helper.show(G5,red_blue=False)\n",
    "plt.subplot(143)\n",
    "Topic6_helper.show_combined(Topic6_helper.combine(G4,G5))\n",
    "plt.subplot(144)\n",
    "Topic6_helper.show(G4,G5,P_G=Topic6_helper.combine(G4,G5))"
   ]
  },
  {
   "cell_type": "markdown",
   "metadata": {
    "slideshow": {
     "slide_type": "subslide"
    }
   },
   "source": [
    "You have now made the graphs and the combined graphs. It is this combined graphs that we need to study in order to solve the problem of determine the minimum rearrangement steps. We can see the cycles in the rightmost graph. They alternate between red and blue. Start at a node and do some walking around for a second. "
   ]
  },
  {
   "cell_type": "markdown",
   "metadata": {
    "slideshow": {
     "slide_type": "subslide"
    }
   },
   "source": [
    "**Stop and think:** Can you list all of the red-blue alternating cycles in the right most graph?"
   ]
  },
  {
   "cell_type": "markdown",
   "metadata": {
    "slideshow": {
     "slide_type": "subslide"
    }
   },
   "source": [
    "### Base Case Example\n",
    "Now let's look at the base case example of combining two of the same graphs (genomes) together."
   ]
  },
  {
   "cell_type": "code",
   "execution_count": 49,
   "metadata": {
    "slideshow": {
     "slide_type": "subslide"
    }
   },
   "outputs": [
    {
     "data": {
      "image/png": "[encoded data removed]",
      "text/plain": [
       "<Figure size 1500x300 with 4 Axes>"
      ]
     },
     "metadata": {},
     "output_type": "display_data"
    }
   ],
   "source": [
    "G4 = Topic6_helper.genome_to_graph([P4])\n",
    "G5 = Topic6_helper.genome_to_graph([P4])\n",
    "\n",
    "# The rest is for plotting\n",
    "import matplotlib.pyplot as plt\n",
    "f,axs=plt.subplots(1,4,figsize=(15,3))\n",
    "plt.subplot(141)\n",
    "Topic6_helper.show(G4)\n",
    "plt.subplot(142)\n",
    "Topic6_helper.show(G5,red_blue=False)\n",
    "plt.subplot(143)\n",
    "Topic6_helper.show_combined(Topic6_helper.combine(G4,G5))\n",
    "plt.subplot(144)\n",
    "Topic6_helper.show(G4,G5,P_G=G4)"
   ]
  },
  {
   "cell_type": "markdown",
   "metadata": {
    "slideshow": {
     "slide_type": "subslide"
    }
   },
   "source": [
    "**Stop and think:** So ... what is the number of red-blue alternating cycles in this best case scenario?"
   ]
  },
  {
   "cell_type": "markdown",
   "metadata": {
    "slideshow": {
     "slide_type": "fragment"
    }
   },
   "source": [
    "4... or the number of blocks. \n",
    "\n",
    "**It follows that if we can break each non-trivial cycle in such a way that each time we generate one new \"purple\" or trivial cycle, then we have our algorithm.**\n",
    "\n",
    "Let's pause and make sure we believe that..."
   ]
  },
  {
   "cell_type": "markdown",
   "metadata": {
    "slideshow": {
     "slide_type": "subslide"
    }
   },
   "source": [
    "Our approach is to find a blue link and break our graph on either side. This is known as the two break distance. A picture from the textbook shows this, and we call this a 2-break.\n",
    "<img src=\"http://bioinformaticsalgorithms.com/images/Rearrangements/2-break_breakpoint_graph.png\">"
   ]
  },
  {
   "cell_type": "markdown",
   "metadata": {
    "slideshow": {
     "slide_type": "subslide"
    }
   },
   "source": [
    "**Stop and think:** Convert this to our graph style."
   ]
  },
  {
   "cell_type": "markdown",
   "metadata": {
    "slideshow": {
     "slide_type": "subslide"
    }
   },
   "source": [
    "If we know how many 2-breaks we need such that all we are left with are trivial cycles, we know the minimum number of reversals. We also know the reversals. Let's talk about how to build that!"
   ]
  },
  {
   "cell_type": "markdown",
   "metadata": {
    "slideshow": {
     "slide_type": "subslide"
    }
   },
   "source": [
    "**Exercise 6**: Finding the number of cycles in a combined graph\n",
    "\n",
    "For this exercise, I want you to determine the number of alternating cycles (red/blue) in the combined graph if you remove the grey links (e.g., (-1,1)).\n",
    "\n",
    "Input: A combined breakpoint graph\n",
    "\n",
    "Output: Number of cycles as defined in the textbook as CYCLES(P,Q)."
   ]
  },
  {
   "cell_type": "code",
   "execution_count": 50,
   "metadata": {
    "slideshow": {
     "slide_type": "subslide"
    }
   },
   "outputs": [
    {
     "data": {
      "text/plain": [
       "2"
      ]
     },
     "execution_count": 50,
     "metadata": {},
     "output_type": "execute_result"
    }
   ],
   "source": [
    "ncycles = Topic6_helper.cycles(Topic6_helper.genome_to_graph([P4]),Topic6_helper.genome_to_graph([P5]))\n",
    "ncycles"
   ]
  },
  {
   "cell_type": "markdown",
   "metadata": {
    "slideshow": {
     "slide_type": "subslide"
    }
   },
   "source": [
    "**Exercise 7**: Find the number of blocks in a graph\n",
    "\n",
    "For this exercise, blocks is defined as referenced in the textbook.\n",
    "\n",
    "Input: G - A genome graph\n",
    "\n",
    "Output: Number of blocks in a genome graph."
   ]
  },
  {
   "cell_type": "code",
   "execution_count": 51,
   "metadata": {
    "slideshow": {
     "slide_type": "subslide"
    }
   },
   "outputs": [
    {
     "data": {
      "text/plain": [
       "4"
      ]
     },
     "execution_count": 51,
     "metadata": {},
     "output_type": "execute_result"
    }
   ],
   "source": [
    "nblocks = Topic6_helper.blocks(Topic6_helper.genome_to_graph([P5]))\n",
    "nblocks"
   ]
  },
  {
   "cell_type": "markdown",
   "metadata": {
    "slideshow": {
     "slide_type": "subslide"
    }
   },
   "source": [
    "**Exercise 7**: 2-Break Distance Problem\n",
    "\n",
    "For this exercise, find the 2-break distance between two genomes.\n",
    "\n",
    "Input: G - Two genomes\n",
    "\n",
    "Output: 2-break distance"
   ]
  },
  {
   "cell_type": "code",
   "execution_count": 52,
   "metadata": {
    "slideshow": {
     "slide_type": "subslide"
    }
   },
   "outputs": [
    {
     "data": {
      "text/plain": [
       "3"
      ]
     },
     "execution_count": 52,
     "metadata": {},
     "output_type": "execute_result"
    }
   ],
   "source": [
    "P6_list = [1,2,3,4,5,6]\n",
    "P6 = pd.Series(P6_list)\n",
    "P7_list = [1,-3,-6,-5]\n",
    "P7 = pd.Series(P7_list)\n",
    "P8_list = [2,-4]\n",
    "P8 = pd.Series(P8_list)\n",
    "\n",
    "distance = Topic6_helper.two_break_distance(Topic6_helper.genome_to_graph([P6]),Topic6_helper.genome_to_graph([P7,P8]))\n",
    "distance"
   ]
  },
  {
   "cell_type": "markdown",
   "metadata": {
    "slideshow": {
     "slide_type": "subslide"
    }
   },
   "source": [
    "**Exercise 8**: Check to see if a cycle alternates between red and blue\n",
    "\n",
    "For this exercise, blocks is defined as referenced in the textbook.\n",
    "\n",
    "Input: G - A genome graph\n",
    "\n",
    "Output: None,None if this is not a red/blue alternating cycle otherwise return the cycle and the colors"
   ]
  },
  {
   "cell_type": "code",
   "execution_count": 53,
   "metadata": {
    "slideshow": {
     "slide_type": "subslide"
    }
   },
   "outputs": [
    {
     "name": "stdout",
     "output_type": "stream",
     "text": [
      "[[1, -3], [-3, -4], [-4, -1], [-1, 4], [4, 2], [2, 1]]\n",
      "['blue', 'red', 'blue', 'red', 'blue', 'red']\n"
     ]
    }
   ],
   "source": [
    "import networkx as nx\n",
    "\n",
    "G_P4_P5 = Topic6_helper.combine(Topic6_helper.genome_to_graph([P4]),Topic6_helper.genome_to_graph([P5]))\n",
    "# Below is an example for how you can find all the cycles\n",
    "test_cycles = list(nx.simple_cycles(G_P4_P5.to_directed()))\n",
    "edge_cycles = [] # just a cycle listed as edges\n",
    "for cycle in test_cycles:\n",
    "    edge_cycle = []\n",
    "    a = cycle[0]\n",
    "    for b in cycle[1:]:\n",
    "        edge_cycle.append([a,b])\n",
    "        a = b\n",
    "    edge_cycle.append([b,cycle[0]])\n",
    "    edge_cycles.append(edge_cycle)\n",
    "# Running the code on all cycles\n",
    "for edge_cycle in edge_cycles:\n",
    "    #print(edge_cycle)\n",
    "    checked_cycle, colors = Topic6_helper.red_blue_cycle_check(G_P4_P5,edge_cycle)\n",
    "    #print(colors)\n",
    "    \n",
    "test_edge_cycle = [[1, -3], [-3, -4], [-4, -1], [-1, 4], [4, 2], [2, 1]]\n",
    "checked_cycle, colors = Topic6_helper.red_blue_cycle_check(G_P4_P5,test_edge_cycle)\n",
    "print(checked_cycle)\n",
    "print(colors)"
   ]
  },
  {
   "cell_type": "markdown",
   "metadata": {
    "slideshow": {
     "slide_type": "subslide"
    }
   },
   "source": [
    "**Exercise 9**: 2-Break Sorting Problem\n",
    "\n",
    "Find a shortest transformation of one genome into another by 2-breaks.\n",
    "\n",
    "Input: Two genomes with circular chromosomes on the same set of synteny blocks (i.e., the usual)\n",
    "\n",
    "Output: The sequence of genomes resulting from applying a shortest sequence of 2-breaks transforming one genome into the other."
   ]
  },
  {
   "cell_type": "code",
   "execution_count": 54,
   "metadata": {
    "slideshow": {
     "slide_type": "subslide"
    }
   },
   "outputs": [
    {
     "name": "stdout",
     "output_type": "stream",
     "text": [
      "[np.int64(1), np.int64(-2), np.int64(-3), np.int64(4)]\n",
      "[np.int64(-1)][np.int64(-2), np.int64(-3), np.int64(4)]\n"
     ]
    },
    {
     "data": {
      "text/plain": [
       "[{(np.int64(1), np.int64(-2), np.int64(-3), np.int64(4))},\n",
       " {(np.int64(-2), np.int64(-3), np.int64(4)), (np.int64(-1),)}]"
      ]
     },
     "execution_count": 54,
     "metadata": {},
     "output_type": "execute_result"
    },
    {
     "data": {
      "image/png": "[encoded data removed]",
      "text/plain": [
       "<Figure size 2000x2000 with 4 Axes>"
      ]
     },
     "metadata": {},
     "output_type": "display_data"
    }
   ],
   "source": [
    "steps = Topic6_helper.shortest_rearrangement_scenario([pd.Series([1,-2,-3,4])],[pd.Series([1,2,-4,-3])])\n",
    "steps"
   ]
  },
  {
   "cell_type": "code",
   "execution_count": 55,
   "metadata": {
    "lines_to_next_cell": 0,
    "slideshow": {
     "slide_type": "skip"
    }
   },
   "outputs": [],
   "source": [
    "# Don't forget to push!"
   ]
  },
  {
   "cell_type": "markdown",
   "metadata": {},
   "source": [
    "# Test your code"
   ]
  },
  {
   "cell_type": "code",
   "execution_count": 56,
   "metadata": {},
   "outputs": [
    {
     "name": "stdout",
     "output_type": "stream",
     "text": [
      "\u001b[1m============================= test session starts ==============================\u001b[0m\n",
      "platform darwin -- Python 3.9.6, pytest-8.3.3, pluggy-1.5.0\n",
      "rootdir: /Users/pander14/GitHub/csc-448-instructor/tests\n",
      "plugins: anyio-4.6.0\n",
      "collected 1 item\n",
      "\n",
      "test_Topic6.py \u001b[32m.\u001b[0m\u001b[33m                                                         [100%]\u001b[0m\n",
      "\n",
      "\u001b[33m=============================== warnings summary ===============================\u001b[0m\n",
      "test_Topic6.py::test_exercise_2\n",
      "test_Topic6.py::test_exercise_2\n",
      "test_Topic6.py::test_exercise_2\n",
      "test_Topic6.py::test_exercise_2\n",
      "test_Topic6.py::test_exercise_2\n",
      "test_Topic6.py::test_exercise_2\n",
      "test_Topic6.py::test_exercise_2\n",
      "test_Topic6.py::test_exercise_2\n",
      "  /Users/pander14/GitHub/csc-448-instructor/tests/../py448/Topic6_helper.py:44: DeprecationWarning: Conversion of an array with ndim > 0 to a scalar is deprecated, and will error in future. Ensure you extract a single element from your array before performing this operation. (Deprecated NumPy 1.25.)\n",
      "    loc = int(np.where((P == k) | (P == -k))[0])\n",
      "\n",
      "-- Docs: https://docs.pytest.org/en/stable/how-to/capture-warnings.html\n",
      "\u001b[33m======================== \u001b[32m1 passed\u001b[0m, \u001b[33m\u001b[1m8 warnings\u001b[0m\u001b[33m in 0.50s\u001b[0m\u001b[33m =========================\u001b[0m\n"
     ]
    }
   ],
   "source": [
    "%%bash -s \"$USERNAME\"\n",
    "\n",
    "cd csc-448-$1/tests\n",
    "pytest test_Topic6.py::test_exercise_2"
   ]
  },
  {
   "cell_type": "markdown",
   "metadata": {},
   "source": [
    "# Colab End Section - Submit your code"
   ]
  },
  {
   "cell_type": "code",
   "execution_count": null,
   "metadata": {},
   "outputs": [],
   "source": [
    "%%bash -s \"$USERNAME\"\n",
    "\n",
    "eval \"$(ssh-agent -s)\"\n",
    "\n",
    "ssh-add ~/.ssh/id_ed25519\n",
    "\n",
    "ssh-keyscan -t rsa github.com >> ~/.ssh/known_hosts\n",
    "\n",
    "cd csc-448-$1\n",
    "./command_line_sync.sh"
   ]
  },
  {
   "cell_type": "markdown",
   "metadata": {},
   "source": [
    "\n",
    "\n",
    "\n",
    "\n",
    "\n",
    "\n",
    "\n",
    "\n",
    "\n",
    "\n",
    "\n",
    "\n",
    "\n",
    "\n",
    "\n",
    "\n",
    "\n",
    "\n",
    "\n",
    "\n",
    "\n",
    "\n",
    "\n",
    "\n",
    "\n",
    "\n",
    "\n",
    "\n"
   ]
  }
 ],
 "metadata": {
  "celltoolbar": "Slideshow",
  "jupytext": {
   "encoding": "# -*- coding: utf-8 -*-",
   "formats": "ipynb,md,py"
  },
  "kernelspec": {
   "display_name": "Python 3 (ipykernel)",
   "language": "python",
   "name": "python3"
  },
  "language_info": {
   "codemirror_mode": {
    "name": "ipython",
    "version": 3
   },
   "file_extension": ".py",
   "mimetype": "text/x-python",
   "name": "python",
   "nbconvert_exporter": "python",
   "pygments_lexer": "ipython3",
   "version": "3.9.6"
  }
 },
 "nbformat": 4,
 "nbformat_minor": 4
}
