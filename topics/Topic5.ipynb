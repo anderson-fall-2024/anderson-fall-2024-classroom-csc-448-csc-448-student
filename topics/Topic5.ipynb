{
 "cells": [
  {
   "cell_type": "markdown",
   "metadata": {},
   "source": [
    "# Colab Start Section"
   ]
  },
  {
   "cell_type": "markdown",
   "metadata": {},
   "source": [
    "Step 1 is to upload a copy of your private key. I am assuming your private key is named id_ed25519. If that isn't the case, you'll have to make manual changes."
   ]
  },
  {
   "cell_type": "code",
   "execution_count": 29,
   "metadata": {},
   "outputs": [],
   "source": [
    "# Change these of course to what is your email and your GitHub username\n",
    "EMAIL = \"pauleanderson@gmail.com\"\n",
    "USERNAME = \"instructor\""
   ]
  },
  {
   "cell_type": "code",
   "execution_count": null,
   "metadata": {},
   "outputs": [],
   "source": [
    "from google.colab import files\n",
    "uploaded = files.upload()"
   ]
  },
  {
   "cell_type": "code",
   "execution_count": null,
   "metadata": {},
   "outputs": [],
   "source": [
    "%%bash -s \"$EMAIL\" \"$USERNAME\"\n",
    "\n",
    "rm -rf /root/.ssh/*\n",
    "mkdir /root/.ssh\n",
    "\n",
    "mv id_ed25519 /root/.ssh/\n",
    "\n",
    "chmod 600 /root/.ssh/id_ed25519\n",
    "\n",
    "git config --global user.email \"$1\"\n",
    "git config --global user.name \"$2\""
   ]
  },
  {
   "cell_type": "code",
   "execution_count": 2,
   "metadata": {},
   "outputs": [
    {
     "name": "stderr",
     "output_type": "stream",
     "text": [
      "UsageError: Cell magic `%%shell` not found.\n"
     ]
    }
   ],
   "source": [
    "%%bash -s \"$USERNAME\"\n",
    "\n",
    "eval \"$(ssh-agent -s)\"\n",
    "\n",
    "ssh-add ~/.ssh/id_ed25519\n",
    "\n",
    "ssh-keyscan -t rsa github.com >> ~/.ssh/known_hosts\n",
    "\n",
    "git clone git@github.com:anderson-fall-2024/csc-448-$1.git"
   ]
  },
  {
   "cell_type": "markdown",
   "metadata": {
    "slideshow": {
     "slide_type": "slide"
    }
   },
   "source": [
    "# Topic 5\n",
    "\n",
    "## Clustering Algorithms - Chapter 8\n",
    "\n",
    "Motivation and some exercises are variations on those available in Bioinformatics Algorithms: An Active-Learning Approach by Phillip Compeau & Pavel Pevzner."
   ]
  },
  {
   "cell_type": "markdown",
   "metadata": {
    "slideshow": {
     "slide_type": "subslide"
    }
   },
   "source": [
    "## Slack ice breaker\n",
    "Best meal you've ever eaten?"
   ]
  },
  {
   "cell_type": "markdown",
   "metadata": {
    "slideshow": {
     "slide_type": "subslide"
    }
   },
   "source": [
    "## Prelude\n",
    "\n",
    "There are so many ways we could slice and dice this chapter. Fundamentally, we've got a lot of different angles. We could approach this chapter from a biological and biochemical perspective and focus on the chemsitry and biology necessary to perform transcriptomics. Or we could dive into the statistical approaches necessary to accurately quantify gene expression values. Or we could focus more on alignment algorithms that power the heart of this analysis. We could also focus on the problem beginning at a gene expression values and then focus on algorithms that analyze data. We are going to try to strike a balance in the following order:\n",
    "1. Discuss some of the biochemistry that makes modern sequencing possible\n",
    "2. Discuss some of the different ways scientists investigate what is going on inside a cell\n",
    "3. Discuss the clustering algorithms that are the first lines of the analysis"
   ]
  },
  {
   "cell_type": "code",
   "execution_count": 30,
   "metadata": {},
   "outputs": [
    {
     "name": "stdout",
     "output_type": "stream",
     "text": [
      "The autoreload extension is already loaded. To reload it, use:\n",
      "  %reload_ext autoreload\n"
     ]
    }
   ],
   "source": [
    "#### NO NEED TO EDIT ####\n",
    "%load_ext autoreload\n",
    "%autoreload 2\n",
    "%matplotlib inline\n",
    "\n",
    "import sys\n",
    "sys.path.insert(0,f\"csc-448-{USERNAME}\")\n",
    "sys.path.insert(0,\"..\")\n",
    "\n",
    "from py448 import Topic5_helper\n",
    "\n",
    "#### NO NEED TO EDIT ####"
   ]
  },
  {
   "cell_type": "markdown",
   "metadata": {
    "slideshow": {
     "slide_type": "slide"
    }
   },
   "source": [
    "## What's all this about yeast and wine?"
   ]
  },
  {
   "cell_type": "markdown",
   "metadata": {
    "slideshow": {
     "slide_type": "subslide"
    }
   },
   "source": [
    "The species of yeast that we will consider in this chapter is Saccharomyces cerevisiae. Why?"
   ]
  },
  {
   "cell_type": "markdown",
   "metadata": {
    "slideshow": {
     "slide_type": "fragment"
    }
   },
   "source": [
    "**It can brew wine because it converts the glucose found in fruit into ethanol**"
   ]
  },
  {
   "cell_type": "markdown",
   "metadata": {
    "slideshow": {
     "slide_type": "subslide"
    }
   },
   "source": [
    "**Our question:**<br>\n",
    "\n",
    "If S. cerevisiae often lives on grapevines, **why must crushed grapes be stored in tightly sealed barrels in order to make wine?"
   ]
  },
  {
   "cell_type": "markdown",
   "metadata": {
    "slideshow": {
     "slide_type": "subslide"
    }
   },
   "source": [
    "* If the supply of glucose runs out, S. cerevisiae must do something to survive\n",
    "* It will then invert its metabolism, with the ethanol (alcohol) that it just produced becoming its new food supply. \n",
    "* This metabolic inversion, called the diauxic shift, can only occur in the presence of oxygen. \n",
    "* Without oxygen, S. cerevisiae hibernates until either glucose or oxygen becomes available. \n",
    "\n",
    "In conclusion, if winemakers don’t seal their barrels, then the yeast in the barrel will metabolize the ethanol that it just produced, ruining the wine."
   ]
  },
  {
   "cell_type": "markdown",
   "metadata": {
    "slideshow": {
     "slide_type": "subslide"
    }
   },
   "source": [
    "The diauxic shift is a complex process that affects the expression of many genes. "
   ]
  },
  {
   "cell_type": "markdown",
   "metadata": {
    "slideshow": {
     "slide_type": "slide"
    }
   },
   "source": [
    "## Our data\n",
    ">In 1997, Joseph DeRisi conducted the first massive gene expression experiment by sampling an S. cerevisiae culture every two hours for the six hours before and after the diauxic shift. Since there are approximately 6,400 genes in S. cerevisiae, and there were seven time points, this experiment resulted in a 6,400 × 7 gene expression matrix. "
   ]
  },
  {
   "cell_type": "code",
   "execution_count": 31,
   "metadata": {
    "slideshow": {
     "slide_type": "subslide"
    }
   },
   "outputs": [
    {
     "data": {
      "text/html": [
       "<div>\n",
       "<style scoped>\n",
       "    .dataframe tbody tr th:only-of-type {\n",
       "        vertical-align: middle;\n",
       "    }\n",
       "\n",
       "    .dataframe tbody tr th {\n",
       "        vertical-align: top;\n",
       "    }\n",
       "\n",
       "    .dataframe thead th {\n",
       "        text-align: right;\n",
       "    }\n",
       "</style>\n",
       "<table border=\"1\" class=\"dataframe\">\n",
       "  <thead>\n",
       "    <tr style=\"text-align: right;\">\n",
       "      <th></th>\n",
       "      <th>ORF</th>\n",
       "      <th>Name</th>\n",
       "      <th>R1.Ratio</th>\n",
       "      <th>R2.Ratio</th>\n",
       "      <th>R3.Ratio</th>\n",
       "      <th>R4.Ratio</th>\n",
       "      <th>R5.Ratio</th>\n",
       "      <th>R6.Ratio</th>\n",
       "      <th>R7.Ratio</th>\n",
       "    </tr>\n",
       "  </thead>\n",
       "  <tbody>\n",
       "    <tr>\n",
       "      <th>1</th>\n",
       "      <td>YHR007C</td>\n",
       "      <td>ERG11</td>\n",
       "      <td>1.123596</td>\n",
       "      <td>1.190476</td>\n",
       "      <td>1.315789</td>\n",
       "      <td>0.877193</td>\n",
       "      <td>0.840336</td>\n",
       "      <td>0.383142</td>\n",
       "      <td>0.434783</td>\n",
       "    </tr>\n",
       "    <tr>\n",
       "      <th>2</th>\n",
       "      <td>YAL065C</td>\n",
       "      <td>NaN</td>\n",
       "      <td>0.909091</td>\n",
       "      <td>0.653595</td>\n",
       "      <td>1.136364</td>\n",
       "      <td>0.970874</td>\n",
       "      <td>0.781250</td>\n",
       "      <td>1.123596</td>\n",
       "      <td>1.234568</td>\n",
       "    </tr>\n",
       "    <tr>\n",
       "      <th>3</th>\n",
       "      <td>YAR062W</td>\n",
       "      <td>NaN</td>\n",
       "      <td>0.751880</td>\n",
       "      <td>1.149425</td>\n",
       "      <td>1.098901</td>\n",
       "      <td>0.925926</td>\n",
       "      <td>0.628931</td>\n",
       "      <td>1.176471</td>\n",
       "      <td>1.351351</td>\n",
       "    </tr>\n",
       "    <tr>\n",
       "      <th>4</th>\n",
       "      <td>YDR006C</td>\n",
       "      <td>SOK1</td>\n",
       "      <td>1.111111</td>\n",
       "      <td>0.833333</td>\n",
       "      <td>0.458716</td>\n",
       "      <td>0.334448</td>\n",
       "      <td>0.348432</td>\n",
       "      <td>0.671141</td>\n",
       "      <td>0.546448</td>\n",
       "    </tr>\n",
       "    <tr>\n",
       "      <th>5</th>\n",
       "      <td>YDR007W</td>\n",
       "      <td>TRP1</td>\n",
       "      <td>1.041667</td>\n",
       "      <td>1.020408</td>\n",
       "      <td>1.052632</td>\n",
       "      <td>0.787402</td>\n",
       "      <td>0.980392</td>\n",
       "      <td>1.063830</td>\n",
       "      <td>0.952381</td>\n",
       "    </tr>\n",
       "    <tr>\n",
       "      <th>...</th>\n",
       "      <td>...</td>\n",
       "      <td>...</td>\n",
       "      <td>...</td>\n",
       "      <td>...</td>\n",
       "      <td>...</td>\n",
       "      <td>...</td>\n",
       "      <td>...</td>\n",
       "      <td>...</td>\n",
       "      <td>...</td>\n",
       "    </tr>\n",
       "    <tr>\n",
       "      <th>6149</th>\n",
       "      <td>YDR001C</td>\n",
       "      <td>NTH1</td>\n",
       "      <td>1.098901</td>\n",
       "      <td>1.020408</td>\n",
       "      <td>1.369863</td>\n",
       "      <td>1.818182</td>\n",
       "      <td>1.587302</td>\n",
       "      <td>4.166667</td>\n",
       "      <td>3.703704</td>\n",
       "    </tr>\n",
       "    <tr>\n",
       "      <th>6150</th>\n",
       "      <td>YDR002W</td>\n",
       "      <td>YRB1</td>\n",
       "      <td>1.204819</td>\n",
       "      <td>1.265823</td>\n",
       "      <td>1.219512</td>\n",
       "      <td>1.000000</td>\n",
       "      <td>0.892857</td>\n",
       "      <td>1.010101</td>\n",
       "      <td>0.427350</td>\n",
       "    </tr>\n",
       "    <tr>\n",
       "      <th>6151</th>\n",
       "      <td>YDR003W</td>\n",
       "      <td>NaN</td>\n",
       "      <td>0.884956</td>\n",
       "      <td>1.785714</td>\n",
       "      <td>0.917431</td>\n",
       "      <td>1.162791</td>\n",
       "      <td>1.123596</td>\n",
       "      <td>2.631579</td>\n",
       "      <td>2.040816</td>\n",
       "    </tr>\n",
       "    <tr>\n",
       "      <th>6152</th>\n",
       "      <td>YDR004W</td>\n",
       "      <td>RAD57</td>\n",
       "      <td>0.775194</td>\n",
       "      <td>0.917431</td>\n",
       "      <td>1.298701</td>\n",
       "      <td>0.826446</td>\n",
       "      <td>0.699301</td>\n",
       "      <td>1.587302</td>\n",
       "      <td>1.030928</td>\n",
       "    </tr>\n",
       "    <tr>\n",
       "      <th>6153</th>\n",
       "      <td>YDR005C</td>\n",
       "      <td>MAF1</td>\n",
       "      <td>0.980392</td>\n",
       "      <td>1.136364</td>\n",
       "      <td>1.063830</td>\n",
       "      <td>0.763359</td>\n",
       "      <td>0.763359</td>\n",
       "      <td>1.176471</td>\n",
       "      <td>1.162791</td>\n",
       "    </tr>\n",
       "  </tbody>\n",
       "</table>\n",
       "<p>6153 rows × 9 columns</p>\n",
       "</div>"
      ],
      "text/plain": [
       "          ORF   Name  R1.Ratio  R2.Ratio  R3.Ratio  R4.Ratio  R5.Ratio  \\\n",
       "1     YHR007C  ERG11  1.123596  1.190476  1.315789  0.877193  0.840336   \n",
       "2     YAL065C    NaN  0.909091  0.653595  1.136364  0.970874  0.781250   \n",
       "3     YAR062W    NaN  0.751880  1.149425  1.098901  0.925926  0.628931   \n",
       "4     YDR006C   SOK1  1.111111  0.833333  0.458716  0.334448  0.348432   \n",
       "5     YDR007W   TRP1  1.041667  1.020408  1.052632  0.787402  0.980392   \n",
       "...       ...    ...       ...       ...       ...       ...       ...   \n",
       "6149  YDR001C   NTH1  1.098901  1.020408  1.369863  1.818182  1.587302   \n",
       "6150  YDR002W   YRB1  1.204819  1.265823  1.219512  1.000000  0.892857   \n",
       "6151  YDR003W    NaN  0.884956  1.785714  0.917431  1.162791  1.123596   \n",
       "6152  YDR004W  RAD57  0.775194  0.917431  1.298701  0.826446  0.699301   \n",
       "6153  YDR005C   MAF1  0.980392  1.136364  1.063830  0.763359  0.763359   \n",
       "\n",
       "      R6.Ratio  R7.Ratio  \n",
       "1     0.383142  0.434783  \n",
       "2     1.123596  1.234568  \n",
       "3     1.176471  1.351351  \n",
       "4     0.671141  0.546448  \n",
       "5     1.063830  0.952381  \n",
       "...        ...       ...  \n",
       "6149  4.166667  3.703704  \n",
       "6150  1.010101  0.427350  \n",
       "6151  2.631579  2.040816  \n",
       "6152  1.587302  1.030928  \n",
       "6153  1.176471  1.162791  \n",
       "\n",
       "[6153 rows x 9 columns]"
      ]
     },
     "execution_count": 31,
     "metadata": {},
     "output_type": "execute_result"
    }
   ],
   "source": [
    "import pandas as pd\n",
    "df=pd.read_csv('http://bioinformaticsalgorithms.com/data/realdatasets/Clustering/diauxic_raw_ratios_RG.txt',sep='\\t')\n",
    "df"
   ]
  },
  {
   "cell_type": "markdown",
   "metadata": {
    "slideshow": {
     "slide_type": "subslide"
    }
   },
   "source": [
    "Values above 1 in expression vectors correspond to increased expression, while values below 1 correspond to decreased expression."
   ]
  },
  {
   "cell_type": "code",
   "execution_count": 12,
   "metadata": {
    "slideshow": {
     "slide_type": "subslide"
    }
   },
   "outputs": [
    {
     "data": {
      "text/html": [
       "\n",
       "<style>\n",
       "  #altair-viz-cce3773c6bfb4e39be84699deda21735.vega-embed {\n",
       "    width: 100%;\n",
       "    display: flex;\n",
       "  }\n",
       "\n",
       "  #altair-viz-cce3773c6bfb4e39be84699deda21735.vega-embed details,\n",
       "  #altair-viz-cce3773c6bfb4e39be84699deda21735.vega-embed details summary {\n",
       "    position: relative;\n",
       "  }\n",
       "</style>\n",
       "<div id=\"altair-viz-cce3773c6bfb4e39be84699deda21735\"></div>\n",
       "<script type=\"text/javascript\">\n",
       "  var VEGA_DEBUG = (typeof VEGA_DEBUG == \"undefined\") ? {} : VEGA_DEBUG;\n",
       "  (function(spec, embedOpt){\n",
       "    let outputDiv = document.currentScript.previousElementSibling;\n",
       "    if (outputDiv.id !== \"altair-viz-cce3773c6bfb4e39be84699deda21735\") {\n",
       "      outputDiv = document.getElementById(\"altair-viz-cce3773c6bfb4e39be84699deda21735\");\n",
       "    }\n",
       "    const paths = {\n",
       "      \"vega\": \"https://cdn.jsdelivr.net/npm/vega@5?noext\",\n",
       "      \"vega-lib\": \"https://cdn.jsdelivr.net/npm/vega-lib?noext\",\n",
       "      \"vega-lite\": \"https://cdn.jsdelivr.net/npm/vega-lite@5.20.1?noext\",\n",
       "      \"vega-embed\": \"https://cdn.jsdelivr.net/npm/vega-embed@6?noext\",\n",
       "    };\n",
       "\n",
       "    function maybeLoadScript(lib, version) {\n",
       "      var key = `${lib.replace(\"-\", \"\")}_version`;\n",
       "      return (VEGA_DEBUG[key] == version) ?\n",
       "        Promise.resolve(paths[lib]) :\n",
       "        new Promise(function(resolve, reject) {\n",
       "          var s = document.createElement('script');\n",
       "          document.getElementsByTagName(\"head\")[0].appendChild(s);\n",
       "          s.async = true;\n",
       "          s.onload = () => {\n",
       "            VEGA_DEBUG[key] = version;\n",
       "            return resolve(paths[lib]);\n",
       "          };\n",
       "          s.onerror = () => reject(`Error loading script: ${paths[lib]}`);\n",
       "          s.src = paths[lib];\n",
       "        });\n",
       "    }\n",
       "\n",
       "    function showError(err) {\n",
       "      outputDiv.innerHTML = `<div class=\"error\" style=\"color:red;\">${err}</div>`;\n",
       "      throw err;\n",
       "    }\n",
       "\n",
       "    function displayChart(vegaEmbed) {\n",
       "      vegaEmbed(outputDiv, spec, embedOpt)\n",
       "        .catch(err => showError(`Javascript Error: ${err.message}<br>This usually means there's a typo in your chart specification. See the javascript console for the full traceback.`));\n",
       "    }\n",
       "\n",
       "    if(typeof define === \"function\" && define.amd) {\n",
       "      requirejs.config({paths});\n",
       "      require([\"vega-embed\"], displayChart, err => showError(`Error loading script: ${err.message}`));\n",
       "    } else {\n",
       "      maybeLoadScript(\"vega\", \"5\")\n",
       "        .then(() => maybeLoadScript(\"vega-lite\", \"5.20.1\"))\n",
       "        .then(() => maybeLoadScript(\"vega-embed\", \"6\"))\n",
       "        .catch(showError)\n",
       "        .then(() => displayChart(vegaEmbed));\n",
       "    }\n",
       "  })({\"config\": {\"view\": {\"continuousWidth\": 300, \"continuousHeight\": 300}}, \"data\": {\"name\": \"data-30faa2932b11018a6202da68ca08e111\"}, \"mark\": {\"type\": \"line\"}, \"encoding\": {\"color\": {\"field\": \"ORF\", \"type\": \"nominal\"}, \"x\": {\"field\": \"Sample Point\", \"type\": \"nominal\"}, \"y\": {\"field\": \"Ratio\", \"type\": \"quantitative\"}}, \"$schema\": \"https://vega.github.io/schema/vega-lite/v5.20.1.json\", \"datasets\": {\"data-30faa2932b11018a6202da68ca08e111\": [{\"ORF\": \"YPR055W\", \"Sample Point\": \"R1.Ratio\", \"Ratio\": 1.11111111111111}, {\"ORF\": \"YPR055W\", \"Sample Point\": \"R2.Ratio\", \"Ratio\": 1.11111111111111}, {\"ORF\": \"YPR055W\", \"Sample Point\": \"R3.Ratio\", \"Ratio\": 1.12359550561798}, {\"ORF\": \"YPR055W\", \"Sample Point\": \"R4.Ratio\", \"Ratio\": 1.06382978723404}, {\"ORF\": \"YPR055W\", \"Sample Point\": \"R5.Ratio\", \"Ratio\": 1.05263157894737}, {\"ORF\": \"YPR055W\", \"Sample Point\": \"R6.Ratio\", \"Ratio\": 1.06382978723404}, {\"ORF\": \"YPR055W\", \"Sample Point\": \"R7.Ratio\", \"Ratio\": 1.05263157894737}, {\"ORF\": \"YLR258W\", \"Sample Point\": \"R1.Ratio\", \"Ratio\": 1.0752688172043}, {\"ORF\": \"YLR258W\", \"Sample Point\": \"R2.Ratio\", \"Ratio\": 1.35135135135135}, {\"ORF\": \"YLR258W\", \"Sample Point\": \"R3.Ratio\", \"Ratio\": 1.36986301369863}, {\"ORF\": \"YLR258W\", \"Sample Point\": \"R4.Ratio\", \"Ratio\": 3.7037037037037}, {\"ORF\": \"YLR258W\", \"Sample Point\": \"R5.Ratio\", \"Ratio\": 4.0}, {\"ORF\": \"YLR258W\", \"Sample Point\": \"R6.Ratio\", \"Ratio\": 10.0}, {\"ORF\": \"YLR258W\", \"Sample Point\": \"R7.Ratio\", \"Ratio\": 5.88235294117647}, {\"ORF\": \"YPL012W\", \"Sample Point\": \"R1.Ratio\", \"Ratio\": 1.06382978723404}, {\"ORF\": \"YPL012W\", \"Sample Point\": \"R2.Ratio\", \"Ratio\": 0.826446280991736}, {\"ORF\": \"YPL012W\", \"Sample Point\": \"R3.Ratio\", \"Ratio\": 0.900900900900901}, {\"ORF\": \"YPL012W\", \"Sample Point\": \"R4.Ratio\", \"Ratio\": 0.442477876106195}, {\"ORF\": \"YPL012W\", \"Sample Point\": \"R5.Ratio\", \"Ratio\": 0.333333333333333}, {\"ORF\": \"YPL012W\", \"Sample Point\": \"R6.Ratio\", \"Ratio\": 0.128865979381443}, {\"ORF\": \"YPL012W\", \"Sample Point\": \"R7.Ratio\", \"Ratio\": 0.118623962040332}]}}, {\"mode\": \"vega-lite\"});\n",
       "</script>"
      ],
      "text/plain": [
       "alt.Chart(...)"
      ]
     },
     "execution_count": 12,
     "metadata": {},
     "output_type": "execute_result"
    }
   ],
   "source": [
    "import altair as alt\n",
    "plot_df = df.set_index('ORF').drop('Name',axis=1).loc[['YPR055W','YLR258W','YPL012W']]\n",
    "plot_df.columns.name = 'Sample Point'\n",
    "plot_df = plot_df.stack().to_frame()\n",
    "plot_df.columns=[\"Ratio\"]\n",
    "plot_df = plot_df.reset_index()\n",
    "alt.Chart(plot_df).mark_line().encode(\n",
    "    x='Sample Point:N',\n",
    "    y='Ratio',\n",
    "    color='ORF'\n",
    ")"
   ]
  },
  {
   "cell_type": "markdown",
   "metadata": {
    "slideshow": {
     "slide_type": "subslide"
    }
   },
   "source": [
    "**Stop and think:** What is the interpretation of this plot?"
   ]
  },
  {
   "cell_type": "markdown",
   "metadata": {
    "slideshow": {
     "slide_type": "subslide"
    }
   },
   "source": [
    "### YOUR SOLUTION HERE"
   ]
  },
  {
   "cell_type": "markdown",
   "metadata": {
    "slideshow": {
     "slide_type": "subslide"
    }
   },
   "source": [
    "Consider what to do about the other genes?"
   ]
  },
  {
   "cell_type": "code",
   "execution_count": 13,
   "metadata": {
    "slideshow": {
     "slide_type": "fragment"
    }
   },
   "outputs": [
    {
     "data": {
      "text/plain": [
       "(6153, 9)"
      ]
     },
     "execution_count": 13,
     "metadata": {},
     "output_type": "execute_result"
    }
   ],
   "source": [
    "df.shape"
   ]
  },
  {
   "cell_type": "markdown",
   "metadata": {
    "slideshow": {
     "slide_type": "subslide"
    }
   },
   "source": [
    "**Stop and think:** Considering the dataset above and what you now know about clustering, what questions could you ask?"
   ]
  },
  {
   "cell_type": "markdown",
   "metadata": {
    "slideshow": {
     "slide_type": "subslide"
    }
   },
   "source": [
    "### YOUR SOLUTION HERE\n",
    "### YOUR SOLUTION HERE"
   ]
  },
  {
   "cell_type": "markdown",
   "metadata": {
    "slideshow": {
     "slide_type": "subslide"
    }
   },
   "source": [
    "## Sample of genes"
   ]
  },
  {
   "cell_type": "code",
   "execution_count": 14,
   "metadata": {
    "slideshow": {
     "slide_type": "fragment"
    }
   },
   "outputs": [
    {
     "data": {
      "text/html": [
       "\n",
       "<style>\n",
       "  #altair-viz-e81ebba205334890936cc9fc80e1f075.vega-embed {\n",
       "    width: 100%;\n",
       "    display: flex;\n",
       "  }\n",
       "\n",
       "  #altair-viz-e81ebba205334890936cc9fc80e1f075.vega-embed details,\n",
       "  #altair-viz-e81ebba205334890936cc9fc80e1f075.vega-embed details summary {\n",
       "    position: relative;\n",
       "  }\n",
       "</style>\n",
       "<div id=\"altair-viz-e81ebba205334890936cc9fc80e1f075\"></div>\n",
       "<script type=\"text/javascript\">\n",
       "  var VEGA_DEBUG = (typeof VEGA_DEBUG == \"undefined\") ? {} : VEGA_DEBUG;\n",
       "  (function(spec, embedOpt){\n",
       "    let outputDiv = document.currentScript.previousElementSibling;\n",
       "    if (outputDiv.id !== \"altair-viz-e81ebba205334890936cc9fc80e1f075\") {\n",
       "      outputDiv = document.getElementById(\"altair-viz-e81ebba205334890936cc9fc80e1f075\");\n",
       "    }\n",
       "    const paths = {\n",
       "      \"vega\": \"https://cdn.jsdelivr.net/npm/vega@5?noext\",\n",
       "      \"vega-lib\": \"https://cdn.jsdelivr.net/npm/vega-lib?noext\",\n",
       "      \"vega-lite\": \"https://cdn.jsdelivr.net/npm/vega-lite@5.20.1?noext\",\n",
       "      \"vega-embed\": \"https://cdn.jsdelivr.net/npm/vega-embed@6?noext\",\n",
       "    };\n",
       "\n",
       "    function maybeLoadScript(lib, version) {\n",
       "      var key = `${lib.replace(\"-\", \"\")}_version`;\n",
       "      return (VEGA_DEBUG[key] == version) ?\n",
       "        Promise.resolve(paths[lib]) :\n",
       "        new Promise(function(resolve, reject) {\n",
       "          var s = document.createElement('script');\n",
       "          document.getElementsByTagName(\"head\")[0].appendChild(s);\n",
       "          s.async = true;\n",
       "          s.onload = () => {\n",
       "            VEGA_DEBUG[key] = version;\n",
       "            return resolve(paths[lib]);\n",
       "          };\n",
       "          s.onerror = () => reject(`Error loading script: ${paths[lib]}`);\n",
       "          s.src = paths[lib];\n",
       "        });\n",
       "    }\n",
       "\n",
       "    function showError(err) {\n",
       "      outputDiv.innerHTML = `<div class=\"error\" style=\"color:red;\">${err}</div>`;\n",
       "      throw err;\n",
       "    }\n",
       "\n",
       "    function displayChart(vegaEmbed) {\n",
       "      vegaEmbed(outputDiv, spec, embedOpt)\n",
       "        .catch(err => showError(`Javascript Error: ${err.message}<br>This usually means there's a typo in your chart specification. See the javascript console for the full traceback.`));\n",
       "    }\n",
       "\n",
       "    if(typeof define === \"function\" && define.amd) {\n",
       "      requirejs.config({paths});\n",
       "      require([\"vega-embed\"], displayChart, err => showError(`Error loading script: ${err.message}`));\n",
       "    } else {\n",
       "      maybeLoadScript(\"vega\", \"5\")\n",
       "        .then(() => maybeLoadScript(\"vega-lite\", \"5.20.1\"))\n",
       "        .then(() => maybeLoadScript(\"vega-embed\", \"6\"))\n",
       "        .catch(showError)\n",
       "        .then(() => displayChart(vegaEmbed));\n",
       "    }\n",
       "  })({\"config\": {\"view\": {\"continuousWidth\": 300, \"continuousHeight\": 300}}, \"data\": {\"name\": \"data-2b526d2dc8486dcd1613ac8bcc63a6fe\"}, \"mark\": {\"type\": \"line\"}, \"encoding\": {\"color\": {\"field\": \"ORF\", \"type\": \"nominal\"}, \"x\": {\"field\": \"Sample Point\", \"type\": \"nominal\"}, \"y\": {\"field\": \"Ratio\", \"type\": \"quantitative\"}}, \"$schema\": \"https://vega.github.io/schema/vega-lite/v5.20.1.json\", \"datasets\": {\"data-2b526d2dc8486dcd1613ac8bcc63a6fe\": [{\"ORF\": \"YDR187C\", \"Sample Point\": \"R1.Ratio\", \"Ratio\": 0.909090909090909}, {\"ORF\": \"YDR187C\", \"Sample Point\": \"R2.Ratio\", \"Ratio\": 1.81818181818182}, {\"ORF\": \"YDR187C\", \"Sample Point\": \"R3.Ratio\", \"Ratio\": 1.04166666666667}, {\"ORF\": \"YDR187C\", \"Sample Point\": \"R4.Ratio\", \"Ratio\": 0.854700854700855}, {\"ORF\": \"YDR187C\", \"Sample Point\": \"R5.Ratio\", \"Ratio\": 0.684931506849315}, {\"ORF\": \"YDR187C\", \"Sample Point\": \"R6.Ratio\", \"Ratio\": 1.20481927710843}, {\"ORF\": \"YDR187C\", \"Sample Point\": \"R7.Ratio\", \"Ratio\": 0.961538461538461}, {\"ORF\": \"YPR073C\", \"Sample Point\": \"R1.Ratio\", \"Ratio\": 1.16279069767442}, {\"ORF\": \"YPR073C\", \"Sample Point\": \"R2.Ratio\", \"Ratio\": 1.16279069767442}, {\"ORF\": \"YPR073C\", \"Sample Point\": \"R3.Ratio\", \"Ratio\": 1.26582278481013}, {\"ORF\": \"YPR073C\", \"Sample Point\": \"R4.Ratio\", \"Ratio\": 1.13636363636364}, {\"ORF\": \"YPR073C\", \"Sample Point\": \"R5.Ratio\", \"Ratio\": 1.0752688172043}, {\"ORF\": \"YPR073C\", \"Sample Point\": \"R6.Ratio\", \"Ratio\": 1.33333333333333}, {\"ORF\": \"YPR073C\", \"Sample Point\": \"R7.Ratio\", \"Ratio\": 0.613496932515337}, {\"ORF\": \"YLR185W\", \"Sample Point\": \"R1.Ratio\", \"Ratio\": 1.25}, {\"ORF\": \"YLR185W\", \"Sample Point\": \"R2.Ratio\", \"Ratio\": 1.08695652173913}, {\"ORF\": \"YLR185W\", \"Sample Point\": \"R3.Ratio\", \"Ratio\": 1.12359550561798}, {\"ORF\": \"YLR185W\", \"Sample Point\": \"R4.Ratio\", \"Ratio\": 0.943396226415094}, {\"ORF\": \"YLR185W\", \"Sample Point\": \"R5.Ratio\", \"Ratio\": 0.892857142857143}, {\"ORF\": \"YLR185W\", \"Sample Point\": \"R6.Ratio\", \"Ratio\": 0.40650406504065}, {\"ORF\": \"YLR185W\", \"Sample Point\": \"R7.Ratio\", \"Ratio\": 0.280898876404494}, {\"ORF\": \"YBL068W\", \"Sample Point\": \"R1.Ratio\", \"Ratio\": 1.23456790123457}, {\"ORF\": \"YBL068W\", \"Sample Point\": \"R2.Ratio\", \"Ratio\": 0.961538461538461}, {\"ORF\": \"YBL068W\", \"Sample Point\": \"R3.Ratio\", \"Ratio\": 1.04166666666667}, {\"ORF\": \"YBL068W\", \"Sample Point\": \"R4.Ratio\", \"Ratio\": 0.574712643678161}, {\"ORF\": \"YBL068W\", \"Sample Point\": \"R5.Ratio\", \"Ratio\": 0.478468899521531}, {\"ORF\": \"YBL068W\", \"Sample Point\": \"R6.Ratio\", \"Ratio\": 0.485436893203884}, {\"ORF\": \"YBL068W\", \"Sample Point\": \"R7.Ratio\", \"Ratio\": 0.480769230769231}, {\"ORF\": \"YKR077W\", \"Sample Point\": \"R1.Ratio\", \"Ratio\": 1.08695652173913}, {\"ORF\": \"YKR077W\", \"Sample Point\": \"R2.Ratio\", \"Ratio\": 1.58730158730159}, {\"ORF\": \"YKR077W\", \"Sample Point\": \"R3.Ratio\", \"Ratio\": 0.609756097560976}, {\"ORF\": \"YKR077W\", \"Sample Point\": \"R4.Ratio\", \"Ratio\": 0.709219858156028}, {\"ORF\": \"YKR077W\", \"Sample Point\": \"R5.Ratio\", \"Ratio\": 0.632911392405063}, {\"ORF\": \"YKR077W\", \"Sample Point\": \"R6.Ratio\", \"Ratio\": 0.99009900990099}, {\"ORF\": \"YKR077W\", \"Sample Point\": \"R7.Ratio\", \"Ratio\": 0.649350649350649}, {\"ORF\": \"YKL011C\", \"Sample Point\": \"R1.Ratio\", \"Ratio\": 1.05263157894737}, {\"ORF\": \"YKL011C\", \"Sample Point\": \"R2.Ratio\", \"Ratio\": 0.840336134453782}, {\"ORF\": \"YKL011C\", \"Sample Point\": \"R3.Ratio\", \"Ratio\": 1.35135135135135}, {\"ORF\": \"YKL011C\", \"Sample Point\": \"R4.Ratio\", \"Ratio\": 1.05263157894737}, {\"ORF\": \"YKL011C\", \"Sample Point\": \"R5.Ratio\", \"Ratio\": 0.952380952380952}, {\"ORF\": \"YKL011C\", \"Sample Point\": \"R6.Ratio\", \"Ratio\": 1.20481927710843}, {\"ORF\": \"YKL011C\", \"Sample Point\": \"R7.Ratio\", \"Ratio\": 0.72992700729927}, {\"ORF\": \"YMR172W\", \"Sample Point\": \"R1.Ratio\", \"Ratio\": 0.757575757575758}, {\"ORF\": \"YMR172W\", \"Sample Point\": \"R2.Ratio\", \"Ratio\": 0.826446280991736}, {\"ORF\": \"YMR172W\", \"Sample Point\": \"R3.Ratio\", \"Ratio\": 0.78125}, {\"ORF\": \"YMR172W\", \"Sample Point\": \"R4.Ratio\", \"Ratio\": 0.662251655629139}, {\"ORF\": \"YMR172W\", \"Sample Point\": \"R5.Ratio\", \"Ratio\": 0.689655172413793}, {\"ORF\": \"YMR172W\", \"Sample Point\": \"R6.Ratio\", \"Ratio\": 0.675675675675676}, {\"ORF\": \"YMR172W\", \"Sample Point\": \"R7.Ratio\", \"Ratio\": 0.980392156862745}, {\"ORF\": \"YDR303C\", \"Sample Point\": \"R1.Ratio\", \"Ratio\": 1.25}, {\"ORF\": \"YDR303C\", \"Sample Point\": \"R2.Ratio\", \"Ratio\": 1.06382978723404}, {\"ORF\": \"YDR303C\", \"Sample Point\": \"R3.Ratio\", \"Ratio\": 1.0}, {\"ORF\": \"YDR303C\", \"Sample Point\": \"R4.Ratio\", \"Ratio\": 0.740740740740741}, {\"ORF\": \"YDR303C\", \"Sample Point\": \"R5.Ratio\", \"Ratio\": 0.671140939597315}, {\"ORF\": \"YDR303C\", \"Sample Point\": \"R6.Ratio\", \"Ratio\": 0.568181818181818}, {\"ORF\": \"YDR303C\", \"Sample Point\": \"R7.Ratio\", \"Ratio\": 0.53475935828877}, {\"ORF\": \"YNL267W\", \"Sample Point\": \"R1.Ratio\", \"Ratio\": 1.0}, {\"ORF\": \"YNL267W\", \"Sample Point\": \"R2.Ratio\", \"Ratio\": 1.20481927710843}, {\"ORF\": \"YNL267W\", \"Sample Point\": \"R3.Ratio\", \"Ratio\": 1.28205128205128}, {\"ORF\": \"YNL267W\", \"Sample Point\": \"R4.Ratio\", \"Ratio\": 1.01010101010101}, {\"ORF\": \"YNL267W\", \"Sample Point\": \"R5.Ratio\", \"Ratio\": 1.13636363636364}, {\"ORF\": \"YNL267W\", \"Sample Point\": \"R6.Ratio\", \"Ratio\": 1.25}, {\"ORF\": \"YNL267W\", \"Sample Point\": \"R7.Ratio\", \"Ratio\": 0.806451612903226}, {\"ORF\": \"YMR167W\", \"Sample Point\": \"R1.Ratio\", \"Ratio\": 0.925925925925926}, {\"ORF\": \"YMR167W\", \"Sample Point\": \"R2.Ratio\", \"Ratio\": 1.0989010989011}, {\"ORF\": \"YMR167W\", \"Sample Point\": \"R3.Ratio\", \"Ratio\": 1.26582278481013}, {\"ORF\": \"YMR167W\", \"Sample Point\": \"R4.Ratio\", \"Ratio\": 1.0}, {\"ORF\": \"YMR167W\", \"Sample Point\": \"R5.Ratio\", \"Ratio\": 1.02040816326531}, {\"ORF\": \"YMR167W\", \"Sample Point\": \"R6.Ratio\", \"Ratio\": 1.17647058823529}, {\"ORF\": \"YMR167W\", \"Sample Point\": \"R7.Ratio\", \"Ratio\": 1.28205128205128}, {\"ORF\": \"YOR286W\", \"Sample Point\": \"R1.Ratio\", \"Ratio\": 0.934579439252336}, {\"ORF\": \"YOR286W\", \"Sample Point\": \"R2.Ratio\", \"Ratio\": 0.833333333333333}, {\"ORF\": \"YOR286W\", \"Sample Point\": \"R3.Ratio\", \"Ratio\": 0.952380952380952}, {\"ORF\": \"YOR286W\", \"Sample Point\": \"R4.Ratio\", \"Ratio\": 0.87719298245614}, {\"ORF\": \"YOR286W\", \"Sample Point\": \"R5.Ratio\", \"Ratio\": 0.961538461538461}, {\"ORF\": \"YOR286W\", \"Sample Point\": \"R6.Ratio\", \"Ratio\": 1.02040816326531}, {\"ORF\": \"YOR286W\", \"Sample Point\": \"R7.Ratio\", \"Ratio\": 0.418410041841004}, {\"ORF\": \"YNL057W\", \"Sample Point\": \"R1.Ratio\", \"Ratio\": 1.0}, {\"ORF\": \"YNL057W\", \"Sample Point\": \"R2.Ratio\", \"Ratio\": 0.819672131147541}, {\"ORF\": \"YNL057W\", \"Sample Point\": \"R3.Ratio\", \"Ratio\": 0.892857142857143}, {\"ORF\": \"YNL057W\", \"Sample Point\": \"R4.Ratio\", \"Ratio\": 0.763358778625954}, {\"ORF\": \"YNL057W\", \"Sample Point\": \"R5.Ratio\", \"Ratio\": 0.869565217391304}, {\"ORF\": \"YNL057W\", \"Sample Point\": \"R6.Ratio\", \"Ratio\": 0.78740157480315}, {\"ORF\": \"YNL057W\", \"Sample Point\": \"R7.Ratio\", \"Ratio\": 0.529100529100529}, {\"ORF\": \"YLR350W\", \"Sample Point\": \"R1.Ratio\", \"Ratio\": 0.909090909090909}, {\"ORF\": \"YLR350W\", \"Sample Point\": \"R2.Ratio\", \"Ratio\": 0.943396226415094}, {\"ORF\": \"YLR350W\", \"Sample Point\": \"R3.Ratio\", \"Ratio\": 1.0752688172043}, {\"ORF\": \"YLR350W\", \"Sample Point\": \"R4.Ratio\", \"Ratio\": 0.819672131147541}, {\"ORF\": \"YLR350W\", \"Sample Point\": \"R5.Ratio\", \"Ratio\": 1.04166666666667}, {\"ORF\": \"YLR350W\", \"Sample Point\": \"R6.Ratio\", \"Ratio\": 2.0}, {\"ORF\": \"YLR350W\", \"Sample Point\": \"R7.Ratio\", \"Ratio\": 1.35135135135135}, {\"ORF\": \"YDR533C\", \"Sample Point\": \"R1.Ratio\", \"Ratio\": 0.952380952380952}, {\"ORF\": \"YDR533C\", \"Sample Point\": \"R2.Ratio\", \"Ratio\": 1.04166666666667}, {\"ORF\": \"YDR533C\", \"Sample Point\": \"R3.Ratio\", \"Ratio\": 1.49253731343284}, {\"ORF\": \"YDR533C\", \"Sample Point\": \"R4.Ratio\", \"Ratio\": 1.33333333333333}, {\"ORF\": \"YDR533C\", \"Sample Point\": \"R5.Ratio\", \"Ratio\": 1.01010101010101}, {\"ORF\": \"YDR533C\", \"Sample Point\": \"R6.Ratio\", \"Ratio\": 6.66666666666667}, {\"ORF\": \"YDR533C\", \"Sample Point\": \"R7.Ratio\", \"Ratio\": 5.26315789473684}, {\"ORF\": \"YGL216W\", \"Sample Point\": \"R1.Ratio\", \"Ratio\": 0.87719298245614}, {\"ORF\": \"YGL216W\", \"Sample Point\": \"R2.Ratio\", \"Ratio\": 0.746268656716418}, {\"ORF\": \"YGL216W\", \"Sample Point\": \"R3.Ratio\", \"Ratio\": 0.961538461538461}, {\"ORF\": \"YGL216W\", \"Sample Point\": \"R4.Ratio\", \"Ratio\": 0.775193798449612}, {\"ORF\": \"YGL216W\", \"Sample Point\": \"R5.Ratio\", \"Ratio\": 0.769230769230769}, {\"ORF\": \"YGL216W\", \"Sample Point\": \"R6.Ratio\", \"Ratio\": 0.699300699300699}, {\"ORF\": \"YGL216W\", \"Sample Point\": \"R7.Ratio\", \"Ratio\": 0.4739336492891}, {\"ORF\": \"YLR039c\", \"Sample Point\": \"R1.Ratio\", \"Ratio\": 0.961538461538461}, {\"ORF\": \"YLR039c\", \"Sample Point\": \"R2.Ratio\", \"Ratio\": 1.0989010989011}, {\"ORF\": \"YLR039c\", \"Sample Point\": \"R3.Ratio\", \"Ratio\": 0.943396226415094}, {\"ORF\": \"YLR039c\", \"Sample Point\": \"R4.Ratio\", \"Ratio\": 0.884955752212389}, {\"ORF\": \"YLR039c\", \"Sample Point\": \"R5.Ratio\", \"Ratio\": 1.06382978723404}, {\"ORF\": \"YLR039c\", \"Sample Point\": \"R6.Ratio\", \"Ratio\": 1.13636363636364}, {\"ORF\": \"YLR039c\", \"Sample Point\": \"R7.Ratio\", \"Ratio\": 0.909090909090909}, {\"ORF\": \"YJL048C\", \"Sample Point\": \"R1.Ratio\", \"Ratio\": 0.699300699300699}, {\"ORF\": \"YJL048C\", \"Sample Point\": \"R2.Ratio\", \"Ratio\": 0.719424460431655}, {\"ORF\": \"YJL048C\", \"Sample Point\": \"R3.Ratio\", \"Ratio\": 1.88679245283019}, {\"ORF\": \"YJL048C\", \"Sample Point\": \"R4.Ratio\", \"Ratio\": 1.02040816326531}, {\"ORF\": \"YJL048C\", \"Sample Point\": \"R5.Ratio\", \"Ratio\": 0.709219858156028}, {\"ORF\": \"YJL048C\", \"Sample Point\": \"R6.Ratio\", \"Ratio\": 2.27272727272727}, {\"ORF\": \"YJL048C\", \"Sample Point\": \"R7.Ratio\", \"Ratio\": 1.92307692307692}, {\"ORF\": \"YML125C\", \"Sample Point\": \"R1.Ratio\", \"Ratio\": 1.02040816326531}, {\"ORF\": \"YML125C\", \"Sample Point\": \"R2.Ratio\", \"Ratio\": 1.06382978723404}, {\"ORF\": \"YML125C\", \"Sample Point\": \"R3.Ratio\", \"Ratio\": 1.5625}, {\"ORF\": \"YML125C\", \"Sample Point\": \"R4.Ratio\", \"Ratio\": 0.847457627118644}, {\"ORF\": \"YML125C\", \"Sample Point\": \"R5.Ratio\", \"Ratio\": 0.657894736842105}, {\"ORF\": \"YML125C\", \"Sample Point\": \"R6.Ratio\", \"Ratio\": 0.952380952380952}, {\"ORF\": \"YML125C\", \"Sample Point\": \"R7.Ratio\", \"Ratio\": 0.53475935828877}, {\"ORF\": \"YJR043C\", \"Sample Point\": \"R1.Ratio\", \"Ratio\": 0.91743119266055}, {\"ORF\": \"YJR043C\", \"Sample Point\": \"R2.Ratio\", \"Ratio\": 0.746268656716418}, {\"ORF\": \"YJR043C\", \"Sample Point\": \"R3.Ratio\", \"Ratio\": 0.900900900900901}, {\"ORF\": \"YJR043C\", \"Sample Point\": \"R4.Ratio\", \"Ratio\": 0.8}, {\"ORF\": \"YJR043C\", \"Sample Point\": \"R5.Ratio\", \"Ratio\": 0.793650793650794}, {\"ORF\": \"YJR043C\", \"Sample Point\": \"R6.Ratio\", \"Ratio\": 0.78125}, {\"ORF\": \"YJR043C\", \"Sample Point\": \"R7.Ratio\", \"Ratio\": 0.373134328358209}, {\"ORF\": \"YHR164C\", \"Sample Point\": \"R1.Ratio\", \"Ratio\": 0.87719298245614}, {\"ORF\": \"YHR164C\", \"Sample Point\": \"R2.Ratio\", \"Ratio\": 0.793650793650794}, {\"ORF\": \"YHR164C\", \"Sample Point\": \"R3.Ratio\", \"Ratio\": 1.20481927710843}, {\"ORF\": \"YHR164C\", \"Sample Point\": \"R4.Ratio\", \"Ratio\": 0.775193798449612}, {\"ORF\": \"YHR164C\", \"Sample Point\": \"R5.Ratio\", \"Ratio\": 0.826446280991736}, {\"ORF\": \"YHR164C\", \"Sample Point\": \"R6.Ratio\", \"Ratio\": 0.91743119266055}, {\"ORF\": \"YHR164C\", \"Sample Point\": \"R7.Ratio\", \"Ratio\": 0.62111801242236}, {\"ORF\": \"YER021W\", \"Sample Point\": \"R1.Ratio\", \"Ratio\": 1.2987012987013}, {\"ORF\": \"YER021W\", \"Sample Point\": \"R2.Ratio\", \"Ratio\": 1.08695652173913}, {\"ORF\": \"YER021W\", \"Sample Point\": \"R3.Ratio\", \"Ratio\": 1.03092783505155}, {\"ORF\": \"YER021W\", \"Sample Point\": \"R4.Ratio\", \"Ratio\": 0.952380952380952}, {\"ORF\": \"YER021W\", \"Sample Point\": \"R5.Ratio\", \"Ratio\": 0.869565217391304}, {\"ORF\": \"YER021W\", \"Sample Point\": \"R6.Ratio\", \"Ratio\": 1.85185185185185}, {\"ORF\": \"YER021W\", \"Sample Point\": \"R7.Ratio\", \"Ratio\": 1.23456790123457}, {\"ORF\": \"YPR204W\", \"Sample Point\": \"R1.Ratio\", \"Ratio\": 0.925925925925926}, {\"ORF\": \"YPR204W\", \"Sample Point\": \"R2.Ratio\", \"Ratio\": 0.892857142857143}, {\"ORF\": \"YPR204W\", \"Sample Point\": \"R3.Ratio\", \"Ratio\": 0.847457627118644}, {\"ORF\": \"YPR204W\", \"Sample Point\": \"R4.Ratio\", \"Ratio\": 0.78740157480315}, {\"ORF\": \"YPR204W\", \"Sample Point\": \"R5.Ratio\", \"Ratio\": 0.72992700729927}, {\"ORF\": \"YPR204W\", \"Sample Point\": \"R6.Ratio\", \"Ratio\": 0.649350649350649}, {\"ORF\": \"YPR204W\", \"Sample Point\": \"R7.Ratio\", \"Ratio\": 0.793650793650794}, {\"ORF\": \"YPR152C\", \"Sample Point\": \"R1.Ratio\", \"Ratio\": 0.584795321637427}, {\"ORF\": \"YPR152C\", \"Sample Point\": \"R2.Ratio\", \"Ratio\": 0.833333333333333}, {\"ORF\": \"YPR152C\", \"Sample Point\": \"R3.Ratio\", \"Ratio\": 1.44927536231884}, {\"ORF\": \"YPR152C\", \"Sample Point\": \"R4.Ratio\", \"Ratio\": 0.826446280991736}, {\"ORF\": \"YPR152C\", \"Sample Point\": \"R5.Ratio\", \"Ratio\": 0.78740157480315}, {\"ORF\": \"YPR152C\", \"Sample Point\": \"R6.Ratio\", \"Ratio\": 1.61290322580645}, {\"ORF\": \"YPR152C\", \"Sample Point\": \"R7.Ratio\", \"Ratio\": 1.42857142857143}, {\"ORF\": \"YHR215W\", \"Sample Point\": \"R1.Ratio\", \"Ratio\": 1.38888888888889}, {\"ORF\": \"YHR215W\", \"Sample Point\": \"R2.Ratio\", \"Ratio\": 1.44927536231884}, {\"ORF\": \"YHR215W\", \"Sample Point\": \"R3.Ratio\", \"Ratio\": 1.20481927710843}, {\"ORF\": \"YHR215W\", \"Sample Point\": \"R4.Ratio\", \"Ratio\": 0.598802395209581}, {\"ORF\": \"YHR215W\", \"Sample Point\": \"R5.Ratio\", \"Ratio\": 0.523560209424084}, {\"ORF\": \"YHR215W\", \"Sample Point\": \"R6.Ratio\", \"Ratio\": 0.261780104712042}, {\"ORF\": \"YHR215W\", \"Sample Point\": \"R7.Ratio\", \"Ratio\": 0.384615384615385}, {\"ORF\": \"YER162c\", \"Sample Point\": \"R1.Ratio\", \"Ratio\": 0.854700854700855}, {\"ORF\": \"YER162c\", \"Sample Point\": \"R2.Ratio\", \"Ratio\": 1.0989010989011}, {\"ORF\": \"YER162c\", \"Sample Point\": \"R3.Ratio\", \"Ratio\": 1.23456790123457}, {\"ORF\": \"YER162c\", \"Sample Point\": \"R4.Ratio\", \"Ratio\": 0.980392156862745}, {\"ORF\": \"YER162c\", \"Sample Point\": \"R5.Ratio\", \"Ratio\": 0.91743119266055}, {\"ORF\": \"YER162c\", \"Sample Point\": \"R6.Ratio\", \"Ratio\": 1.92307692307692}, {\"ORF\": \"YER162c\", \"Sample Point\": \"R7.Ratio\", \"Ratio\": 1.92307692307692}, {\"ORF\": \"YLR437C\", \"Sample Point\": \"R1.Ratio\", \"Ratio\": 1.06382978723404}, {\"ORF\": \"YLR437C\", \"Sample Point\": \"R2.Ratio\", \"Ratio\": 0.943396226415094}, {\"ORF\": \"YLR437C\", \"Sample Point\": \"R3.Ratio\", \"Ratio\": 0.943396226415094}, {\"ORF\": \"YLR437C\", \"Sample Point\": \"R4.Ratio\", \"Ratio\": 0.735294117647059}, {\"ORF\": \"YLR437C\", \"Sample Point\": \"R5.Ratio\", \"Ratio\": 0.884955752212389}, {\"ORF\": \"YLR437C\", \"Sample Point\": \"R6.Ratio\", \"Ratio\": 0.934579439252336}, {\"ORF\": \"YLR437C\", \"Sample Point\": \"R7.Ratio\", \"Ratio\": 0.934579439252336}, {\"ORF\": \"YDR171W\", \"Sample Point\": \"R1.Ratio\", \"Ratio\": 1.05263157894737}, {\"ORF\": \"YDR171W\", \"Sample Point\": \"R2.Ratio\", \"Ratio\": 1.0989010989011}, {\"ORF\": \"YDR171W\", \"Sample Point\": \"R3.Ratio\", \"Ratio\": 1.35135135135135}, {\"ORF\": \"YDR171W\", \"Sample Point\": \"R4.Ratio\", \"Ratio\": 1.78571428571429}, {\"ORF\": \"YDR171W\", \"Sample Point\": \"R5.Ratio\", \"Ratio\": 1.92307692307692}, {\"ORF\": \"YDR171W\", \"Sample Point\": \"R6.Ratio\", \"Ratio\": 12.5}, {\"ORF\": \"YDR171W\", \"Sample Point\": \"R7.Ratio\", \"Ratio\": 10.0}, {\"ORF\": \"YBL037W\", \"Sample Point\": \"R1.Ratio\", \"Ratio\": 0.740740740740741}, {\"ORF\": \"YBL037W\", \"Sample Point\": \"R2.Ratio\", \"Ratio\": 0.694444444444444}, {\"ORF\": \"YBL037W\", \"Sample Point\": \"R3.Ratio\", \"Ratio\": 1.06382978723404}, {\"ORF\": \"YBL037W\", \"Sample Point\": \"R4.Ratio\", \"Ratio\": 0.775193798449612}, {\"ORF\": \"YBL037W\", \"Sample Point\": \"R5.Ratio\", \"Ratio\": 0.694444444444444}, {\"ORF\": \"YBL037W\", \"Sample Point\": \"R6.Ratio\", \"Ratio\": 1.16279069767442}, {\"ORF\": \"YBL037W\", \"Sample Point\": \"R7.Ratio\", \"Ratio\": 0.91743119266055}, {\"ORF\": \"YNL231C\", \"Sample Point\": \"R1.Ratio\", \"Ratio\": 0.934579439252336}, {\"ORF\": \"YNL231C\", \"Sample Point\": \"R2.Ratio\", \"Ratio\": 0.970873786407767}, {\"ORF\": \"YNL231C\", \"Sample Point\": \"R3.Ratio\", \"Ratio\": 1.12359550561798}, {\"ORF\": \"YNL231C\", \"Sample Point\": \"R4.Ratio\", \"Ratio\": 0.87719298245614}, {\"ORF\": \"YNL231C\", \"Sample Point\": \"R5.Ratio\", \"Ratio\": 0.72463768115942}, {\"ORF\": \"YNL231C\", \"Sample Point\": \"R6.Ratio\", \"Ratio\": 0.980392156862745}, {\"ORF\": \"YNL231C\", \"Sample Point\": \"R7.Ratio\", \"Ratio\": 0.641025641025641}, {\"ORF\": \"YJL182C\", \"Sample Point\": \"R1.Ratio\", \"Ratio\": 0.793650793650794}, {\"ORF\": \"YJL182C\", \"Sample Point\": \"R2.Ratio\", \"Ratio\": 1.66666666666667}, {\"ORF\": \"YJL182C\", \"Sample Point\": \"R3.Ratio\", \"Ratio\": 0.671140939597315}, {\"ORF\": \"YJL182C\", \"Sample Point\": \"R4.Ratio\", \"Ratio\": 0.65359477124183}, {\"ORF\": \"YJL182C\", \"Sample Point\": \"R5.Ratio\", \"Ratio\": 0.613496932515337}, {\"ORF\": \"YJL182C\", \"Sample Point\": \"R6.Ratio\", \"Ratio\": 1.0989010989011}, {\"ORF\": \"YJL182C\", \"Sample Point\": \"R7.Ratio\", \"Ratio\": 0.689655172413793}, {\"ORF\": \"YGL137W\", \"Sample Point\": \"R1.Ratio\", \"Ratio\": 1.14942528735632}, {\"ORF\": \"YGL137W\", \"Sample Point\": \"R2.Ratio\", \"Ratio\": 1.40845070422535}, {\"ORF\": \"YGL137W\", \"Sample Point\": \"R3.Ratio\", \"Ratio\": 1.44927536231884}, {\"ORF\": \"YGL137W\", \"Sample Point\": \"R4.Ratio\", \"Ratio\": 1.19047619047619}, {\"ORF\": \"YGL137W\", \"Sample Point\": \"R5.Ratio\", \"Ratio\": 1.0}, {\"ORF\": \"YGL137W\", \"Sample Point\": \"R6.Ratio\", \"Ratio\": 0.909090909090909}, {\"ORF\": \"YGL137W\", \"Sample Point\": \"R7.Ratio\", \"Ratio\": 0.578034682080925}, {\"ORF\": \"YER081w\", \"Sample Point\": \"R1.Ratio\", \"Ratio\": 1.01010101010101}, {\"ORF\": \"YER081w\", \"Sample Point\": \"R2.Ratio\", \"Ratio\": 1.16279069767442}, {\"ORF\": \"YER081w\", \"Sample Point\": \"R3.Ratio\", \"Ratio\": 1.14942528735632}, {\"ORF\": \"YER081w\", \"Sample Point\": \"R4.Ratio\", \"Ratio\": 0.694444444444444}, {\"ORF\": \"YER081w\", \"Sample Point\": \"R5.Ratio\", \"Ratio\": 0.75187969924812}, {\"ORF\": \"YER081w\", \"Sample Point\": \"R6.Ratio\", \"Ratio\": 1.49253731343284}, {\"ORF\": \"YER081w\", \"Sample Point\": \"R7.Ratio\", \"Ratio\": 1.53846153846154}, {\"ORF\": \"YBL041W\", \"Sample Point\": \"R1.Ratio\", \"Ratio\": 0.99009900990099}, {\"ORF\": \"YBL041W\", \"Sample Point\": \"R2.Ratio\", \"Ratio\": 1.03092783505155}, {\"ORF\": \"YBL041W\", \"Sample Point\": \"R3.Ratio\", \"Ratio\": 1.33333333333333}, {\"ORF\": \"YBL041W\", \"Sample Point\": \"R4.Ratio\", \"Ratio\": 1.12359550561798}, {\"ORF\": \"YBL041W\", \"Sample Point\": \"R5.Ratio\", \"Ratio\": 0.740740740740741}, {\"ORF\": \"YBL041W\", \"Sample Point\": \"R6.Ratio\", \"Ratio\": 1.53846153846154}, {\"ORF\": \"YBL041W\", \"Sample Point\": \"R7.Ratio\", \"Ratio\": 0.925925925925926}, {\"ORF\": \"YDL103C\", \"Sample Point\": \"R1.Ratio\", \"Ratio\": 1.06382978723404}, {\"ORF\": \"YDL103C\", \"Sample Point\": \"R2.Ratio\", \"Ratio\": 1.78571428571429}, {\"ORF\": \"YDL103C\", \"Sample Point\": \"R3.Ratio\", \"Ratio\": 1.01010101010101}, {\"ORF\": \"YDL103C\", \"Sample Point\": \"R4.Ratio\", \"Ratio\": 1.02040816326531}, {\"ORF\": \"YDL103C\", \"Sample Point\": \"R5.Ratio\", \"Ratio\": 0.99009900990099}, {\"ORF\": \"YDL103C\", \"Sample Point\": \"R6.Ratio\", \"Ratio\": 1.33333333333333}, {\"ORF\": \"YDL103C\", \"Sample Point\": \"R7.Ratio\", \"Ratio\": 0.793650793650794}, {\"ORF\": \"YMR051C\", \"Sample Point\": \"R1.Ratio\", \"Ratio\": 1.06382978723404}, {\"ORF\": \"YMR051C\", \"Sample Point\": \"R2.Ratio\", \"Ratio\": 1.63934426229508}, {\"ORF\": \"YMR051C\", \"Sample Point\": \"R3.Ratio\", \"Ratio\": 1.31578947368421}, {\"ORF\": \"YMR051C\", \"Sample Point\": \"R4.Ratio\", \"Ratio\": 0.909090909090909}, {\"ORF\": \"YMR051C\", \"Sample Point\": \"R5.Ratio\", \"Ratio\": 0.833333333333333}, {\"ORF\": \"YMR051C\", \"Sample Point\": \"R6.Ratio\", \"Ratio\": 0.53475935828877}, {\"ORF\": \"YMR051C\", \"Sample Point\": \"R7.Ratio\", \"Ratio\": 0.490196078431373}, {\"ORF\": \"YPL170W\", \"Sample Point\": \"R1.Ratio\", \"Ratio\": 1.02040816326531}, {\"ORF\": \"YPL170W\", \"Sample Point\": \"R2.Ratio\", \"Ratio\": 0.869565217391304}, {\"ORF\": \"YPL170W\", \"Sample Point\": \"R3.Ratio\", \"Ratio\": 0.833333333333333}, {\"ORF\": \"YPL170W\", \"Sample Point\": \"R4.Ratio\", \"Ratio\": 0.961538461538461}, {\"ORF\": \"YPL170W\", \"Sample Point\": \"R5.Ratio\", \"Ratio\": 1.0752688172043}, {\"ORF\": \"YPL170W\", \"Sample Point\": \"R6.Ratio\", \"Ratio\": 1.31578947368421}, {\"ORF\": \"YPL170W\", \"Sample Point\": \"R7.Ratio\", \"Ratio\": 0.943396226415094}, {\"ORF\": \"YLR445W\", \"Sample Point\": \"R1.Ratio\", \"Ratio\": 0.813008130081301}, {\"ORF\": \"YLR445W\", \"Sample Point\": \"R2.Ratio\", \"Ratio\": 0.840336134453782}, {\"ORF\": \"YLR445W\", \"Sample Point\": \"R3.Ratio\", \"Ratio\": 1.05263157894737}, {\"ORF\": \"YLR445W\", \"Sample Point\": \"R4.Ratio\", \"Ratio\": 0.714285714285714}, {\"ORF\": \"YLR445W\", \"Sample Point\": \"R5.Ratio\", \"Ratio\": 0.961538461538461}, {\"ORF\": \"YLR445W\", \"Sample Point\": \"R6.Ratio\", \"Ratio\": 0.925925925925926}, {\"ORF\": \"YLR445W\", \"Sample Point\": \"R7.Ratio\", \"Ratio\": 1.14942528735632}, {\"ORF\": \"YAL035W\", \"Sample Point\": \"R1.Ratio\", \"Ratio\": 1.0989010989011}, {\"ORF\": \"YAL035W\", \"Sample Point\": \"R2.Ratio\", \"Ratio\": 1.14942528735632}, {\"ORF\": \"YAL035W\", \"Sample Point\": \"R3.Ratio\", \"Ratio\": 1.02040816326531}, {\"ORF\": \"YAL035W\", \"Sample Point\": \"R4.Ratio\", \"Ratio\": 0.641025641025641}, {\"ORF\": \"YAL035W\", \"Sample Point\": \"R5.Ratio\", \"Ratio\": 0.714285714285714}, {\"ORF\": \"YAL035W\", \"Sample Point\": \"R6.Ratio\", \"Ratio\": 0.584795321637427}, {\"ORF\": \"YAL035W\", \"Sample Point\": \"R7.Ratio\", \"Ratio\": 0.404858299595142}, {\"ORF\": \"YIR008C\", \"Sample Point\": \"R1.Ratio\", \"Ratio\": 0.970873786407767}, {\"ORF\": \"YIR008C\", \"Sample Point\": \"R2.Ratio\", \"Ratio\": 0.980392156862745}, {\"ORF\": \"YIR008C\", \"Sample Point\": \"R3.Ratio\", \"Ratio\": 1.0989010989011}, {\"ORF\": \"YIR008C\", \"Sample Point\": \"R4.Ratio\", \"Ratio\": 0.793650793650794}, {\"ORF\": \"YIR008C\", \"Sample Point\": \"R5.Ratio\", \"Ratio\": 0.8}, {\"ORF\": \"YIR008C\", \"Sample Point\": \"R6.Ratio\", \"Ratio\": 1.0752688172043}, {\"ORF\": \"YIR008C\", \"Sample Point\": \"R7.Ratio\", \"Ratio\": 0.847457627118644}, {\"ORF\": \"YAR074C\", \"Sample Point\": \"R1.Ratio\", \"Ratio\": 1.25}, {\"ORF\": \"YAR074C\", \"Sample Point\": \"R2.Ratio\", \"Ratio\": 1.31578947368421}, {\"ORF\": \"YAR074C\", \"Sample Point\": \"R3.Ratio\", \"Ratio\": 1.21951219512195}, {\"ORF\": \"YAR074C\", \"Sample Point\": \"R4.Ratio\", \"Ratio\": 0.75187969924812}, {\"ORF\": \"YAR074C\", \"Sample Point\": \"R5.Ratio\", \"Ratio\": 0.632911392405063}, {\"ORF\": \"YAR074C\", \"Sample Point\": \"R6.Ratio\", \"Ratio\": 0.34965034965035}, {\"ORF\": \"YAR074C\", \"Sample Point\": \"R7.Ratio\", \"Ratio\": 0.294985250737463}, {\"ORF\": \"YLR284C\", \"Sample Point\": \"R1.Ratio\", \"Ratio\": 0.746268656716418}, {\"ORF\": \"YLR284C\", \"Sample Point\": \"R2.Ratio\", \"Ratio\": 0.609756097560976}, {\"ORF\": \"YLR284C\", \"Sample Point\": \"R3.Ratio\", \"Ratio\": 0.826446280991736}, {\"ORF\": \"YLR284C\", \"Sample Point\": \"R4.Ratio\", \"Ratio\": 0.943396226415094}, {\"ORF\": \"YLR284C\", \"Sample Point\": \"R5.Ratio\", \"Ratio\": 0.709219858156028}, {\"ORF\": \"YLR284C\", \"Sample Point\": \"R6.Ratio\", \"Ratio\": 2.22222222222222}, {\"ORF\": \"YLR284C\", \"Sample Point\": \"R7.Ratio\", \"Ratio\": 1.26582278481013}, {\"ORF\": \"YDR089w\", \"Sample Point\": \"R1.Ratio\", \"Ratio\": 1.05263157894737}, {\"ORF\": \"YDR089w\", \"Sample Point\": \"R2.Ratio\", \"Ratio\": 1.14942528735632}, {\"ORF\": \"YDR089w\", \"Sample Point\": \"R3.Ratio\", \"Ratio\": 1.36986301369863}, {\"ORF\": \"YDR089w\", \"Sample Point\": \"R4.Ratio\", \"Ratio\": 1.11111111111111}, {\"ORF\": \"YDR089w\", \"Sample Point\": \"R5.Ratio\", \"Ratio\": 1.35135135135135}, {\"ORF\": \"YDR089w\", \"Sample Point\": \"R6.Ratio\", \"Ratio\": 1.02040816326531}, {\"ORF\": \"YDR089w\", \"Sample Point\": \"R7.Ratio\", \"Ratio\": 0.675675675675676}, {\"ORF\": \"YOR094W\", \"Sample Point\": \"R1.Ratio\", \"Ratio\": 0.970873786407767}, {\"ORF\": \"YOR094W\", \"Sample Point\": \"R2.Ratio\", \"Ratio\": 0.775193798449612}, {\"ORF\": \"YOR094W\", \"Sample Point\": \"R3.Ratio\", \"Ratio\": 0.934579439252336}, {\"ORF\": \"YOR094W\", \"Sample Point\": \"R4.Ratio\", \"Ratio\": 0.694444444444444}, {\"ORF\": \"YOR094W\", \"Sample Point\": \"R5.Ratio\", \"Ratio\": 0.684931506849315}, {\"ORF\": \"YOR094W\", \"Sample Point\": \"R6.Ratio\", \"Ratio\": 0.833333333333333}, {\"ORF\": \"YOR094W\", \"Sample Point\": \"R7.Ratio\", \"Ratio\": 0.689655172413793}, {\"ORF\": \"YLR295C\", \"Sample Point\": \"R1.Ratio\", \"Ratio\": 0.99009900990099}, {\"ORF\": \"YLR295C\", \"Sample Point\": \"R2.Ratio\", \"Ratio\": 0.87719298245614}, {\"ORF\": \"YLR295C\", \"Sample Point\": \"R3.Ratio\", \"Ratio\": 0.813008130081301}, {\"ORF\": \"YLR295C\", \"Sample Point\": \"R4.Ratio\", \"Ratio\": 1.06382978723404}, {\"ORF\": \"YLR295C\", \"Sample Point\": \"R5.Ratio\", \"Ratio\": 1.05263157894737}, {\"ORF\": \"YLR295C\", \"Sample Point\": \"R6.Ratio\", \"Ratio\": 2.85714285714286}, {\"ORF\": \"YLR295C\", \"Sample Point\": \"R7.Ratio\", \"Ratio\": 2.56410256410256}, {\"ORF\": \"YHL036W\", \"Sample Point\": \"R1.Ratio\", \"Ratio\": 0.892857142857143}, {\"ORF\": \"YHL036W\", \"Sample Point\": \"R2.Ratio\", \"Ratio\": 0.884955752212389}, {\"ORF\": \"YHL036W\", \"Sample Point\": \"R3.Ratio\", \"Ratio\": 1.44927536231884}, {\"ORF\": \"YHL036W\", \"Sample Point\": \"R4.Ratio\", \"Ratio\": 0.833333333333333}, {\"ORF\": \"YHL036W\", \"Sample Point\": \"R5.Ratio\", \"Ratio\": 0.78125}, {\"ORF\": \"YHL036W\", \"Sample Point\": \"R6.Ratio\", \"Ratio\": 1.35135135135135}, {\"ORF\": \"YHL036W\", \"Sample Point\": \"R7.Ratio\", \"Ratio\": 1.14942528735632}, {\"ORF\": \"YMR301C\", \"Sample Point\": \"R1.Ratio\", \"Ratio\": 0.934579439252336}, {\"ORF\": \"YMR301C\", \"Sample Point\": \"R2.Ratio\", \"Ratio\": 0.862068965517241}, {\"ORF\": \"YMR301C\", \"Sample Point\": \"R3.Ratio\", \"Ratio\": 0.763358778625954}, {\"ORF\": \"YMR301C\", \"Sample Point\": \"R4.Ratio\", \"Ratio\": 0.675675675675676}, {\"ORF\": \"YMR301C\", \"Sample Point\": \"R5.Ratio\", \"Ratio\": 0.704225352112676}, {\"ORF\": \"YMR301C\", \"Sample Point\": \"R6.Ratio\", \"Ratio\": 0.518134715025907}, {\"ORF\": \"YMR301C\", \"Sample Point\": \"R7.Ratio\", \"Ratio\": 0.520833333333333}, {\"ORF\": \"YBR292C\", \"Sample Point\": \"R1.Ratio\", \"Ratio\": 0.840336134453782}, {\"ORF\": \"YBR292C\", \"Sample Point\": \"R2.Ratio\", \"Ratio\": 0.900900900900901}, {\"ORF\": \"YBR292C\", \"Sample Point\": \"R3.Ratio\", \"Ratio\": 1.0989010989011}, {\"ORF\": \"YBR292C\", \"Sample Point\": \"R4.Ratio\", \"Ratio\": 0.813008130081301}, {\"ORF\": \"YBR292C\", \"Sample Point\": \"R5.Ratio\", \"Ratio\": 0.884955752212389}, {\"ORF\": \"YBR292C\", \"Sample Point\": \"R6.Ratio\", \"Ratio\": 0.78740157480315}, {\"ORF\": \"YBR292C\", \"Sample Point\": \"R7.Ratio\", \"Ratio\": 0.884955752212389}, {\"ORF\": \"YGR264C\", \"Sample Point\": \"R1.Ratio\", \"Ratio\": 1.33333333333333}, {\"ORF\": \"YGR264C\", \"Sample Point\": \"R2.Ratio\", \"Ratio\": 1.35135135135135}, {\"ORF\": \"YGR264C\", \"Sample Point\": \"R3.Ratio\", \"Ratio\": 1.0}, {\"ORF\": \"YGR264C\", \"Sample Point\": \"R4.Ratio\", \"Ratio\": 0.606060606060606}, {\"ORF\": \"YGR264C\", \"Sample Point\": \"R5.Ratio\", \"Ratio\": 0.568181818181818}, {\"ORF\": \"YGR264C\", \"Sample Point\": \"R6.Ratio\", \"Ratio\": 0.170068027210884}, {\"ORF\": \"YGR264C\", \"Sample Point\": \"R7.Ratio\", \"Ratio\": 0.235294117647059}, {\"ORF\": \"YKR055W\", \"Sample Point\": \"R1.Ratio\", \"Ratio\": 1.08695652173913}, {\"ORF\": \"YKR055W\", \"Sample Point\": \"R2.Ratio\", \"Ratio\": 0.87719298245614}, {\"ORF\": \"YKR055W\", \"Sample Point\": \"R3.Ratio\", \"Ratio\": 0.900900900900901}, {\"ORF\": \"YKR055W\", \"Sample Point\": \"R4.Ratio\", \"Ratio\": 0.793650793650794}, {\"ORF\": \"YKR055W\", \"Sample Point\": \"R5.Ratio\", \"Ratio\": 0.694444444444444}, {\"ORF\": \"YKR055W\", \"Sample Point\": \"R6.Ratio\", \"Ratio\": 1.35135135135135}, {\"ORF\": \"YKR055W\", \"Sample Point\": \"R7.Ratio\", \"Ratio\": 0.925925925925926}, {\"ORF\": \"YER114c\", \"Sample Point\": \"R1.Ratio\", \"Ratio\": 1.06382978723404}, {\"ORF\": \"YER114c\", \"Sample Point\": \"R2.Ratio\", \"Ratio\": 0.970873786407767}, {\"ORF\": \"YER114c\", \"Sample Point\": \"R3.Ratio\", \"Ratio\": 0.87719298245614}, {\"ORF\": \"YER114c\", \"Sample Point\": \"R4.Ratio\", \"Ratio\": 0.763358778625954}, {\"ORF\": \"YER114c\", \"Sample Point\": \"R5.Ratio\", \"Ratio\": 0.763358778625954}, {\"ORF\": \"YER114c\", \"Sample Point\": \"R6.Ratio\", \"Ratio\": 0.628930817610063}, {\"ORF\": \"YER114c\", \"Sample Point\": \"R7.Ratio\", \"Ratio\": 0.602409638554217}, {\"ORF\": \"YHR104W\", \"Sample Point\": \"R1.Ratio\", \"Ratio\": 1.21951219512195}, {\"ORF\": \"YHR104W\", \"Sample Point\": \"R2.Ratio\", \"Ratio\": 1.20481927710843}, {\"ORF\": \"YHR104W\", \"Sample Point\": \"R3.Ratio\", \"Ratio\": 1.47058823529412}, {\"ORF\": \"YHR104W\", \"Sample Point\": \"R4.Ratio\", \"Ratio\": 1.5625}, {\"ORF\": \"YHR104W\", \"Sample Point\": \"R5.Ratio\", \"Ratio\": 1.49253731343284}, {\"ORF\": \"YHR104W\", \"Sample Point\": \"R6.Ratio\", \"Ratio\": 5.26315789473684}, {\"ORF\": \"YHR104W\", \"Sample Point\": \"R7.Ratio\", \"Ratio\": 2.38095238095238}, {\"ORF\": \"YER112w\", \"Sample Point\": \"R1.Ratio\", \"Ratio\": 1.23456790123457}, {\"ORF\": \"YER112w\", \"Sample Point\": \"R2.Ratio\", \"Ratio\": 1.0752688172043}, {\"ORF\": \"YER112w\", \"Sample Point\": \"R3.Ratio\", \"Ratio\": 1.11111111111111}, {\"ORF\": \"YER112w\", \"Sample Point\": \"R4.Ratio\", \"Ratio\": 0.854700854700855}, {\"ORF\": \"YER112w\", \"Sample Point\": \"R5.Ratio\", \"Ratio\": 0.714285714285714}, {\"ORF\": \"YER112w\", \"Sample Point\": \"R6.Ratio\", \"Ratio\": 1.02040816326531}, {\"ORF\": \"YER112w\", \"Sample Point\": \"R7.Ratio\", \"Ratio\": 0.699300699300699}, {\"ORF\": \"YNL263C\", \"Sample Point\": \"R1.Ratio\", \"Ratio\": 1.0}, {\"ORF\": \"YNL263C\", \"Sample Point\": \"R2.Ratio\", \"Ratio\": 1.03092783505155}, {\"ORF\": \"YNL263C\", \"Sample Point\": \"R3.Ratio\", \"Ratio\": 1.33333333333333}, {\"ORF\": \"YNL263C\", \"Sample Point\": \"R4.Ratio\", \"Ratio\": 1.03092783505155}, {\"ORF\": \"YNL263C\", \"Sample Point\": \"R5.Ratio\", \"Ratio\": 1.03092783505155}, {\"ORF\": \"YNL263C\", \"Sample Point\": \"R6.Ratio\", \"Ratio\": 0.980392156862745}, {\"ORF\": \"YNL263C\", \"Sample Point\": \"R7.Ratio\", \"Ratio\": 0.72463768115942}, {\"ORF\": \"YDR205W\", \"Sample Point\": \"R1.Ratio\", \"Ratio\": 1.01010101010101}, {\"ORF\": \"YDR205W\", \"Sample Point\": \"R2.Ratio\", \"Ratio\": 1.16279069767442}, {\"ORF\": \"YDR205W\", \"Sample Point\": \"R3.Ratio\", \"Ratio\": 1.51515151515152}, {\"ORF\": \"YDR205W\", \"Sample Point\": \"R4.Ratio\", \"Ratio\": 0.980392156862745}, {\"ORF\": \"YDR205W\", \"Sample Point\": \"R5.Ratio\", \"Ratio\": 0.980392156862745}, {\"ORF\": \"YDR205W\", \"Sample Point\": \"R6.Ratio\", \"Ratio\": 1.31578947368421}, {\"ORF\": \"YDR205W\", \"Sample Point\": \"R7.Ratio\", \"Ratio\": 1.61290322580645}, {\"ORF\": \"YER044c\", \"Sample Point\": \"R1.Ratio\", \"Ratio\": 1.17647058823529}, {\"ORF\": \"YER044c\", \"Sample Point\": \"R2.Ratio\", \"Ratio\": 1.21951219512195}, {\"ORF\": \"YER044c\", \"Sample Point\": \"R3.Ratio\", \"Ratio\": 1.28205128205128}, {\"ORF\": \"YER044c\", \"Sample Point\": \"R4.Ratio\", \"Ratio\": 1.14942528735632}, {\"ORF\": \"YER044c\", \"Sample Point\": \"R5.Ratio\", \"Ratio\": 1.51515151515152}, {\"ORF\": \"YER044c\", \"Sample Point\": \"R6.Ratio\", \"Ratio\": 3.03030303030303}, {\"ORF\": \"YER044c\", \"Sample Point\": \"R7.Ratio\", \"Ratio\": 1.36986301369863}, {\"ORF\": \"YDR273W\", \"Sample Point\": \"R1.Ratio\", \"Ratio\": 0.434782608695652}, {\"ORF\": \"YDR273W\", \"Sample Point\": \"R2.Ratio\", \"Ratio\": 0.775193798449612}, {\"ORF\": \"YDR273W\", \"Sample Point\": \"R3.Ratio\", \"Ratio\": 1.33333333333333}, {\"ORF\": \"YDR273W\", \"Sample Point\": \"R4.Ratio\", \"Ratio\": 1.0989010989011}, {\"ORF\": \"YDR273W\", \"Sample Point\": \"R5.Ratio\", \"Ratio\": 0.617283950617284}, {\"ORF\": \"YDR273W\", \"Sample Point\": \"R6.Ratio\", \"Ratio\": 1.61290322580645}, {\"ORF\": \"YDR273W\", \"Sample Point\": \"R7.Ratio\", \"Ratio\": 1.61290322580645}, {\"ORF\": \"YBR250W\", \"Sample Point\": \"R1.Ratio\", \"Ratio\": 1.0}, {\"ORF\": \"YBR250W\", \"Sample Point\": \"R2.Ratio\", \"Ratio\": 0.847457627118644}, {\"ORF\": \"YBR250W\", \"Sample Point\": \"R3.Ratio\", \"Ratio\": 1.04166666666667}, {\"ORF\": \"YBR250W\", \"Sample Point\": \"R4.Ratio\", \"Ratio\": 0.840336134453782}, {\"ORF\": \"YBR250W\", \"Sample Point\": \"R5.Ratio\", \"Ratio\": 0.87719298245614}, {\"ORF\": \"YBR250W\", \"Sample Point\": \"R6.Ratio\", \"Ratio\": 1.14942528735632}, {\"ORF\": \"YBR250W\", \"Sample Point\": \"R7.Ratio\", \"Ratio\": 0.970873786407767}, {\"ORF\": \"YMR108W\", \"Sample Point\": \"R1.Ratio\", \"Ratio\": 1.19047619047619}, {\"ORF\": \"YMR108W\", \"Sample Point\": \"R2.Ratio\", \"Ratio\": 1.04166666666667}, {\"ORF\": \"YMR108W\", \"Sample Point\": \"R3.Ratio\", \"Ratio\": 0.806451612903226}, {\"ORF\": \"YMR108W\", \"Sample Point\": \"R4.Ratio\", \"Ratio\": 0.50251256281407}, {\"ORF\": \"YMR108W\", \"Sample Point\": \"R5.Ratio\", \"Ratio\": 0.465116279069767}, {\"ORF\": \"YMR108W\", \"Sample Point\": \"R6.Ratio\", \"Ratio\": 0.32051282051282}, {\"ORF\": \"YMR108W\", \"Sample Point\": \"R7.Ratio\", \"Ratio\": 0.448430493273543}, {\"ORF\": \"YPL041C\", \"Sample Point\": \"R1.Ratio\", \"Ratio\": 0.961538461538461}, {\"ORF\": \"YPL041C\", \"Sample Point\": \"R2.Ratio\", \"Ratio\": 1.01010101010101}, {\"ORF\": \"YPL041C\", \"Sample Point\": \"R3.Ratio\", \"Ratio\": 1.69491525423729}, {\"ORF\": \"YPL041C\", \"Sample Point\": \"R4.Ratio\", \"Ratio\": 1.19047619047619}, {\"ORF\": \"YPL041C\", \"Sample Point\": \"R5.Ratio\", \"Ratio\": 0.78740157480315}, {\"ORF\": \"YPL041C\", \"Sample Point\": \"R6.Ratio\", \"Ratio\": 1.38888888888889}, {\"ORF\": \"YPL041C\", \"Sample Point\": \"R7.Ratio\", \"Ratio\": 0.970873786407767}, {\"ORF\": \"YDL042C\", \"Sample Point\": \"R1.Ratio\", \"Ratio\": 0.943396226415094}, {\"ORF\": \"YDL042C\", \"Sample Point\": \"R2.Ratio\", \"Ratio\": 0.769230769230769}, {\"ORF\": \"YDL042C\", \"Sample Point\": \"R3.Ratio\", \"Ratio\": 0.694444444444444}, {\"ORF\": \"YDL042C\", \"Sample Point\": \"R4.Ratio\", \"Ratio\": 0.54054054054054}, {\"ORF\": \"YDL042C\", \"Sample Point\": \"R5.Ratio\", \"Ratio\": 0.526315789473684}, {\"ORF\": \"YDL042C\", \"Sample Point\": \"R6.Ratio\", \"Ratio\": 0.431034482758621}, {\"ORF\": \"YDL042C\", \"Sample Point\": \"R7.Ratio\", \"Ratio\": 0.458715596330275}, {\"ORF\": \"YBL106C\", \"Sample Point\": \"R1.Ratio\", \"Ratio\": 1.04166666666667}, {\"ORF\": \"YBL106C\", \"Sample Point\": \"R2.Ratio\", \"Ratio\": 1.12359550561798}, {\"ORF\": \"YBL106C\", \"Sample Point\": \"R3.Ratio\", \"Ratio\": 1.04166666666667}, {\"ORF\": \"YBL106C\", \"Sample Point\": \"R4.Ratio\", \"Ratio\": 0.632911392405063}, {\"ORF\": \"YBL106C\", \"Sample Point\": \"R5.Ratio\", \"Ratio\": 0.641025641025641}, {\"ORF\": \"YBL106C\", \"Sample Point\": \"R6.Ratio\", \"Ratio\": 0.37593984962406}, {\"ORF\": \"YBL106C\", \"Sample Point\": \"R7.Ratio\", \"Ratio\": 0.704225352112676}, {\"ORF\": \"YCR064C\", \"Sample Point\": \"R1.Ratio\", \"Ratio\": 0.925925925925926}, {\"ORF\": \"YCR064C\", \"Sample Point\": \"R2.Ratio\", \"Ratio\": 1.96078431372549}, {\"ORF\": \"YCR064C\", \"Sample Point\": \"R3.Ratio\", \"Ratio\": 0.952380952380952}, {\"ORF\": \"YCR064C\", \"Sample Point\": \"R4.Ratio\", \"Ratio\": 0.869565217391304}, {\"ORF\": \"YCR064C\", \"Sample Point\": \"R5.Ratio\", \"Ratio\": 0.806451612903226}, {\"ORF\": \"YCR064C\", \"Sample Point\": \"R6.Ratio\", \"Ratio\": 0.75187969924812}, {\"ORF\": \"YCR064C\", \"Sample Point\": \"R7.Ratio\", \"Ratio\": 0.746268656716418}, {\"ORF\": \"YEL066w\", \"Sample Point\": \"R1.Ratio\", \"Ratio\": 0.961538461538461}, {\"ORF\": \"YEL066w\", \"Sample Point\": \"R2.Ratio\", \"Ratio\": 1.03092783505155}, {\"ORF\": \"YEL066w\", \"Sample Point\": \"R3.Ratio\", \"Ratio\": 1.11111111111111}, {\"ORF\": \"YEL066w\", \"Sample Point\": \"R4.Ratio\", \"Ratio\": 1.01010101010101}, {\"ORF\": \"YEL066w\", \"Sample Point\": \"R5.Ratio\", \"Ratio\": 1.17647058823529}, {\"ORF\": \"YEL066w\", \"Sample Point\": \"R6.Ratio\", \"Ratio\": 1.53846153846154}, {\"ORF\": \"YEL066w\", \"Sample Point\": \"R7.Ratio\", \"Ratio\": 1.20481927710843}, {\"ORF\": \"YER168c\", \"Sample Point\": \"R1.Ratio\", \"Ratio\": 1.25}, {\"ORF\": \"YER168c\", \"Sample Point\": \"R2.Ratio\", \"Ratio\": 1.12359550561798}, {\"ORF\": \"YER168c\", \"Sample Point\": \"R3.Ratio\", \"Ratio\": 1.17647058823529}, {\"ORF\": \"YER168c\", \"Sample Point\": \"R4.Ratio\", \"Ratio\": 0.709219858156028}, {\"ORF\": \"YER168c\", \"Sample Point\": \"R5.Ratio\", \"Ratio\": 0.746268656716418}, {\"ORF\": \"YER168c\", \"Sample Point\": \"R6.Ratio\", \"Ratio\": 0.854700854700855}, {\"ORF\": \"YER168c\", \"Sample Point\": \"R7.Ratio\", \"Ratio\": 0.793650793650794}, {\"ORF\": \"YPR174C\", \"Sample Point\": \"R1.Ratio\", \"Ratio\": 0.862068965517241}, {\"ORF\": \"YPR174C\", \"Sample Point\": \"R2.Ratio\", \"Ratio\": 0.909090909090909}, {\"ORF\": \"YPR174C\", \"Sample Point\": \"R3.Ratio\", \"Ratio\": 0.961538461538461}, {\"ORF\": \"YPR174C\", \"Sample Point\": \"R4.Ratio\", \"Ratio\": 0.675675675675676}, {\"ORF\": \"YPR174C\", \"Sample Point\": \"R5.Ratio\", \"Ratio\": 0.99009900990099}, {\"ORF\": \"YPR174C\", \"Sample Point\": \"R6.Ratio\", \"Ratio\": 0.72463768115942}, {\"ORF\": \"YPR174C\", \"Sample Point\": \"R7.Ratio\", \"Ratio\": 0.65359477124183}, {\"ORF\": \"YMR071C\", \"Sample Point\": \"R1.Ratio\", \"Ratio\": 0.884955752212389}, {\"ORF\": \"YMR071C\", \"Sample Point\": \"R2.Ratio\", \"Ratio\": 0.793650793650794}, {\"ORF\": \"YMR071C\", \"Sample Point\": \"R3.Ratio\", \"Ratio\": 0.862068965517241}, {\"ORF\": \"YMR071C\", \"Sample Point\": \"R4.Ratio\", \"Ratio\": 0.925925925925926}, {\"ORF\": \"YMR071C\", \"Sample Point\": \"R5.Ratio\", \"Ratio\": 1.0989010989011}, {\"ORF\": \"YMR071C\", \"Sample Point\": \"R6.Ratio\", \"Ratio\": 1.5625}, {\"ORF\": \"YMR071C\", \"Sample Point\": \"R7.Ratio\", \"Ratio\": 0.632911392405063}, {\"ORF\": \"YCL053C\", \"Sample Point\": \"R1.Ratio\", \"Ratio\": 1.06382978723404}, {\"ORF\": \"YCL053C\", \"Sample Point\": \"R2.Ratio\", \"Ratio\": 1.01010101010101}, {\"ORF\": \"YCL053C\", \"Sample Point\": \"R3.Ratio\", \"Ratio\": 0.900900900900901}, {\"ORF\": \"YCL053C\", \"Sample Point\": \"R4.Ratio\", \"Ratio\": 0.581395348837209}, {\"ORF\": \"YCL053C\", \"Sample Point\": \"R5.Ratio\", \"Ratio\": 0.671140939597315}, {\"ORF\": \"YCL053C\", \"Sample Point\": \"R6.Ratio\", \"Ratio\": 0.297619047619048}, {\"ORF\": \"YCL053C\", \"Sample Point\": \"R7.Ratio\", \"Ratio\": 0.248138957816377}, {\"ORF\": \"YDL190C\", \"Sample Point\": \"R1.Ratio\", \"Ratio\": 1.08695652173913}, {\"ORF\": \"YDL190C\", \"Sample Point\": \"R2.Ratio\", \"Ratio\": 1.13636363636364}, {\"ORF\": \"YDL190C\", \"Sample Point\": \"R3.Ratio\", \"Ratio\": 1.40845070422535}, {\"ORF\": \"YDL190C\", \"Sample Point\": \"R4.Ratio\", \"Ratio\": 1.31578947368421}, {\"ORF\": \"YDL190C\", \"Sample Point\": \"R5.Ratio\", \"Ratio\": 1.16279069767442}, {\"ORF\": \"YDL190C\", \"Sample Point\": \"R6.Ratio\", \"Ratio\": 1.53846153846154}, {\"ORF\": \"YDL190C\", \"Sample Point\": \"R7.Ratio\", \"Ratio\": 1.23456790123457}, {\"ORF\": \"YHR216W\", \"Sample Point\": \"R1.Ratio\", \"Ratio\": 1.25}, {\"ORF\": \"YHR216W\", \"Sample Point\": \"R2.Ratio\", \"Ratio\": 1.23456790123457}, {\"ORF\": \"YHR216W\", \"Sample Point\": \"R3.Ratio\", \"Ratio\": 1.26582278481013}, {\"ORF\": \"YHR216W\", \"Sample Point\": \"R4.Ratio\", \"Ratio\": 0.72463768115942}, {\"ORF\": \"YHR216W\", \"Sample Point\": \"R5.Ratio\", \"Ratio\": 0.78125}, {\"ORF\": \"YHR216W\", \"Sample Point\": \"R6.Ratio\", \"Ratio\": 0.277777777777778}, {\"ORF\": \"YHR216W\", \"Sample Point\": \"R7.Ratio\", \"Ratio\": 0.208333333333333}, {\"ORF\": \"YHR180W\", \"Sample Point\": \"R1.Ratio\", \"Ratio\": 1.03092783505155}, {\"ORF\": \"YHR180W\", \"Sample Point\": \"R2.Ratio\", \"Ratio\": 0.892857142857143}, {\"ORF\": \"YHR180W\", \"Sample Point\": \"R3.Ratio\", \"Ratio\": 1.08695652173913}, {\"ORF\": \"YHR180W\", \"Sample Point\": \"R4.Ratio\", \"Ratio\": 0.925925925925926}, {\"ORF\": \"YHR180W\", \"Sample Point\": \"R5.Ratio\", \"Ratio\": 0.862068965517241}, {\"ORF\": \"YHR180W\", \"Sample Point\": \"R6.Ratio\", \"Ratio\": 1.47058823529412}, {\"ORF\": \"YHR180W\", \"Sample Point\": \"R7.Ratio\", \"Ratio\": 1.69491525423729}, {\"ORF\": \"YLR265C\", \"Sample Point\": \"R1.Ratio\", \"Ratio\": 0.952380952380952}, {\"ORF\": \"YLR265C\", \"Sample Point\": \"R2.Ratio\", \"Ratio\": 0.884955752212389}, {\"ORF\": \"YLR265C\", \"Sample Point\": \"R3.Ratio\", \"Ratio\": 0.892857142857143}, {\"ORF\": \"YLR265C\", \"Sample Point\": \"R4.Ratio\", \"Ratio\": 0.862068965517241}, {\"ORF\": \"YLR265C\", \"Sample Point\": \"R5.Ratio\", \"Ratio\": 1.12359550561798}, {\"ORF\": \"YLR265C\", \"Sample Point\": \"R6.Ratio\", \"Ratio\": 0.961538461538461}, {\"ORF\": \"YLR265C\", \"Sample Point\": \"R7.Ratio\", \"Ratio\": 0.72463768115942}, {\"ORF\": \"YBL020W\", \"Sample Point\": \"R1.Ratio\", \"Ratio\": 1.28205128205128}, {\"ORF\": \"YBL020W\", \"Sample Point\": \"R2.Ratio\", \"Ratio\": 1.0752688172043}, {\"ORF\": \"YBL020W\", \"Sample Point\": \"R3.Ratio\", \"Ratio\": 1.85185185185185}, {\"ORF\": \"YBL020W\", \"Sample Point\": \"R4.Ratio\", \"Ratio\": 0.952380952380952}, {\"ORF\": \"YBL020W\", \"Sample Point\": \"R5.Ratio\", \"Ratio\": 0.675675675675676}, {\"ORF\": \"YBL020W\", \"Sample Point\": \"R6.Ratio\", \"Ratio\": 0.943396226415094}, {\"ORF\": \"YBL020W\", \"Sample Point\": \"R7.Ratio\", \"Ratio\": 1.14942528735632}, {\"ORF\": \"YNL045W\", \"Sample Point\": \"R1.Ratio\", \"Ratio\": 1.0752688172043}, {\"ORF\": \"YNL045W\", \"Sample Point\": \"R2.Ratio\", \"Ratio\": 1.21951219512195}, {\"ORF\": \"YNL045W\", \"Sample Point\": \"R3.Ratio\", \"Ratio\": 1.49253731343284}, {\"ORF\": \"YNL045W\", \"Sample Point\": \"R4.Ratio\", \"Ratio\": 1.28205128205128}, {\"ORF\": \"YNL045W\", \"Sample Point\": \"R5.Ratio\", \"Ratio\": 1.49253731343284}, {\"ORF\": \"YNL045W\", \"Sample Point\": \"R6.Ratio\", \"Ratio\": 2.85714285714286}, {\"ORF\": \"YNL045W\", \"Sample Point\": \"R7.Ratio\", \"Ratio\": 2.17391304347826}, {\"ORF\": \"YKL056C\", \"Sample Point\": \"R1.Ratio\", \"Ratio\": 1.0752688172043}, {\"ORF\": \"YKL056C\", \"Sample Point\": \"R2.Ratio\", \"Ratio\": 1.04166666666667}, {\"ORF\": \"YKL056C\", \"Sample Point\": \"R3.Ratio\", \"Ratio\": 1.25}, {\"ORF\": \"YKL056C\", \"Sample Point\": \"R4.Ratio\", \"Ratio\": 1.03092783505155}, {\"ORF\": \"YKL056C\", \"Sample Point\": \"R5.Ratio\", \"Ratio\": 0.99009900990099}, {\"ORF\": \"YKL056C\", \"Sample Point\": \"R6.Ratio\", \"Ratio\": 0.50251256281407}, {\"ORF\": \"YKL056C\", \"Sample Point\": \"R7.Ratio\", \"Ratio\": 0.269541778975741}, {\"ORF\": \"YOR282W\", \"Sample Point\": \"R1.Ratio\", \"Ratio\": 0.719424460431655}, {\"ORF\": \"YOR282W\", \"Sample Point\": \"R2.Ratio\", \"Ratio\": 0.72992700729927}, {\"ORF\": \"YOR282W\", \"Sample Point\": \"R3.Ratio\", \"Ratio\": 0.793650793650794}, {\"ORF\": \"YOR282W\", \"Sample Point\": \"R4.Ratio\", \"Ratio\": 0.636942675159236}, {\"ORF\": \"YOR282W\", \"Sample Point\": \"R5.Ratio\", \"Ratio\": 0.746268656716418}, {\"ORF\": \"YOR282W\", \"Sample Point\": \"R6.Ratio\", \"Ratio\": 0.75187969924812}, {\"ORF\": \"YOR282W\", \"Sample Point\": \"R7.Ratio\", \"Ratio\": 0.769230769230769}, {\"ORF\": \"YDR364C\", \"Sample Point\": \"R1.Ratio\", \"Ratio\": 0.909090909090909}, {\"ORF\": \"YDR364C\", \"Sample Point\": \"R2.Ratio\", \"Ratio\": 1.08695652173913}, {\"ORF\": \"YDR364C\", \"Sample Point\": \"R3.Ratio\", \"Ratio\": 1.02040816326531}, {\"ORF\": \"YDR364C\", \"Sample Point\": \"R4.Ratio\", \"Ratio\": 0.819672131147541}, {\"ORF\": \"YDR364C\", \"Sample Point\": \"R5.Ratio\", \"Ratio\": 0.757575757575758}, {\"ORF\": \"YDR364C\", \"Sample Point\": \"R6.Ratio\", \"Ratio\": 0.740740740740741}, {\"ORF\": \"YDR364C\", \"Sample Point\": \"R7.Ratio\", \"Ratio\": 0.602409638554217}, {\"ORF\": \"YML109W\", \"Sample Point\": \"R1.Ratio\", \"Ratio\": 1.0752688172043}, {\"ORF\": \"YML109W\", \"Sample Point\": \"R2.Ratio\", \"Ratio\": 1.0}, {\"ORF\": \"YML109W\", \"Sample Point\": \"R3.Ratio\", \"Ratio\": 1.0989010989011}, {\"ORF\": \"YML109W\", \"Sample Point\": \"R4.Ratio\", \"Ratio\": 0.763358778625954}, {\"ORF\": \"YML109W\", \"Sample Point\": \"R5.Ratio\", \"Ratio\": 0.892857142857143}, {\"ORF\": \"YML109W\", \"Sample Point\": \"R6.Ratio\", \"Ratio\": 0.709219858156028}, {\"ORF\": \"YML109W\", \"Sample Point\": \"R7.Ratio\", \"Ratio\": 0.840336134453782}, {\"ORF\": \"YKR099W\", \"Sample Point\": \"R1.Ratio\", \"Ratio\": 0.970873786407767}, {\"ORF\": \"YKR099W\", \"Sample Point\": \"R2.Ratio\", \"Ratio\": 0.826446280991736}, {\"ORF\": \"YKR099W\", \"Sample Point\": \"R3.Ratio\", \"Ratio\": 1.26582278481013}, {\"ORF\": \"YKR099W\", \"Sample Point\": \"R4.Ratio\", \"Ratio\": 0.571428571428571}, {\"ORF\": \"YKR099W\", \"Sample Point\": \"R5.Ratio\", \"Ratio\": 0.617283950617284}, {\"ORF\": \"YKR099W\", \"Sample Point\": \"R6.Ratio\", \"Ratio\": 0.645161290322581}, {\"ORF\": \"YKR099W\", \"Sample Point\": \"R7.Ratio\", \"Ratio\": 0.485436893203884}, {\"ORF\": \"YJR066W\", \"Sample Point\": \"R1.Ratio\", \"Ratio\": 0.934579439252336}, {\"ORF\": \"YJR066W\", \"Sample Point\": \"R2.Ratio\", \"Ratio\": 0.892857142857143}, {\"ORF\": \"YJR066W\", \"Sample Point\": \"R3.Ratio\", \"Ratio\": 0.892857142857143}, {\"ORF\": \"YJR066W\", \"Sample Point\": \"R4.Ratio\", \"Ratio\": 0.884955752212389}, {\"ORF\": \"YJR066W\", \"Sample Point\": \"R5.Ratio\", \"Ratio\": 1.11111111111111}, {\"ORF\": \"YJR066W\", \"Sample Point\": \"R6.Ratio\", \"Ratio\": 0.900900900900901}, {\"ORF\": \"YJR066W\", \"Sample Point\": \"R7.Ratio\", \"Ratio\": 1.06382978723404}, {\"ORF\": \"YLR410W\", \"Sample Point\": \"R1.Ratio\", \"Ratio\": 1.11111111111111}, {\"ORF\": \"YLR410W\", \"Sample Point\": \"R2.Ratio\", \"Ratio\": 0.833333333333333}, {\"ORF\": \"YLR410W\", \"Sample Point\": \"R3.Ratio\", \"Ratio\": 0.854700854700855}, {\"ORF\": \"YLR410W\", \"Sample Point\": \"R4.Ratio\", \"Ratio\": 0.847457627118644}, {\"ORF\": \"YLR410W\", \"Sample Point\": \"R5.Ratio\", \"Ratio\": 0.757575757575758}, {\"ORF\": \"YLR410W\", \"Sample Point\": \"R6.Ratio\", \"Ratio\": 1.0989010989011}, {\"ORF\": \"YLR410W\", \"Sample Point\": \"R7.Ratio\", \"Ratio\": 0.819672131147541}, {\"ORF\": \"YCL036W\", \"Sample Point\": \"R1.Ratio\", \"Ratio\": 0.769230769230769}, {\"ORF\": \"YCL036W\", \"Sample Point\": \"R2.Ratio\", \"Ratio\": 0.813008130081301}, {\"ORF\": \"YCL036W\", \"Sample Point\": \"R3.Ratio\", \"Ratio\": 0.970873786407767}, {\"ORF\": \"YCL036W\", \"Sample Point\": \"R4.Ratio\", \"Ratio\": 0.934579439252336}, {\"ORF\": \"YCL036W\", \"Sample Point\": \"R5.Ratio\", \"Ratio\": 0.709219858156028}, {\"ORF\": \"YCL036W\", \"Sample Point\": \"R6.Ratio\", \"Ratio\": 2.04081632653061}, {\"ORF\": \"YCL036W\", \"Sample Point\": \"R7.Ratio\", \"Ratio\": 1.08695652173913}, {\"ORF\": \"YKL147C\", \"Sample Point\": \"R1.Ratio\", \"Ratio\": 0.87719298245614}, {\"ORF\": \"YKL147C\", \"Sample Point\": \"R2.Ratio\", \"Ratio\": 0.900900900900901}, {\"ORF\": \"YKL147C\", \"Sample Point\": \"R3.Ratio\", \"Ratio\": 0.892857142857143}, {\"ORF\": \"YKL147C\", \"Sample Point\": \"R4.Ratio\", \"Ratio\": 0.769230769230769}, {\"ORF\": \"YKL147C\", \"Sample Point\": \"R5.Ratio\", \"Ratio\": 0.892857142857143}, {\"ORF\": \"YKL147C\", \"Sample Point\": \"R6.Ratio\", \"Ratio\": 1.53846153846154}, {\"ORF\": \"YKL147C\", \"Sample Point\": \"R7.Ratio\", \"Ratio\": 1.78571428571429}, {\"ORF\": \"YOR013W\", \"Sample Point\": \"R1.Ratio\", \"Ratio\": 0.78125}, {\"ORF\": \"YOR013W\", \"Sample Point\": \"R2.Ratio\", \"Ratio\": 0.847457627118644}, {\"ORF\": \"YOR013W\", \"Sample Point\": \"R3.Ratio\", \"Ratio\": 0.980392156862745}, {\"ORF\": \"YOR013W\", \"Sample Point\": \"R4.Ratio\", \"Ratio\": 0.8}, {\"ORF\": \"YOR013W\", \"Sample Point\": \"R5.Ratio\", \"Ratio\": 0.900900900900901}, {\"ORF\": \"YOR013W\", \"Sample Point\": \"R6.Ratio\", \"Ratio\": 0.980392156862745}, {\"ORF\": \"YOR013W\", \"Sample Point\": \"R7.Ratio\", \"Ratio\": 0.8}, {\"ORF\": \"YEL054c\", \"Sample Point\": \"R1.Ratio\", \"Ratio\": 1.14942528735632}, {\"ORF\": \"YEL054c\", \"Sample Point\": \"R2.Ratio\", \"Ratio\": 1.06382978723404}, {\"ORF\": \"YEL054c\", \"Sample Point\": \"R3.Ratio\", \"Ratio\": 1.25}, {\"ORF\": \"YEL054c\", \"Sample Point\": \"R4.Ratio\", \"Ratio\": 0.8}, {\"ORF\": \"YEL054c\", \"Sample Point\": \"R5.Ratio\", \"Ratio\": 0.719424460431655}, {\"ORF\": \"YEL054c\", \"Sample Point\": \"R6.Ratio\", \"Ratio\": 0.32051282051282}, {\"ORF\": \"YEL054c\", \"Sample Point\": \"R7.Ratio\", \"Ratio\": 0.181159420289855}, {\"ORF\": \"YPL207W\", \"Sample Point\": \"R1.Ratio\", \"Ratio\": 1.16279069767442}, {\"ORF\": \"YPL207W\", \"Sample Point\": \"R2.Ratio\", \"Ratio\": 1.19047619047619}, {\"ORF\": \"YPL207W\", \"Sample Point\": \"R3.Ratio\", \"Ratio\": 1.0989010989011}, {\"ORF\": \"YPL207W\", \"Sample Point\": \"R4.Ratio\", \"Ratio\": 0.970873786407767}, {\"ORF\": \"YPL207W\", \"Sample Point\": \"R5.Ratio\", \"Ratio\": 0.900900900900901}, {\"ORF\": \"YPL207W\", \"Sample Point\": \"R6.Ratio\", \"Ratio\": 0.72992700729927}, {\"ORF\": \"YPL207W\", \"Sample Point\": \"R7.Ratio\", \"Ratio\": 1.16279069767442}, {\"ORF\": \"YPL082C\", \"Sample Point\": \"R1.Ratio\", \"Ratio\": 0.925925925925926}, {\"ORF\": \"YPL082C\", \"Sample Point\": \"R2.Ratio\", \"Ratio\": 0.900900900900901}, {\"ORF\": \"YPL082C\", \"Sample Point\": \"R3.Ratio\", \"Ratio\": 0.961538461538461}, {\"ORF\": \"YPL082C\", \"Sample Point\": \"R4.Ratio\", \"Ratio\": 0.840336134453782}, {\"ORF\": \"YPL082C\", \"Sample Point\": \"R5.Ratio\", \"Ratio\": 0.819672131147541}, {\"ORF\": \"YPL082C\", \"Sample Point\": \"R6.Ratio\", \"Ratio\": 0.609756097560976}, {\"ORF\": \"YPL082C\", \"Sample Point\": \"R7.Ratio\", \"Ratio\": 0.584795321637427}, {\"ORF\": \"YOL021C\", \"Sample Point\": \"R1.Ratio\", \"Ratio\": 0.909090909090909}, {\"ORF\": \"YOL021C\", \"Sample Point\": \"R2.Ratio\", \"Ratio\": 0.840336134453782}, {\"ORF\": \"YOL021C\", \"Sample Point\": \"R3.Ratio\", \"Ratio\": 0.746268656716418}, {\"ORF\": \"YOL021C\", \"Sample Point\": \"R4.Ratio\", \"Ratio\": 0.581395348837209}, {\"ORF\": \"YOL021C\", \"Sample Point\": \"R5.Ratio\", \"Ratio\": 0.591715976331361}, {\"ORF\": \"YOL021C\", \"Sample Point\": \"R6.Ratio\", \"Ratio\": 0.392156862745098}, {\"ORF\": \"YOL021C\", \"Sample Point\": \"R7.Ratio\", \"Ratio\": 0.347222222222222}, {\"ORF\": \"YBR025C\", \"Sample Point\": \"R1.Ratio\", \"Ratio\": 1.5625}, {\"ORF\": \"YBR025C\", \"Sample Point\": \"R2.Ratio\", \"Ratio\": 1.33333333333333}, {\"ORF\": \"YBR025C\", \"Sample Point\": \"R3.Ratio\", \"Ratio\": 1.08695652173913}, {\"ORF\": \"YBR025C\", \"Sample Point\": \"R4.Ratio\", \"Ratio\": 0.78740157480315}, {\"ORF\": \"YBR025C\", \"Sample Point\": \"R5.Ratio\", \"Ratio\": 0.62111801242236}, {\"ORF\": \"YBR025C\", \"Sample Point\": \"R6.Ratio\", \"Ratio\": 0.595238095238095}, {\"ORF\": \"YBR025C\", \"Sample Point\": \"R7.Ratio\", \"Ratio\": 1.06382978723404}, {\"ORF\": \"YDL168W\", \"Sample Point\": \"R1.Ratio\", \"Ratio\": 1.0752688172043}, {\"ORF\": \"YDL168W\", \"Sample Point\": \"R2.Ratio\", \"Ratio\": 0.952380952380952}, {\"ORF\": \"YDL168W\", \"Sample Point\": \"R3.Ratio\", \"Ratio\": 0.847457627118644}, {\"ORF\": \"YDL168W\", \"Sample Point\": \"R4.Ratio\", \"Ratio\": 0.75187969924812}, {\"ORF\": \"YDL168W\", \"Sample Point\": \"R5.Ratio\", \"Ratio\": 0.72992700729927}, {\"ORF\": \"YDL168W\", \"Sample Point\": \"R6.Ratio\", \"Ratio\": 0.980392156862745}, {\"ORF\": \"YDL168W\", \"Sample Point\": \"R7.Ratio\", \"Ratio\": 1.03092783505155}, {\"ORF\": \"YML117W\", \"Sample Point\": \"R1.Ratio\", \"Ratio\": 1.04166666666667}, {\"ORF\": \"YML117W\", \"Sample Point\": \"R2.Ratio\", \"Ratio\": 1.21951219512195}, {\"ORF\": \"YML117W\", \"Sample Point\": \"R3.Ratio\", \"Ratio\": 1.21951219512195}, {\"ORF\": \"YML117W\", \"Sample Point\": \"R4.Ratio\", \"Ratio\": 1.01010101010101}, {\"ORF\": \"YML117W\", \"Sample Point\": \"R5.Ratio\", \"Ratio\": 1.33333333333333}, {\"ORF\": \"YML117W\", \"Sample Point\": \"R6.Ratio\", \"Ratio\": 1.63934426229508}, {\"ORF\": \"YML117W\", \"Sample Point\": \"R7.Ratio\", \"Ratio\": 1.38888888888889}, {\"ORF\": \"YPL162C\", \"Sample Point\": \"R1.Ratio\", \"Ratio\": 1.05263157894737}, {\"ORF\": \"YPL162C\", \"Sample Point\": \"R2.Ratio\", \"Ratio\": 0.961538461538461}, {\"ORF\": \"YPL162C\", \"Sample Point\": \"R3.Ratio\", \"Ratio\": 1.0752688172043}, {\"ORF\": \"YPL162C\", \"Sample Point\": \"R4.Ratio\", \"Ratio\": 0.847457627118644}, {\"ORF\": \"YPL162C\", \"Sample Point\": \"R5.Ratio\", \"Ratio\": 0.819672131147541}, {\"ORF\": \"YPL162C\", \"Sample Point\": \"R6.Ratio\", \"Ratio\": 1.11111111111111}, {\"ORF\": \"YPL162C\", \"Sample Point\": \"R7.Ratio\", \"Ratio\": 1.05263157894737}, {\"ORF\": \"YOL037C\", \"Sample Point\": \"R1.Ratio\", \"Ratio\": 0.847457627118644}, {\"ORF\": \"YOL037C\", \"Sample Point\": \"R2.Ratio\", \"Ratio\": 0.735294117647059}, {\"ORF\": \"YOL037C\", \"Sample Point\": \"R3.Ratio\", \"Ratio\": 0.740740740740741}, {\"ORF\": \"YOL037C\", \"Sample Point\": \"R4.Ratio\", \"Ratio\": 0.699300699300699}, {\"ORF\": \"YOL037C\", \"Sample Point\": \"R5.Ratio\", \"Ratio\": 0.588235294117647}, {\"ORF\": \"YOL037C\", \"Sample Point\": \"R6.Ratio\", \"Ratio\": 0.740740740740741}, {\"ORF\": \"YOL037C\", \"Sample Point\": \"R7.Ratio\", \"Ratio\": 0.970873786407767}, {\"ORF\": \"YGR289C\", \"Sample Point\": \"R1.Ratio\", \"Ratio\": 0.699300699300699}, {\"ORF\": \"YGR289C\", \"Sample Point\": \"R2.Ratio\", \"Ratio\": 0.775193798449612}, {\"ORF\": \"YGR289C\", \"Sample Point\": \"R3.Ratio\", \"Ratio\": 0.980392156862745}, {\"ORF\": \"YGR289C\", \"Sample Point\": \"R4.Ratio\", \"Ratio\": 0.704225352112676}, {\"ORF\": \"YGR289C\", \"Sample Point\": \"R5.Ratio\", \"Ratio\": 0.746268656716418}, {\"ORF\": \"YGR289C\", \"Sample Point\": \"R6.Ratio\", \"Ratio\": 2.85714285714286}, {\"ORF\": \"YGR289C\", \"Sample Point\": \"R7.Ratio\", \"Ratio\": 2.0}, {\"ORF\": \"YBR178W\", \"Sample Point\": \"R1.Ratio\", \"Ratio\": 0.900900900900901}, {\"ORF\": \"YBR178W\", \"Sample Point\": \"R2.Ratio\", \"Ratio\": 0.952380952380952}, {\"ORF\": \"YBR178W\", \"Sample Point\": \"R3.Ratio\", \"Ratio\": 1.02040816326531}, {\"ORF\": \"YBR178W\", \"Sample Point\": \"R4.Ratio\", \"Ratio\": 0.900900900900901}, {\"ORF\": \"YBR178W\", \"Sample Point\": \"R5.Ratio\", \"Ratio\": 0.943396226415094}, {\"ORF\": \"YBR178W\", \"Sample Point\": \"R6.Ratio\", \"Ratio\": 1.14942528735632}, {\"ORF\": \"YBR178W\", \"Sample Point\": \"R7.Ratio\", \"Ratio\": 1.12359550561798}, {\"ORF\": \"YHR075C\", \"Sample Point\": \"R1.Ratio\", \"Ratio\": 1.0752688172043}, {\"ORF\": \"YHR075C\", \"Sample Point\": \"R2.Ratio\", \"Ratio\": 1.12359550561798}, {\"ORF\": \"YHR075C\", \"Sample Point\": \"R3.Ratio\", \"Ratio\": 1.06382978723404}, {\"ORF\": \"YHR075C\", \"Sample Point\": \"R4.Ratio\", \"Ratio\": 1.0}, {\"ORF\": \"YHR075C\", \"Sample Point\": \"R5.Ratio\", \"Ratio\": 0.970873786407767}, {\"ORF\": \"YHR075C\", \"Sample Point\": \"R6.Ratio\", \"Ratio\": 0.8}, {\"ORF\": \"YHR075C\", \"Sample Point\": \"R7.Ratio\", \"Ratio\": 0.775193798449612}, {\"ORF\": \"YNL262W\", \"Sample Point\": \"R1.Ratio\", \"Ratio\": 0.943396226415094}, {\"ORF\": \"YNL262W\", \"Sample Point\": \"R2.Ratio\", \"Ratio\": 0.892857142857143}, {\"ORF\": \"YNL262W\", \"Sample Point\": \"R3.Ratio\", \"Ratio\": 0.943396226415094}, {\"ORF\": \"YNL262W\", \"Sample Point\": \"R4.Ratio\", \"Ratio\": 0.840336134453782}, {\"ORF\": \"YNL262W\", \"Sample Point\": \"R5.Ratio\", \"Ratio\": 0.892857142857143}, {\"ORF\": \"YNL262W\", \"Sample Point\": \"R6.Ratio\", \"Ratio\": 0.775193798449612}, {\"ORF\": \"YNL262W\", \"Sample Point\": \"R7.Ratio\", \"Ratio\": 0.746268656716418}, {\"ORF\": \"YEL046c\", \"Sample Point\": \"R1.Ratio\", \"Ratio\": 1.02040816326531}, {\"ORF\": \"YEL046c\", \"Sample Point\": \"R2.Ratio\", \"Ratio\": 1.06382978723404}, {\"ORF\": \"YEL046c\", \"Sample Point\": \"R3.Ratio\", \"Ratio\": 1.0}, {\"ORF\": \"YEL046c\", \"Sample Point\": \"R4.Ratio\", \"Ratio\": 0.617283950617284}, {\"ORF\": \"YEL046c\", \"Sample Point\": \"R5.Ratio\", \"Ratio\": 0.465116279069767}, {\"ORF\": \"YEL046c\", \"Sample Point\": \"R6.Ratio\", \"Ratio\": 0.352112676056338}, {\"ORF\": \"YEL046c\", \"Sample Point\": \"R7.Ratio\", \"Ratio\": 0.29585798816568}, {\"ORF\": \"YPL109C\", \"Sample Point\": \"R1.Ratio\", \"Ratio\": 0.854700854700855}, {\"ORF\": \"YPL109C\", \"Sample Point\": \"R2.Ratio\", \"Ratio\": 1.0}, {\"ORF\": \"YPL109C\", \"Sample Point\": \"R3.Ratio\", \"Ratio\": 1.35135135135135}, {\"ORF\": \"YPL109C\", \"Sample Point\": \"R4.Ratio\", \"Ratio\": 0.952380952380952}, {\"ORF\": \"YPL109C\", \"Sample Point\": \"R5.Ratio\", \"Ratio\": 0.588235294117647}, {\"ORF\": \"YPL109C\", \"Sample Point\": \"R6.Ratio\", \"Ratio\": 1.75438596491228}, {\"ORF\": \"YPL109C\", \"Sample Point\": \"R7.Ratio\", \"Ratio\": 2.63157894736842}, {\"ORF\": \"YKL197C\", \"Sample Point\": \"R1.Ratio\", \"Ratio\": 0.980392156862745}, {\"ORF\": \"YKL197C\", \"Sample Point\": \"R2.Ratio\", \"Ratio\": 0.99009900990099}, {\"ORF\": \"YKL197C\", \"Sample Point\": \"R3.Ratio\", \"Ratio\": 1.04166666666667}, {\"ORF\": \"YKL197C\", \"Sample Point\": \"R4.Ratio\", \"Ratio\": 0.769230769230769}, {\"ORF\": \"YKL197C\", \"Sample Point\": \"R5.Ratio\", \"Ratio\": 1.01010101010101}, {\"ORF\": \"YKL197C\", \"Sample Point\": \"R6.Ratio\", \"Ratio\": 0.87719298245614}, {\"ORF\": \"YKL197C\", \"Sample Point\": \"R7.Ratio\", \"Ratio\": 1.0752688172043}, {\"ORF\": \"YOR067C\", \"Sample Point\": \"R1.Ratio\", \"Ratio\": 1.17647058823529}, {\"ORF\": \"YOR067C\", \"Sample Point\": \"R2.Ratio\", \"Ratio\": 1.49253731343284}, {\"ORF\": \"YOR067C\", \"Sample Point\": \"R3.Ratio\", \"Ratio\": 1.85185185185185}, {\"ORF\": \"YOR067C\", \"Sample Point\": \"R4.Ratio\", \"Ratio\": 1.31578947368421}, {\"ORF\": \"YOR067C\", \"Sample Point\": \"R5.Ratio\", \"Ratio\": 1.42857142857143}, {\"ORF\": \"YOR067C\", \"Sample Point\": \"R6.Ratio\", \"Ratio\": 0.833333333333333}, {\"ORF\": \"YOR067C\", \"Sample Point\": \"R7.Ratio\", \"Ratio\": 0.704225352112676}]}}, {\"mode\": \"vega-lite\"});\n",
       "</script>"
      ],
      "text/plain": [
       "alt.Chart(...)"
      ]
     },
     "execution_count": 14,
     "metadata": {},
     "output_type": "execute_result"
    }
   ],
   "source": [
    "import altair as alt\n",
    "plot_df = df.set_index('ORF').drop('Name',axis=1).sample(n=100)\n",
    "plot_df.columns.name = 'Sample Point'\n",
    "plot_df = plot_df.stack().to_frame()\n",
    "plot_df.columns=[\"Ratio\"]\n",
    "plot_df = plot_df.reset_index()\n",
    "alt.Chart(plot_df).mark_line().encode(\n",
    "    x='Sample Point:N',\n",
    "    y='Ratio',\n",
    "    color='ORF'\n",
    ")"
   ]
  },
  {
   "cell_type": "markdown",
   "metadata": {
    "slideshow": {
     "slide_type": "subslide"
    }
   },
   "source": [
    "**Stop and think:** What are your observations about this graph?"
   ]
  },
  {
   "cell_type": "markdown",
   "metadata": {
    "slideshow": {
     "slide_type": "subslide"
    }
   },
   "source": [
    "### YOUR SOLUTION HERE\n",
    "### YOUR SOLUTION HERE"
   ]
  },
  {
   "cell_type": "markdown",
   "metadata": {
    "slideshow": {
     "slide_type": "subslide"
    }
   },
   "source": [
    "Let's remove genes that are not of interest. This is done in the textbook by removing genes that don't go up or down by a significant amount. "
   ]
  },
  {
   "cell_type": "code",
   "execution_count": 20,
   "metadata": {
    "slideshow": {
     "slide_type": "fragment"
    }
   },
   "outputs": [
    {
     "data": {
      "text/html": [
       "<div>\n",
       "<style scoped>\n",
       "    .dataframe tbody tr th:only-of-type {\n",
       "        vertical-align: middle;\n",
       "    }\n",
       "\n",
       "    .dataframe tbody tr th {\n",
       "        vertical-align: top;\n",
       "    }\n",
       "\n",
       "    .dataframe thead th {\n",
       "        text-align: right;\n",
       "    }\n",
       "</style>\n",
       "<table border=\"1\" class=\"dataframe\">\n",
       "  <thead>\n",
       "    <tr style=\"text-align: right;\">\n",
       "      <th></th>\n",
       "      <th>ORF</th>\n",
       "      <th>Name</th>\n",
       "      <th>R1.Ratio</th>\n",
       "      <th>R2.Ratio</th>\n",
       "      <th>R3.Ratio</th>\n",
       "      <th>R4.Ratio</th>\n",
       "      <th>R5.Ratio</th>\n",
       "      <th>R6.Ratio</th>\n",
       "      <th>R7.Ratio</th>\n",
       "    </tr>\n",
       "  </thead>\n",
       "  <tbody>\n",
       "    <tr>\n",
       "      <th>1</th>\n",
       "      <td>YDR025W</td>\n",
       "      <td>RPS18A</td>\n",
       "      <td>0.136062</td>\n",
       "      <td>-0.111031</td>\n",
       "      <td>-0.189034</td>\n",
       "      <td>-0.782409</td>\n",
       "      <td>-0.757023</td>\n",
       "      <td>-0.855990</td>\n",
       "      <td>-2.304511</td>\n",
       "    </tr>\n",
       "    <tr>\n",
       "      <th>2</th>\n",
       "      <td>YDR031w</td>\n",
       "      <td>NaN</td>\n",
       "      <td>-0.286881</td>\n",
       "      <td>-0.084064</td>\n",
       "      <td>0.184425</td>\n",
       "      <td>0.136062</td>\n",
       "      <td>0.535332</td>\n",
       "      <td>2.321928</td>\n",
       "      <td>1.251539</td>\n",
       "    </tr>\n",
       "    <tr>\n",
       "      <th>3</th>\n",
       "      <td>YDR060w</td>\n",
       "      <td>NaN</td>\n",
       "      <td>-0.042644</td>\n",
       "      <td>-0.097611</td>\n",
       "      <td>-0.014355</td>\n",
       "      <td>-0.799087</td>\n",
       "      <td>-0.839960</td>\n",
       "      <td>-2.247928</td>\n",
       "      <td>-2.386811</td>\n",
       "    </tr>\n",
       "    <tr>\n",
       "      <th>4</th>\n",
       "      <td>YDR064W</td>\n",
       "      <td>YS15</td>\n",
       "      <td>-0.056584</td>\n",
       "      <td>-0.124328</td>\n",
       "      <td>-0.070389</td>\n",
       "      <td>-0.545968</td>\n",
       "      <td>-0.555816</td>\n",
       "      <td>-2.104337</td>\n",
       "      <td>-2.367371</td>\n",
       "    </tr>\n",
       "    <tr>\n",
       "      <th>5</th>\n",
       "      <td>YDR070c</td>\n",
       "      <td>NaN</td>\n",
       "      <td>0.014500</td>\n",
       "      <td>0.074001</td>\n",
       "      <td>0.058894</td>\n",
       "      <td>0.014500</td>\n",
       "      <td>0.251539</td>\n",
       "      <td>2.395929</td>\n",
       "      <td>1.689660</td>\n",
       "    </tr>\n",
       "    <tr>\n",
       "      <th>...</th>\n",
       "      <td>...</td>\n",
       "      <td>...</td>\n",
       "      <td>...</td>\n",
       "      <td>...</td>\n",
       "      <td>...</td>\n",
       "      <td>...</td>\n",
       "      <td>...</td>\n",
       "      <td>...</td>\n",
       "      <td>...</td>\n",
       "    </tr>\n",
       "    <tr>\n",
       "      <th>226</th>\n",
       "      <td>YDL085w</td>\n",
       "      <td>NaN</td>\n",
       "      <td>-0.111031</td>\n",
       "      <td>1.000000</td>\n",
       "      <td>0.058894</td>\n",
       "      <td>-0.124328</td>\n",
       "      <td>-0.275007</td>\n",
       "      <td>2.058894</td>\n",
       "      <td>2.836501</td>\n",
       "    </tr>\n",
       "    <tr>\n",
       "      <th>227</th>\n",
       "      <td>YDL136w</td>\n",
       "      <td>NaN</td>\n",
       "      <td>-0.070389</td>\n",
       "      <td>-0.014355</td>\n",
       "      <td>-0.042644</td>\n",
       "      <td>-0.367371</td>\n",
       "      <td>-0.214125</td>\n",
       "      <td>-1.550901</td>\n",
       "      <td>-2.563158</td>\n",
       "    </tr>\n",
       "    <tr>\n",
       "      <th>228</th>\n",
       "      <td>YDL199c</td>\n",
       "      <td>NaN</td>\n",
       "      <td>-0.042644</td>\n",
       "      <td>0.494109</td>\n",
       "      <td>0.415037</td>\n",
       "      <td>0.184425</td>\n",
       "      <td>-0.344828</td>\n",
       "      <td>1.736966</td>\n",
       "      <td>2.321928</td>\n",
       "    </tr>\n",
       "    <tr>\n",
       "      <th>229</th>\n",
       "      <td>YDL204w</td>\n",
       "      <td>NaN</td>\n",
       "      <td>-0.367371</td>\n",
       "      <td>0.915936</td>\n",
       "      <td>-0.505891</td>\n",
       "      <td>0.268817</td>\n",
       "      <td>0.089267</td>\n",
       "      <td>4.058894</td>\n",
       "      <td>3.058894</td>\n",
       "    </tr>\n",
       "    <tr>\n",
       "      <th>230</th>\n",
       "      <td>YDL208W</td>\n",
       "      <td>NHP2</td>\n",
       "      <td>0.043943</td>\n",
       "      <td>-0.150560</td>\n",
       "      <td>0.043943</td>\n",
       "      <td>-0.575312</td>\n",
       "      <td>-0.485427</td>\n",
       "      <td>-2.144046</td>\n",
       "      <td>-2.636915</td>\n",
       "    </tr>\n",
       "  </tbody>\n",
       "</table>\n",
       "<p>230 rows × 9 columns</p>\n",
       "</div>"
      ],
      "text/plain": [
       "         ORF    Name  R1.Ratio  R2.Ratio  R3.Ratio  R4.Ratio  R5.Ratio  \\\n",
       "1    YDR025W  RPS18A  0.136062 -0.111031 -0.189034 -0.782409 -0.757023   \n",
       "2    YDR031w     NaN -0.286881 -0.084064  0.184425  0.136062  0.535332   \n",
       "3    YDR060w     NaN -0.042644 -0.097611 -0.014355 -0.799087 -0.839960   \n",
       "4    YDR064W    YS15 -0.056584 -0.124328 -0.070389 -0.545968 -0.555816   \n",
       "5    YDR070c     NaN  0.014500  0.074001  0.058894  0.014500  0.251539   \n",
       "..       ...     ...       ...       ...       ...       ...       ...   \n",
       "226  YDL085w     NaN -0.111031  1.000000  0.058894 -0.124328 -0.275007   \n",
       "227  YDL136w     NaN -0.070389 -0.014355 -0.042644 -0.367371 -0.214125   \n",
       "228  YDL199c     NaN -0.042644  0.494109  0.415037  0.184425 -0.344828   \n",
       "229  YDL204w     NaN -0.367371  0.915936 -0.505891  0.268817  0.089267   \n",
       "230  YDL208W    NHP2  0.043943 -0.150560  0.043943 -0.575312 -0.485427   \n",
       "\n",
       "     R6.Ratio  R7.Ratio  \n",
       "1   -0.855990 -2.304511  \n",
       "2    2.321928  1.251539  \n",
       "3   -2.247928 -2.386811  \n",
       "4   -2.104337 -2.367371  \n",
       "5    2.395929  1.689660  \n",
       "..        ...       ...  \n",
       "226  2.058894  2.836501  \n",
       "227 -1.550901 -2.563158  \n",
       "228  1.736966  2.321928  \n",
       "229  4.058894  3.058894  \n",
       "230 -2.144046 -2.636915  \n",
       "\n",
       "[230 rows x 9 columns]"
      ]
     },
     "execution_count": 20,
     "metadata": {},
     "output_type": "execute_result"
    }
   ],
   "source": [
    "df_subset = pd.read_csv('http://bioinformaticsalgorithms.com/data/realdatasets/Clustering/230genes_log_expression.txt',sep='\\t')\n",
    "df_subset"
   ]
  },
  {
   "cell_type": "markdown",
   "metadata": {
    "slideshow": {
     "slide_type": "subslide"
    }
   },
   "source": [
    "### Redo the plot"
   ]
  },
  {
   "cell_type": "code",
   "execution_count": 16,
   "metadata": {
    "slideshow": {
     "slide_type": "fragment"
    }
   },
   "outputs": [
    {
     "data": {
      "text/html": [
       "\n",
       "<style>\n",
       "  #altair-viz-4631ad3052fc4bfc857d9617f1fc5fe8.vega-embed {\n",
       "    width: 100%;\n",
       "    display: flex;\n",
       "  }\n",
       "\n",
       "  #altair-viz-4631ad3052fc4bfc857d9617f1fc5fe8.vega-embed details,\n",
       "  #altair-viz-4631ad3052fc4bfc857d9617f1fc5fe8.vega-embed details summary {\n",
       "    position: relative;\n",
       "  }\n",
       "</style>\n",
       "<div id=\"altair-viz-4631ad3052fc4bfc857d9617f1fc5fe8\"></div>\n",
       "<script type=\"text/javascript\">\n",
       "  var VEGA_DEBUG = (typeof VEGA_DEBUG == \"undefined\") ? {} : VEGA_DEBUG;\n",
       "  (function(spec, embedOpt){\n",
       "    let outputDiv = document.currentScript.previousElementSibling;\n",
       "    if (outputDiv.id !== \"altair-viz-4631ad3052fc4bfc857d9617f1fc5fe8\") {\n",
       "      outputDiv = document.getElementById(\"altair-viz-4631ad3052fc4bfc857d9617f1fc5fe8\");\n",
       "    }\n",
       "    const paths = {\n",
       "      \"vega\": \"https://cdn.jsdelivr.net/npm/vega@5?noext\",\n",
       "      \"vega-lib\": \"https://cdn.jsdelivr.net/npm/vega-lib?noext\",\n",
       "      \"vega-lite\": \"https://cdn.jsdelivr.net/npm/vega-lite@5.20.1?noext\",\n",
       "      \"vega-embed\": \"https://cdn.jsdelivr.net/npm/vega-embed@6?noext\",\n",
       "    };\n",
       "\n",
       "    function maybeLoadScript(lib, version) {\n",
       "      var key = `${lib.replace(\"-\", \"\")}_version`;\n",
       "      return (VEGA_DEBUG[key] == version) ?\n",
       "        Promise.resolve(paths[lib]) :\n",
       "        new Promise(function(resolve, reject) {\n",
       "          var s = document.createElement('script');\n",
       "          document.getElementsByTagName(\"head\")[0].appendChild(s);\n",
       "          s.async = true;\n",
       "          s.onload = () => {\n",
       "            VEGA_DEBUG[key] = version;\n",
       "            return resolve(paths[lib]);\n",
       "          };\n",
       "          s.onerror = () => reject(`Error loading script: ${paths[lib]}`);\n",
       "          s.src = paths[lib];\n",
       "        });\n",
       "    }\n",
       "\n",
       "    function showError(err) {\n",
       "      outputDiv.innerHTML = `<div class=\"error\" style=\"color:red;\">${err}</div>`;\n",
       "      throw err;\n",
       "    }\n",
       "\n",
       "    function displayChart(vegaEmbed) {\n",
       "      vegaEmbed(outputDiv, spec, embedOpt)\n",
       "        .catch(err => showError(`Javascript Error: ${err.message}<br>This usually means there's a typo in your chart specification. See the javascript console for the full traceback.`));\n",
       "    }\n",
       "\n",
       "    if(typeof define === \"function\" && define.amd) {\n",
       "      requirejs.config({paths});\n",
       "      require([\"vega-embed\"], displayChart, err => showError(`Error loading script: ${err.message}`));\n",
       "    } else {\n",
       "      maybeLoadScript(\"vega\", \"5\")\n",
       "        .then(() => maybeLoadScript(\"vega-lite\", \"5.20.1\"))\n",
       "        .then(() => maybeLoadScript(\"vega-embed\", \"6\"))\n",
       "        .catch(showError)\n",
       "        .then(() => displayChart(vegaEmbed));\n",
       "    }\n",
       "  })({\"config\": {\"view\": {\"continuousWidth\": 300, \"continuousHeight\": 300}}, \"data\": {\"name\": \"data-895d11835a864a5ac59df1854205704d\"}, \"mark\": {\"type\": \"line\"}, \"encoding\": {\"color\": {\"field\": \"ORF\", \"type\": \"nominal\"}, \"x\": {\"field\": \"Sample Point\", \"type\": \"nominal\"}, \"y\": {\"field\": \"Ratio\", \"type\": \"quantitative\"}}, \"$schema\": \"https://vega.github.io/schema/vega-lite/v5.20.1.json\", \"datasets\": {\"data-895d11835a864a5ac59df1854205704d\": [{\"ORF\": \"YDR398W\", \"Sample Point\": \"R1.Ratio\", \"Ratio\": -0.0143552929770701}, {\"ORF\": \"YDR398W\", \"Sample Point\": \"R2.Ratio\", \"Ratio\": -0.0840642647884746}, {\"ORF\": \"YDR398W\", \"Sample Point\": \"R3.Ratio\", \"Ratio\": -0.124328135002202}, {\"ORF\": \"YDR398W\", \"Sample Point\": \"R4.Ratio\", \"Ratio\": -1.03562390973072}, {\"ORF\": \"YDR398W\", \"Sample Point\": \"R5.Ratio\", \"Ratio\": -1.1243281350022}, {\"ORF\": \"YDR398W\", \"Sample Point\": \"R6.Ratio\", \"Ratio\": -2.02147972741045}, {\"ORF\": \"YDR398W\", \"Sample Point\": \"R7.Ratio\", \"Ratio\": -2.799087306074}, {\"ORF\": \"YLR448W\", \"Sample Point\": \"R1.Ratio\", \"Ratio\": 0.340075441597622}, {\"ORF\": \"YLR448W\", \"Sample Point\": \"R2.Ratio\", \"Ratio\": 0.0291463456595165}, {\"ORF\": \"YLR448W\", \"Sample Point\": \"R3.Ratio\", \"Ratio\": -0.214124805352847}, {\"ORF\": \"YLR448W\", \"Sample Point\": \"R4.Ratio\", \"Ratio\": -0.613531652917927}, {\"ORF\": \"YLR448W\", \"Sample Point\": \"R5.Ratio\", \"Ratio\": -0.704871964456353}, {\"ORF\": \"YLR448W\", \"Sample Point\": \"R6.Ratio\", \"Ratio\": -1.89530262133331}, {\"ORF\": \"YLR448W\", \"Sample Point\": \"R7.Ratio\", \"Ratio\": -2.32768736417605}, {\"ORF\": \"YIL113W\", \"Sample Point\": \"R1.Ratio\", \"Ratio\": -0.333423733725192}, {\"ORF\": \"YIL113W\", \"Sample Point\": \"R2.Ratio\", \"Ratio\": -0.356143810225275}, {\"ORF\": \"YIL113W\", \"Sample Point\": \"R3.Ratio\", \"Ratio\": -0.298658315564515}, {\"ORF\": \"YIL113W\", \"Sample Point\": \"R4.Ratio\", \"Ratio\": 0.0439433475875972}, {\"ORF\": \"YIL113W\", \"Sample Point\": \"R5.Ratio\", \"Ratio\": -0.0840642647884746}, {\"ORF\": \"YIL113W\", \"Sample Point\": \"R6.Ratio\", \"Ratio\": 2.39592867633114}, {\"ORF\": \"YIL113W\", \"Sample Point\": \"R7.Ratio\", \"Ratio\": 1.28630418515664}, {\"ORF\": \"YBL049W\", \"Sample Point\": \"R1.Ratio\", \"Ratio\": -0.584962500721156}, {\"ORF\": \"YBL049W\", \"Sample Point\": \"R2.Ratio\", \"Ratio\": 0.168122758808327}, {\"ORF\": \"YBL049W\", \"Sample Point\": \"R3.Ratio\", \"Ratio\": 0.184424571137428}, {\"ORF\": \"YBL049W\", \"Sample Point\": \"R4.Ratio\", \"Ratio\": -0.150559676575381}, {\"ORF\": \"YBL049W\", \"Sample Point\": \"R5.Ratio\", \"Ratio\": -0.823749360308273}, {\"ORF\": \"YBL049W\", \"Sample Point\": \"R6.Ratio\", \"Ratio\": 2.47393118833241}, {\"ORF\": \"YBL049W\", \"Sample Point\": \"R7.Ratio\", \"Ratio\": 2.64385618977472}, {\"ORF\": \"YDR533C\", \"Sample Point\": \"R1.Ratio\", \"Ratio\": -0.070389327891398}, {\"ORF\": \"YDR533C\", \"Sample Point\": \"R2.Ratio\", \"Ratio\": 0.0588936890535686}, {\"ORF\": \"YDR533C\", \"Sample Point\": \"R3.Ratio\", \"Ratio\": 0.577766999316952}, {\"ORF\": \"YDR533C\", \"Sample Point\": \"R4.Ratio\", \"Ratio\": 0.415037499278844}, {\"ORF\": \"YDR533C\", \"Sample Point\": \"R5.Ratio\", \"Ratio\": 0.0144995696951152}, {\"ORF\": \"YDR533C\", \"Sample Point\": \"R6.Ratio\", \"Ratio\": 2.73696559416621}, {\"ORF\": \"YDR533C\", \"Sample Point\": \"R7.Ratio\", \"Ratio\": 2.39592867633114}, {\"ORF\": \"YKL026C\", \"Sample Point\": \"R1.Ratio\", \"Ratio\": -0.189033824390017}, {\"ORF\": \"YKL026C\", \"Sample Point\": \"R2.Ratio\", \"Ratio\": -0.150559676575381}, {\"ORF\": \"YKL026C\", \"Sample Point\": \"R3.Ratio\", \"Ratio\": 0.0291463456595165}, {\"ORF\": \"YKL026C\", \"Sample Point\": \"R4.Ratio\", \"Ratio\": 0.2688167584278}, {\"ORF\": \"YKL026C\", \"Sample Point\": \"R5.Ratio\", \"Ratio\": 0.535331732996556}, {\"ORF\": \"YKL026C\", \"Sample Point\": \"R6.Ratio\", \"Ratio\": 3.64385618977472}, {\"ORF\": \"YKL026C\", \"Sample Point\": \"R7.Ratio\", \"Ratio\": 2.73696559416621}, {\"ORF\": \"YJR095W\", \"Sample Point\": \"R1.Ratio\", \"Ratio\": -0.613531652917927}, {\"ORF\": \"YJR095W\", \"Sample Point\": \"R2.Ratio\", \"Ratio\": -0.464668267003444}, {\"ORF\": \"YJR095W\", \"Sample Point\": \"R3.Ratio\", \"Ratio\": 1.08926733809709}, {\"ORF\": \"YJR095W\", \"Sample Point\": \"R4.Ratio\", \"Ratio\": -0.124328135002202}, {\"ORF\": \"YJR095W\", \"Sample Point\": \"R5.Ratio\", \"Ratio\": -0.176322772640463}, {\"ORF\": \"YJR095W\", \"Sample Point\": \"R6.Ratio\", \"Ratio\": 1.35845397091248}, {\"ORF\": \"YJR095W\", \"Sample Point\": \"R7.Ratio\", \"Ratio\": 3.64385618977472}, {\"ORF\": \"YLR062C\", \"Sample Point\": \"R1.Ratio\", \"Ratio\": 0.184424571137428}, {\"ORF\": \"YLR062C\", \"Sample Point\": \"R2.Ratio\", \"Ratio\": -0.0565835283663676}, {\"ORF\": \"YLR062C\", \"Sample Point\": \"R3.Ratio\", \"Ratio\": 0.0588936890535686}, {\"ORF\": \"YLR062C\", \"Sample Point\": \"R4.Ratio\", \"Ratio\": -0.356143810225275}, {\"ORF\": \"YLR062C\", \"Sample Point\": \"R5.Ratio\", \"Ratio\": -0.0976107966264223}, {\"ORF\": \"YLR062C\", \"Sample Point\": \"R6.Ratio\", \"Ratio\": -1.91073266190291}, {\"ORF\": \"YLR062C\", \"Sample Point\": \"R7.Ratio\", \"Ratio\": -2.86591881455221}, {\"ORF\": \"YPL220W\", \"Sample Point\": \"R1.Ratio\", \"Ratio\": 0.0439433475875972}, {\"ORF\": \"YPL220W\", \"Sample Point\": \"R2.Ratio\", \"Ratio\": -0.0143552929770701}, {\"ORF\": \"YPL220W\", \"Sample Point\": \"R3.Ratio\", \"Ratio\": 0.395928676331139}, {\"ORF\": \"YPL220W\", \"Sample Point\": \"R4.Ratio\", \"Ratio\": -0.356143810225275}, {\"ORF\": \"YPL220W\", \"Sample Point\": \"R5.Ratio\", \"Ratio\": -0.0426443374084937}, {\"ORF\": \"YPL220W\", \"Sample Point\": \"R6.Ratio\", \"Ratio\": -1.60407132366886}, {\"ORF\": \"YPL220W\", \"Sample Point\": \"R7.Ratio\", \"Ratio\": -2.76765479823735}, {\"ORF\": \"YLR258W\", \"Sample Point\": \"R1.Ratio\", \"Ratio\": 0.104697378666693}, {\"ORF\": \"YLR258W\", \"Sample Point\": \"R2.Ratio\", \"Ratio\": 0.434402824145775}, {\"ORF\": \"YLR258W\", \"Sample Point\": \"R3.Ratio\", \"Ratio\": 0.454031630894707}, {\"ORF\": \"YLR258W\", \"Sample Point\": \"R4.Ratio\", \"Ratio\": 1.88896868761126}, {\"ORF\": \"YLR258W\", \"Sample Point\": \"R5.Ratio\", \"Ratio\": 2.0}, {\"ORF\": \"YLR258W\", \"Sample Point\": \"R6.Ratio\", \"Ratio\": 3.32192809488736}, {\"ORF\": \"YLR258W\", \"Sample Point\": \"R7.Ratio\", \"Ratio\": 2.55639334852439}, {\"ORF\": \"YGL102C\", \"Sample Point\": \"R1.Ratio\", \"Ratio\": 0.0291463456595165}, {\"ORF\": \"YGL102C\", \"Sample Point\": \"R2.Ratio\", \"Ratio\": -0.0976107966264223}, {\"ORF\": \"YGL102C\", \"Sample Point\": \"R3.Ratio\", \"Ratio\": 0.168122758808327}, {\"ORF\": \"YGL102C\", \"Sample Point\": \"R4.Ratio\", \"Ratio\": 0.0}, {\"ORF\": \"YGL102C\", \"Sample Point\": \"R5.Ratio\", \"Ratio\": -0.028569152196771}, {\"ORF\": \"YGL102C\", \"Sample Point\": \"R6.Ratio\", \"Ratio\": -1.39506279951758}, {\"ORF\": \"YGL102C\", \"Sample Point\": \"R7.Ratio\", \"Ratio\": -2.55090066464752}, {\"ORF\": \"YOR312C\", \"Sample Point\": \"R1.Ratio\", \"Ratio\": 0.234465253637023}, {\"ORF\": \"YOR312C\", \"Sample Point\": \"R2.Ratio\", \"Ratio\": -0.0143552929770701}, {\"ORF\": \"YOR312C\", \"Sample Point\": \"R3.Ratio\", \"Ratio\": 0.251538766995964}, {\"ORF\": \"YOR312C\", \"Sample Point\": \"R4.Ratio\", \"Ratio\": -0.422233000683048}, {\"ORF\": \"YOR312C\", \"Sample Point\": \"R5.Ratio\", \"Ratio\": -0.454175893185802}, {\"ORF\": \"YOR312C\", \"Sample Point\": \"R6.Ratio\", \"Ratio\": -1.51601514700366}, {\"ORF\": \"YOR312C\", \"Sample Point\": \"R7.Ratio\", \"Ratio\": -2.53106949272595}, {\"ORF\": \"YLR142w\", \"Sample Point\": \"R1.Ratio\", \"Ratio\": -0.176322772640463}, {\"ORF\": \"YLR142w\", \"Sample Point\": \"R2.Ratio\", \"Ratio\": -0.464668267003444}, {\"ORF\": \"YLR142w\", \"Sample Point\": \"R3.Ratio\", \"Ratio\": -0.505890929729957}, {\"ORF\": \"YLR142w\", \"Sample Point\": \"R4.Ratio\", \"Ratio\": -0.263034405833794}, {\"ORF\": \"YLR142w\", \"Sample Point\": \"R5.Ratio\", \"Ratio\": -0.20163386116965}, {\"ORF\": \"YLR142w\", \"Sample Point\": \"R6.Ratio\", \"Ratio\": 0.514573172829758}, {\"ORF\": \"YLR142w\", \"Sample Point\": \"R7.Ratio\", \"Ratio\": 2.39592867633114}, {\"ORF\": \"YDR382W\", \"Sample Point\": \"R1.Ratio\", \"Ratio\": 0.104697378666693}, {\"ORF\": \"YDR382W\", \"Sample Point\": \"R2.Ratio\", \"Ratio\": 0.15200309344505}, {\"ORF\": \"YDR382W\", \"Sample Point\": \"R3.Ratio\", \"Ratio\": 0.104697378666693}, {\"ORF\": \"YDR382W\", \"Sample Point\": \"R4.Ratio\", \"Ratio\": 0.0588936890535686}, {\"ORF\": \"YDR382W\", \"Sample Point\": \"R5.Ratio\", \"Ratio\": 0.0439433475875972}, {\"ORF\": \"YDR382W\", \"Sample Point\": \"R6.Ratio\", \"Ratio\": -0.604071323668861}, {\"ORF\": \"YDR382W\", \"Sample Point\": \"R7.Ratio\", \"Ratio\": -2.36457243229586}, {\"ORF\": \"YDR258C\", \"Sample Point\": \"R1.Ratio\", \"Ratio\": -0.214124805352847}, {\"ORF\": \"YDR258C\", \"Sample Point\": \"R2.Ratio\", \"Ratio\": -0.0840642647884746}, {\"ORF\": \"YDR258C\", \"Sample Point\": \"R3.Ratio\", \"Ratio\": -0.263034405833794}, {\"ORF\": \"YDR258C\", \"Sample Point\": \"R4.Ratio\", \"Ratio\": 0.666576266274808}, {\"ORF\": \"YDR258C\", \"Sample Point\": \"R5.Ratio\", \"Ratio\": 0.915935735211525}, {\"ORF\": \"YDR258C\", \"Sample Point\": \"R6.Ratio\", \"Ratio\": 2.18442457113743}, {\"ORF\": \"YDR258C\", \"Sample Point\": \"R7.Ratio\", \"Ratio\": 2.47393118833241}, {\"ORF\": \"YLR325C\", \"Sample Point\": \"R1.Ratio\", \"Ratio\": 0.0439433475875972}, {\"ORF\": \"YLR325C\", \"Sample Point\": \"R2.Ratio\", \"Ratio\": 0.0144995696951152}, {\"ORF\": \"YLR325C\", \"Sample Point\": \"R3.Ratio\", \"Ratio\": 0.120294233717712}, {\"ORF\": \"YLR325C\", \"Sample Point\": \"R4.Ratio\", \"Ratio\": 0.0291463456595165}, {\"ORF\": \"YLR325C\", \"Sample Point\": \"R5.Ratio\", \"Ratio\": -0.298658315564515}, {\"ORF\": \"YLR325C\", \"Sample Point\": \"R6.Ratio\", \"Ratio\": -1.54596836910529}, {\"ORF\": \"YLR325C\", \"Sample Point\": \"R7.Ratio\", \"Ratio\": -2.59454854955035}, {\"ORF\": \"YLR449W\", \"Sample Point\": \"R1.Ratio\", \"Ratio\": -0.0426443374084937}, {\"ORF\": \"YLR449W\", \"Sample Point\": \"R2.Ratio\", \"Ratio\": -0.028569152196771}, {\"ORF\": \"YLR449W\", \"Sample Point\": \"R3.Ratio\", \"Ratio\": 0.136061549576028}, {\"ORF\": \"YLR449W\", \"Sample Point\": \"R4.Ratio\", \"Ratio\": -1.19534759832222}, {\"ORF\": \"YLR449W\", \"Sample Point\": \"R5.Ratio\", \"Ratio\": -0.970853654340484}, {\"ORF\": \"YLR449W\", \"Sample Point\": \"R6.Ratio\", \"Ratio\": -2.61353165291793}, {\"ORF\": \"YLR449W\", \"Sample Point\": \"R7.Ratio\", \"Ratio\": -2.20789285164133}, {\"ORF\": \"YMR121C\", \"Sample Point\": \"R1.Ratio\", \"Ratio\": 0.340075441597622}, {\"ORF\": \"YMR121C\", \"Sample Point\": \"R2.Ratio\", \"Ratio\": -0.0426443374084937}, {\"ORF\": \"YMR121C\", \"Sample Point\": \"R3.Ratio\", \"Ratio\": 0.340075441597622}, {\"ORF\": \"YMR121C\", \"Sample Point\": \"R4.Ratio\", \"Ratio\": 0.321928094887362}, {\"ORF\": \"YMR121C\", \"Sample Point\": \"R5.Ratio\", \"Ratio\": -0.111031312388744}, {\"ORF\": \"YMR121C\", \"Sample Point\": \"R6.Ratio\", \"Ratio\": -1.36176835941915}, {\"ORF\": \"YMR121C\", \"Sample Point\": \"R7.Ratio\", \"Ratio\": -2.4594316186373}, {\"ORF\": \"YGR244C\", \"Sample Point\": \"R1.Ratio\", \"Ratio\": 0.0439433475875972}, {\"ORF\": \"YGR244C\", \"Sample Point\": \"R2.Ratio\", \"Ratio\": 0.2688167584278}, {\"ORF\": \"YGR244C\", \"Sample Point\": \"R3.Ratio\", \"Ratio\": 0.761213140412884}, {\"ORF\": \"YGR244C\", \"Sample Point\": \"R4.Ratio\", \"Ratio\": 0.943416471633632}, {\"ORF\": \"YGR244C\", \"Sample Point\": \"R5.Ratio\", \"Ratio\": 1.47393118833241}, {\"ORF\": \"YGR244C\", \"Sample Point\": \"R6.Ratio\", \"Ratio\": 2.39592867633114}, {\"ORF\": \"YGR244C\", \"Sample Point\": \"R7.Ratio\", \"Ratio\": 2.05889368905357}, {\"ORF\": \"YNL200C\", \"Sample Point\": \"R1.Ratio\", \"Ratio\": -0.22650852980868}, {\"ORF\": \"YNL200C\", \"Sample Point\": \"R2.Ratio\", \"Ratio\": -0.028569152196771}, {\"ORF\": \"YNL200C\", \"Sample Point\": \"R3.Ratio\", \"Ratio\": 0.358453970912476}, {\"ORF\": \"YNL200C\", \"Sample Point\": \"R4.Ratio\", \"Ratio\": 1.25153876699596}, {\"ORF\": \"YNL200C\", \"Sample Point\": \"R5.Ratio\", \"Ratio\": 1.51457317282976}, {\"ORF\": \"YNL200C\", \"Sample Point\": \"R6.Ratio\", \"Ratio\": 3.83650126771712}, {\"ORF\": \"YNL200C\", \"Sample Point\": \"R7.Ratio\", \"Ratio\": 2.55639334852439}, {\"ORF\": \"YLL044W\", \"Sample Point\": \"R1.Ratio\", \"Ratio\": 0.286304185156641}, {\"ORF\": \"YLL044W\", \"Sample Point\": \"R2.Ratio\", \"Ratio\": 0.0144995696951152}, {\"ORF\": \"YLL044W\", \"Sample Point\": \"R3.Ratio\", \"Ratio\": -0.16349873228288}, {\"ORF\": \"YLL044W\", \"Sample Point\": \"R4.Ratio\", \"Ratio\": -0.443606651475615}, {\"ORF\": \"YLL044W\", \"Sample Point\": \"R5.Ratio\", \"Ratio\": -0.713695814843359}, {\"ORF\": \"YLL044W\", \"Sample Point\": \"R6.Ratio\", \"Ratio\": -2.09085343045111}, {\"ORF\": \"YLL044W\", \"Sample Point\": \"R7.Ratio\", \"Ratio\": -2.53356334821451}, {\"ORF\": \"YGR067C\", \"Sample Point\": \"R1.Ratio\", \"Ratio\": 0.0439433475875972}, {\"ORF\": \"YGR067C\", \"Sample Point\": \"R2.Ratio\", \"Ratio\": -0.0976107966264223}, {\"ORF\": \"YGR067C\", \"Sample Point\": \"R3.Ratio\", \"Ratio\": 0.168122758808327}, {\"ORF\": \"YGR067C\", \"Sample Point\": \"R4.Ratio\", \"Ratio\": -0.344828496997441}, {\"ORF\": \"YGR067C\", \"Sample Point\": \"R5.Ratio\", \"Ratio\": -0.37851162325373}, {\"ORF\": \"YGR067C\", \"Sample Point\": \"R6.Ratio\", \"Ratio\": 0.599462070416271}, {\"ORF\": \"YGR067C\", \"Sample Point\": \"R7.Ratio\", \"Ratio\": 2.39592867633114}, {\"ORF\": \"YBR147W\", \"Sample Point\": \"R1.Ratio\", \"Ratio\": -0.0976107966264223}, {\"ORF\": \"YBR147W\", \"Sample Point\": \"R2.Ratio\", \"Ratio\": 0.340075441597622}, {\"ORF\": \"YBR147W\", \"Sample Point\": \"R3.Ratio\", \"Ratio\": -0.028569152196771}, {\"ORF\": \"YBR147W\", \"Sample Point\": \"R4.Ratio\", \"Ratio\": 0.0740005814437768}, {\"ORF\": \"YBR147W\", \"Sample Point\": \"R5.Ratio\", \"Ratio\": 0.251538766995964}, {\"ORF\": \"YBR147W\", \"Sample Point\": \"R6.Ratio\", \"Ratio\": 3.05889368905357}, {\"ORF\": \"YBR147W\", \"Sample Point\": \"R7.Ratio\", \"Ratio\": 2.47393118833241}, {\"ORF\": \"YKL109W\", \"Sample Point\": \"R1.Ratio\", \"Ratio\": 0.234465253637023}, {\"ORF\": \"YKL109W\", \"Sample Point\": \"R2.Ratio\", \"Ratio\": 0.577766999316952}, {\"ORF\": \"YKL109W\", \"Sample Point\": \"R3.Ratio\", \"Ratio\": 1.02914634565952}, {\"ORF\": \"YKL109W\", \"Sample Point\": \"R4.Ratio\", \"Ratio\": 0.666576266274808}, {\"ORF\": \"YKL109W\", \"Sample Point\": \"R5.Ratio\", \"Ratio\": 0.62148837674627}, {\"ORF\": \"YKL109W\", \"Sample Point\": \"R6.Ratio\", \"Ratio\": 2.55639334852439}, {\"ORF\": \"YKL109W\", \"Sample Point\": \"R7.Ratio\", \"Ratio\": 3.18442457113743}, {\"ORF\": \"YGL031C\", \"Sample Point\": \"R1.Ratio\", \"Ratio\": 0.0291463456595165}, {\"ORF\": \"YGL031C\", \"Sample Point\": \"R2.Ratio\", \"Ratio\": 0.0}, {\"ORF\": \"YGL031C\", \"Sample Point\": \"R3.Ratio\", \"Ratio\": 0.0439433475875972}, {\"ORF\": \"YGL031C\", \"Sample Point\": \"R4.Ratio\", \"Ratio\": -0.137503523749935}, {\"ORF\": \"YGL031C\", \"Sample Point\": \"R5.Ratio\", \"Ratio\": 0.0}, {\"ORF\": \"YGL031C\", \"Sample Point\": \"R6.Ratio\", \"Ratio\": -0.669026765509631}, {\"ORF\": \"YGL031C\", \"Sample Point\": \"R7.Ratio\", \"Ratio\": -2.31324585178756}, {\"ORF\": \"YBL064C\", \"Sample Point\": \"R1.Ratio\", \"Ratio\": 0.377069649079823}, {\"ORF\": \"YBL064C\", \"Sample Point\": \"R2.Ratio\", \"Ratio\": 0.0439433475875972}, {\"ORF\": \"YBL064C\", \"Sample Point\": \"R3.Ratio\", \"Ratio\": 0.736965594166206}, {\"ORF\": \"YBL064C\", \"Sample Point\": \"R4.Ratio\", \"Ratio\": 0.888968687611256}, {\"ORF\": \"YBL064C\", \"Sample Point\": \"R5.Ratio\", \"Ratio\": 0.761213140412884}, {\"ORF\": \"YBL064C\", \"Sample Point\": \"R6.Ratio\", \"Ratio\": 3.47393118833241}, {\"ORF\": \"YBL064C\", \"Sample Point\": \"R7.Ratio\", \"Ratio\": 2.83650126771712}, {\"ORF\": \"YGR264C\", \"Sample Point\": \"R1.Ratio\", \"Ratio\": 0.415037499278844}, {\"ORF\": \"YGR264C\", \"Sample Point\": \"R2.Ratio\", \"Ratio\": 0.434402824145775}, {\"ORF\": \"YGR264C\", \"Sample Point\": \"R3.Ratio\", \"Ratio\": 0.0}, {\"ORF\": \"YGR264C\", \"Sample Point\": \"R4.Ratio\", \"Ratio\": -0.722466024471091}, {\"ORF\": \"YGR264C\", \"Sample Point\": \"R5.Ratio\", \"Ratio\": -0.815575428862572}, {\"ORF\": \"YGR264C\", \"Sample Point\": \"R6.Ratio\", \"Ratio\": -2.55581615506164}, {\"ORF\": \"YGR264C\", \"Sample Point\": \"R7.Ratio\", \"Ratio\": -2.08746284125034}, {\"ORF\": \"YGR214W\", \"Sample Point\": \"R1.Ratio\", \"Ratio\": 0.2688167584278}, {\"ORF\": \"YGR214W\", \"Sample Point\": \"R2.Ratio\", \"Ratio\": 0.15200309344505}, {\"ORF\": \"YGR214W\", \"Sample Point\": \"R3.Ratio\", \"Ratio\": 0.454031630894707}, {\"ORF\": \"YGR214W\", \"Sample Point\": \"R4.Ratio\", \"Ratio\": -0.36737106564853}, {\"ORF\": \"YGR214W\", \"Sample Point\": \"R5.Ratio\", \"Ratio\": -0.286881147788162}, {\"ORF\": \"YGR214W\", \"Sample Point\": \"R6.Ratio\", \"Ratio\": -1.66902676550963}, {\"ORF\": \"YGR214W\", \"Sample Point\": \"R7.Ratio\", \"Ratio\": -2.45154083301783}, {\"ORF\": \"YHL021C\", \"Sample Point\": \"R1.Ratio\", \"Ratio\": -0.443606651475615}, {\"ORF\": \"YHL021C\", \"Sample Point\": \"R2.Ratio\", \"Ratio\": 0.120294233717712}, {\"ORF\": \"YHL021C\", \"Sample Point\": \"R3.Ratio\", \"Ratio\": 0.643856189774725}, {\"ORF\": \"YHL021C\", \"Sample Point\": \"R4.Ratio\", \"Ratio\": 1.0}, {\"ORF\": \"YHL021C\", \"Sample Point\": \"R5.Ratio\", \"Ratio\": 0.785875194647153}, {\"ORF\": \"YHL021C\", \"Sample Point\": \"R6.Ratio\", \"Ratio\": 2.94341647163363}, {\"ORF\": \"YHL021C\", \"Sample Point\": \"R7.Ratio\", \"Ratio\": 2.47393118833241}, {\"ORF\": \"YJL045W\", \"Sample Point\": \"R1.Ratio\", \"Ratio\": -0.333423733725192}, {\"ORF\": \"YJL045W\", \"Sample Point\": \"R2.Ratio\", \"Ratio\": -0.189033824390017}, {\"ORF\": \"YJL045W\", \"Sample Point\": \"R3.Ratio\", \"Ratio\": 0.415037499278844}, {\"ORF\": \"YJL045W\", \"Sample Point\": \"R4.Ratio\", \"Ratio\": -0.0840642647884746}, {\"ORF\": \"YJL045W\", \"Sample Point\": \"R5.Ratio\", \"Ratio\": -0.485426827170242}, {\"ORF\": \"YJL045W\", \"Sample Point\": \"R6.Ratio\", \"Ratio\": 1.0}, {\"ORF\": \"YJL045W\", \"Sample Point\": \"R7.Ratio\", \"Ratio\": 2.32192809488736}, {\"ORF\": \"YOR065W\", \"Sample Point\": \"R1.Ratio\", \"Ratio\": 0.168122758808327}, {\"ORF\": \"YOR065W\", \"Sample Point\": \"R2.Ratio\", \"Ratio\": 0.104697378666693}, {\"ORF\": \"YOR065W\", \"Sample Point\": \"R3.Ratio\", \"Ratio\": 0.321928094887362}, {\"ORF\": \"YOR065W\", \"Sample Point\": \"R4.Ratio\", \"Ratio\": 0.286304185156641}, {\"ORF\": \"YOR065W\", \"Sample Point\": \"R5.Ratio\", \"Ratio\": 0.943416471633632}, {\"ORF\": \"YOR065W\", \"Sample Point\": \"R6.Ratio\", \"Ratio\": 1.68965987938785}, {\"ORF\": \"YOR065W\", \"Sample Point\": \"R7.Ratio\", \"Ratio\": 2.39592867633114}, {\"ORF\": \"YDR418W\", \"Sample Point\": \"R1.Ratio\", \"Ratio\": 0.200912693925996}, {\"ORF\": \"YDR418W\", \"Sample Point\": \"R2.Ratio\", \"Ratio\": 0.168122758808327}, {\"ORF\": \"YDR418W\", \"Sample Point\": \"R3.Ratio\", \"Ratio\": 0.286304185156641}, {\"ORF\": \"YDR418W\", \"Sample Point\": \"R4.Ratio\", \"Ratio\": -0.20163386116965}, {\"ORF\": \"YDR418W\", \"Sample Point\": \"R5.Ratio\", \"Ratio\": -0.20163386116965}, {\"ORF\": \"YDR418W\", \"Sample Point\": \"R6.Ratio\", \"Ratio\": -1.75274859140713}, {\"ORF\": \"YDR418W\", \"Sample Point\": \"R7.Ratio\", \"Ratio\": -2.99638874644762}, {\"ORF\": \"YOL040C\", \"Sample Point\": \"R1.Ratio\", \"Ratio\": 0.104697378666693}, {\"ORF\": \"YOL040C\", \"Sample Point\": \"R2.Ratio\", \"Ratio\": 0.0588936890535686}, {\"ORF\": \"YOL040C\", \"Sample Point\": \"R3.Ratio\", \"Ratio\": -0.137503523749935}, {\"ORF\": \"YOL040C\", \"Sample Point\": \"R4.Ratio\", \"Ratio\": -0.411426245726465}, {\"ORF\": \"YOL040C\", \"Sample Point\": \"R5.Ratio\", \"Ratio\": -0.55581615506164}, {\"ORF\": \"YOL040C\", \"Sample Point\": \"R6.Ratio\", \"Ratio\": -1.53106949272595}, {\"ORF\": \"YOL040C\", \"Sample Point\": \"R7.Ratio\", \"Ratio\": -2.65535182861255}, {\"ORF\": \"YMR105C\", \"Sample Point\": \"R1.Ratio\", \"Ratio\": 0.136061549576028}, {\"ORF\": \"YMR105C\", \"Sample Point\": \"R2.Ratio\", \"Ratio\": 0.535331732996556}, {\"ORF\": \"YMR105C\", \"Sample Point\": \"R3.Ratio\", \"Ratio\": 0.713118852211838}, {\"ORF\": \"YMR105C\", \"Sample Point\": \"R4.Ratio\", \"Ratio\": 1.73696559416621}, {\"ORF\": \"YMR105C\", \"Sample Point\": \"R5.Ratio\", \"Ratio\": 1.47393118833241}, {\"ORF\": \"YMR105C\", \"Sample Point\": \"R6.Ratio\", \"Ratio\": 3.18442457113743}, {\"ORF\": \"YMR105C\", \"Sample Point\": \"R7.Ratio\", \"Ratio\": 2.64385618977472}, {\"ORF\": \"YDR417C\", \"Sample Point\": \"R1.Ratio\", \"Ratio\": 0.321928094887362}, {\"ORF\": \"YDR417C\", \"Sample Point\": \"R2.Ratio\", \"Ratio\": 0.120294233717712}, {\"ORF\": \"YDR417C\", \"Sample Point\": \"R3.Ratio\", \"Ratio\": 0.0892673380970873}, {\"ORF\": \"YDR417C\", \"Sample Point\": \"R4.Ratio\", \"Ratio\": -0.344828496997441}, {\"ORF\": \"YDR417C\", \"Sample Point\": \"R5.Ratio\", \"Ratio\": -0.250961573533219}, {\"ORF\": \"YDR417C\", \"Sample Point\": \"R6.Ratio\", \"Ratio\": -1.64616265715789}, {\"ORF\": \"YDR417C\", \"Sample Point\": \"R7.Ratio\", \"Ratio\": -2.54596836910529}, {\"ORF\": \"YDR342C\", \"Sample Point\": \"R1.Ratio\", \"Ratio\": 0.184424571137428}, {\"ORF\": \"YDR342C\", \"Sample Point\": \"R2.Ratio\", \"Ratio\": 0.434402824145775}, {\"ORF\": \"YDR342C\", \"Sample Point\": \"R3.Ratio\", \"Ratio\": 0.943416471633632}, {\"ORF\": \"YDR342C\", \"Sample Point\": \"R4.Ratio\", \"Ratio\": 1.51457317282976}, {\"ORF\": \"YDR342C\", \"Sample Point\": \"R5.Ratio\", \"Ratio\": 1.64385618977472}, {\"ORF\": \"YDR342C\", \"Sample Point\": \"R6.Ratio\", \"Ratio\": 2.32192809488736}, {\"ORF\": \"YDR342C\", \"Sample Point\": \"R7.Ratio\", \"Ratio\": 1.59946207041627}, {\"ORF\": \"YKL085W\", \"Sample Point\": \"R1.Ratio\", \"Ratio\": 0.0439433475875972}, {\"ORF\": \"YKL085W\", \"Sample Point\": \"R2.Ratio\", \"Ratio\": 0.0144995696951152}, {\"ORF\": \"YKL085W\", \"Sample Point\": \"R3.Ratio\", \"Ratio\": 0.286304185156641}, {\"ORF\": \"YKL085W\", \"Sample Point\": \"R4.Ratio\", \"Ratio\": 0.915935735211525}, {\"ORF\": \"YKL085W\", \"Sample Point\": \"R5.Ratio\", \"Ratio\": 1.35845397091248}, {\"ORF\": \"YKL085W\", \"Sample Point\": \"R6.Ratio\", \"Ratio\": 2.83650126771712}, {\"ORF\": \"YKL085W\", \"Sample Point\": \"R7.Ratio\", \"Ratio\": 2.55639334852439}, {\"ORF\": \"YLR249W\", \"Sample Point\": \"R1.Ratio\", \"Ratio\": 0.0588936890535686}, {\"ORF\": \"YLR249W\", \"Sample Point\": \"R2.Ratio\", \"Ratio\": 0.0291463456595165}, {\"ORF\": \"YLR249W\", \"Sample Point\": \"R3.Ratio\", \"Ratio\": 0.120294233717712}, {\"ORF\": \"YLR249W\", \"Sample Point\": \"R4.Ratio\", \"Ratio\": -0.765534746362977}, {\"ORF\": \"YLR249W\", \"Sample Point\": \"R5.Ratio\", \"Ratio\": -0.0565835283663676}, {\"ORF\": \"YLR249W\", \"Sample Point\": \"R6.Ratio\", \"Ratio\": -1.47508488294878}, {\"ORF\": \"YLR249W\", \"Sample Point\": \"R7.Ratio\", \"Ratio\": -2.76128527336162}, {\"ORF\": \"YBR048W\", \"Sample Point\": \"R1.Ratio\", \"Ratio\": 0.120294233717712}, {\"ORF\": \"YBR048W\", \"Sample Point\": \"R2.Ratio\", \"Ratio\": 0.200912693925996}, {\"ORF\": \"YBR048W\", \"Sample Point\": \"R3.Ratio\", \"Ratio\": 0.0740005814437768}, {\"ORF\": \"YBR048W\", \"Sample Point\": \"R4.Ratio\", \"Ratio\": -0.411426245726465}, {\"ORF\": \"YBR048W\", \"Sample Point\": \"R5.Ratio\", \"Ratio\": -0.992768430768924}, {\"ORF\": \"YBR048W\", \"Sample Point\": \"R6.Ratio\", \"Ratio\": -1.51601514700366}, {\"ORF\": \"YBR048W\", \"Sample Point\": \"R7.Ratio\", \"Ratio\": -2.48026512205446}, {\"ORF\": \"YLR356W\", \"Sample Point\": \"R1.Ratio\", \"Ratio\": -0.111031312388744}, {\"ORF\": \"YLR356W\", \"Sample Point\": \"R2.Ratio\", \"Ratio\": 0.599462070416271}, {\"ORF\": \"YLR356W\", \"Sample Point\": \"R3.Ratio\", \"Ratio\": 0.535331732996556}, {\"ORF\": \"YLR356W\", \"Sample Point\": \"R4.Ratio\", \"Ratio\": 0.862496476250065}, {\"ORF\": \"YLR356W\", \"Sample Point\": \"R5.Ratio\", \"Ratio\": 0.810966175609983}, {\"ORF\": \"YLR356W\", \"Sample Point\": \"R6.Ratio\", \"Ratio\": 2.83650126771712}, {\"ORF\": \"YLR356W\", \"Sample Point\": \"R7.Ratio\", \"Ratio\": 1.88896868761126}, {\"ORF\": \"YHR128W\", \"Sample Point\": \"R1.Ratio\", \"Ratio\": 0.234465253637023}, {\"ORF\": \"YHR128W\", \"Sample Point\": \"R2.Ratio\", \"Ratio\": 0.0740005814437768}, {\"ORF\": \"YHR128W\", \"Sample Point\": \"R3.Ratio\", \"Ratio\": 0.234465253637023}, {\"ORF\": \"YHR128W\", \"Sample Point\": \"R4.Ratio\", \"Ratio\": -0.713695814843359}, {\"ORF\": \"YHR128W\", \"Sample Point\": \"R5.Ratio\", \"Ratio\": -0.669026765509631}, {\"ORF\": \"YHR128W\", \"Sample Point\": \"R6.Ratio\", \"Ratio\": -1.87184364850932}, {\"ORF\": \"YHR128W\", \"Sample Point\": \"R7.Ratio\", \"Ratio\": -2.34482849699744}, {\"ORF\": \"YMR131C\", \"Sample Point\": \"R1.Ratio\", \"Ratio\": 0.217591435072627}, {\"ORF\": \"YMR131C\", \"Sample Point\": \"R2.Ratio\", \"Ratio\": 0.104697378666693}, {\"ORF\": \"YMR131C\", \"Sample Point\": \"R3.Ratio\", \"Ratio\": 0.321928094887362}, {\"ORF\": \"YMR131C\", \"Sample Point\": \"R4.Ratio\", \"Ratio\": -0.411426245726465}, {\"ORF\": \"YMR131C\", \"Sample Point\": \"R5.Ratio\", \"Ratio\": -0.831877241191673}, {\"ORF\": \"YMR131C\", \"Sample Point\": \"R6.Ratio\", \"Ratio\": -1.33342373372519}, {\"ORF\": \"YMR131C\", \"Sample Point\": \"R7.Ratio\", \"Ratio\": -2.59693514238723}, {\"ORF\": \"YFR053C\", \"Sample Point\": \"R1.Ratio\", \"Ratio\": 0.184424571137428}, {\"ORF\": \"YFR053C\", \"Sample Point\": \"R2.Ratio\", \"Ratio\": 0.321928094887362}, {\"ORF\": \"YFR053C\", \"Sample Point\": \"R3.Ratio\", \"Ratio\": 0.395928676331139}, {\"ORF\": \"YFR053C\", \"Sample Point\": \"R4.Ratio\", \"Ratio\": 1.0}, {\"ORF\": \"YFR053C\", \"Sample Point\": \"R5.Ratio\", \"Ratio\": 1.47393118833241}, {\"ORF\": \"YFR053C\", \"Sample Point\": \"R6.Ratio\", \"Ratio\": 2.55639334852439}, {\"ORF\": \"YFR053C\", \"Sample Point\": \"R7.Ratio\", \"Ratio\": 0.377069649079823}, {\"ORF\": \"YBL043W\", \"Sample Point\": \"R1.Ratio\", \"Ratio\": -0.516015147003665}, {\"ORF\": \"YBL043W\", \"Sample Point\": \"R2.Ratio\", \"Ratio\": 0.0740005814437768}, {\"ORF\": \"YBL043W\", \"Sample Point\": \"R3.Ratio\", \"Ratio\": 0.0}, {\"ORF\": \"YBL043W\", \"Sample Point\": \"R4.Ratio\", \"Ratio\": -0.214124805352847}, {\"ORF\": \"YBL043W\", \"Sample Point\": \"R5.Ratio\", \"Ratio\": -0.53605290024021}, {\"ORF\": \"YBL043W\", \"Sample Point\": \"R6.Ratio\", \"Ratio\": 1.94341647163363}, {\"ORF\": \"YBL043W\", \"Sample Point\": \"R7.Ratio\", \"Ratio\": 2.32192809488736}, {\"ORF\": \"YNL119W\", \"Sample Point\": \"R1.Ratio\", \"Ratio\": 0.136061549576028}, {\"ORF\": \"YNL119W\", \"Sample Point\": \"R2.Ratio\", \"Ratio\": -0.028569152196771}, {\"ORF\": \"YNL119W\", \"Sample Point\": \"R3.Ratio\", \"Ratio\": 0.3040061868901}, {\"ORF\": \"YNL119W\", \"Sample Point\": \"R4.Ratio\", \"Ratio\": -0.214124805352847}, {\"ORF\": \"YNL119W\", \"Sample Point\": \"R5.Ratio\", \"Ratio\": -0.20163386116965}, {\"ORF\": \"YNL119W\", \"Sample Point\": \"R6.Ratio\", \"Ratio\": -1.15704371014558}, {\"ORF\": \"YNL119W\", \"Sample Point\": \"R7.Ratio\", \"Ratio\": -2.79701297783614}, {\"ORF\": \"YMR250W\", \"Sample Point\": \"R1.Ratio\", \"Ratio\": -0.0840642647884746}, {\"ORF\": \"YMR250W\", \"Sample Point\": \"R2.Ratio\", \"Ratio\": 0.473931188332412}, {\"ORF\": \"YMR250W\", \"Sample Point\": \"R3.Ratio\", \"Ratio\": 1.02914634565952}, {\"ORF\": \"YMR250W\", \"Sample Point\": \"R4.Ratio\", \"Ratio\": 1.78587519464715}, {\"ORF\": \"YMR250W\", \"Sample Point\": \"R5.Ratio\", \"Ratio\": 2.12029423371771}, {\"ORF\": \"YMR250W\", \"Sample Point\": \"R6.Ratio\", \"Ratio\": 3.05889368905357}, {\"ORF\": \"YMR250W\", \"Sample Point\": \"R7.Ratio\", \"Ratio\": 3.18442457113743}, {\"ORF\": \"YKL142W\", \"Sample Point\": \"R1.Ratio\", \"Ratio\": -0.070389327891398}, {\"ORF\": \"YKL142W\", \"Sample Point\": \"R2.Ratio\", \"Ratio\": 0.217591435072627}, {\"ORF\": \"YKL142W\", \"Sample Point\": \"R3.Ratio\", \"Ratio\": 0.234465253637023}, {\"ORF\": \"YKL142W\", \"Sample Point\": \"R4.Ratio\", \"Ratio\": 0.494109070270043}, {\"ORF\": \"YKL142W\", \"Sample Point\": \"R5.Ratio\", \"Ratio\": 1.02914634565952}, {\"ORF\": \"YKL142W\", \"Sample Point\": \"R6.Ratio\", \"Ratio\": 2.47393118833241}, {\"ORF\": \"YKL142W\", \"Sample Point\": \"R7.Ratio\", \"Ratio\": 1.15200309344505}, {\"ORF\": \"YGR043C\", \"Sample Point\": \"R1.Ratio\", \"Ratio\": -0.432959407276106}, {\"ORF\": \"YGR043C\", \"Sample Point\": \"R2.Ratio\", \"Ratio\": -0.7311832415722}, {\"ORF\": \"YGR043C\", \"Sample Point\": \"R3.Ratio\", \"Ratio\": -0.0565835283663676}, {\"ORF\": \"YGR043C\", \"Sample Point\": \"R4.Ratio\", \"Ratio\": -0.111031312388744}, {\"ORF\": \"YGR043C\", \"Sample Point\": \"R5.Ratio\", \"Ratio\": -0.16349873228288}, {\"ORF\": \"YGR043C\", \"Sample Point\": \"R6.Ratio\", \"Ratio\": 3.47393118833241}, {\"ORF\": \"YGR043C\", \"Sample Point\": \"R7.Ratio\", \"Ratio\": 2.64385618977472}, {\"ORF\": \"YBR117C\", \"Sample Point\": \"R1.Ratio\", \"Ratio\": 0.358453970912476}, {\"ORF\": \"YBR117C\", \"Sample Point\": \"R2.Ratio\", \"Ratio\": 0.643856189774725}, {\"ORF\": \"YBR117C\", \"Sample Point\": \"R3.Ratio\", \"Ratio\": 0.68965987938785}, {\"ORF\": \"YBR117C\", \"Sample Point\": \"R4.Ratio\", \"Ratio\": 0.0439433475875972}, {\"ORF\": \"YBR117C\", \"Sample Point\": \"R5.Ratio\", \"Ratio\": -0.27500704749987}, {\"ORF\": \"YBR117C\", \"Sample Point\": \"R6.Ratio\", \"Ratio\": 1.64385618977472}, {\"ORF\": \"YBR117C\", \"Sample Point\": \"R7.Ratio\", \"Ratio\": 2.47393118833241}, {\"ORF\": \"YNR053C\", \"Sample Point\": \"R1.Ratio\", \"Ratio\": 0.200912693925996}, {\"ORF\": \"YNR053C\", \"Sample Point\": \"R2.Ratio\", \"Ratio\": 0.415037499278844}, {\"ORF\": \"YNR053C\", \"Sample Point\": \"R3.Ratio\", \"Ratio\": 0.286304185156641}, {\"ORF\": \"YNR053C\", \"Sample Point\": \"R4.Ratio\", \"Ratio\": -0.495695162624069}, {\"ORF\": \"YNR053C\", \"Sample Point\": \"R5.Ratio\", \"Ratio\": -0.594548549550354}, {\"ORF\": \"YNR053C\", \"Sample Point\": \"R6.Ratio\", \"Ratio\": -1.73984810269933}, {\"ORF\": \"YNR053C\", \"Sample Point\": \"R7.Ratio\", \"Ratio\": -2.39506279951758}, {\"ORF\": \"YHR096C\", \"Sample Point\": \"R1.Ratio\", \"Ratio\": -0.124328135002202}, {\"ORF\": \"YHR096C\", \"Sample Point\": \"R2.Ratio\", \"Ratio\": -0.0426443374084937}, {\"ORF\": \"YHR096C\", \"Sample Point\": \"R3.Ratio\", \"Ratio\": 0.666576266274808}, {\"ORF\": \"YHR096C\", \"Sample Point\": \"R4.Ratio\", \"Ratio\": 0.321928094887362}, {\"ORF\": \"YHR096C\", \"Sample Point\": \"R5.Ratio\", \"Ratio\": -0.321928094887362}, {\"ORF\": \"YHR096C\", \"Sample Point\": \"R6.Ratio\", \"Ratio\": 1.43440282414577}, {\"ORF\": \"YHR096C\", \"Sample Point\": \"R7.Ratio\", \"Ratio\": 3.05889368905357}, {\"ORF\": \"YDR529C\", \"Sample Point\": \"R1.Ratio\", \"Ratio\": 0.168122758808327}, {\"ORF\": \"YDR529C\", \"Sample Point\": \"R2.Ratio\", \"Ratio\": 0.0291463456595165}, {\"ORF\": \"YDR529C\", \"Sample Point\": \"R3.Ratio\", \"Ratio\": 0.377069649079823}, {\"ORF\": \"YDR529C\", \"Sample Point\": \"R4.Ratio\", \"Ratio\": 0.862496476250065}, {\"ORF\": \"YDR529C\", \"Sample Point\": \"R5.Ratio\", \"Ratio\": 0.810966175609983}, {\"ORF\": \"YDR529C\", \"Sample Point\": \"R6.Ratio\", \"Ratio\": 2.18442457113743}, {\"ORF\": \"YDR529C\", \"Sample Point\": \"R7.Ratio\", \"Ratio\": 2.55639334852439}, {\"ORF\": \"YBL048W\", \"Sample Point\": \"R1.Ratio\", \"Ratio\": -0.250961573533219}, {\"ORF\": \"YBL048W\", \"Sample Point\": \"R2.Ratio\", \"Ratio\": 0.104697378666693}, {\"ORF\": \"YBL048W\", \"Sample Point\": \"R3.Ratio\", \"Ratio\": -0.150559676575381}, {\"ORF\": \"YBL048W\", \"Sample Point\": \"R4.Ratio\", \"Ratio\": -0.22650852980868}, {\"ORF\": \"YBL048W\", \"Sample Point\": \"R5.Ratio\", \"Ratio\": -0.356143810225275}, {\"ORF\": \"YBL048W\", \"Sample Point\": \"R6.Ratio\", \"Ratio\": 2.55639334852439}, {\"ORF\": \"YBL048W\", \"Sample Point\": \"R7.Ratio\", \"Ratio\": 2.18442457113743}, {\"ORF\": \"YJL136C\", \"Sample Point\": \"R1.Ratio\", \"Ratio\": 0.184424571137428}, {\"ORF\": \"YJL136C\", \"Sample Point\": \"R2.Ratio\", \"Ratio\": -0.0840642647884746}, {\"ORF\": \"YJL136C\", \"Sample Point\": \"R3.Ratio\", \"Ratio\": 0.340075441597622}, {\"ORF\": \"YJL136C\", \"Sample Point\": \"R4.Ratio\", \"Ratio\": -0.070389327891398}, {\"ORF\": \"YJL136C\", \"Sample Point\": \"R5.Ratio\", \"Ratio\": -0.475084882948783}, {\"ORF\": \"YJL136C\", \"Sample Point\": \"R6.Ratio\", \"Ratio\": -1.46466826700344}, {\"ORF\": \"YJL136C\", \"Sample Point\": \"R7.Ratio\", \"Ratio\": -2.35895882583233}, {\"ORF\": \"YNL065W\", \"Sample Point\": \"R1.Ratio\", \"Ratio\": 0.0}, {\"ORF\": \"YNL065W\", \"Sample Point\": \"R2.Ratio\", \"Ratio\": 0.286304185156641}, {\"ORF\": \"YNL065W\", \"Sample Point\": \"R3.Ratio\", \"Ratio\": -0.214124805352847}, {\"ORF\": \"YNL065W\", \"Sample Point\": \"R4.Ratio\", \"Ratio\": -0.992768430768924}, {\"ORF\": \"YNL065W\", \"Sample Point\": \"R5.Ratio\", \"Ratio\": -0.214124805352847}, {\"ORF\": \"YNL065W\", \"Sample Point\": \"R6.Ratio\", \"Ratio\": -2.19219416528334}, {\"ORF\": \"YNL065W\", \"Sample Point\": \"R7.Ratio\", \"Ratio\": -2.39780296186249}, {\"ORF\": \"YJL177W\", \"Sample Point\": \"R1.Ratio\", \"Ratio\": 0.340075441597622}, {\"ORF\": \"YJL177W\", \"Sample Point\": \"R2.Ratio\", \"Ratio\": 0.136061549576028}, {\"ORF\": \"YJL177W\", \"Sample Point\": \"R3.Ratio\", \"Ratio\": 0.136061549576028}, {\"ORF\": \"YJL177W\", \"Sample Point\": \"R4.Ratio\", \"Ratio\": -0.422233000683048}, {\"ORF\": \"YJL177W\", \"Sample Point\": \"R5.Ratio\", \"Ratio\": -0.622930350920177}, {\"ORF\": \"YJL177W\", \"Sample Point\": \"R6.Ratio\", \"Ratio\": -1.93357263826102}, {\"ORF\": \"YJL177W\", \"Sample Point\": \"R7.Ratio\", \"Ratio\": -2.38956681176273}, {\"ORF\": \"YOR310C\", \"Sample Point\": \"R1.Ratio\", \"Ratio\": 0.15200309344505}, {\"ORF\": \"YOR310C\", \"Sample Point\": \"R2.Ratio\", \"Ratio\": -0.0143552929770701}, {\"ORF\": \"YOR310C\", \"Sample Point\": \"R3.Ratio\", \"Ratio\": 0.340075441597622}, {\"ORF\": \"YOR310C\", \"Sample Point\": \"R4.Ratio\", \"Ratio\": -0.604071323668861}, {\"ORF\": \"YOR310C\", \"Sample Point\": \"R5.Ratio\", \"Ratio\": -0.641546029087524}, {\"ORF\": \"YOR310C\", \"Sample Point\": \"R6.Ratio\", \"Ratio\": -1.81966818349646}, {\"ORF\": \"YOR310C\", \"Sample Point\": \"R7.Ratio\", \"Ratio\": -3.09592441999854}, {\"ORF\": \"YNL173C\", \"Sample Point\": \"R1.Ratio\", \"Ratio\": -0.070389327891398}, {\"ORF\": \"YNL173C\", \"Sample Point\": \"R2.Ratio\", \"Ratio\": -0.250961573533219}, {\"ORF\": \"YNL173C\", \"Sample Point\": \"R3.Ratio\", \"Ratio\": 0.104697378666693}, {\"ORF\": \"YNL173C\", \"Sample Point\": \"R4.Ratio\", \"Ratio\": 0.862496476250065}, {\"ORF\": \"YNL173C\", \"Sample Point\": \"R5.Ratio\", \"Ratio\": 0.785875194647153}, {\"ORF\": \"YNL173C\", \"Sample Point\": \"R6.Ratio\", \"Ratio\": 2.64385618977472}, {\"ORF\": \"YNL173C\", \"Sample Point\": \"R7.Ratio\", \"Ratio\": 1.68965987938785}, {\"ORF\": \"YNL002C\", \"Sample Point\": \"R1.Ratio\", \"Ratio\": -0.0976107966264223}, {\"ORF\": \"YNL002C\", \"Sample Point\": \"R2.Ratio\", \"Ratio\": -0.36737106564853}, {\"ORF\": \"YNL002C\", \"Sample Point\": \"R3.Ratio\", \"Ratio\": -0.250961573533219}, {\"ORF\": \"YNL002C\", \"Sample Point\": \"R4.Ratio\", \"Ratio\": -1.18269229751619}, {\"ORF\": \"YNL002C\", \"Sample Point\": \"R5.Ratio\", \"Ratio\": -0.871843648509318}, {\"ORF\": \"YNL002C\", \"Sample Point\": \"R6.Ratio\", \"Ratio\": -2.8011586560937}, {\"ORF\": \"YNL002C\", \"Sample Point\": \"R7.Ratio\", \"Ratio\": -2.38956681176273}, {\"ORF\": \"YHR089C\", \"Sample Point\": \"R1.Ratio\", \"Ratio\": -0.20163386116965}, {\"ORF\": \"YHR089C\", \"Sample Point\": \"R2.Ratio\", \"Ratio\": -0.333423733725192}, {\"ORF\": \"YHR089C\", \"Sample Point\": \"R3.Ratio\", \"Ratio\": -0.137503523749935}, {\"ORF\": \"YHR089C\", \"Sample Point\": \"R4.Ratio\", \"Ratio\": -0.713695814843359}, {\"ORF\": \"YHR089C\", \"Sample Point\": \"R5.Ratio\", \"Ratio\": -0.464668267003444}, {\"ORF\": \"YHR089C\", \"Sample Point\": \"R6.Ratio\", \"Ratio\": -2.16992500144231}, {\"ORF\": \"YHR089C\", \"Sample Point\": \"R7.Ratio\", \"Ratio\": -2.63459326844576}, {\"ORF\": \"YHL015W\", \"Sample Point\": \"R1.Ratio\", \"Ratio\": 0.168122758808327}, {\"ORF\": \"YHL015W\", \"Sample Point\": \"R2.Ratio\", \"Ratio\": 0.321928094887362}, {\"ORF\": \"YHL015W\", \"Sample Point\": \"R3.Ratio\", \"Ratio\": 0.104697378666693}, {\"ORF\": \"YHL015W\", \"Sample Point\": \"R4.Ratio\", \"Ratio\": -0.0840642647884746}, {\"ORF\": \"YHL015W\", \"Sample Point\": \"R5.Ratio\", \"Ratio\": -0.176322772640463}, {\"ORF\": \"YHL015W\", \"Sample Point\": \"R6.Ratio\", \"Ratio\": -1.80322703643493}, {\"ORF\": \"YHL015W\", \"Sample Point\": \"R7.Ratio\", \"Ratio\": -2.85598969730848}, {\"ORF\": \"YBL015W\", \"Sample Point\": \"R1.Ratio\", \"Ratio\": -0.111031312388744}, {\"ORF\": \"YBL015W\", \"Sample Point\": \"R2.Ratio\", \"Ratio\": 0.0588936890535686}, {\"ORF\": \"YBL015W\", \"Sample Point\": \"R3.Ratio\", \"Ratio\": 0.0144995696951152}, {\"ORF\": \"YBL015W\", \"Sample Point\": \"R4.Ratio\", \"Ratio\": 0.104697378666693}, {\"ORF\": \"YBL015W\", \"Sample Point\": \"R5.Ratio\", \"Ratio\": 0.3040061868901}, {\"ORF\": \"YBL015W\", \"Sample Point\": \"R6.Ratio\", \"Ratio\": 2.73696559416621}, {\"ORF\": \"YBL015W\", \"Sample Point\": \"R7.Ratio\", \"Ratio\": 3.32192809488736}, {\"ORF\": \"YLR327C\", \"Sample Point\": \"R1.Ratio\", \"Ratio\": -0.189033824390017}, {\"ORF\": \"YLR327C\", \"Sample Point\": \"R2.Ratio\", \"Ratio\": -0.333423733725192}, {\"ORF\": \"YLR327C\", \"Sample Point\": \"R3.Ratio\", \"Ratio\": 0.0892673380970873}, {\"ORF\": \"YLR327C\", \"Sample Point\": \"R4.Ratio\", \"Ratio\": 0.915935735211525}, {\"ORF\": \"YLR327C\", \"Sample Point\": \"R5.Ratio\", \"Ratio\": 1.08926733809709}, {\"ORF\": \"YLR327C\", \"Sample Point\": \"R6.Ratio\", \"Ratio\": 3.32192809488736}, {\"ORF\": \"YLR327C\", \"Sample Point\": \"R7.Ratio\", \"Ratio\": 2.64385618977472}, {\"ORF\": \"YBR238C\", \"Sample Point\": \"R1.Ratio\", \"Ratio\": 0.15200309344505}, {\"ORF\": \"YBR238C\", \"Sample Point\": \"R2.Ratio\", \"Ratio\": 0.943416471633632}, {\"ORF\": \"YBR238C\", \"Sample Point\": \"R3.Ratio\", \"Ratio\": 0.377069649079823}, {\"ORF\": \"YBR238C\", \"Sample Point\": \"R4.Ratio\", \"Ratio\": -0.782408564927373}, {\"ORF\": \"YBR238C\", \"Sample Point\": \"R5.Ratio\", \"Ratio\": -0.978195629681652}, {\"ORF\": \"YBR238C\", \"Sample Point\": \"R6.Ratio\", \"Ratio\": -1.50080205305716}, {\"ORF\": \"YBR238C\", \"Sample Point\": \"R7.Ratio\", \"Ratio\": -2.33913738491959}, {\"ORF\": \"YKL081W\", \"Sample Point\": \"R1.Ratio\", \"Ratio\": 0.0740005814437768}, {\"ORF\": \"YKL081W\", \"Sample Point\": \"R2.Ratio\", \"Ratio\": -0.150559676575381}, {\"ORF\": \"YKL081W\", \"Sample Point\": \"R3.Ratio\", \"Ratio\": -0.0143552929770701}, {\"ORF\": \"YKL081W\", \"Sample Point\": \"R4.Ratio\", \"Ratio\": -0.925999418556223}, {\"ORF\": \"YKL081W\", \"Sample Point\": \"R5.Ratio\", \"Ratio\": -0.722466024471091}, {\"ORF\": \"YKL081W\", \"Sample Point\": \"R6.Ratio\", \"Ratio\": -2.15704371014558}, {\"ORF\": \"YKL081W\", \"Sample Point\": \"R7.Ratio\", \"Ratio\": -2.43562859405209}, {\"ORF\": \"YGR248W\", \"Sample Point\": \"R1.Ratio\", \"Ratio\": -0.298658315564515}, {\"ORF\": \"YGR248W\", \"Sample Point\": \"R2.Ratio\", \"Ratio\": -0.389566811762726}, {\"ORF\": \"YGR248W\", \"Sample Point\": \"R3.Ratio\", \"Ratio\": 0.434402824145775}, {\"ORF\": \"YGR248W\", \"Sample Point\": \"R4.Ratio\", \"Ratio\": 0.666576266274808}, {\"ORF\": \"YGR248W\", \"Sample Point\": \"R5.Ratio\", \"Ratio\": 1.39592867633114}, {\"ORF\": \"YGR248W\", \"Sample Point\": \"R6.Ratio\", \"Ratio\": 4.05889368905357}, {\"ORF\": \"YGR248W\", \"Sample Point\": \"R7.Ratio\", \"Ratio\": 2.47393118833241}, {\"ORF\": \"YPR149W\", \"Sample Point\": \"R1.Ratio\", \"Ratio\": 0.15200309344505}, {\"ORF\": \"YPR149W\", \"Sample Point\": \"R2.Ratio\", \"Ratio\": 0.120294233717712}, {\"ORF\": \"YPR149W\", \"Sample Point\": \"R3.Ratio\", \"Ratio\": 0.395928676331139}, {\"ORF\": \"YPR149W\", \"Sample Point\": \"R4.Ratio\", \"Ratio\": 0.810966175609983}, {\"ORF\": \"YPR149W\", \"Sample Point\": \"R5.Ratio\", \"Ratio\": 0.915935735211525}, {\"ORF\": \"YPR149W\", \"Sample Point\": \"R6.Ratio\", \"Ratio\": 2.05889368905357}, {\"ORF\": \"YPR149W\", \"Sample Point\": \"R7.Ratio\", \"Ratio\": 2.32192809488736}, {\"ORF\": \"YCR010C\", \"Sample Point\": \"R1.Ratio\", \"Ratio\": -0.485426827170242}, {\"ORF\": \"YCR010C\", \"Sample Point\": \"R2.Ratio\", \"Ratio\": -0.36737106564853}, {\"ORF\": \"YCR010C\", \"Sample Point\": \"R3.Ratio\", \"Ratio\": 0.234465253637023}, {\"ORF\": \"YCR010C\", \"Sample Point\": \"R4.Ratio\", \"Ratio\": -0.36737106564853}, {\"ORF\": \"YCR010C\", \"Sample Point\": \"R5.Ratio\", \"Ratio\": -0.422233000683048}, {\"ORF\": \"YCR010C\", \"Sample Point\": \"R6.Ratio\", \"Ratio\": 0.535331732996556}, {\"ORF\": \"YCR010C\", \"Sample Point\": \"R7.Ratio\", \"Ratio\": 2.64385618977472}, {\"ORF\": \"YLR340W\", \"Sample Point\": \"R1.Ratio\", \"Ratio\": 0.200912693925996}, {\"ORF\": \"YLR340W\", \"Sample Point\": \"R2.Ratio\", \"Ratio\": 0.321928094887362}, {\"ORF\": \"YLR340W\", \"Sample Point\": \"R3.Ratio\", \"Ratio\": 0.473931188332412}, {\"ORF\": \"YLR340W\", \"Sample Point\": \"R4.Ratio\", \"Ratio\": -0.0840642647884746}, {\"ORF\": \"YLR340W\", \"Sample Point\": \"R5.Ratio\", \"Ratio\": -0.443606651475615}, {\"ORF\": \"YLR340W\", \"Sample Point\": \"R6.Ratio\", \"Ratio\": -1.8073549220576}, {\"ORF\": \"YLR340W\", \"Sample Point\": \"R7.Ratio\", \"Ratio\": -2.77610398807316}, {\"ORF\": \"YDL215C\", \"Sample Point\": \"R1.Ratio\", \"Ratio\": -0.070389327891398}, {\"ORF\": \"YDL215C\", \"Sample Point\": \"R2.Ratio\", \"Ratio\": 0.0439433475875972}, {\"ORF\": \"YDL215C\", \"Sample Point\": \"R3.Ratio\", \"Ratio\": 0.0439433475875972}, {\"ORF\": \"YDL215C\", \"Sample Point\": \"R4.Ratio\", \"Ratio\": -0.464668267003444}, {\"ORF\": \"YDL215C\", \"Sample Point\": \"R5.Ratio\", \"Ratio\": -0.0565835283663676}, {\"ORF\": \"YDL215C\", \"Sample Point\": \"R6.Ratio\", \"Ratio\": 0.3040061868901}, {\"ORF\": \"YDL215C\", \"Sample Point\": \"R7.Ratio\", \"Ratio\": 2.32192809488736}, {\"ORF\": \"YKL103C\", \"Sample Point\": \"R1.Ratio\", \"Ratio\": -0.070389327891398}, {\"ORF\": \"YKL103C\", \"Sample Point\": \"R2.Ratio\", \"Ratio\": 0.377069649079823}, {\"ORF\": \"YKL103C\", \"Sample Point\": \"R3.Ratio\", \"Ratio\": 0.473931188332412}, {\"ORF\": \"YKL103C\", \"Sample Point\": \"R4.Ratio\", \"Ratio\": 0.888968687611256}, {\"ORF\": \"YKL103C\", \"Sample Point\": \"R5.Ratio\", \"Ratio\": 1.32192809488736}, {\"ORF\": \"YKL103C\", \"Sample Point\": \"R6.Ratio\", \"Ratio\": 2.39592867633114}, {\"ORF\": \"YKL103C\", \"Sample Point\": \"R7.Ratio\", \"Ratio\": 1.68965987938785}, {\"ORF\": \"YBR051W\", \"Sample Point\": \"R1.Ratio\", \"Ratio\": -0.150559676575381}, {\"ORF\": \"YBR051W\", \"Sample Point\": \"R2.Ratio\", \"Ratio\": 0.200912693925996}, {\"ORF\": \"YBR051W\", \"Sample Point\": \"R3.Ratio\", \"Ratio\": 0.0}, {\"ORF\": \"YBR051W\", \"Sample Point\": \"R4.Ratio\", \"Ratio\": -0.400537929583729}, {\"ORF\": \"YBR051W\", \"Sample Point\": \"R5.Ratio\", \"Ratio\": -0.941106310946431}, {\"ORF\": \"YBR051W\", \"Sample Point\": \"R6.Ratio\", \"Ratio\": 0.321928094887362}, {\"ORF\": \"YBR051W\", \"Sample Point\": \"R7.Ratio\", \"Ratio\": 2.64385618977472}, {\"ORF\": \"YOL084W\", \"Sample Point\": \"R1.Ratio\", \"Ratio\": -0.31034012061215}, {\"ORF\": \"YOL084W\", \"Sample Point\": \"R2.Ratio\", \"Ratio\": 0.120294233717712}, {\"ORF\": \"YOL084W\", \"Sample Point\": \"R3.Ratio\", \"Ratio\": 0.434402824145775}, {\"ORF\": \"YOL084W\", \"Sample Point\": \"R4.Ratio\", \"Ratio\": 0.0}, {\"ORF\": \"YOL084W\", \"Sample Point\": \"R5.Ratio\", \"Ratio\": -0.070389327891398}, {\"ORF\": \"YOL084W\", \"Sample Point\": \"R6.Ratio\", \"Ratio\": 1.32192809488736}, {\"ORF\": \"YOL084W\", \"Sample Point\": \"R7.Ratio\", \"Ratio\": 2.64385618977472}, {\"ORF\": \"YGL259W\", \"Sample Point\": \"R1.Ratio\", \"Ratio\": -0.137503523749935}, {\"ORF\": \"YGL259W\", \"Sample Point\": \"R2.Ratio\", \"Ratio\": -0.070389327891398}, {\"ORF\": \"YGL259W\", \"Sample Point\": \"R3.Ratio\", \"Ratio\": 0.473931188332412}, {\"ORF\": \"YGL259W\", \"Sample Point\": \"R4.Ratio\", \"Ratio\": 0.643856189774725}, {\"ORF\": \"YGL259W\", \"Sample Point\": \"R5.Ratio\", \"Ratio\": 0.377069649079823}, {\"ORF\": \"YGL259W\", \"Sample Point\": \"R6.Ratio\", \"Ratio\": 1.68965987938785}, {\"ORF\": \"YGL259W\", \"Sample Point\": \"R7.Ratio\", \"Ratio\": 2.83650126771712}, {\"ORF\": \"YDL085w\", \"Sample Point\": \"R1.Ratio\", \"Ratio\": -0.111031312388744}, {\"ORF\": \"YDL085w\", \"Sample Point\": \"R2.Ratio\", \"Ratio\": 1.0}, {\"ORF\": \"YDL085w\", \"Sample Point\": \"R3.Ratio\", \"Ratio\": 0.0588936890535686}, {\"ORF\": \"YDL085w\", \"Sample Point\": \"R4.Ratio\", \"Ratio\": -0.124328135002202}, {\"ORF\": \"YDL085w\", \"Sample Point\": \"R5.Ratio\", \"Ratio\": -0.27500704749987}, {\"ORF\": \"YDL085w\", \"Sample Point\": \"R6.Ratio\", \"Ratio\": 2.05889368905357}, {\"ORF\": \"YDL085w\", \"Sample Point\": \"R7.Ratio\", \"Ratio\": 2.83650126771712}, {\"ORF\": \"YNL015W\", \"Sample Point\": \"R1.Ratio\", \"Ratio\": -0.070389327891398}, {\"ORF\": \"YNL015W\", \"Sample Point\": \"R2.Ratio\", \"Ratio\": -0.321928094887362}, {\"ORF\": \"YNL015W\", \"Sample Point\": \"R3.Ratio\", \"Ratio\": 0.514573172829758}, {\"ORF\": \"YNL015W\", \"Sample Point\": \"R4.Ratio\", \"Ratio\": 0.810966175609983}, {\"ORF\": \"YNL015W\", \"Sample Point\": \"R5.Ratio\", \"Ratio\": 0.915935735211525}, {\"ORF\": \"YNL015W\", \"Sample Point\": \"R6.Ratio\", \"Ratio\": 3.05889368905357}, {\"ORF\": \"YNL015W\", \"Sample Point\": \"R7.Ratio\", \"Ratio\": 2.25153876699596}, {\"ORF\": \"YDR171W\", \"Sample Point\": \"R1.Ratio\", \"Ratio\": 0.0740005814437768}, {\"ORF\": \"YDR171W\", \"Sample Point\": \"R2.Ratio\", \"Ratio\": 0.136061549576028}, {\"ORF\": \"YDR171W\", \"Sample Point\": \"R3.Ratio\", \"Ratio\": 0.434402824145775}, {\"ORF\": \"YDR171W\", \"Sample Point\": \"R4.Ratio\", \"Ratio\": 0.836501267717121}, {\"ORF\": \"YDR171W\", \"Sample Point\": \"R5.Ratio\", \"Ratio\": 0.943416471633632}, {\"ORF\": \"YDR171W\", \"Sample Point\": \"R6.Ratio\", \"Ratio\": 3.64385618977472}, {\"ORF\": \"YDR171W\", \"Sample Point\": \"R7.Ratio\", \"Ratio\": 3.32192809488736}, {\"ORF\": \"YDR025W\", \"Sample Point\": \"R1.Ratio\", \"Ratio\": 0.136061549576028}, {\"ORF\": \"YDR025W\", \"Sample Point\": \"R2.Ratio\", \"Ratio\": -0.111031312388744}, {\"ORF\": \"YDR025W\", \"Sample Point\": \"R3.Ratio\", \"Ratio\": -0.189033824390017}, {\"ORF\": \"YDR025W\", \"Sample Point\": \"R4.Ratio\", \"Ratio\": -0.782408564927373}, {\"ORF\": \"YDR025W\", \"Sample Point\": \"R5.Ratio\", \"Ratio\": -0.75702324650746}, {\"ORF\": \"YDR025W\", \"Sample Point\": \"R6.Ratio\", \"Ratio\": -0.855989697308481}, {\"ORF\": \"YDR025W\", \"Sample Point\": \"R7.Ratio\", \"Ratio\": -2.30451104180995}, {\"ORF\": \"YNL069C\", \"Sample Point\": \"R1.Ratio\", \"Ratio\": -0.0976107966264223}, {\"ORF\": \"YNL069C\", \"Sample Point\": \"R2.Ratio\", \"Ratio\": -0.0426443374084937}, {\"ORF\": \"YNL069C\", \"Sample Point\": \"R3.Ratio\", \"Ratio\": 0.3040061868901}, {\"ORF\": \"YNL069C\", \"Sample Point\": \"R4.Ratio\", \"Ratio\": -0.20163386116965}, {\"ORF\": \"YNL069C\", \"Sample Point\": \"R5.Ratio\", \"Ratio\": -0.0840642647884746}, {\"ORF\": \"YNL069C\", \"Sample Point\": \"R6.Ratio\", \"Ratio\": -1.10433665981474}, {\"ORF\": \"YNL069C\", \"Sample Point\": \"R7.Ratio\", \"Ratio\": -2.74631276642546}, {\"ORF\": \"YIL053W\", \"Sample Point\": \"R1.Ratio\", \"Ratio\": 0.2688167584278}, {\"ORF\": \"YIL053W\", \"Sample Point\": \"R2.Ratio\", \"Ratio\": -0.0143552929770701}, {\"ORF\": \"YIL053W\", \"Sample Point\": \"R3.Ratio\", \"Ratio\": -0.22650852980868}, {\"ORF\": \"YIL053W\", \"Sample Point\": \"R4.Ratio\", \"Ratio\": -0.941106310946431}, {\"ORF\": \"YIL053W\", \"Sample Point\": \"R5.Ratio\", \"Ratio\": -1.23878685958712}, {\"ORF\": \"YIL053W\", \"Sample Point\": \"R6.Ratio\", \"Ratio\": -2.32768736417605}, {\"ORF\": \"YIL053W\", \"Sample Point\": \"R7.Ratio\", \"Ratio\": -2.95791459863299}, {\"ORF\": \"YPL012W\", \"Sample Point\": \"R1.Ratio\", \"Ratio\": 0.0892673380970873}, {\"ORF\": \"YPL012W\", \"Sample Point\": \"R2.Ratio\", \"Ratio\": -0.27500704749987}, {\"ORF\": \"YPL012W\", \"Sample Point\": \"R3.Ratio\", \"Ratio\": -0.150559676575381}, {\"ORF\": \"YPL012W\", \"Sample Point\": \"R4.Ratio\", \"Ratio\": -1.17632277264046}, {\"ORF\": \"YPL012W\", \"Sample Point\": \"R5.Ratio\", \"Ratio\": -1.58496250072116}, {\"ORF\": \"YPL012W\", \"Sample Point\": \"R6.Ratio\", \"Ratio\": -2.9560566524124}, {\"ORF\": \"YPL012W\", \"Sample Point\": \"R7.Ratio\", \"Ratio\": -3.07553263116736}, {\"ORF\": \"YOL039W\", \"Sample Point\": \"R1.Ratio\", \"Ratio\": 0.0740005814437768}, {\"ORF\": \"YOL039W\", \"Sample Point\": \"R2.Ratio\", \"Ratio\": -0.028569152196771}, {\"ORF\": \"YOL039W\", \"Sample Point\": \"R3.Ratio\", \"Ratio\": 0.104697378666693}, {\"ORF\": \"YOL039W\", \"Sample Point\": \"R4.Ratio\", \"Ratio\": 0.0}, {\"ORF\": \"YOL039W\", \"Sample Point\": \"R5.Ratio\", \"Ratio\": 0.0}, {\"ORF\": \"YOL039W\", \"Sample Point\": \"R6.Ratio\", \"Ratio\": -0.16349873228288}, {\"ORF\": \"YOL039W\", \"Sample Point\": \"R7.Ratio\", \"Ratio\": -2.30158764660319}, {\"ORF\": \"YBR072W\", \"Sample Point\": \"R1.Ratio\", \"Ratio\": -0.0143552929770701}, {\"ORF\": \"YBR072W\", \"Sample Point\": \"R2.Ratio\", \"Ratio\": 0.395928676331139}, {\"ORF\": \"YBR072W\", \"Sample Point\": \"R3.Ratio\", \"Ratio\": 0.358453970912476}, {\"ORF\": \"YBR072W\", \"Sample Point\": \"R4.Ratio\", \"Ratio\": 1.0}, {\"ORF\": \"YBR072W\", \"Sample Point\": \"R5.Ratio\", \"Ratio\": 1.43440282414577}, {\"ORF\": \"YBR072W\", \"Sample Point\": \"R6.Ratio\", \"Ratio\": 3.47393118833241}, {\"ORF\": \"YBR072W\", \"Sample Point\": \"R7.Ratio\", \"Ratio\": 2.83650126771712}, {\"ORF\": \"YDR272W\", \"Sample Point\": \"R1.Ratio\", \"Ratio\": 0.0740005814437768}, {\"ORF\": \"YDR272W\", \"Sample Point\": \"R2.Ratio\", \"Ratio\": 0.3040061868901}, {\"ORF\": \"YDR272W\", \"Sample Point\": \"R3.Ratio\", \"Ratio\": 0.494109070270043}, {\"ORF\": \"YDR272W\", \"Sample Point\": \"R4.Ratio\", \"Ratio\": 0.473931188332412}, {\"ORF\": \"YDR272W\", \"Sample Point\": \"R5.Ratio\", \"Ratio\": 0.377069649079823}, {\"ORF\": \"YDR272W\", \"Sample Point\": \"R6.Ratio\", \"Ratio\": 2.32192809488736}, {\"ORF\": \"YDR272W\", \"Sample Point\": \"R7.Ratio\", \"Ratio\": 1.47393118833241}, {\"ORF\": \"YHR104W\", \"Sample Point\": \"R1.Ratio\", \"Ratio\": 0.286304185156641}, {\"ORF\": \"YHR104W\", \"Sample Point\": \"R2.Ratio\", \"Ratio\": 0.2688167584278}, {\"ORF\": \"YHR104W\", \"Sample Point\": \"R3.Ratio\", \"Ratio\": 0.556393348524385}, {\"ORF\": \"YHR104W\", \"Sample Point\": \"R4.Ratio\", \"Ratio\": 0.643856189774725}, {\"ORF\": \"YHR104W\", \"Sample Point\": \"R5.Ratio\", \"Ratio\": 0.577766999316952}, {\"ORF\": \"YHR104W\", \"Sample Point\": \"R6.Ratio\", \"Ratio\": 2.39592867633114}, {\"ORF\": \"YHR104W\", \"Sample Point\": \"R7.Ratio\", \"Ratio\": 1.25153876699596}, {\"ORF\": \"YLR174W\", \"Sample Point\": \"R1.Ratio\", \"Ratio\": -0.111031312388744}, {\"ORF\": \"YLR174W\", \"Sample Point\": \"R2.Ratio\", \"Ratio\": -0.286881147788162}, {\"ORF\": \"YLR174W\", \"Sample Point\": \"R3.Ratio\", \"Ratio\": 0.713118852211838}, {\"ORF\": \"YLR174W\", \"Sample Point\": \"R4.Ratio\", \"Ratio\": 0.120294233717712}, {\"ORF\": \"YLR174W\", \"Sample Point\": \"R5.Ratio\", \"Ratio\": -0.137503523749935}, {\"ORF\": \"YLR174W\", \"Sample Point\": \"R6.Ratio\", \"Ratio\": 1.28630418515664}, {\"ORF\": \"YLR174W\", \"Sample Point\": \"R7.Ratio\", \"Ratio\": 3.32192809488736}, {\"ORF\": \"YBR032W\", \"Sample Point\": \"R1.Ratio\", \"Ratio\": 0.0}, {\"ORF\": \"YBR032W\", \"Sample Point\": \"R2.Ratio\", \"Ratio\": 0.15200309344505}, {\"ORF\": \"YBR032W\", \"Sample Point\": \"R3.Ratio\", \"Ratio\": 0.395928676331139}, {\"ORF\": \"YBR032W\", \"Sample Point\": \"R4.Ratio\", \"Ratio\": 0.136061549576028}, {\"ORF\": \"YBR032W\", \"Sample Point\": \"R5.Ratio\", \"Ratio\": -0.0565835283663676}, {\"ORF\": \"YBR032W\", \"Sample Point\": \"R6.Ratio\", \"Ratio\": -1.09761079662642}, {\"ORF\": \"YBR032W\", \"Sample Point\": \"R7.Ratio\", \"Ratio\": -2.39780296186249}, {\"ORF\": \"YDL208W\", \"Sample Point\": \"R1.Ratio\", \"Ratio\": 0.0439433475875972}, {\"ORF\": \"YDL208W\", \"Sample Point\": \"R2.Ratio\", \"Ratio\": -0.150559676575381}, {\"ORF\": \"YDL208W\", \"Sample Point\": \"R3.Ratio\", \"Ratio\": 0.0439433475875972}, {\"ORF\": \"YDL208W\", \"Sample Point\": \"R4.Ratio\", \"Ratio\": -0.575312330687437}, {\"ORF\": \"YDL208W\", \"Sample Point\": \"R5.Ratio\", \"Ratio\": -0.485426827170242}, {\"ORF\": \"YDL208W\", \"Sample Point\": \"R6.Ratio\", \"Ratio\": -2.14404636961671}, {\"ORF\": \"YDL208W\", \"Sample Point\": \"R7.Ratio\", \"Ratio\": -2.63691458035588}, {\"ORF\": \"YEL054c\", \"Sample Point\": \"R1.Ratio\", \"Ratio\": 0.200912693925996}, {\"ORF\": \"YEL054c\", \"Sample Point\": \"R2.Ratio\", \"Ratio\": 0.0892673380970873}, {\"ORF\": \"YEL054c\", \"Sample Point\": \"R3.Ratio\", \"Ratio\": 0.321928094887362}, {\"ORF\": \"YEL054c\", \"Sample Point\": \"R4.Ratio\", \"Ratio\": -0.321928094887362}, {\"ORF\": \"YEL054c\", \"Sample Point\": \"R5.Ratio\", \"Ratio\": -0.475084882948783}, {\"ORF\": \"YEL054c\", \"Sample Point\": \"R6.Ratio\", \"Ratio\": -1.64154602908752}, {\"ORF\": \"YEL054c\", \"Sample Point\": \"R7.Ratio\", \"Ratio\": -2.46466826700344}, {\"ORF\": \"YLR076C\", \"Sample Point\": \"R1.Ratio\", \"Ratio\": 0.217591435072627}, {\"ORF\": \"YLR076C\", \"Sample Point\": \"R2.Ratio\", \"Ratio\": -0.0426443374084937}, {\"ORF\": \"YLR076C\", \"Sample Point\": \"R3.Ratio\", \"Ratio\": 0.0892673380970873}, {\"ORF\": \"YLR076C\", \"Sample Point\": \"R4.Ratio\", \"Ratio\": 0.0740005814437768}, {\"ORF\": \"YLR076C\", \"Sample Point\": \"R5.Ratio\", \"Ratio\": -0.31034012061215}, {\"ORF\": \"YLR076C\", \"Sample Point\": \"R6.Ratio\", \"Ratio\": -1.49569516262407}, {\"ORF\": \"YLR076C\", \"Sample Point\": \"R7.Ratio\", \"Ratio\": -2.32481060342048}, {\"ORF\": \"YGR148C\", \"Sample Point\": \"R1.Ratio\", \"Ratio\": 0.200912693925996}, {\"ORF\": \"YGR148C\", \"Sample Point\": \"R2.Ratio\", \"Ratio\": 0.104697378666693}, {\"ORF\": \"YGR148C\", \"Sample Point\": \"R3.Ratio\", \"Ratio\": 0.0588936890535686}, {\"ORF\": \"YGR148C\", \"Sample Point\": \"R4.Ratio\", \"Ratio\": -0.286881147788162}, {\"ORF\": \"YGR148C\", \"Sample Point\": \"R5.Ratio\", \"Ratio\": -0.27500704749987}, {\"ORF\": \"YGR148C\", \"Sample Point\": \"R6.Ratio\", \"Ratio\": -1.81966818349646}, {\"ORF\": \"YGR148C\", \"Sample Point\": \"R7.Ratio\", \"Ratio\": -2.61588707391606}, {\"ORF\": \"YOR178C\", \"Sample Point\": \"R1.Ratio\", \"Ratio\": -0.189033824390017}, {\"ORF\": \"YOR178C\", \"Sample Point\": \"R2.Ratio\", \"Ratio\": -0.070389327891398}, {\"ORF\": \"YOR178C\", \"Sample Point\": \"R3.Ratio\", \"Ratio\": 0.473931188332412}, {\"ORF\": \"YOR178C\", \"Sample Point\": \"R4.Ratio\", \"Ratio\": 0.2688167584278}, {\"ORF\": \"YOR178C\", \"Sample Point\": \"R5.Ratio\", \"Ratio\": 0.136061549576028}, {\"ORF\": \"YOR178C\", \"Sample Point\": \"R6.Ratio\", \"Ratio\": 2.32192809488736}, {\"ORF\": \"YOR178C\", \"Sample Point\": \"R7.Ratio\", \"Ratio\": 2.05889368905357}, {\"ORF\": \"YKL193C\", \"Sample Point\": \"R1.Ratio\", \"Ratio\": -0.0565835283663676}, {\"ORF\": \"YKL193C\", \"Sample Point\": \"R2.Ratio\", \"Ratio\": -0.124328135002202}, {\"ORF\": \"YKL193C\", \"Sample Point\": \"R3.Ratio\", \"Ratio\": -0.263034405833794}, {\"ORF\": \"YKL193C\", \"Sample Point\": \"R4.Ratio\", \"Ratio\": 0.184424571137428}, {\"ORF\": \"YKL193C\", \"Sample Point\": \"R5.Ratio\", \"Ratio\": 0.514573172829758}, {\"ORF\": \"YKL193C\", \"Sample Point\": \"R6.Ratio\", \"Ratio\": 2.47393118833241}, {\"ORF\": \"YKL193C\", \"Sample Point\": \"R7.Ratio\", \"Ratio\": 1.43440282414577}, {\"ORF\": \"YGR103W\", \"Sample Point\": \"R1.Ratio\", \"Ratio\": 0.15200309344505}, {\"ORF\": \"YGR103W\", \"Sample Point\": \"R2.Ratio\", \"Ratio\": -0.0565835283663676}, {\"ORF\": \"YGR103W\", \"Sample Point\": \"R3.Ratio\", \"Ratio\": 0.321928094887362}, {\"ORF\": \"YGR103W\", \"Sample Point\": \"R4.Ratio\", \"Ratio\": -0.903038270112912}, {\"ORF\": \"YGR103W\", \"Sample Point\": \"R5.Ratio\", \"Ratio\": -1.10433665981474}, {\"ORF\": \"YGR103W\", \"Sample Point\": \"R6.Ratio\", \"Ratio\": -1.64154602908752}, {\"ORF\": \"YGR103W\", \"Sample Point\": \"R7.Ratio\", \"Ratio\": -2.56315813040281}, {\"ORF\": \"YBR116C\", \"Sample Point\": \"R1.Ratio\", \"Ratio\": -0.16349873228288}, {\"ORF\": \"YBR116C\", \"Sample Point\": \"R2.Ratio\", \"Ratio\": 0.184424571137428}, {\"ORF\": \"YBR116C\", \"Sample Point\": \"R3.Ratio\", \"Ratio\": 0.0439433475875972}, {\"ORF\": \"YBR116C\", \"Sample Point\": \"R4.Ratio\", \"Ratio\": -0.22650852980868}, {\"ORF\": \"YBR116C\", \"Sample Point\": \"R5.Ratio\", \"Ratio\": -0.422233000683048}, {\"ORF\": \"YBR116C\", \"Sample Point\": \"R6.Ratio\", \"Ratio\": 1.78587519464715}, {\"ORF\": \"YBR116C\", \"Sample Point\": \"R7.Ratio\", \"Ratio\": 2.39592867633114}, {\"ORF\": \"YGL191W\", \"Sample Point\": \"R1.Ratio\", \"Ratio\": 0.0439433475875972}, {\"ORF\": \"YGL191W\", \"Sample Point\": \"R2.Ratio\", \"Ratio\": -0.070389327891398}, {\"ORF\": \"YGL191W\", \"Sample Point\": \"R3.Ratio\", \"Ratio\": 0.0291463456595165}, {\"ORF\": \"YGL191W\", \"Sample Point\": \"R4.Ratio\", \"Ratio\": 0.0291463456595165}, {\"ORF\": \"YGL191W\", \"Sample Point\": \"R5.Ratio\", \"Ratio\": 0.888968687611256}, {\"ORF\": \"YGL191W\", \"Sample Point\": \"R6.Ratio\", \"Ratio\": 2.47393118833241}, {\"ORF\": \"YGL191W\", \"Sample Point\": \"R7.Ratio\", \"Ratio\": 2.32192809488736}, {\"ORF\": \"YLR267W\", \"Sample Point\": \"R1.Ratio\", \"Ratio\": -0.124328135002202}, {\"ORF\": \"YLR267W\", \"Sample Point\": \"R2.Ratio\", \"Ratio\": 0.120294233717712}, {\"ORF\": \"YLR267W\", \"Sample Point\": \"R3.Ratio\", \"Ratio\": 0.2688167584278}, {\"ORF\": \"YLR267W\", \"Sample Point\": \"R4.Ratio\", \"Ratio\": -0.111031312388744}, {\"ORF\": \"YLR267W\", \"Sample Point\": \"R5.Ratio\", \"Ratio\": -0.485426827170242}, {\"ORF\": \"YLR267W\", \"Sample Point\": \"R6.Ratio\", \"Ratio\": 1.64385618977472}, {\"ORF\": \"YLR267W\", \"Sample Point\": \"R7.Ratio\", \"Ratio\": 2.73696559416621}, {\"ORF\": \"YML054C\", \"Sample Point\": \"R1.Ratio\", \"Ratio\": -0.575312330687437}, {\"ORF\": \"YML054C\", \"Sample Point\": \"R2.Ratio\", \"Ratio\": -0.0976107966264223}, {\"ORF\": \"YML054C\", \"Sample Point\": \"R3.Ratio\", \"Ratio\": 0.434402824145775}, {\"ORF\": \"YML054C\", \"Sample Point\": \"R4.Ratio\", \"Ratio\": -0.111031312388744}, {\"ORF\": \"YML054C\", \"Sample Point\": \"R5.Ratio\", \"Ratio\": -0.0426443374084937}, {\"ORF\": \"YML054C\", \"Sample Point\": \"R6.Ratio\", \"Ratio\": 2.32192809488736}, {\"ORF\": \"YML054C\", \"Sample Point\": \"R7.Ratio\", \"Ratio\": 2.94341647163363}, {\"ORF\": \"YNL301C\", \"Sample Point\": \"R1.Ratio\", \"Ratio\": 0.217591435072627}, {\"ORF\": \"YNL301C\", \"Sample Point\": \"R2.Ratio\", \"Ratio\": -0.124328135002202}, {\"ORF\": \"YNL301C\", \"Sample Point\": \"R3.Ratio\", \"Ratio\": 0.251538766995964}, {\"ORF\": \"YNL301C\", \"Sample Point\": \"R4.Ratio\", \"Ratio\": -0.298658315564515}, {\"ORF\": \"YNL301C\", \"Sample Point\": \"R5.Ratio\", \"Ratio\": -0.545968369105293}, {\"ORF\": \"YNL301C\", \"Sample Point\": \"R6.Ratio\", \"Ratio\": -1.89917563048051}, {\"ORF\": \"YNL301C\", \"Sample Point\": \"R7.Ratio\", \"Ratio\": -2.48284828306847}, {\"ORF\": \"YJL148W\", \"Sample Point\": \"R1.Ratio\", \"Ratio\": 0.0892673380970873}, {\"ORF\": \"YJL148W\", \"Sample Point\": \"R2.Ratio\", \"Ratio\": -0.20163386116965}, {\"ORF\": \"YJL148W\", \"Sample Point\": \"R3.Ratio\", \"Ratio\": 0.168122758808327}, {\"ORF\": \"YJL148W\", \"Sample Point\": \"R4.Ratio\", \"Ratio\": -0.75702324650746}, {\"ORF\": \"YJL148W\", \"Sample Point\": \"R5.Ratio\", \"Ratio\": -0.678071905112638}, {\"ORF\": \"YJL148W\", \"Sample Point\": \"R6.Ratio\", \"Ratio\": -1.29278174922785}, {\"ORF\": \"YJL148W\", \"Sample Point\": \"R7.Ratio\", \"Ratio\": -2.41413553298445}]}}, {\"mode\": \"vega-lite\"});\n",
       "</script>"
      ],
      "text/plain": [
       "alt.Chart(...)"
      ]
     },
     "execution_count": 16,
     "metadata": {},
     "output_type": "execute_result"
    }
   ],
   "source": [
    "plot_df = df_subset.set_index('ORF').drop('Name',axis=1).sample(n=100)\n",
    "plot_df.columns.name = 'Sample Point'\n",
    "plot_df = plot_df.stack().to_frame()\n",
    "plot_df.columns=[\"Ratio\"]\n",
    "plot_df = plot_df.reset_index()\n",
    "alt.Chart(plot_df).mark_line().encode(\n",
    "    x='Sample Point:N',\n",
    "    y='Ratio',\n",
    "    color='ORF'\n",
    ")"
   ]
  },
  {
   "cell_type": "markdown",
   "metadata": {
    "slideshow": {
     "slide_type": "subslide"
    }
   },
   "source": [
    "**Stop and think:** Now that you know about k-means clustering, what is a good $k$ value?"
   ]
  },
  {
   "cell_type": "code",
   "execution_count": 7,
   "metadata": {
    "slideshow": {
     "slide_type": "subslide"
    }
   },
   "outputs": [],
   "source": [
    "# our standard imports\n",
    "import numpy as np\n",
    "import pandas as pd\n",
    "\n",
    "from sklearn.cluster import KMeans"
   ]
  },
  {
   "cell_type": "markdown",
   "metadata": {
    "slideshow": {
     "slide_type": "subslide"
    }
   },
   "source": [
    "**Exercise 1:** Using your k value, cluster the genes using k-means. You may use sklearn's version of kmeans. Color the plot above using your clusters."
   ]
  },
  {
   "cell_type": "code",
   "execution_count": 22,
   "metadata": {},
   "outputs": [
    {
     "data": {
      "text/html": [
       "<div>\n",
       "<style scoped>\n",
       "    .dataframe tbody tr th:only-of-type {\n",
       "        vertical-align: middle;\n",
       "    }\n",
       "\n",
       "    .dataframe tbody tr th {\n",
       "        vertical-align: top;\n",
       "    }\n",
       "\n",
       "    .dataframe thead th {\n",
       "        text-align: right;\n",
       "    }\n",
       "</style>\n",
       "<table border=\"1\" class=\"dataframe\">\n",
       "  <thead>\n",
       "    <tr style=\"text-align: right;\">\n",
       "      <th></th>\n",
       "      <th>R1.Ratio</th>\n",
       "      <th>R2.Ratio</th>\n",
       "      <th>R3.Ratio</th>\n",
       "      <th>R4.Ratio</th>\n",
       "      <th>R5.Ratio</th>\n",
       "      <th>R6.Ratio</th>\n",
       "      <th>R7.Ratio</th>\n",
       "    </tr>\n",
       "  </thead>\n",
       "  <tbody>\n",
       "    <tr>\n",
       "      <th>1</th>\n",
       "      <td>0.136062</td>\n",
       "      <td>-0.111031</td>\n",
       "      <td>-0.189034</td>\n",
       "      <td>-0.782409</td>\n",
       "      <td>-0.757023</td>\n",
       "      <td>-0.855990</td>\n",
       "      <td>-2.304511</td>\n",
       "    </tr>\n",
       "    <tr>\n",
       "      <th>2</th>\n",
       "      <td>-0.286881</td>\n",
       "      <td>-0.084064</td>\n",
       "      <td>0.184425</td>\n",
       "      <td>0.136062</td>\n",
       "      <td>0.535332</td>\n",
       "      <td>2.321928</td>\n",
       "      <td>1.251539</td>\n",
       "    </tr>\n",
       "    <tr>\n",
       "      <th>3</th>\n",
       "      <td>-0.042644</td>\n",
       "      <td>-0.097611</td>\n",
       "      <td>-0.014355</td>\n",
       "      <td>-0.799087</td>\n",
       "      <td>-0.839960</td>\n",
       "      <td>-2.247928</td>\n",
       "      <td>-2.386811</td>\n",
       "    </tr>\n",
       "    <tr>\n",
       "      <th>4</th>\n",
       "      <td>-0.056584</td>\n",
       "      <td>-0.124328</td>\n",
       "      <td>-0.070389</td>\n",
       "      <td>-0.545968</td>\n",
       "      <td>-0.555816</td>\n",
       "      <td>-2.104337</td>\n",
       "      <td>-2.367371</td>\n",
       "    </tr>\n",
       "    <tr>\n",
       "      <th>5</th>\n",
       "      <td>0.014500</td>\n",
       "      <td>0.074001</td>\n",
       "      <td>0.058894</td>\n",
       "      <td>0.014500</td>\n",
       "      <td>0.251539</td>\n",
       "      <td>2.395929</td>\n",
       "      <td>1.689660</td>\n",
       "    </tr>\n",
       "    <tr>\n",
       "      <th>...</th>\n",
       "      <td>...</td>\n",
       "      <td>...</td>\n",
       "      <td>...</td>\n",
       "      <td>...</td>\n",
       "      <td>...</td>\n",
       "      <td>...</td>\n",
       "      <td>...</td>\n",
       "    </tr>\n",
       "    <tr>\n",
       "      <th>226</th>\n",
       "      <td>-0.111031</td>\n",
       "      <td>1.000000</td>\n",
       "      <td>0.058894</td>\n",
       "      <td>-0.124328</td>\n",
       "      <td>-0.275007</td>\n",
       "      <td>2.058894</td>\n",
       "      <td>2.836501</td>\n",
       "    </tr>\n",
       "    <tr>\n",
       "      <th>227</th>\n",
       "      <td>-0.070389</td>\n",
       "      <td>-0.014355</td>\n",
       "      <td>-0.042644</td>\n",
       "      <td>-0.367371</td>\n",
       "      <td>-0.214125</td>\n",
       "      <td>-1.550901</td>\n",
       "      <td>-2.563158</td>\n",
       "    </tr>\n",
       "    <tr>\n",
       "      <th>228</th>\n",
       "      <td>-0.042644</td>\n",
       "      <td>0.494109</td>\n",
       "      <td>0.415037</td>\n",
       "      <td>0.184425</td>\n",
       "      <td>-0.344828</td>\n",
       "      <td>1.736966</td>\n",
       "      <td>2.321928</td>\n",
       "    </tr>\n",
       "    <tr>\n",
       "      <th>229</th>\n",
       "      <td>-0.367371</td>\n",
       "      <td>0.915936</td>\n",
       "      <td>-0.505891</td>\n",
       "      <td>0.268817</td>\n",
       "      <td>0.089267</td>\n",
       "      <td>4.058894</td>\n",
       "      <td>3.058894</td>\n",
       "    </tr>\n",
       "    <tr>\n",
       "      <th>230</th>\n",
       "      <td>0.043943</td>\n",
       "      <td>-0.150560</td>\n",
       "      <td>0.043943</td>\n",
       "      <td>-0.575312</td>\n",
       "      <td>-0.485427</td>\n",
       "      <td>-2.144046</td>\n",
       "      <td>-2.636915</td>\n",
       "    </tr>\n",
       "  </tbody>\n",
       "</table>\n",
       "<p>230 rows × 7 columns</p>\n",
       "</div>"
      ],
      "text/plain": [
       "     R1.Ratio  R2.Ratio  R3.Ratio  R4.Ratio  R5.Ratio  R6.Ratio  R7.Ratio\n",
       "1    0.136062 -0.111031 -0.189034 -0.782409 -0.757023 -0.855990 -2.304511\n",
       "2   -0.286881 -0.084064  0.184425  0.136062  0.535332  2.321928  1.251539\n",
       "3   -0.042644 -0.097611 -0.014355 -0.799087 -0.839960 -2.247928 -2.386811\n",
       "4   -0.056584 -0.124328 -0.070389 -0.545968 -0.555816 -2.104337 -2.367371\n",
       "5    0.014500  0.074001  0.058894  0.014500  0.251539  2.395929  1.689660\n",
       "..        ...       ...       ...       ...       ...       ...       ...\n",
       "226 -0.111031  1.000000  0.058894 -0.124328 -0.275007  2.058894  2.836501\n",
       "227 -0.070389 -0.014355 -0.042644 -0.367371 -0.214125 -1.550901 -2.563158\n",
       "228 -0.042644  0.494109  0.415037  0.184425 -0.344828  1.736966  2.321928\n",
       "229 -0.367371  0.915936 -0.505891  0.268817  0.089267  4.058894  3.058894\n",
       "230  0.043943 -0.150560  0.043943 -0.575312 -0.485427 -2.144046 -2.636915\n",
       "\n",
       "[230 rows x 7 columns]"
      ]
     },
     "execution_count": 22,
     "metadata": {},
     "output_type": "execute_result"
    }
   ],
   "source": [
    "df_subset.drop(['ORF','Name'],axis=1)"
   ]
  },
  {
   "cell_type": "code",
   "execution_count": 24,
   "metadata": {
    "slideshow": {
     "slide_type": "subslide"
    }
   },
   "outputs": [
    {
     "data": {
      "text/html": [
       "<div>\n",
       "<style scoped>\n",
       "    .dataframe tbody tr th:only-of-type {\n",
       "        vertical-align: middle;\n",
       "    }\n",
       "\n",
       "    .dataframe tbody tr th {\n",
       "        vertical-align: top;\n",
       "    }\n",
       "\n",
       "    .dataframe thead th {\n",
       "        text-align: right;\n",
       "    }\n",
       "</style>\n",
       "<table border=\"1\" class=\"dataframe\">\n",
       "  <thead>\n",
       "    <tr style=\"text-align: right;\">\n",
       "      <th></th>\n",
       "      <th>ORF</th>\n",
       "      <th>Name</th>\n",
       "      <th>R1.Ratio</th>\n",
       "      <th>R2.Ratio</th>\n",
       "      <th>R3.Ratio</th>\n",
       "      <th>R4.Ratio</th>\n",
       "      <th>R5.Ratio</th>\n",
       "      <th>R6.Ratio</th>\n",
       "      <th>R7.Ratio</th>\n",
       "      <th>Cluster</th>\n",
       "    </tr>\n",
       "  </thead>\n",
       "  <tbody>\n",
       "    <tr>\n",
       "      <th>1</th>\n",
       "      <td>YDR025W</td>\n",
       "      <td>RPS18A</td>\n",
       "      <td>0.136062</td>\n",
       "      <td>-0.111031</td>\n",
       "      <td>-0.189034</td>\n",
       "      <td>-0.782409</td>\n",
       "      <td>-0.757023</td>\n",
       "      <td>-0.855990</td>\n",
       "      <td>-2.304511</td>\n",
       "      <td>0</td>\n",
       "    </tr>\n",
       "    <tr>\n",
       "      <th>2</th>\n",
       "      <td>YDR031w</td>\n",
       "      <td>NaN</td>\n",
       "      <td>-0.286881</td>\n",
       "      <td>-0.084064</td>\n",
       "      <td>0.184425</td>\n",
       "      <td>0.136062</td>\n",
       "      <td>0.535332</td>\n",
       "      <td>2.321928</td>\n",
       "      <td>1.251539</td>\n",
       "      <td>1</td>\n",
       "    </tr>\n",
       "    <tr>\n",
       "      <th>3</th>\n",
       "      <td>YDR060w</td>\n",
       "      <td>NaN</td>\n",
       "      <td>-0.042644</td>\n",
       "      <td>-0.097611</td>\n",
       "      <td>-0.014355</td>\n",
       "      <td>-0.799087</td>\n",
       "      <td>-0.839960</td>\n",
       "      <td>-2.247928</td>\n",
       "      <td>-2.386811</td>\n",
       "      <td>0</td>\n",
       "    </tr>\n",
       "    <tr>\n",
       "      <th>4</th>\n",
       "      <td>YDR064W</td>\n",
       "      <td>YS15</td>\n",
       "      <td>-0.056584</td>\n",
       "      <td>-0.124328</td>\n",
       "      <td>-0.070389</td>\n",
       "      <td>-0.545968</td>\n",
       "      <td>-0.555816</td>\n",
       "      <td>-2.104337</td>\n",
       "      <td>-2.367371</td>\n",
       "      <td>0</td>\n",
       "    </tr>\n",
       "    <tr>\n",
       "      <th>5</th>\n",
       "      <td>YDR070c</td>\n",
       "      <td>NaN</td>\n",
       "      <td>0.014500</td>\n",
       "      <td>0.074001</td>\n",
       "      <td>0.058894</td>\n",
       "      <td>0.014500</td>\n",
       "      <td>0.251539</td>\n",
       "      <td>2.395929</td>\n",
       "      <td>1.689660</td>\n",
       "      <td>1</td>\n",
       "    </tr>\n",
       "    <tr>\n",
       "      <th>...</th>\n",
       "      <td>...</td>\n",
       "      <td>...</td>\n",
       "      <td>...</td>\n",
       "      <td>...</td>\n",
       "      <td>...</td>\n",
       "      <td>...</td>\n",
       "      <td>...</td>\n",
       "      <td>...</td>\n",
       "      <td>...</td>\n",
       "      <td>...</td>\n",
       "    </tr>\n",
       "    <tr>\n",
       "      <th>226</th>\n",
       "      <td>YDL085w</td>\n",
       "      <td>NaN</td>\n",
       "      <td>-0.111031</td>\n",
       "      <td>1.000000</td>\n",
       "      <td>0.058894</td>\n",
       "      <td>-0.124328</td>\n",
       "      <td>-0.275007</td>\n",
       "      <td>2.058894</td>\n",
       "      <td>2.836501</td>\n",
       "      <td>1</td>\n",
       "    </tr>\n",
       "    <tr>\n",
       "      <th>227</th>\n",
       "      <td>YDL136w</td>\n",
       "      <td>NaN</td>\n",
       "      <td>-0.070389</td>\n",
       "      <td>-0.014355</td>\n",
       "      <td>-0.042644</td>\n",
       "      <td>-0.367371</td>\n",
       "      <td>-0.214125</td>\n",
       "      <td>-1.550901</td>\n",
       "      <td>-2.563158</td>\n",
       "      <td>0</td>\n",
       "    </tr>\n",
       "    <tr>\n",
       "      <th>228</th>\n",
       "      <td>YDL199c</td>\n",
       "      <td>NaN</td>\n",
       "      <td>-0.042644</td>\n",
       "      <td>0.494109</td>\n",
       "      <td>0.415037</td>\n",
       "      <td>0.184425</td>\n",
       "      <td>-0.344828</td>\n",
       "      <td>1.736966</td>\n",
       "      <td>2.321928</td>\n",
       "      <td>1</td>\n",
       "    </tr>\n",
       "    <tr>\n",
       "      <th>229</th>\n",
       "      <td>YDL204w</td>\n",
       "      <td>NaN</td>\n",
       "      <td>-0.367371</td>\n",
       "      <td>0.915936</td>\n",
       "      <td>-0.505891</td>\n",
       "      <td>0.268817</td>\n",
       "      <td>0.089267</td>\n",
       "      <td>4.058894</td>\n",
       "      <td>3.058894</td>\n",
       "      <td>1</td>\n",
       "    </tr>\n",
       "    <tr>\n",
       "      <th>230</th>\n",
       "      <td>YDL208W</td>\n",
       "      <td>NHP2</td>\n",
       "      <td>0.043943</td>\n",
       "      <td>-0.150560</td>\n",
       "      <td>0.043943</td>\n",
       "      <td>-0.575312</td>\n",
       "      <td>-0.485427</td>\n",
       "      <td>-2.144046</td>\n",
       "      <td>-2.636915</td>\n",
       "      <td>0</td>\n",
       "    </tr>\n",
       "  </tbody>\n",
       "</table>\n",
       "<p>230 rows × 10 columns</p>\n",
       "</div>"
      ],
      "text/plain": [
       "         ORF    Name  R1.Ratio  R2.Ratio  R3.Ratio  R4.Ratio  R5.Ratio  \\\n",
       "1    YDR025W  RPS18A  0.136062 -0.111031 -0.189034 -0.782409 -0.757023   \n",
       "2    YDR031w     NaN -0.286881 -0.084064  0.184425  0.136062  0.535332   \n",
       "3    YDR060w     NaN -0.042644 -0.097611 -0.014355 -0.799087 -0.839960   \n",
       "4    YDR064W    YS15 -0.056584 -0.124328 -0.070389 -0.545968 -0.555816   \n",
       "5    YDR070c     NaN  0.014500  0.074001  0.058894  0.014500  0.251539   \n",
       "..       ...     ...       ...       ...       ...       ...       ...   \n",
       "226  YDL085w     NaN -0.111031  1.000000  0.058894 -0.124328 -0.275007   \n",
       "227  YDL136w     NaN -0.070389 -0.014355 -0.042644 -0.367371 -0.214125   \n",
       "228  YDL199c     NaN -0.042644  0.494109  0.415037  0.184425 -0.344828   \n",
       "229  YDL204w     NaN -0.367371  0.915936 -0.505891  0.268817  0.089267   \n",
       "230  YDL208W    NHP2  0.043943 -0.150560  0.043943 -0.575312 -0.485427   \n",
       "\n",
       "     R6.Ratio  R7.Ratio  Cluster  \n",
       "1   -0.855990 -2.304511        0  \n",
       "2    2.321928  1.251539        1  \n",
       "3   -2.247928 -2.386811        0  \n",
       "4   -2.104337 -2.367371        0  \n",
       "5    2.395929  1.689660        1  \n",
       "..        ...       ...      ...  \n",
       "226  2.058894  2.836501        1  \n",
       "227 -1.550901 -2.563158        0  \n",
       "228  1.736966  2.321928        1  \n",
       "229  4.058894  3.058894        1  \n",
       "230 -2.144046 -2.636915        0  \n",
       "\n",
       "[230 rows x 10 columns]"
      ]
     },
     "execution_count": 24,
     "metadata": {},
     "output_type": "execute_result"
    }
   ],
   "source": [
    "clusterer = KMeans(n_clusters=2, random_state=10)\n",
    "df_subset[\"Cluster\"] = clusterer.predict(df_subset.drop(['ORF','Name'],axis=1))\n",
    "df_subset"
   ]
  },
  {
   "cell_type": "markdown",
   "metadata": {
    "slideshow": {
     "slide_type": "subslide"
    }
   },
   "source": [
    "**Problem 2:** Plot all of the genes with color according to their cluster. "
   ]
  },
  {
   "cell_type": "code",
   "execution_count": 26,
   "metadata": {
    "slideshow": {
     "slide_type": "subslide"
    }
   },
   "outputs": [
    {
     "data": {
      "text/html": [
       "\n",
       "<style>\n",
       "  #altair-viz-4029346dc32e4ca0941030d0e914f8af.vega-embed {\n",
       "    width: 100%;\n",
       "    display: flex;\n",
       "  }\n",
       "\n",
       "  #altair-viz-4029346dc32e4ca0941030d0e914f8af.vega-embed details,\n",
       "  #altair-viz-4029346dc32e4ca0941030d0e914f8af.vega-embed details summary {\n",
       "    position: relative;\n",
       "  }\n",
       "</style>\n",
       "<div id=\"altair-viz-4029346dc32e4ca0941030d0e914f8af\"></div>\n",
       "<script type=\"text/javascript\">\n",
       "  var VEGA_DEBUG = (typeof VEGA_DEBUG == \"undefined\") ? {} : VEGA_DEBUG;\n",
       "  (function(spec, embedOpt){\n",
       "    let outputDiv = document.currentScript.previousElementSibling;\n",
       "    if (outputDiv.id !== \"altair-viz-4029346dc32e4ca0941030d0e914f8af\") {\n",
       "      outputDiv = document.getElementById(\"altair-viz-4029346dc32e4ca0941030d0e914f8af\");\n",
       "    }\n",
       "    const paths = {\n",
       "      \"vega\": \"https://cdn.jsdelivr.net/npm/vega@5?noext\",\n",
       "      \"vega-lib\": \"https://cdn.jsdelivr.net/npm/vega-lib?noext\",\n",
       "      \"vega-lite\": \"https://cdn.jsdelivr.net/npm/vega-lite@5.20.1?noext\",\n",
       "      \"vega-embed\": \"https://cdn.jsdelivr.net/npm/vega-embed@6?noext\",\n",
       "    };\n",
       "\n",
       "    function maybeLoadScript(lib, version) {\n",
       "      var key = `${lib.replace(\"-\", \"\")}_version`;\n",
       "      return (VEGA_DEBUG[key] == version) ?\n",
       "        Promise.resolve(paths[lib]) :\n",
       "        new Promise(function(resolve, reject) {\n",
       "          var s = document.createElement('script');\n",
       "          document.getElementsByTagName(\"head\")[0].appendChild(s);\n",
       "          s.async = true;\n",
       "          s.onload = () => {\n",
       "            VEGA_DEBUG[key] = version;\n",
       "            return resolve(paths[lib]);\n",
       "          };\n",
       "          s.onerror = () => reject(`Error loading script: ${paths[lib]}`);\n",
       "          s.src = paths[lib];\n",
       "        });\n",
       "    }\n",
       "\n",
       "    function showError(err) {\n",
       "      outputDiv.innerHTML = `<div class=\"error\" style=\"color:red;\">${err}</div>`;\n",
       "      throw err;\n",
       "    }\n",
       "\n",
       "    function displayChart(vegaEmbed) {\n",
       "      vegaEmbed(outputDiv, spec, embedOpt)\n",
       "        .catch(err => showError(`Javascript Error: ${err.message}<br>This usually means there's a typo in your chart specification. See the javascript console for the full traceback.`));\n",
       "    }\n",
       "\n",
       "    if(typeof define === \"function\" && define.amd) {\n",
       "      requirejs.config({paths});\n",
       "      require([\"vega-embed\"], displayChart, err => showError(`Error loading script: ${err.message}`));\n",
       "    } else {\n",
       "      maybeLoadScript(\"vega\", \"5\")\n",
       "        .then(() => maybeLoadScript(\"vega-lite\", \"5.20.1\"))\n",
       "        .then(() => maybeLoadScript(\"vega-embed\", \"6\"))\n",
       "        .catch(showError)\n",
       "        .then(() => displayChart(vegaEmbed));\n",
       "    }\n",
       "  })({\"config\": {\"view\": {\"continuousWidth\": 300, \"continuousHeight\": 300}}, \"data\": {\"name\": \"data-ab3ae41da5f82398ba49ee585ae63ef5\"}, \"mark\": {\"type\": \"point\"}, \"encoding\": {\"color\": {\"field\": \"Cluster\", \"type\": \"nominal\"}, \"x\": {\"field\": \"Sample Point\", \"type\": \"nominal\"}, \"y\": {\"field\": \"Ratio\", \"type\": \"quantitative\"}}, \"$schema\": \"https://vega.github.io/schema/vega-lite/v5.20.1.json\", \"datasets\": {\"data-ab3ae41da5f82398ba49ee585ae63ef5\": [{\"ORF\": \"YDR025W\", \"Cluster\": 0, \"Sample Point\": \"R1.Ratio\", \"Ratio\": 0.136061549576028}, {\"ORF\": \"YDR025W\", \"Cluster\": 0, \"Sample Point\": \"R2.Ratio\", \"Ratio\": -0.111031312388744}, {\"ORF\": \"YDR025W\", \"Cluster\": 0, \"Sample Point\": \"R3.Ratio\", \"Ratio\": -0.189033824390017}, {\"ORF\": \"YDR025W\", \"Cluster\": 0, \"Sample Point\": \"R4.Ratio\", \"Ratio\": -0.782408564927373}, {\"ORF\": \"YDR025W\", \"Cluster\": 0, \"Sample Point\": \"R5.Ratio\", \"Ratio\": -0.75702324650746}, {\"ORF\": \"YDR025W\", \"Cluster\": 0, \"Sample Point\": \"R6.Ratio\", \"Ratio\": -0.855989697308481}, {\"ORF\": \"YDR025W\", \"Cluster\": 0, \"Sample Point\": \"R7.Ratio\", \"Ratio\": -2.30451104180995}, {\"ORF\": \"YDR031w\", \"Cluster\": 1, \"Sample Point\": \"R1.Ratio\", \"Ratio\": -0.286881147788162}, {\"ORF\": \"YDR031w\", \"Cluster\": 1, \"Sample Point\": \"R2.Ratio\", \"Ratio\": -0.0840642647884746}, {\"ORF\": \"YDR031w\", \"Cluster\": 1, \"Sample Point\": \"R3.Ratio\", \"Ratio\": 0.184424571137428}, {\"ORF\": \"YDR031w\", \"Cluster\": 1, \"Sample Point\": \"R4.Ratio\", \"Ratio\": 0.136061549576028}, {\"ORF\": \"YDR031w\", \"Cluster\": 1, \"Sample Point\": \"R5.Ratio\", \"Ratio\": 0.535331732996556}, {\"ORF\": \"YDR031w\", \"Cluster\": 1, \"Sample Point\": \"R6.Ratio\", \"Ratio\": 2.32192809488736}, {\"ORF\": \"YDR031w\", \"Cluster\": 1, \"Sample Point\": \"R7.Ratio\", \"Ratio\": 1.25153876699596}, {\"ORF\": \"YDR060w\", \"Cluster\": 0, \"Sample Point\": \"R1.Ratio\", \"Ratio\": -0.0426443374084937}, {\"ORF\": \"YDR060w\", \"Cluster\": 0, \"Sample Point\": \"R2.Ratio\", \"Ratio\": -0.0976107966264223}, {\"ORF\": \"YDR060w\", \"Cluster\": 0, \"Sample Point\": \"R3.Ratio\", \"Ratio\": -0.0143552929770701}, {\"ORF\": \"YDR060w\", \"Cluster\": 0, \"Sample Point\": \"R4.Ratio\", \"Ratio\": -0.799087306074004}, {\"ORF\": \"YDR060w\", \"Cluster\": 0, \"Sample Point\": \"R5.Ratio\", \"Ratio\": -0.839959587489532}, {\"ORF\": \"YDR060w\", \"Cluster\": 0, \"Sample Point\": \"R6.Ratio\", \"Ratio\": -2.24792751344359}, {\"ORF\": \"YDR060w\", \"Cluster\": 0, \"Sample Point\": \"R7.Ratio\", \"Ratio\": -2.38681094647222}, {\"ORF\": \"YDR064W\", \"Cluster\": 0, \"Sample Point\": \"R1.Ratio\", \"Ratio\": -0.0565835283663676}, {\"ORF\": \"YDR064W\", \"Cluster\": 0, \"Sample Point\": \"R2.Ratio\", \"Ratio\": -0.124328135002202}, {\"ORF\": \"YDR064W\", \"Cluster\": 0, \"Sample Point\": \"R3.Ratio\", \"Ratio\": -0.070389327891398}, {\"ORF\": \"YDR064W\", \"Cluster\": 0, \"Sample Point\": \"R4.Ratio\", \"Ratio\": -0.545968369105293}, {\"ORF\": \"YDR064W\", \"Cluster\": 0, \"Sample Point\": \"R5.Ratio\", \"Ratio\": -0.55581615506164}, {\"ORF\": \"YDR064W\", \"Cluster\": 0, \"Sample Point\": \"R6.Ratio\", \"Ratio\": -2.10433665981474}, {\"ORF\": \"YDR064W\", \"Cluster\": 0, \"Sample Point\": \"R7.Ratio\", \"Ratio\": -2.36737106564853}, {\"ORF\": \"YDR070c\", \"Cluster\": 1, \"Sample Point\": \"R1.Ratio\", \"Ratio\": 0.0144995696951152}, {\"ORF\": \"YDR070c\", \"Cluster\": 1, \"Sample Point\": \"R2.Ratio\", \"Ratio\": 0.0740005814437768}, {\"ORF\": \"YDR070c\", \"Cluster\": 1, \"Sample Point\": \"R3.Ratio\", \"Ratio\": 0.0588936890535686}, {\"ORF\": \"YDR070c\", \"Cluster\": 1, \"Sample Point\": \"R4.Ratio\", \"Ratio\": 0.0144995696951152}, {\"ORF\": \"YDR070c\", \"Cluster\": 1, \"Sample Point\": \"R5.Ratio\", \"Ratio\": 0.251538766995964}, {\"ORF\": \"YDR070c\", \"Cluster\": 1, \"Sample Point\": \"R6.Ratio\", \"Ratio\": 2.39592867633114}, {\"ORF\": \"YDR070c\", \"Cluster\": 1, \"Sample Point\": \"R7.Ratio\", \"Ratio\": 1.68965987938785}, {\"ORF\": \"YDR144C\", \"Cluster\": 0, \"Sample Point\": \"R1.Ratio\", \"Ratio\": 0.136061549576028}, {\"ORF\": \"YDR144C\", \"Cluster\": 0, \"Sample Point\": \"R2.Ratio\", \"Ratio\": -0.0426443374084937}, {\"ORF\": \"YDR144C\", \"Cluster\": 0, \"Sample Point\": \"R3.Ratio\", \"Ratio\": -0.298658315564515}, {\"ORF\": \"YDR144C\", \"Cluster\": 0, \"Sample Point\": \"R4.Ratio\", \"Ratio\": -0.871843648509318}, {\"ORF\": \"YDR144C\", \"Cluster\": 0, \"Sample Point\": \"R5.Ratio\", \"Ratio\": -1.14404636961671}, {\"ORF\": \"YDR144C\", \"Cluster\": 0, \"Sample Point\": \"R6.Ratio\", \"Ratio\": -2.42223300068305}, {\"ORF\": \"YDR144C\", \"Cluster\": 0, \"Sample Point\": \"R7.Ratio\", \"Ratio\": -2.72246602447109}, {\"ORF\": \"YDR171W\", \"Cluster\": 1, \"Sample Point\": \"R1.Ratio\", \"Ratio\": 0.0740005814437768}, {\"ORF\": \"YDR171W\", \"Cluster\": 1, \"Sample Point\": \"R2.Ratio\", \"Ratio\": 0.136061549576028}, {\"ORF\": \"YDR171W\", \"Cluster\": 1, \"Sample Point\": \"R3.Ratio\", \"Ratio\": 0.434402824145775}, {\"ORF\": \"YDR171W\", \"Cluster\": 1, \"Sample Point\": \"R4.Ratio\", \"Ratio\": 0.836501267717121}, {\"ORF\": \"YDR171W\", \"Cluster\": 1, \"Sample Point\": \"R5.Ratio\", \"Ratio\": 0.943416471633632}, {\"ORF\": \"YDR171W\", \"Cluster\": 1, \"Sample Point\": \"R6.Ratio\", \"Ratio\": 3.64385618977472}, {\"ORF\": \"YDR171W\", \"Cluster\": 1, \"Sample Point\": \"R7.Ratio\", \"Ratio\": 3.32192809488736}, {\"ORF\": \"YDR178W\", \"Cluster\": 1, \"Sample Point\": \"R1.Ratio\", \"Ratio\": -0.189033824390017}, {\"ORF\": \"YDR178W\", \"Cluster\": 1, \"Sample Point\": \"R2.Ratio\", \"Ratio\": -0.028569152196771}, {\"ORF\": \"YDR178W\", \"Cluster\": 1, \"Sample Point\": \"R3.Ratio\", \"Ratio\": 0.599462070416271}, {\"ORF\": \"YDR178W\", \"Cluster\": 1, \"Sample Point\": \"R4.Ratio\", \"Ratio\": 0.888968687611256}, {\"ORF\": \"YDR178W\", \"Cluster\": 1, \"Sample Point\": \"R5.Ratio\", \"Ratio\": 0.836501267717121}, {\"ORF\": \"YDR178W\", \"Cluster\": 1, \"Sample Point\": \"R6.Ratio\", \"Ratio\": 2.55639334852439}, {\"ORF\": \"YDR178W\", \"Cluster\": 1, \"Sample Point\": \"R7.Ratio\", \"Ratio\": 2.64385618977472}, {\"ORF\": \"YDR258C\", \"Cluster\": 1, \"Sample Point\": \"R1.Ratio\", \"Ratio\": -0.250961573533219}, {\"ORF\": \"YDR258C\", \"Cluster\": 1, \"Sample Point\": \"R2.Ratio\", \"Ratio\": 0.136061549576028}, {\"ORF\": \"YDR258C\", \"Cluster\": 1, \"Sample Point\": \"R3.Ratio\", \"Ratio\": -0.22650852980868}, {\"ORF\": \"YDR258C\", \"Cluster\": 1, \"Sample Point\": \"R4.Ratio\", \"Ratio\": 0.862496476250065}, {\"ORF\": \"YDR258C\", \"Cluster\": 1, \"Sample Point\": \"R5.Ratio\", \"Ratio\": 0.62148837674627}, {\"ORF\": \"YDR258C\", \"Cluster\": 1, \"Sample Point\": \"R6.Ratio\", \"Ratio\": 2.55639334852439}, {\"ORF\": \"YDR258C\", \"Cluster\": 1, \"Sample Point\": \"R7.Ratio\", \"Ratio\": 2.39592867633114}, {\"ORF\": \"YBL015W\", \"Cluster\": 1, \"Sample Point\": \"R1.Ratio\", \"Ratio\": -0.111031312388744}, {\"ORF\": \"YBL015W\", \"Cluster\": 1, \"Sample Point\": \"R2.Ratio\", \"Ratio\": 0.0588936890535686}, {\"ORF\": \"YBL015W\", \"Cluster\": 1, \"Sample Point\": \"R3.Ratio\", \"Ratio\": 0.0144995696951152}, {\"ORF\": \"YBL015W\", \"Cluster\": 1, \"Sample Point\": \"R4.Ratio\", \"Ratio\": 0.104697378666693}, {\"ORF\": \"YBL015W\", \"Cluster\": 1, \"Sample Point\": \"R5.Ratio\", \"Ratio\": 0.3040061868901}, {\"ORF\": \"YBL015W\", \"Cluster\": 1, \"Sample Point\": \"R6.Ratio\", \"Ratio\": 2.73696559416621}, {\"ORF\": \"YBL015W\", \"Cluster\": 1, \"Sample Point\": \"R7.Ratio\", \"Ratio\": 3.32192809488736}, {\"ORF\": \"YDR272W\", \"Cluster\": 1, \"Sample Point\": \"R1.Ratio\", \"Ratio\": -0.028569152196771}, {\"ORF\": \"YDR272W\", \"Cluster\": 1, \"Sample Point\": \"R2.Ratio\", \"Ratio\": -0.0976107966264223}, {\"ORF\": \"YDR272W\", \"Cluster\": 1, \"Sample Point\": \"R3.Ratio\", \"Ratio\": 0.358453970912476}, {\"ORF\": \"YDR272W\", \"Cluster\": 1, \"Sample Point\": \"R4.Ratio\", \"Ratio\": 0.434402824145775}, {\"ORF\": \"YDR272W\", \"Cluster\": 1, \"Sample Point\": \"R5.Ratio\", \"Ratio\": 0.377069649079823}, {\"ORF\": \"YDR272W\", \"Cluster\": 1, \"Sample Point\": \"R6.Ratio\", \"Ratio\": 2.55639334852439}, {\"ORF\": \"YDR272W\", \"Cluster\": 1, \"Sample Point\": \"R7.Ratio\", \"Ratio\": 1.25153876699596}, {\"ORF\": \"YDR272W\", \"Cluster\": 1, \"Sample Point\": \"R1.Ratio\", \"Ratio\": 0.0740005814437768}, {\"ORF\": \"YDR272W\", \"Cluster\": 1, \"Sample Point\": \"R2.Ratio\", \"Ratio\": 0.3040061868901}, {\"ORF\": \"YDR272W\", \"Cluster\": 1, \"Sample Point\": \"R3.Ratio\", \"Ratio\": 0.494109070270043}, {\"ORF\": \"YDR272W\", \"Cluster\": 1, \"Sample Point\": \"R4.Ratio\", \"Ratio\": 0.473931188332412}, {\"ORF\": \"YDR272W\", \"Cluster\": 1, \"Sample Point\": \"R5.Ratio\", \"Ratio\": 0.377069649079823}, {\"ORF\": \"YDR272W\", \"Cluster\": 1, \"Sample Point\": \"R6.Ratio\", \"Ratio\": 2.32192809488736}, {\"ORF\": \"YDR272W\", \"Cluster\": 1, \"Sample Point\": \"R7.Ratio\", \"Ratio\": 1.47393118833241}, {\"ORF\": \"YDR342C\", \"Cluster\": 1, \"Sample Point\": \"R1.Ratio\", \"Ratio\": 0.184424571137428}, {\"ORF\": \"YDR342C\", \"Cluster\": 1, \"Sample Point\": \"R2.Ratio\", \"Ratio\": 0.434402824145775}, {\"ORF\": \"YDR342C\", \"Cluster\": 1, \"Sample Point\": \"R3.Ratio\", \"Ratio\": 0.943416471633632}, {\"ORF\": \"YDR342C\", \"Cluster\": 1, \"Sample Point\": \"R4.Ratio\", \"Ratio\": 1.51457317282976}, {\"ORF\": \"YDR342C\", \"Cluster\": 1, \"Sample Point\": \"R5.Ratio\", \"Ratio\": 1.64385618977472}, {\"ORF\": \"YDR342C\", \"Cluster\": 1, \"Sample Point\": \"R6.Ratio\", \"Ratio\": 2.32192809488736}, {\"ORF\": \"YDR342C\", \"Cluster\": 1, \"Sample Point\": \"R7.Ratio\", \"Ratio\": 1.59946207041627}, {\"ORF\": \"YDR343C\", \"Cluster\": 1, \"Sample Point\": \"R1.Ratio\", \"Ratio\": 0.15200309344505}, {\"ORF\": \"YDR343C\", \"Cluster\": 1, \"Sample Point\": \"R2.Ratio\", \"Ratio\": 0.761213140412884}, {\"ORF\": \"YDR343C\", \"Cluster\": 1, \"Sample Point\": \"R3.Ratio\", \"Ratio\": 1.28630418515664}, {\"ORF\": \"YDR343C\", \"Cluster\": 1, \"Sample Point\": \"R4.Ratio\", \"Ratio\": 1.94341647163363}, {\"ORF\": \"YDR343C\", \"Cluster\": 1, \"Sample Point\": \"R5.Ratio\", \"Ratio\": 1.51457317282976}, {\"ORF\": \"YDR343C\", \"Cluster\": 1, \"Sample Point\": \"R6.Ratio\", \"Ratio\": 2.18442457113743}, {\"ORF\": \"YDR343C\", \"Cluster\": 1, \"Sample Point\": \"R7.Ratio\", \"Ratio\": 2.64385618977472}, {\"ORF\": \"YBL027W\", \"Cluster\": 0, \"Sample Point\": \"R1.Ratio\", \"Ratio\": 0.0439433475875972}, {\"ORF\": \"YBL027W\", \"Cluster\": 0, \"Sample Point\": \"R2.Ratio\", \"Ratio\": 0.0144995696951152}, {\"ORF\": \"YBL027W\", \"Cluster\": 0, \"Sample Point\": \"R3.Ratio\", \"Ratio\": 0.395928676331139}, {\"ORF\": \"YBL027W\", \"Cluster\": 0, \"Sample Point\": \"R4.Ratio\", \"Ratio\": -0.16349873228288}, {\"ORF\": \"YBL027W\", \"Cluster\": 0, \"Sample Point\": \"R5.Ratio\", \"Ratio\": -0.27500704749987}, {\"ORF\": \"YBL027W\", \"Cluster\": 0, \"Sample Point\": \"R6.Ratio\", \"Ratio\": -1.11103131238874}, {\"ORF\": \"YBL027W\", \"Cluster\": 0, \"Sample Point\": \"R7.Ratio\", \"Ratio\": -2.44360665147561}, {\"ORF\": \"YDR382W\", \"Cluster\": 0, \"Sample Point\": \"R1.Ratio\", \"Ratio\": 0.104697378666693}, {\"ORF\": \"YDR382W\", \"Cluster\": 0, \"Sample Point\": \"R2.Ratio\", \"Ratio\": 0.15200309344505}, {\"ORF\": \"YDR382W\", \"Cluster\": 0, \"Sample Point\": \"R3.Ratio\", \"Ratio\": 0.104697378666693}, {\"ORF\": \"YDR382W\", \"Cluster\": 0, \"Sample Point\": \"R4.Ratio\", \"Ratio\": 0.0588936890535686}, {\"ORF\": \"YDR382W\", \"Cluster\": 0, \"Sample Point\": \"R5.Ratio\", \"Ratio\": 0.0439433475875972}, {\"ORF\": \"YDR382W\", \"Cluster\": 0, \"Sample Point\": \"R6.Ratio\", \"Ratio\": -0.604071323668861}, {\"ORF\": \"YDR382W\", \"Cluster\": 0, \"Sample Point\": \"R7.Ratio\", \"Ratio\": -2.36457243229586}, {\"ORF\": \"YDR398W\", \"Cluster\": 0, \"Sample Point\": \"R1.Ratio\", \"Ratio\": -0.0143552929770701}, {\"ORF\": \"YDR398W\", \"Cluster\": 0, \"Sample Point\": \"R2.Ratio\", \"Ratio\": -0.0840642647884746}, {\"ORF\": \"YDR398W\", \"Cluster\": 0, \"Sample Point\": \"R3.Ratio\", \"Ratio\": -0.124328135002202}, {\"ORF\": \"YDR398W\", \"Cluster\": 0, \"Sample Point\": \"R4.Ratio\", \"Ratio\": -1.03562390973072}, {\"ORF\": \"YDR398W\", \"Cluster\": 0, \"Sample Point\": \"R5.Ratio\", \"Ratio\": -1.1243281350022}, {\"ORF\": \"YDR398W\", \"Cluster\": 0, \"Sample Point\": \"R6.Ratio\", \"Ratio\": -2.02147972741045}, {\"ORF\": \"YDR398W\", \"Cluster\": 0, \"Sample Point\": \"R7.Ratio\", \"Ratio\": -2.799087306074}, {\"ORF\": \"YDR417C\", \"Cluster\": 0, \"Sample Point\": \"R1.Ratio\", \"Ratio\": 0.321928094887362}, {\"ORF\": \"YDR417C\", \"Cluster\": 0, \"Sample Point\": \"R2.Ratio\", \"Ratio\": 0.120294233717712}, {\"ORF\": \"YDR417C\", \"Cluster\": 0, \"Sample Point\": \"R3.Ratio\", \"Ratio\": 0.0892673380970873}, {\"ORF\": \"YDR417C\", \"Cluster\": 0, \"Sample Point\": \"R4.Ratio\", \"Ratio\": -0.344828496997441}, {\"ORF\": \"YDR417C\", \"Cluster\": 0, \"Sample Point\": \"R5.Ratio\", \"Ratio\": -0.250961573533219}, {\"ORF\": \"YDR417C\", \"Cluster\": 0, \"Sample Point\": \"R6.Ratio\", \"Ratio\": -1.64616265715789}, {\"ORF\": \"YDR417C\", \"Cluster\": 0, \"Sample Point\": \"R7.Ratio\", \"Ratio\": -2.54596836910529}, {\"ORF\": \"YDR418W\", \"Cluster\": 0, \"Sample Point\": \"R1.Ratio\", \"Ratio\": 0.200912693925996}, {\"ORF\": \"YDR418W\", \"Cluster\": 0, \"Sample Point\": \"R2.Ratio\", \"Ratio\": 0.168122758808327}, {\"ORF\": \"YDR418W\", \"Cluster\": 0, \"Sample Point\": \"R3.Ratio\", \"Ratio\": 0.286304185156641}, {\"ORF\": \"YDR418W\", \"Cluster\": 0, \"Sample Point\": \"R4.Ratio\", \"Ratio\": -0.20163386116965}, {\"ORF\": \"YDR418W\", \"Cluster\": 0, \"Sample Point\": \"R5.Ratio\", \"Ratio\": -0.20163386116965}, {\"ORF\": \"YDR418W\", \"Cluster\": 0, \"Sample Point\": \"R6.Ratio\", \"Ratio\": -1.75274859140713}, {\"ORF\": \"YDR418W\", \"Cluster\": 0, \"Sample Point\": \"R7.Ratio\", \"Ratio\": -2.99638874644762}, {\"ORF\": \"YDR516C\", \"Cluster\": 1, \"Sample Point\": \"R1.Ratio\", \"Ratio\": -0.137503523749935}, {\"ORF\": \"YDR516C\", \"Cluster\": 1, \"Sample Point\": \"R2.Ratio\", \"Ratio\": 0.2688167584278}, {\"ORF\": \"YDR516C\", \"Cluster\": 1, \"Sample Point\": \"R3.Ratio\", \"Ratio\": 0.415037499278844}, {\"ORF\": \"YDR516C\", \"Cluster\": 1, \"Sample Point\": \"R4.Ratio\", \"Ratio\": 0.785875194647153}, {\"ORF\": \"YDR516C\", \"Cluster\": 1, \"Sample Point\": \"R5.Ratio\", \"Ratio\": 0.713118852211838}, {\"ORF\": \"YDR516C\", \"Cluster\": 1, \"Sample Point\": \"R6.Ratio\", \"Ratio\": 2.32192809488736}, {\"ORF\": \"YDR516C\", \"Cluster\": 1, \"Sample Point\": \"R7.Ratio\", \"Ratio\": 1.02914634565952}, {\"ORF\": \"YBL043W\", \"Cluster\": 1, \"Sample Point\": \"R1.Ratio\", \"Ratio\": -0.516015147003665}, {\"ORF\": \"YBL043W\", \"Cluster\": 1, \"Sample Point\": \"R2.Ratio\", \"Ratio\": 0.0740005814437768}, {\"ORF\": \"YBL043W\", \"Cluster\": 1, \"Sample Point\": \"R3.Ratio\", \"Ratio\": 0.0}, {\"ORF\": \"YBL043W\", \"Cluster\": 1, \"Sample Point\": \"R4.Ratio\", \"Ratio\": -0.214124805352847}, {\"ORF\": \"YBL043W\", \"Cluster\": 1, \"Sample Point\": \"R5.Ratio\", \"Ratio\": -0.53605290024021}, {\"ORF\": \"YBL043W\", \"Cluster\": 1, \"Sample Point\": \"R6.Ratio\", \"Ratio\": 1.94341647163363}, {\"ORF\": \"YBL043W\", \"Cluster\": 1, \"Sample Point\": \"R7.Ratio\", \"Ratio\": 2.32192809488736}, {\"ORF\": \"YDR529C\", \"Cluster\": 1, \"Sample Point\": \"R1.Ratio\", \"Ratio\": 0.168122758808327}, {\"ORF\": \"YDR529C\", \"Cluster\": 1, \"Sample Point\": \"R2.Ratio\", \"Ratio\": 0.0291463456595165}, {\"ORF\": \"YDR529C\", \"Cluster\": 1, \"Sample Point\": \"R3.Ratio\", \"Ratio\": 0.377069649079823}, {\"ORF\": \"YDR529C\", \"Cluster\": 1, \"Sample Point\": \"R4.Ratio\", \"Ratio\": 0.862496476250065}, {\"ORF\": \"YDR529C\", \"Cluster\": 1, \"Sample Point\": \"R5.Ratio\", \"Ratio\": 0.810966175609983}, {\"ORF\": \"YDR529C\", \"Cluster\": 1, \"Sample Point\": \"R6.Ratio\", \"Ratio\": 2.18442457113743}, {\"ORF\": \"YDR529C\", \"Cluster\": 1, \"Sample Point\": \"R7.Ratio\", \"Ratio\": 2.55639334852439}, {\"ORF\": \"YDR533C\", \"Cluster\": 1, \"Sample Point\": \"R1.Ratio\", \"Ratio\": -0.070389327891398}, {\"ORF\": \"YDR533C\", \"Cluster\": 1, \"Sample Point\": \"R2.Ratio\", \"Ratio\": 0.0588936890535686}, {\"ORF\": \"YDR533C\", \"Cluster\": 1, \"Sample Point\": \"R3.Ratio\", \"Ratio\": 0.577766999316952}, {\"ORF\": \"YDR533C\", \"Cluster\": 1, \"Sample Point\": \"R4.Ratio\", \"Ratio\": 0.415037499278844}, {\"ORF\": \"YDR533C\", \"Cluster\": 1, \"Sample Point\": \"R5.Ratio\", \"Ratio\": 0.0144995696951152}, {\"ORF\": \"YDR533C\", \"Cluster\": 1, \"Sample Point\": \"R6.Ratio\", \"Ratio\": 2.73696559416621}, {\"ORF\": \"YDR533C\", \"Cluster\": 1, \"Sample Point\": \"R7.Ratio\", \"Ratio\": 2.39592867633114}, {\"ORF\": \"YBL045C\", \"Cluster\": 1, \"Sample Point\": \"R1.Ratio\", \"Ratio\": 0.0740005814437768}, {\"ORF\": \"YBL045C\", \"Cluster\": 1, \"Sample Point\": \"R2.Ratio\", \"Ratio\": 0.0}, {\"ORF\": \"YBL045C\", \"Cluster\": 1, \"Sample Point\": \"R3.Ratio\", \"Ratio\": 0.68965987938785}, {\"ORF\": \"YBL045C\", \"Cluster\": 1, \"Sample Point\": \"R4.Ratio\", \"Ratio\": 0.514573172829758}, {\"ORF\": \"YBL045C\", \"Cluster\": 1, \"Sample Point\": \"R5.Ratio\", \"Ratio\": 0.15200309344505}, {\"ORF\": \"YBL045C\", \"Cluster\": 1, \"Sample Point\": \"R6.Ratio\", \"Ratio\": 1.68965987938785}, {\"ORF\": \"YBL045C\", \"Cluster\": 1, \"Sample Point\": \"R7.Ratio\", \"Ratio\": 2.47393118833241}, {\"ORF\": \"YEL011w\", \"Cluster\": 1, \"Sample Point\": \"R1.Ratio\", \"Ratio\": -0.286881147788162}, {\"ORF\": \"YEL011w\", \"Cluster\": 1, \"Sample Point\": \"R2.Ratio\", \"Ratio\": 0.120294233717712}, {\"ORF\": \"YEL011w\", \"Cluster\": 1, \"Sample Point\": \"R3.Ratio\", \"Ratio\": 0.494109070270043}, {\"ORF\": \"YEL011w\", \"Cluster\": 1, \"Sample Point\": \"R4.Ratio\", \"Ratio\": 0.836501267717121}, {\"ORF\": \"YEL011w\", \"Cluster\": 1, \"Sample Point\": \"R5.Ratio\", \"Ratio\": 0.494109070270043}, {\"ORF\": \"YEL011w\", \"Cluster\": 1, \"Sample Point\": \"R6.Ratio\", \"Ratio\": 2.64385618977472}, {\"ORF\": \"YEL011w\", \"Cluster\": 1, \"Sample Point\": \"R7.Ratio\", \"Ratio\": 2.83650126771712}, {\"ORF\": \"YEL012w\", \"Cluster\": 1, \"Sample Point\": \"R1.Ratio\", \"Ratio\": -0.0840642647884746}, {\"ORF\": \"YEL012w\", \"Cluster\": 1, \"Sample Point\": \"R2.Ratio\", \"Ratio\": -0.298658315564515}, {\"ORF\": \"YEL012w\", \"Cluster\": 1, \"Sample Point\": \"R3.Ratio\", \"Ratio\": 0.0740005814437768}, {\"ORF\": \"YEL012w\", \"Cluster\": 1, \"Sample Point\": \"R4.Ratio\", \"Ratio\": 0.0740005814437768}, {\"ORF\": \"YEL012w\", \"Cluster\": 1, \"Sample Point\": \"R5.Ratio\", \"Ratio\": -0.356143810225275}, {\"ORF\": \"YEL012w\", \"Cluster\": 1, \"Sample Point\": \"R6.Ratio\", \"Ratio\": 1.32192809488736}, {\"ORF\": \"YEL012w\", \"Cluster\": 1, \"Sample Point\": \"R7.Ratio\", \"Ratio\": 2.32192809488736}, {\"ORF\": \"YEL024w\", \"Cluster\": 1, \"Sample Point\": \"R1.Ratio\", \"Ratio\": 0.0892673380970873}, {\"ORF\": \"YEL024w\", \"Cluster\": 1, \"Sample Point\": \"R2.Ratio\", \"Ratio\": 0.2688167584278}, {\"ORF\": \"YEL024w\", \"Cluster\": 1, \"Sample Point\": \"R3.Ratio\", \"Ratio\": 0.556393348524385}, {\"ORF\": \"YEL024w\", \"Cluster\": 1, \"Sample Point\": \"R4.Ratio\", \"Ratio\": 0.888968687611256}, {\"ORF\": \"YEL024w\", \"Cluster\": 1, \"Sample Point\": \"R5.Ratio\", \"Ratio\": 0.943416471633632}, {\"ORF\": \"YEL024w\", \"Cluster\": 1, \"Sample Point\": \"R6.Ratio\", \"Ratio\": 1.94341647163363}, {\"ORF\": \"YEL024w\", \"Cluster\": 1, \"Sample Point\": \"R7.Ratio\", \"Ratio\": 2.32192809488736}, {\"ORF\": \"YBL048W\", \"Cluster\": 1, \"Sample Point\": \"R1.Ratio\", \"Ratio\": -0.250961573533219}, {\"ORF\": \"YBL048W\", \"Cluster\": 1, \"Sample Point\": \"R2.Ratio\", \"Ratio\": 0.104697378666693}, {\"ORF\": \"YBL048W\", \"Cluster\": 1, \"Sample Point\": \"R3.Ratio\", \"Ratio\": -0.150559676575381}, {\"ORF\": \"YBL048W\", \"Cluster\": 1, \"Sample Point\": \"R4.Ratio\", \"Ratio\": -0.22650852980868}, {\"ORF\": \"YBL048W\", \"Cluster\": 1, \"Sample Point\": \"R5.Ratio\", \"Ratio\": -0.356143810225275}, {\"ORF\": \"YBL048W\", \"Cluster\": 1, \"Sample Point\": \"R6.Ratio\", \"Ratio\": 2.55639334852439}, {\"ORF\": \"YBL048W\", \"Cluster\": 1, \"Sample Point\": \"R7.Ratio\", \"Ratio\": 2.18442457113743}, {\"ORF\": \"YBL049W\", \"Cluster\": 1, \"Sample Point\": \"R1.Ratio\", \"Ratio\": -0.584962500721156}, {\"ORF\": \"YBL049W\", \"Cluster\": 1, \"Sample Point\": \"R2.Ratio\", \"Ratio\": 0.168122758808327}, {\"ORF\": \"YBL049W\", \"Cluster\": 1, \"Sample Point\": \"R3.Ratio\", \"Ratio\": 0.184424571137428}, {\"ORF\": \"YBL049W\", \"Cluster\": 1, \"Sample Point\": \"R4.Ratio\", \"Ratio\": -0.150559676575381}, {\"ORF\": \"YBL049W\", \"Cluster\": 1, \"Sample Point\": \"R5.Ratio\", \"Ratio\": -0.823749360308273}, {\"ORF\": \"YBL049W\", \"Cluster\": 1, \"Sample Point\": \"R6.Ratio\", \"Ratio\": 2.47393118833241}, {\"ORF\": \"YBL049W\", \"Cluster\": 1, \"Sample Point\": \"R7.Ratio\", \"Ratio\": 2.64385618977472}, {\"ORF\": \"YEL054c\", \"Cluster\": 0, \"Sample Point\": \"R1.Ratio\", \"Ratio\": 0.200912693925996}, {\"ORF\": \"YEL054c\", \"Cluster\": 0, \"Sample Point\": \"R2.Ratio\", \"Ratio\": 0.0892673380970873}, {\"ORF\": \"YEL054c\", \"Cluster\": 0, \"Sample Point\": \"R3.Ratio\", \"Ratio\": 0.321928094887362}, {\"ORF\": \"YEL054c\", \"Cluster\": 0, \"Sample Point\": \"R4.Ratio\", \"Ratio\": -0.321928094887362}, {\"ORF\": \"YEL054c\", \"Cluster\": 0, \"Sample Point\": \"R5.Ratio\", \"Ratio\": -0.475084882948783}, {\"ORF\": \"YEL054c\", \"Cluster\": 0, \"Sample Point\": \"R6.Ratio\", \"Ratio\": -1.64154602908752}, {\"ORF\": \"YEL054c\", \"Cluster\": 0, \"Sample Point\": \"R7.Ratio\", \"Ratio\": -2.46466826700344}, {\"ORF\": \"YER024w\", \"Cluster\": 1, \"Sample Point\": \"R1.Ratio\", \"Ratio\": -0.27500704749987}, {\"ORF\": \"YER024w\", \"Cluster\": 1, \"Sample Point\": \"R2.Ratio\", \"Ratio\": -0.150559676575381}, {\"ORF\": \"YER024w\", \"Cluster\": 1, \"Sample Point\": \"R3.Ratio\", \"Ratio\": 0.168122758808327}, {\"ORF\": \"YER024w\", \"Cluster\": 1, \"Sample Point\": \"R4.Ratio\", \"Ratio\": -0.356143810225275}, {\"ORF\": \"YER024w\", \"Cluster\": 1, \"Sample Point\": \"R5.Ratio\", \"Ratio\": -0.495695162624069}, {\"ORF\": \"YER024w\", \"Cluster\": 1, \"Sample Point\": \"R6.Ratio\", \"Ratio\": 1.12029423371771}, {\"ORF\": \"YER024w\", \"Cluster\": 1, \"Sample Point\": \"R7.Ratio\", \"Ratio\": 3.18442457113743}, {\"ORF\": \"YER053c\", \"Cluster\": 1, \"Sample Point\": \"R1.Ratio\", \"Ratio\": -0.189033824390017}, {\"ORF\": \"YER053c\", \"Cluster\": 1, \"Sample Point\": \"R2.Ratio\", \"Ratio\": 0.358453970912476}, {\"ORF\": \"YER053c\", \"Cluster\": 1, \"Sample Point\": \"R3.Ratio\", \"Ratio\": 1.02914634565952}, {\"ORF\": \"YER053c\", \"Cluster\": 1, \"Sample Point\": \"R4.Ratio\", \"Ratio\": 1.51457317282976}, {\"ORF\": \"YER053c\", \"Cluster\": 1, \"Sample Point\": \"R5.Ratio\", \"Ratio\": 1.64385618977472}, {\"ORF\": \"YER053c\", \"Cluster\": 1, \"Sample Point\": \"R6.Ratio\", \"Ratio\": 2.18442457113743}, {\"ORF\": \"YER053c\", \"Cluster\": 1, \"Sample Point\": \"R7.Ratio\", \"Ratio\": 2.64385618977472}, {\"ORF\": \"YER065c\", \"Cluster\": 1, \"Sample Point\": \"R1.Ratio\", \"Ratio\": 0.120294233717712}, {\"ORF\": \"YER065c\", \"Cluster\": 1, \"Sample Point\": \"R2.Ratio\", \"Ratio\": 0.168122758808327}, {\"ORF\": \"YER065c\", \"Cluster\": 1, \"Sample Point\": \"R3.Ratio\", \"Ratio\": 0.535331732996556}, {\"ORF\": \"YER065c\", \"Cluster\": 1, \"Sample Point\": \"R4.Ratio\", \"Ratio\": 0.0892673380970873}, {\"ORF\": \"YER065c\", \"Cluster\": 1, \"Sample Point\": \"R5.Ratio\", \"Ratio\": -0.150559676575381}, {\"ORF\": \"YER065c\", \"Cluster\": 1, \"Sample Point\": \"R6.Ratio\", \"Ratio\": 0.535331732996556}, {\"ORF\": \"YER065c\", \"Cluster\": 1, \"Sample Point\": \"R7.Ratio\", \"Ratio\": 3.64385618977472}, {\"ORF\": \"YER067w\", \"Cluster\": 1, \"Sample Point\": \"R1.Ratio\", \"Ratio\": -0.070389327891398}, {\"ORF\": \"YER067w\", \"Cluster\": 1, \"Sample Point\": \"R2.Ratio\", \"Ratio\": 0.15200309344505}, {\"ORF\": \"YER067w\", \"Cluster\": 1, \"Sample Point\": \"R3.Ratio\", \"Ratio\": 0.761213140412884}, {\"ORF\": \"YER067w\", \"Cluster\": 1, \"Sample Point\": \"R4.Ratio\", \"Ratio\": 1.02914634565952}, {\"ORF\": \"YER067w\", \"Cluster\": 1, \"Sample Point\": \"R5.Ratio\", \"Ratio\": 0.377069649079823}, {\"ORF\": \"YER067w\", \"Cluster\": 1, \"Sample Point\": \"R6.Ratio\", \"Ratio\": 3.18442457113743}, {\"ORF\": \"YER067w\", \"Cluster\": 1, \"Sample Point\": \"R7.Ratio\", \"Ratio\": 2.55639334852439}, {\"ORF\": \"YBL064C\", \"Cluster\": 1, \"Sample Point\": \"R1.Ratio\", \"Ratio\": 0.377069649079823}, {\"ORF\": \"YBL064C\", \"Cluster\": 1, \"Sample Point\": \"R2.Ratio\", \"Ratio\": 0.0439433475875972}, {\"ORF\": \"YBL064C\", \"Cluster\": 1, \"Sample Point\": \"R3.Ratio\", \"Ratio\": 0.736965594166206}, {\"ORF\": \"YBL064C\", \"Cluster\": 1, \"Sample Point\": \"R4.Ratio\", \"Ratio\": 0.888968687611256}, {\"ORF\": \"YBL064C\", \"Cluster\": 1, \"Sample Point\": \"R5.Ratio\", \"Ratio\": 0.761213140412884}, {\"ORF\": \"YBL064C\", \"Cluster\": 1, \"Sample Point\": \"R6.Ratio\", \"Ratio\": 3.47393118833241}, {\"ORF\": \"YBL064C\", \"Cluster\": 1, \"Sample Point\": \"R7.Ratio\", \"Ratio\": 2.83650126771712}, {\"ORF\": \"YER131w\", \"Cluster\": 0, \"Sample Point\": \"R1.Ratio\", \"Ratio\": 0.358453970912476}, {\"ORF\": \"YER131w\", \"Cluster\": 0, \"Sample Point\": \"R2.Ratio\", \"Ratio\": 0.136061549576028}, {\"ORF\": \"YER131w\", \"Cluster\": 0, \"Sample Point\": \"R3.Ratio\", \"Ratio\": 0.473931188332412}, {\"ORF\": \"YER131w\", \"Cluster\": 0, \"Sample Point\": \"R4.Ratio\", \"Ratio\": 0.0439433475875972}, {\"ORF\": \"YER131w\", \"Cluster\": 0, \"Sample Point\": \"R5.Ratio\", \"Ratio\": -0.0143552929770701}, {\"ORF\": \"YER131w\", \"Cluster\": 0, \"Sample Point\": \"R6.Ratio\", \"Ratio\": -1.36737106564853}, {\"ORF\": \"YER131w\", \"Cluster\": 0, \"Sample Point\": \"R7.Ratio\", \"Ratio\": -2.48800077083407}, {\"ORF\": \"YER150w\", \"Cluster\": 1, \"Sample Point\": \"R1.Ratio\", \"Ratio\": -0.0143552929770701}, {\"ORF\": \"YER150w\", \"Cluster\": 1, \"Sample Point\": \"R2.Ratio\", \"Ratio\": 0.184424571137428}, {\"ORF\": \"YER150w\", \"Cluster\": 1, \"Sample Point\": \"R3.Ratio\", \"Ratio\": 1.15200309344505}, {\"ORF\": \"YER150w\", \"Cluster\": 1, \"Sample Point\": \"R4.Ratio\", \"Ratio\": 1.51457317282976}, {\"ORF\": \"YER150w\", \"Cluster\": 1, \"Sample Point\": \"R5.Ratio\", \"Ratio\": 1.59946207041627}, {\"ORF\": \"YER150w\", \"Cluster\": 1, \"Sample Point\": \"R6.Ratio\", \"Ratio\": 3.47393118833241}, {\"ORF\": \"YER150w\", \"Cluster\": 1, \"Sample Point\": \"R7.Ratio\", \"Ratio\": 3.32192809488736}, {\"ORF\": \"YAL003W\", \"Cluster\": 0, \"Sample Point\": \"R1.Ratio\", \"Ratio\": 0.234465253637023}, {\"ORF\": \"YAL003W\", \"Cluster\": 0, \"Sample Point\": \"R2.Ratio\", \"Ratio\": 0.0}, {\"ORF\": \"YAL003W\", \"Cluster\": 0, \"Sample Point\": \"R3.Ratio\", \"Ratio\": -0.0426443374084937}, {\"ORF\": \"YAL003W\", \"Cluster\": 0, \"Sample Point\": \"R4.Ratio\", \"Ratio\": -0.641546029087524}, {\"ORF\": \"YAL003W\", \"Cluster\": 0, \"Sample Point\": \"R5.Ratio\", \"Ratio\": -0.933572638261024}, {\"ORF\": \"YAL003W\", \"Cluster\": 0, \"Sample Point\": \"R6.Ratio\", \"Ratio\": -1.53605290024021}, {\"ORF\": \"YAL003W\", \"Cluster\": 0, \"Sample Point\": \"R7.Ratio\", \"Ratio\": -2.33342373372519}, {\"ORF\": \"YFL014W\", \"Cluster\": 1, \"Sample Point\": \"R1.Ratio\", \"Ratio\": -0.150559676575381}, {\"ORF\": \"YFL014W\", \"Cluster\": 1, \"Sample Point\": \"R2.Ratio\", \"Ratio\": 0.377069649079823}, {\"ORF\": \"YFL014W\", \"Cluster\": 1, \"Sample Point\": \"R3.Ratio\", \"Ratio\": 0.62148837674627}, {\"ORF\": \"YFL014W\", \"Cluster\": 1, \"Sample Point\": \"R4.Ratio\", \"Ratio\": 1.59946207041627}, {\"ORF\": \"YFL014W\", \"Cluster\": 1, \"Sample Point\": \"R5.Ratio\", \"Ratio\": 2.25153876699596}, {\"ORF\": \"YFL014W\", \"Cluster\": 1, \"Sample Point\": \"R6.Ratio\", \"Ratio\": 3.64385618977472}, {\"ORF\": \"YFL014W\", \"Cluster\": 1, \"Sample Point\": \"R7.Ratio\", \"Ratio\": 3.47393118833241}, {\"ORF\": \"YFL054C\", \"Cluster\": 1, \"Sample Point\": \"R1.Ratio\", \"Ratio\": -0.678071905112638}, {\"ORF\": \"YFL054C\", \"Cluster\": 1, \"Sample Point\": \"R2.Ratio\", \"Ratio\": -0.36737106564853}, {\"ORF\": \"YFL054C\", \"Cluster\": 1, \"Sample Point\": \"R3.Ratio\", \"Ratio\": -0.137503523749935}, {\"ORF\": \"YFL054C\", \"Cluster\": 1, \"Sample Point\": \"R4.Ratio\", \"Ratio\": -0.27500704749987}, {\"ORF\": \"YFL054C\", \"Cluster\": 1, \"Sample Point\": \"R5.Ratio\", \"Ratio\": -0.176322772640463}, {\"ORF\": \"YFL054C\", \"Cluster\": 1, \"Sample Point\": \"R6.Ratio\", \"Ratio\": 2.47393118833241}, {\"ORF\": \"YFL054C\", \"Cluster\": 1, \"Sample Point\": \"R7.Ratio\", \"Ratio\": 0.971430847803229}, {\"ORF\": \"YBL078C\", \"Cluster\": 1, \"Sample Point\": \"R1.Ratio\", \"Ratio\": -0.400537929583729}, {\"ORF\": \"YBL078C\", \"Cluster\": 1, \"Sample Point\": \"R2.Ratio\", \"Ratio\": -0.16349873228288}, {\"ORF\": \"YBL078C\", \"Cluster\": 1, \"Sample Point\": \"R3.Ratio\", \"Ratio\": 0.136061549576028}, {\"ORF\": \"YBL078C\", \"Cluster\": 1, \"Sample Point\": \"R4.Ratio\", \"Ratio\": 0.234465253637023}, {\"ORF\": \"YBL078C\", \"Cluster\": 1, \"Sample Point\": \"R5.Ratio\", \"Ratio\": 0.321928094887362}, {\"ORF\": \"YBL078C\", \"Cluster\": 1, \"Sample Point\": \"R6.Ratio\", \"Ratio\": 2.32192809488736}, {\"ORF\": \"YBL078C\", \"Cluster\": 1, \"Sample Point\": \"R7.Ratio\", \"Ratio\": 2.12029423371771}, {\"ORF\": \"YFR015C\", \"Cluster\": 1, \"Sample Point\": \"R1.Ratio\", \"Ratio\": -0.22650852980868}, {\"ORF\": \"YFR015C\", \"Cluster\": 1, \"Sample Point\": \"R2.Ratio\", \"Ratio\": 0.0439433475875972}, {\"ORF\": \"YFR015C\", \"Cluster\": 1, \"Sample Point\": \"R3.Ratio\", \"Ratio\": 0.415037499278844}, {\"ORF\": \"YFR015C\", \"Cluster\": 1, \"Sample Point\": \"R4.Ratio\", \"Ratio\": 1.55639334852439}, {\"ORF\": \"YFR015C\", \"Cluster\": 1, \"Sample Point\": \"R5.Ratio\", \"Ratio\": 1.02914634565952}, {\"ORF\": \"YFR015C\", \"Cluster\": 1, \"Sample Point\": \"R6.Ratio\", \"Ratio\": 2.73696559416621}, {\"ORF\": \"YFR015C\", \"Cluster\": 1, \"Sample Point\": \"R7.Ratio\", \"Ratio\": 2.73696559416621}, {\"ORF\": \"YFR033C\", \"Cluster\": 1, \"Sample Point\": \"R1.Ratio\", \"Ratio\": 0.0588936890535686}, {\"ORF\": \"YFR033C\", \"Cluster\": 1, \"Sample Point\": \"R2.Ratio\", \"Ratio\": -0.111031312388744}, {\"ORF\": \"YFR033C\", \"Cluster\": 1, \"Sample Point\": \"R3.Ratio\", \"Ratio\": 0.0291463456595165}, {\"ORF\": \"YFR033C\", \"Cluster\": 1, \"Sample Point\": \"R4.Ratio\", \"Ratio\": 0.321928094887362}, {\"ORF\": \"YFR033C\", \"Cluster\": 1, \"Sample Point\": \"R5.Ratio\", \"Ratio\": 0.62148837674627}, {\"ORF\": \"YFR033C\", \"Cluster\": 1, \"Sample Point\": \"R6.Ratio\", \"Ratio\": 2.39592867633114}, {\"ORF\": \"YFR033C\", \"Cluster\": 1, \"Sample Point\": \"R7.Ratio\", \"Ratio\": 1.88896868761126}, {\"ORF\": \"YFR053C\", \"Cluster\": 1, \"Sample Point\": \"R1.Ratio\", \"Ratio\": 0.184424571137428}, {\"ORF\": \"YFR053C\", \"Cluster\": 1, \"Sample Point\": \"R2.Ratio\", \"Ratio\": 0.321928094887362}, {\"ORF\": \"YFR053C\", \"Cluster\": 1, \"Sample Point\": \"R3.Ratio\", \"Ratio\": 0.395928676331139}, {\"ORF\": \"YFR053C\", \"Cluster\": 1, \"Sample Point\": \"R4.Ratio\", \"Ratio\": 1.0}, {\"ORF\": \"YFR053C\", \"Cluster\": 1, \"Sample Point\": \"R5.Ratio\", \"Ratio\": 1.47393118833241}, {\"ORF\": \"YFR053C\", \"Cluster\": 1, \"Sample Point\": \"R6.Ratio\", \"Ratio\": 2.55639334852439}, {\"ORF\": \"YFR053C\", \"Cluster\": 1, \"Sample Point\": \"R7.Ratio\", \"Ratio\": 0.377069649079823}, {\"ORF\": \"YGL031C\", \"Cluster\": 0, \"Sample Point\": \"R1.Ratio\", \"Ratio\": 0.0291463456595165}, {\"ORF\": \"YGL031C\", \"Cluster\": 0, \"Sample Point\": \"R2.Ratio\", \"Ratio\": 0.0}, {\"ORF\": \"YGL031C\", \"Cluster\": 0, \"Sample Point\": \"R3.Ratio\", \"Ratio\": 0.0439433475875972}, {\"ORF\": \"YGL031C\", \"Cluster\": 0, \"Sample Point\": \"R4.Ratio\", \"Ratio\": -0.137503523749935}, {\"ORF\": \"YGL031C\", \"Cluster\": 0, \"Sample Point\": \"R5.Ratio\", \"Ratio\": 0.0}, {\"ORF\": \"YGL031C\", \"Cluster\": 0, \"Sample Point\": \"R6.Ratio\", \"Ratio\": -0.669026765509631}, {\"ORF\": \"YGL031C\", \"Cluster\": 0, \"Sample Point\": \"R7.Ratio\", \"Ratio\": -2.31324585178756}, {\"ORF\": \"YGL037C\", \"Cluster\": 1, \"Sample Point\": \"R1.Ratio\", \"Ratio\": 0.200912693925996}, {\"ORF\": \"YGL037C\", \"Cluster\": 1, \"Sample Point\": \"R2.Ratio\", \"Ratio\": 0.377069649079823}, {\"ORF\": \"YGL037C\", \"Cluster\": 1, \"Sample Point\": \"R3.Ratio\", \"Ratio\": 0.286304185156641}, {\"ORF\": \"YGL037C\", \"Cluster\": 1, \"Sample Point\": \"R4.Ratio\", \"Ratio\": 1.15200309344505}, {\"ORF\": \"YGL037C\", \"Cluster\": 1, \"Sample Point\": \"R5.Ratio\", \"Ratio\": 1.47393118833241}, {\"ORF\": \"YGL037C\", \"Cluster\": 1, \"Sample Point\": \"R6.Ratio\", \"Ratio\": 2.83650126771712}, {\"ORF\": \"YGL037C\", \"Cluster\": 1, \"Sample Point\": \"R7.Ratio\", \"Ratio\": 1.83650126771712}, {\"ORF\": \"YGL076C\", \"Cluster\": 0, \"Sample Point\": \"R1.Ratio\", \"Ratio\": 0.0740005814437768}, {\"ORF\": \"YGL076C\", \"Cluster\": 0, \"Sample Point\": \"R2.Ratio\", \"Ratio\": -0.411426245726465}, {\"ORF\": \"YGL076C\", \"Cluster\": 0, \"Sample Point\": \"R3.Ratio\", \"Ratio\": -0.028569152196771}, {\"ORF\": \"YGL076C\", \"Cluster\": 0, \"Sample Point\": \"R4.Ratio\", \"Ratio\": -0.790772037862}, {\"ORF\": \"YGL076C\", \"Cluster\": 0, \"Sample Point\": \"R5.Ratio\", \"Ratio\": -0.839959587489532}, {\"ORF\": \"YGL076C\", \"Cluster\": 0, \"Sample Point\": \"R6.Ratio\", \"Ratio\": -1.6959938131099}, {\"ORF\": \"YGL076C\", \"Cluster\": 0, \"Sample Point\": \"R7.Ratio\", \"Ratio\": -2.78868571061353}, {\"ORF\": \"YGL078C\", \"Cluster\": 0, \"Sample Point\": \"R1.Ratio\", \"Ratio\": -0.0143552929770701}, {\"ORF\": \"YGL078C\", \"Cluster\": 0, \"Sample Point\": \"R2.Ratio\", \"Ratio\": -0.250961573533219}, {\"ORF\": \"YGL078C\", \"Cluster\": 0, \"Sample Point\": \"R3.Ratio\", \"Ratio\": 0.321928094887362}, {\"ORF\": \"YGL078C\", \"Cluster\": 0, \"Sample Point\": \"R4.Ratio\", \"Ratio\": -0.831877241191673}, {\"ORF\": \"YGL078C\", \"Cluster\": 0, \"Sample Point\": \"R5.Ratio\", \"Ratio\": -0.831877241191673}, {\"ORF\": \"YGL078C\", \"Cluster\": 0, \"Sample Point\": \"R6.Ratio\", \"Ratio\": -1.46988597627446}, {\"ORF\": \"YGL078C\", \"Cluster\": 0, \"Sample Point\": \"R7.Ratio\", \"Ratio\": -2.4594316186373}, {\"ORF\": \"YGL102C\", \"Cluster\": 0, \"Sample Point\": \"R1.Ratio\", \"Ratio\": 0.0291463456595165}, {\"ORF\": \"YGL102C\", \"Cluster\": 0, \"Sample Point\": \"R2.Ratio\", \"Ratio\": -0.0976107966264223}, {\"ORF\": \"YGL102C\", \"Cluster\": 0, \"Sample Point\": \"R3.Ratio\", \"Ratio\": 0.168122758808327}, {\"ORF\": \"YGL102C\", \"Cluster\": 0, \"Sample Point\": \"R4.Ratio\", \"Ratio\": 0.0}, {\"ORF\": \"YGL102C\", \"Cluster\": 0, \"Sample Point\": \"R5.Ratio\", \"Ratio\": -0.028569152196771}, {\"ORF\": \"YGL102C\", \"Cluster\": 0, \"Sample Point\": \"R6.Ratio\", \"Ratio\": -1.39506279951758}, {\"ORF\": \"YGL102C\", \"Cluster\": 0, \"Sample Point\": \"R7.Ratio\", \"Ratio\": -2.55090066464752}, {\"ORF\": \"YBL100C\", \"Cluster\": 1, \"Sample Point\": \"R1.Ratio\", \"Ratio\": 0.136061549576028}, {\"ORF\": \"YBL100C\", \"Cluster\": 1, \"Sample Point\": \"R2.Ratio\", \"Ratio\": 0.217591435072627}, {\"ORF\": \"YBL100C\", \"Cluster\": 1, \"Sample Point\": \"R3.Ratio\", \"Ratio\": 0.415037499278844}, {\"ORF\": \"YBL100C\", \"Cluster\": 1, \"Sample Point\": \"R4.Ratio\", \"Ratio\": 0.577766999316952}, {\"ORF\": \"YBL100C\", \"Cluster\": 1, \"Sample Point\": \"R5.Ratio\", \"Ratio\": 0.888968687611256}, {\"ORF\": \"YBL100C\", \"Cluster\": 1, \"Sample Point\": \"R6.Ratio\", \"Ratio\": 1.28630418515664}, {\"ORF\": \"YBL100C\", \"Cluster\": 1, \"Sample Point\": \"R7.Ratio\", \"Ratio\": 2.39592867633114}, {\"ORF\": \"YGL191W\", \"Cluster\": 1, \"Sample Point\": \"R1.Ratio\", \"Ratio\": 0.0439433475875972}, {\"ORF\": \"YGL191W\", \"Cluster\": 1, \"Sample Point\": \"R2.Ratio\", \"Ratio\": -0.070389327891398}, {\"ORF\": \"YGL191W\", \"Cluster\": 1, \"Sample Point\": \"R3.Ratio\", \"Ratio\": 0.0291463456595165}, {\"ORF\": \"YGL191W\", \"Cluster\": 1, \"Sample Point\": \"R4.Ratio\", \"Ratio\": 0.0291463456595165}, {\"ORF\": \"YGL191W\", \"Cluster\": 1, \"Sample Point\": \"R5.Ratio\", \"Ratio\": 0.888968687611256}, {\"ORF\": \"YGL191W\", \"Cluster\": 1, \"Sample Point\": \"R6.Ratio\", \"Ratio\": 2.47393118833241}, {\"ORF\": \"YGL191W\", \"Cluster\": 1, \"Sample Point\": \"R7.Ratio\", \"Ratio\": 2.32192809488736}, {\"ORF\": \"YBL108W\", \"Cluster\": 1, \"Sample Point\": \"R1.Ratio\", \"Ratio\": 0.0439433475875972}, {\"ORF\": \"YBL108W\", \"Cluster\": 1, \"Sample Point\": \"R2.Ratio\", \"Ratio\": 0.0892673380970873}, {\"ORF\": \"YBL108W\", \"Cluster\": 1, \"Sample Point\": \"R3.Ratio\", \"Ratio\": 0.395928676331139}, {\"ORF\": \"YBL108W\", \"Cluster\": 1, \"Sample Point\": \"R4.Ratio\", \"Ratio\": 0.217591435072627}, {\"ORF\": \"YBL108W\", \"Cluster\": 1, \"Sample Point\": \"R5.Ratio\", \"Ratio\": 0.971430847803229}, {\"ORF\": \"YBL108W\", \"Cluster\": 1, \"Sample Point\": \"R6.Ratio\", \"Ratio\": 0.888968687611256}, {\"ORF\": \"YBL108W\", \"Cluster\": 1, \"Sample Point\": \"R7.Ratio\", \"Ratio\": 2.39592867633114}, {\"ORF\": \"YGL259W\", \"Cluster\": 1, \"Sample Point\": \"R1.Ratio\", \"Ratio\": -0.137503523749935}, {\"ORF\": \"YGL259W\", \"Cluster\": 1, \"Sample Point\": \"R2.Ratio\", \"Ratio\": -0.070389327891398}, {\"ORF\": \"YGL259W\", \"Cluster\": 1, \"Sample Point\": \"R3.Ratio\", \"Ratio\": 0.473931188332412}, {\"ORF\": \"YGL259W\", \"Cluster\": 1, \"Sample Point\": \"R4.Ratio\", \"Ratio\": 0.643856189774725}, {\"ORF\": \"YGL259W\", \"Cluster\": 1, \"Sample Point\": \"R5.Ratio\", \"Ratio\": 0.377069649079823}, {\"ORF\": \"YGL259W\", \"Cluster\": 1, \"Sample Point\": \"R6.Ratio\", \"Ratio\": 1.68965987938785}, {\"ORF\": \"YGL259W\", \"Cluster\": 1, \"Sample Point\": \"R7.Ratio\", \"Ratio\": 2.83650126771712}, {\"ORF\": \"YGR008C\", \"Cluster\": 1, \"Sample Point\": \"R1.Ratio\", \"Ratio\": -0.0565835283663676}, {\"ORF\": \"YGR008C\", \"Cluster\": 1, \"Sample Point\": \"R2.Ratio\", \"Ratio\": 0.0439433475875972}, {\"ORF\": \"YGR008C\", \"Cluster\": 1, \"Sample Point\": \"R3.Ratio\", \"Ratio\": 0.494109070270043}, {\"ORF\": \"YGR008C\", \"Cluster\": 1, \"Sample Point\": \"R4.Ratio\", \"Ratio\": 1.12029423371771}, {\"ORF\": \"YGR008C\", \"Cluster\": 1, \"Sample Point\": \"R5.Ratio\", \"Ratio\": 1.05889368905357}, {\"ORF\": \"YGR008C\", \"Cluster\": 1, \"Sample Point\": \"R6.Ratio\", \"Ratio\": 2.73696559416621}, {\"ORF\": \"YGR008C\", \"Cluster\": 1, \"Sample Point\": \"R7.Ratio\", \"Ratio\": 2.05889368905357}, {\"ORF\": \"YGR043C\", \"Cluster\": 1, \"Sample Point\": \"R1.Ratio\", \"Ratio\": -0.432959407276106}, {\"ORF\": \"YGR043C\", \"Cluster\": 1, \"Sample Point\": \"R2.Ratio\", \"Ratio\": -0.7311832415722}, {\"ORF\": \"YGR043C\", \"Cluster\": 1, \"Sample Point\": \"R3.Ratio\", \"Ratio\": -0.0565835283663676}, {\"ORF\": \"YGR043C\", \"Cluster\": 1, \"Sample Point\": \"R4.Ratio\", \"Ratio\": -0.111031312388744}, {\"ORF\": \"YGR043C\", \"Cluster\": 1, \"Sample Point\": \"R5.Ratio\", \"Ratio\": -0.16349873228288}, {\"ORF\": \"YGR043C\", \"Cluster\": 1, \"Sample Point\": \"R6.Ratio\", \"Ratio\": 3.47393118833241}, {\"ORF\": \"YGR043C\", \"Cluster\": 1, \"Sample Point\": \"R7.Ratio\", \"Ratio\": 2.64385618977472}, {\"ORF\": \"YGR067C\", \"Cluster\": 1, \"Sample Point\": \"R1.Ratio\", \"Ratio\": 0.0439433475875972}, {\"ORF\": \"YGR067C\", \"Cluster\": 1, \"Sample Point\": \"R2.Ratio\", \"Ratio\": -0.0976107966264223}, {\"ORF\": \"YGR067C\", \"Cluster\": 1, \"Sample Point\": \"R3.Ratio\", \"Ratio\": 0.168122758808327}, {\"ORF\": \"YGR067C\", \"Cluster\": 1, \"Sample Point\": \"R4.Ratio\", \"Ratio\": -0.344828496997441}, {\"ORF\": \"YGR067C\", \"Cluster\": 1, \"Sample Point\": \"R5.Ratio\", \"Ratio\": -0.37851162325373}, {\"ORF\": \"YGR067C\", \"Cluster\": 1, \"Sample Point\": \"R6.Ratio\", \"Ratio\": 0.599462070416271}, {\"ORF\": \"YGR067C\", \"Cluster\": 1, \"Sample Point\": \"R7.Ratio\", \"Ratio\": 2.39592867633114}, {\"ORF\": \"YGR088W\", \"Cluster\": 1, \"Sample Point\": \"R1.Ratio\", \"Ratio\": 0.15200309344505}, {\"ORF\": \"YGR088W\", \"Cluster\": 1, \"Sample Point\": \"R2.Ratio\", \"Ratio\": 0.0588936890535686}, {\"ORF\": \"YGR088W\", \"Cluster\": 1, \"Sample Point\": \"R3.Ratio\", \"Ratio\": 0.217591435072627}, {\"ORF\": \"YGR088W\", \"Cluster\": 1, \"Sample Point\": \"R4.Ratio\", \"Ratio\": 0.736965594166206}, {\"ORF\": \"YGR088W\", \"Cluster\": 1, \"Sample Point\": \"R5.Ratio\", \"Ratio\": 0.971430847803229}, {\"ORF\": \"YGR088W\", \"Cluster\": 1, \"Sample Point\": \"R6.Ratio\", \"Ratio\": 3.64385618977472}, {\"ORF\": \"YGR088W\", \"Cluster\": 1, \"Sample Point\": \"R7.Ratio\", \"Ratio\": 2.94341647163363}, {\"ORF\": \"YGR103W\", \"Cluster\": 0, \"Sample Point\": \"R1.Ratio\", \"Ratio\": 0.15200309344505}, {\"ORF\": \"YGR103W\", \"Cluster\": 0, \"Sample Point\": \"R2.Ratio\", \"Ratio\": -0.0565835283663676}, {\"ORF\": \"YGR103W\", \"Cluster\": 0, \"Sample Point\": \"R3.Ratio\", \"Ratio\": 0.321928094887362}, {\"ORF\": \"YGR103W\", \"Cluster\": 0, \"Sample Point\": \"R4.Ratio\", \"Ratio\": -0.903038270112912}, {\"ORF\": \"YGR103W\", \"Cluster\": 0, \"Sample Point\": \"R5.Ratio\", \"Ratio\": -1.10433665981474}, {\"ORF\": \"YGR103W\", \"Cluster\": 0, \"Sample Point\": \"R6.Ratio\", \"Ratio\": -1.64154602908752}, {\"ORF\": \"YGR103W\", \"Cluster\": 0, \"Sample Point\": \"R7.Ratio\", \"Ratio\": -2.56315813040281}, {\"ORF\": \"YGR148C\", \"Cluster\": 0, \"Sample Point\": \"R1.Ratio\", \"Ratio\": 0.200912693925996}, {\"ORF\": \"YGR148C\", \"Cluster\": 0, \"Sample Point\": \"R2.Ratio\", \"Ratio\": 0.104697378666693}, {\"ORF\": \"YGR148C\", \"Cluster\": 0, \"Sample Point\": \"R3.Ratio\", \"Ratio\": 0.0588936890535686}, {\"ORF\": \"YGR148C\", \"Cluster\": 0, \"Sample Point\": \"R4.Ratio\", \"Ratio\": -0.286881147788162}, {\"ORF\": \"YGR148C\", \"Cluster\": 0, \"Sample Point\": \"R5.Ratio\", \"Ratio\": -0.27500704749987}, {\"ORF\": \"YGR148C\", \"Cluster\": 0, \"Sample Point\": \"R6.Ratio\", \"Ratio\": -1.81966818349646}, {\"ORF\": \"YGR148C\", \"Cluster\": 0, \"Sample Point\": \"R7.Ratio\", \"Ratio\": -2.61588707391606}, {\"ORF\": \"YGR160W\", \"Cluster\": 0, \"Sample Point\": \"R1.Ratio\", \"Ratio\": 0.321928094887362}, {\"ORF\": \"YGR160W\", \"Cluster\": 0, \"Sample Point\": \"R2.Ratio\", \"Ratio\": 0.104697378666693}, {\"ORF\": \"YGR160W\", \"Cluster\": 0, \"Sample Point\": \"R3.Ratio\", \"Ratio\": -0.250961573533219}, {\"ORF\": \"YGR160W\", \"Cluster\": 0, \"Sample Point\": \"R4.Ratio\", \"Ratio\": -1.48542682717024}, {\"ORF\": \"YGR160W\", \"Cluster\": 0, \"Sample Point\": \"R5.Ratio\", \"Ratio\": -1.48026512205446}, {\"ORF\": \"YGR160W\", \"Cluster\": 0, \"Sample Point\": \"R6.Ratio\", \"Ratio\": -2.50842865253186}, {\"ORF\": \"YGR160W\", \"Cluster\": 0, \"Sample Point\": \"R7.Ratio\", \"Ratio\": -3.21412480535285}, {\"ORF\": \"YGR214W\", \"Cluster\": 0, \"Sample Point\": \"R1.Ratio\", \"Ratio\": 0.2688167584278}, {\"ORF\": \"YGR214W\", \"Cluster\": 0, \"Sample Point\": \"R2.Ratio\", \"Ratio\": 0.15200309344505}, {\"ORF\": \"YGR214W\", \"Cluster\": 0, \"Sample Point\": \"R3.Ratio\", \"Ratio\": 0.454031630894707}, {\"ORF\": \"YGR214W\", \"Cluster\": 0, \"Sample Point\": \"R4.Ratio\", \"Ratio\": -0.36737106564853}, {\"ORF\": \"YGR214W\", \"Cluster\": 0, \"Sample Point\": \"R5.Ratio\", \"Ratio\": -0.286881147788162}, {\"ORF\": \"YGR214W\", \"Cluster\": 0, \"Sample Point\": \"R6.Ratio\", \"Ratio\": -1.66902676550963}, {\"ORF\": \"YGR214W\", \"Cluster\": 0, \"Sample Point\": \"R7.Ratio\", \"Ratio\": -2.45154083301783}, {\"ORF\": \"YGR236C\", \"Cluster\": 1, \"Sample Point\": \"R1.Ratio\", \"Ratio\": -0.124328135002202}, {\"ORF\": \"YGR236C\", \"Cluster\": 1, \"Sample Point\": \"R2.Ratio\", \"Ratio\": -0.189033824390017}, {\"ORF\": \"YGR236C\", \"Cluster\": 1, \"Sample Point\": \"R3.Ratio\", \"Ratio\": -0.298658315564515}, {\"ORF\": \"YGR236C\", \"Cluster\": 1, \"Sample Point\": \"R4.Ratio\", \"Ratio\": -0.495695162624069}, {\"ORF\": \"YGR236C\", \"Cluster\": 1, \"Sample Point\": \"R5.Ratio\", \"Ratio\": -0.641546029087524}, {\"ORF\": \"YGR236C\", \"Cluster\": 1, \"Sample Point\": \"R6.Ratio\", \"Ratio\": 3.47393118833241}, {\"ORF\": \"YGR236C\", \"Cluster\": 1, \"Sample Point\": \"R7.Ratio\", \"Ratio\": 2.83650126771712}, {\"ORF\": \"YGR243W\", \"Cluster\": 1, \"Sample Point\": \"R1.Ratio\", \"Ratio\": -0.344828496997441}, {\"ORF\": \"YGR243W\", \"Cluster\": 1, \"Sample Point\": \"R2.Ratio\", \"Ratio\": -0.27500704749987}, {\"ORF\": \"YGR243W\", \"Cluster\": 1, \"Sample Point\": \"R3.Ratio\", \"Ratio\": -0.37851162325373}, {\"ORF\": \"YGR243W\", \"Cluster\": 1, \"Sample Point\": \"R4.Ratio\", \"Ratio\": -0.20163386116965}, {\"ORF\": \"YGR243W\", \"Cluster\": 1, \"Sample Point\": \"R5.Ratio\", \"Ratio\": -0.411426245726465}, {\"ORF\": \"YGR243W\", \"Cluster\": 1, \"Sample Point\": \"R6.Ratio\", \"Ratio\": 3.18442457113743}, {\"ORF\": \"YGR243W\", \"Cluster\": 1, \"Sample Point\": \"R7.Ratio\", \"Ratio\": 2.47393118833241}, {\"ORF\": \"YGR244C\", \"Cluster\": 1, \"Sample Point\": \"R1.Ratio\", \"Ratio\": 0.0439433475875972}, {\"ORF\": \"YGR244C\", \"Cluster\": 1, \"Sample Point\": \"R2.Ratio\", \"Ratio\": 0.2688167584278}, {\"ORF\": \"YGR244C\", \"Cluster\": 1, \"Sample Point\": \"R3.Ratio\", \"Ratio\": 0.761213140412884}, {\"ORF\": \"YGR244C\", \"Cluster\": 1, \"Sample Point\": \"R4.Ratio\", \"Ratio\": 0.943416471633632}, {\"ORF\": \"YGR244C\", \"Cluster\": 1, \"Sample Point\": \"R5.Ratio\", \"Ratio\": 1.47393118833241}, {\"ORF\": \"YGR244C\", \"Cluster\": 1, \"Sample Point\": \"R6.Ratio\", \"Ratio\": 2.39592867633114}, {\"ORF\": \"YGR244C\", \"Cluster\": 1, \"Sample Point\": \"R7.Ratio\", \"Ratio\": 2.05889368905357}, {\"ORF\": \"YGR248W\", \"Cluster\": 1, \"Sample Point\": \"R1.Ratio\", \"Ratio\": -0.298658315564515}, {\"ORF\": \"YGR248W\", \"Cluster\": 1, \"Sample Point\": \"R2.Ratio\", \"Ratio\": -0.389566811762726}, {\"ORF\": \"YGR248W\", \"Cluster\": 1, \"Sample Point\": \"R3.Ratio\", \"Ratio\": 0.434402824145775}, {\"ORF\": \"YGR248W\", \"Cluster\": 1, \"Sample Point\": \"R4.Ratio\", \"Ratio\": 0.666576266274808}, {\"ORF\": \"YGR248W\", \"Cluster\": 1, \"Sample Point\": \"R5.Ratio\", \"Ratio\": 1.39592867633114}, {\"ORF\": \"YGR248W\", \"Cluster\": 1, \"Sample Point\": \"R6.Ratio\", \"Ratio\": 4.05889368905357}, {\"ORF\": \"YGR248W\", \"Cluster\": 1, \"Sample Point\": \"R7.Ratio\", \"Ratio\": 2.47393118833241}, {\"ORF\": \"YGR264C\", \"Cluster\": 0, \"Sample Point\": \"R1.Ratio\", \"Ratio\": 0.415037499278844}, {\"ORF\": \"YGR264C\", \"Cluster\": 0, \"Sample Point\": \"R2.Ratio\", \"Ratio\": 0.434402824145775}, {\"ORF\": \"YGR264C\", \"Cluster\": 0, \"Sample Point\": \"R3.Ratio\", \"Ratio\": 0.0}, {\"ORF\": \"YGR264C\", \"Cluster\": 0, \"Sample Point\": \"R4.Ratio\", \"Ratio\": -0.722466024471091}, {\"ORF\": \"YGR264C\", \"Cluster\": 0, \"Sample Point\": \"R5.Ratio\", \"Ratio\": -0.815575428862572}, {\"ORF\": \"YGR264C\", \"Cluster\": 0, \"Sample Point\": \"R6.Ratio\", \"Ratio\": -2.55581615506164}, {\"ORF\": \"YGR264C\", \"Cluster\": 0, \"Sample Point\": \"R7.Ratio\", \"Ratio\": -2.08746284125034}, {\"ORF\": \"YHL015W\", \"Cluster\": 0, \"Sample Point\": \"R1.Ratio\", \"Ratio\": 0.168122758808327}, {\"ORF\": \"YHL015W\", \"Cluster\": 0, \"Sample Point\": \"R2.Ratio\", \"Ratio\": 0.321928094887362}, {\"ORF\": \"YHL015W\", \"Cluster\": 0, \"Sample Point\": \"R3.Ratio\", \"Ratio\": 0.104697378666693}, {\"ORF\": \"YHL015W\", \"Cluster\": 0, \"Sample Point\": \"R4.Ratio\", \"Ratio\": -0.0840642647884746}, {\"ORF\": \"YHL015W\", \"Cluster\": 0, \"Sample Point\": \"R5.Ratio\", \"Ratio\": -0.176322772640463}, {\"ORF\": \"YHL015W\", \"Cluster\": 0, \"Sample Point\": \"R6.Ratio\", \"Ratio\": -1.80322703643493}, {\"ORF\": \"YHL015W\", \"Cluster\": 0, \"Sample Point\": \"R7.Ratio\", \"Ratio\": -2.85598969730848}, {\"ORF\": \"YHL021C\", \"Cluster\": 1, \"Sample Point\": \"R1.Ratio\", \"Ratio\": -0.443606651475615}, {\"ORF\": \"YHL021C\", \"Cluster\": 1, \"Sample Point\": \"R2.Ratio\", \"Ratio\": 0.120294233717712}, {\"ORF\": \"YHL021C\", \"Cluster\": 1, \"Sample Point\": \"R3.Ratio\", \"Ratio\": 0.643856189774725}, {\"ORF\": \"YHL021C\", \"Cluster\": 1, \"Sample Point\": \"R4.Ratio\", \"Ratio\": 1.0}, {\"ORF\": \"YHL021C\", \"Cluster\": 1, \"Sample Point\": \"R5.Ratio\", \"Ratio\": 0.785875194647153}, {\"ORF\": \"YHL021C\", \"Cluster\": 1, \"Sample Point\": \"R6.Ratio\", \"Ratio\": 2.94341647163363}, {\"ORF\": \"YHL021C\", \"Cluster\": 1, \"Sample Point\": \"R7.Ratio\", \"Ratio\": 2.47393118833241}, {\"ORF\": \"YHL033C\", \"Cluster\": 0, \"Sample Point\": \"R1.Ratio\", \"Ratio\": 0.340075441597622}, {\"ORF\": \"YHL033C\", \"Cluster\": 0, \"Sample Point\": \"R2.Ratio\", \"Ratio\": 0.217591435072627}, {\"ORF\": \"YHL033C\", \"Cluster\": 0, \"Sample Point\": \"R3.Ratio\", \"Ratio\": 0.184424571137428}, {\"ORF\": \"YHL033C\", \"Cluster\": 0, \"Sample Point\": \"R4.Ratio\", \"Ratio\": -0.176322772640463}, {\"ORF\": \"YHL033C\", \"Cluster\": 0, \"Sample Point\": \"R5.Ratio\", \"Ratio\": -0.505890929729957}, {\"ORF\": \"YHL033C\", \"Cluster\": 0, \"Sample Point\": \"R6.Ratio\", \"Ratio\": -1.56559717585423}, {\"ORF\": \"YHL033C\", \"Cluster\": 0, \"Sample Point\": \"R7.Ratio\", \"Ratio\": -2.51349074558812}, {\"ORF\": \"YBR032W\", \"Cluster\": 0, \"Sample Point\": \"R1.Ratio\", \"Ratio\": 0.0}, {\"ORF\": \"YBR032W\", \"Cluster\": 0, \"Sample Point\": \"R2.Ratio\", \"Ratio\": 0.15200309344505}, {\"ORF\": \"YBR032W\", \"Cluster\": 0, \"Sample Point\": \"R3.Ratio\", \"Ratio\": 0.395928676331139}, {\"ORF\": \"YBR032W\", \"Cluster\": 0, \"Sample Point\": \"R4.Ratio\", \"Ratio\": 0.136061549576028}, {\"ORF\": \"YBR032W\", \"Cluster\": 0, \"Sample Point\": \"R5.Ratio\", \"Ratio\": -0.0565835283663676}, {\"ORF\": \"YBR032W\", \"Cluster\": 0, \"Sample Point\": \"R6.Ratio\", \"Ratio\": -1.09761079662642}, {\"ORF\": \"YBR032W\", \"Cluster\": 0, \"Sample Point\": \"R7.Ratio\", \"Ratio\": -2.39780296186249}, {\"ORF\": \"YAL012W\", \"Cluster\": 0, \"Sample Point\": \"R1.Ratio\", \"Ratio\": 0.104697378666693}, {\"ORF\": \"YAL012W\", \"Cluster\": 0, \"Sample Point\": \"R2.Ratio\", \"Ratio\": -0.0143552929770701}, {\"ORF\": \"YAL012W\", \"Cluster\": 0, \"Sample Point\": \"R3.Ratio\", \"Ratio\": 0.556393348524385}, {\"ORF\": \"YAL012W\", \"Cluster\": 0, \"Sample Point\": \"R4.Ratio\", \"Ratio\": -0.575312330687437}, {\"ORF\": \"YAL012W\", \"Cluster\": 0, \"Sample Point\": \"R5.Ratio\", \"Ratio\": -0.7311832415722}, {\"ORF\": \"YAL012W\", \"Cluster\": 0, \"Sample Point\": \"R6.Ratio\", \"Ratio\": -1.25096157353322}, {\"ORF\": \"YAL012W\", \"Cluster\": 0, \"Sample Point\": \"R7.Ratio\", \"Ratio\": -2.52105073690096}, {\"ORF\": \"YHR051W\", \"Cluster\": 1, \"Sample Point\": \"R1.Ratio\", \"Ratio\": 0.200912693925996}, {\"ORF\": \"YHR051W\", \"Cluster\": 1, \"Sample Point\": \"R2.Ratio\", \"Ratio\": 0.0291463456595165}, {\"ORF\": \"YHR051W\", \"Cluster\": 1, \"Sample Point\": \"R3.Ratio\", \"Ratio\": 0.200912693925996}, {\"ORF\": \"YHR051W\", \"Cluster\": 1, \"Sample Point\": \"R4.Ratio\", \"Ratio\": 0.415037499278844}, {\"ORF\": \"YHR051W\", \"Cluster\": 1, \"Sample Point\": \"R5.Ratio\", \"Ratio\": 0.761213140412884}, {\"ORF\": \"YHR051W\", \"Cluster\": 1, \"Sample Point\": \"R6.Ratio\", \"Ratio\": 2.18442457113743}, {\"ORF\": \"YHR051W\", \"Cluster\": 1, \"Sample Point\": \"R7.Ratio\", \"Ratio\": 2.47393118833241}, {\"ORF\": \"YHR087W\", \"Cluster\": 1, \"Sample Point\": \"R1.Ratio\", \"Ratio\": -0.411426245726465}, {\"ORF\": \"YHR087W\", \"Cluster\": 1, \"Sample Point\": \"R2.Ratio\", \"Ratio\": -0.422233000683048}, {\"ORF\": \"YHR087W\", \"Cluster\": 1, \"Sample Point\": \"R3.Ratio\", \"Ratio\": -0.111031312388744}, {\"ORF\": \"YHR087W\", \"Cluster\": 1, \"Sample Point\": \"R4.Ratio\", \"Ratio\": 0.104697378666693}, {\"ORF\": \"YHR087W\", \"Cluster\": 1, \"Sample Point\": \"R5.Ratio\", \"Ratio\": 0.888968687611256}, {\"ORF\": \"YHR087W\", \"Cluster\": 1, \"Sample Point\": \"R6.Ratio\", \"Ratio\": 2.94341647163363}, {\"ORF\": \"YHR087W\", \"Cluster\": 1, \"Sample Point\": \"R7.Ratio\", \"Ratio\": 0.971430847803229}, {\"ORF\": \"YHR089C\", \"Cluster\": 0, \"Sample Point\": \"R1.Ratio\", \"Ratio\": -0.20163386116965}, {\"ORF\": \"YHR089C\", \"Cluster\": 0, \"Sample Point\": \"R2.Ratio\", \"Ratio\": -0.333423733725192}, {\"ORF\": \"YHR089C\", \"Cluster\": 0, \"Sample Point\": \"R3.Ratio\", \"Ratio\": -0.137503523749935}, {\"ORF\": \"YHR089C\", \"Cluster\": 0, \"Sample Point\": \"R4.Ratio\", \"Ratio\": -0.713695814843359}, {\"ORF\": \"YHR089C\", \"Cluster\": 0, \"Sample Point\": \"R5.Ratio\", \"Ratio\": -0.464668267003444}, {\"ORF\": \"YHR089C\", \"Cluster\": 0, \"Sample Point\": \"R6.Ratio\", \"Ratio\": -2.16992500144231}, {\"ORF\": \"YHR089C\", \"Cluster\": 0, \"Sample Point\": \"R7.Ratio\", \"Ratio\": -2.63459326844576}, {\"ORF\": \"YHR096C\", \"Cluster\": 1, \"Sample Point\": \"R1.Ratio\", \"Ratio\": -0.124328135002202}, {\"ORF\": \"YHR096C\", \"Cluster\": 1, \"Sample Point\": \"R2.Ratio\", \"Ratio\": -0.0426443374084937}, {\"ORF\": \"YHR096C\", \"Cluster\": 1, \"Sample Point\": \"R3.Ratio\", \"Ratio\": 0.666576266274808}, {\"ORF\": \"YHR096C\", \"Cluster\": 1, \"Sample Point\": \"R4.Ratio\", \"Ratio\": 0.321928094887362}, {\"ORF\": \"YHR096C\", \"Cluster\": 1, \"Sample Point\": \"R5.Ratio\", \"Ratio\": -0.321928094887362}, {\"ORF\": \"YHR096C\", \"Cluster\": 1, \"Sample Point\": \"R6.Ratio\", \"Ratio\": 1.43440282414577}, {\"ORF\": \"YHR096C\", \"Cluster\": 1, \"Sample Point\": \"R7.Ratio\", \"Ratio\": 3.05889368905357}, {\"ORF\": \"YHR104W\", \"Cluster\": 1, \"Sample Point\": \"R1.Ratio\", \"Ratio\": 0.286304185156641}, {\"ORF\": \"YHR104W\", \"Cluster\": 1, \"Sample Point\": \"R2.Ratio\", \"Ratio\": 0.2688167584278}, {\"ORF\": \"YHR104W\", \"Cluster\": 1, \"Sample Point\": \"R3.Ratio\", \"Ratio\": 0.556393348524385}, {\"ORF\": \"YHR104W\", \"Cluster\": 1, \"Sample Point\": \"R4.Ratio\", \"Ratio\": 0.643856189774725}, {\"ORF\": \"YHR104W\", \"Cluster\": 1, \"Sample Point\": \"R5.Ratio\", \"Ratio\": 0.577766999316952}, {\"ORF\": \"YHR104W\", \"Cluster\": 1, \"Sample Point\": \"R6.Ratio\", \"Ratio\": 2.39592867633114}, {\"ORF\": \"YHR104W\", \"Cluster\": 1, \"Sample Point\": \"R7.Ratio\", \"Ratio\": 1.25153876699596}, {\"ORF\": \"YHR128W\", \"Cluster\": 0, \"Sample Point\": \"R1.Ratio\", \"Ratio\": 0.234465253637023}, {\"ORF\": \"YHR128W\", \"Cluster\": 0, \"Sample Point\": \"R2.Ratio\", \"Ratio\": 0.0740005814437768}, {\"ORF\": \"YHR128W\", \"Cluster\": 0, \"Sample Point\": \"R3.Ratio\", \"Ratio\": 0.234465253637023}, {\"ORF\": \"YHR128W\", \"Cluster\": 0, \"Sample Point\": \"R4.Ratio\", \"Ratio\": -0.713695814843359}, {\"ORF\": \"YHR128W\", \"Cluster\": 0, \"Sample Point\": \"R5.Ratio\", \"Ratio\": -0.669026765509631}, {\"ORF\": \"YHR128W\", \"Cluster\": 0, \"Sample Point\": \"R6.Ratio\", \"Ratio\": -1.87184364850932}, {\"ORF\": \"YHR128W\", \"Cluster\": 0, \"Sample Point\": \"R7.Ratio\", \"Ratio\": -2.34482849699744}, {\"ORF\": \"YBR048W\", \"Cluster\": 0, \"Sample Point\": \"R1.Ratio\", \"Ratio\": 0.120294233717712}, {\"ORF\": \"YBR048W\", \"Cluster\": 0, \"Sample Point\": \"R2.Ratio\", \"Ratio\": 0.200912693925996}, {\"ORF\": \"YBR048W\", \"Cluster\": 0, \"Sample Point\": \"R3.Ratio\", \"Ratio\": 0.0740005814437768}, {\"ORF\": \"YBR048W\", \"Cluster\": 0, \"Sample Point\": \"R4.Ratio\", \"Ratio\": -0.411426245726465}, {\"ORF\": \"YBR048W\", \"Cluster\": 0, \"Sample Point\": \"R5.Ratio\", \"Ratio\": -0.992768430768924}, {\"ORF\": \"YBR048W\", \"Cluster\": 0, \"Sample Point\": \"R6.Ratio\", \"Ratio\": -1.51601514700366}, {\"ORF\": \"YBR048W\", \"Cluster\": 0, \"Sample Point\": \"R7.Ratio\", \"Ratio\": -2.48026512205446}, {\"ORF\": \"YBR051W\", \"Cluster\": 1, \"Sample Point\": \"R1.Ratio\", \"Ratio\": -0.150559676575381}, {\"ORF\": \"YBR051W\", \"Cluster\": 1, \"Sample Point\": \"R2.Ratio\", \"Ratio\": 0.200912693925996}, {\"ORF\": \"YBR051W\", \"Cluster\": 1, \"Sample Point\": \"R3.Ratio\", \"Ratio\": 0.0}, {\"ORF\": \"YBR051W\", \"Cluster\": 1, \"Sample Point\": \"R4.Ratio\", \"Ratio\": -0.400537929583729}, {\"ORF\": \"YBR051W\", \"Cluster\": 1, \"Sample Point\": \"R5.Ratio\", \"Ratio\": -0.941106310946431}, {\"ORF\": \"YBR051W\", \"Cluster\": 1, \"Sample Point\": \"R6.Ratio\", \"Ratio\": 0.321928094887362}, {\"ORF\": \"YBR051W\", \"Cluster\": 1, \"Sample Point\": \"R7.Ratio\", \"Ratio\": 2.64385618977472}, {\"ORF\": \"YIL018W\", \"Cluster\": 0, \"Sample Point\": \"R1.Ratio\", \"Ratio\": 0.3040061868901}, {\"ORF\": \"YIL018W\", \"Cluster\": 0, \"Sample Point\": \"R2.Ratio\", \"Ratio\": 0.0892673380970873}, {\"ORF\": \"YIL018W\", \"Cluster\": 0, \"Sample Point\": \"R3.Ratio\", \"Ratio\": 0.2688167584278}, {\"ORF\": \"YIL018W\", \"Cluster\": 0, \"Sample Point\": \"R4.Ratio\", \"Ratio\": -0.214124805352847}, {\"ORF\": \"YIL018W\", \"Cluster\": 0, \"Sample Point\": \"R5.Ratio\", \"Ratio\": -0.176322772640463}, {\"ORF\": \"YIL018W\", \"Cluster\": 0, \"Sample Point\": \"R6.Ratio\", \"Ratio\": -1.37295209791183}, {\"ORF\": \"YIL018W\", \"Cluster\": 0, \"Sample Point\": \"R7.Ratio\", \"Ratio\": -2.33913738491959}, {\"ORF\": \"YIL053W\", \"Cluster\": 0, \"Sample Point\": \"R1.Ratio\", \"Ratio\": 0.2688167584278}, {\"ORF\": \"YIL053W\", \"Cluster\": 0, \"Sample Point\": \"R2.Ratio\", \"Ratio\": -0.0143552929770701}, {\"ORF\": \"YIL053W\", \"Cluster\": 0, \"Sample Point\": \"R3.Ratio\", \"Ratio\": -0.22650852980868}, {\"ORF\": \"YIL053W\", \"Cluster\": 0, \"Sample Point\": \"R4.Ratio\", \"Ratio\": -0.941106310946431}, {\"ORF\": \"YIL053W\", \"Cluster\": 0, \"Sample Point\": \"R5.Ratio\", \"Ratio\": -1.23878685958712}, {\"ORF\": \"YIL053W\", \"Cluster\": 0, \"Sample Point\": \"R6.Ratio\", \"Ratio\": -2.32768736417605}, {\"ORF\": \"YIL053W\", \"Cluster\": 0, \"Sample Point\": \"R7.Ratio\", \"Ratio\": -2.95791459863299}, {\"ORF\": \"YIL069C\", \"Cluster\": 0, \"Sample Point\": \"R1.Ratio\", \"Ratio\": -0.0565835283663676}, {\"ORF\": \"YIL069C\", \"Cluster\": 0, \"Sample Point\": \"R2.Ratio\", \"Ratio\": -0.495695162624069}, {\"ORF\": \"YIL069C\", \"Cluster\": 0, \"Sample Point\": \"R3.Ratio\", \"Ratio\": -0.411426245726465}, {\"ORF\": \"YIL069C\", \"Cluster\": 0, \"Sample Point\": \"R4.Ratio\", \"Ratio\": -0.641546029087524}, {\"ORF\": \"YIL069C\", \"Cluster\": 0, \"Sample Point\": \"R5.Ratio\", \"Ratio\": -0.704871964456353}, {\"ORF\": \"YIL069C\", \"Cluster\": 0, \"Sample Point\": \"R6.Ratio\", \"Ratio\": -1.9560566524124}, {\"ORF\": \"YIL069C\", \"Cluster\": 0, \"Sample Point\": \"R7.Ratio\", \"Ratio\": -2.44625622988956}, {\"ORF\": \"YIL111W\", \"Cluster\": 1, \"Sample Point\": \"R1.Ratio\", \"Ratio\": -0.0840642647884746}, {\"ORF\": \"YIL111W\", \"Cluster\": 1, \"Sample Point\": \"R2.Ratio\", \"Ratio\": 0.136061549576028}, {\"ORF\": \"YIL111W\", \"Cluster\": 1, \"Sample Point\": \"R3.Ratio\", \"Ratio\": 0.666576266274808}, {\"ORF\": \"YIL111W\", \"Cluster\": 1, \"Sample Point\": \"R4.Ratio\", \"Ratio\": 1.08926733809709}, {\"ORF\": \"YIL111W\", \"Cluster\": 1, \"Sample Point\": \"R5.Ratio\", \"Ratio\": 1.47393118833241}, {\"ORF\": \"YIL111W\", \"Cluster\": 1, \"Sample Point\": \"R6.Ratio\", \"Ratio\": 2.94341647163363}, {\"ORF\": \"YIL111W\", \"Cluster\": 1, \"Sample Point\": \"R7.Ratio\", \"Ratio\": 1.08926733809709}, {\"ORF\": \"YIL113W\", \"Cluster\": 1, \"Sample Point\": \"R1.Ratio\", \"Ratio\": -0.333423733725192}, {\"ORF\": \"YIL113W\", \"Cluster\": 1, \"Sample Point\": \"R2.Ratio\", \"Ratio\": -0.356143810225275}, {\"ORF\": \"YIL113W\", \"Cluster\": 1, \"Sample Point\": \"R3.Ratio\", \"Ratio\": -0.298658315564515}, {\"ORF\": \"YIL113W\", \"Cluster\": 1, \"Sample Point\": \"R4.Ratio\", \"Ratio\": 0.0439433475875972}, {\"ORF\": \"YIL113W\", \"Cluster\": 1, \"Sample Point\": \"R5.Ratio\", \"Ratio\": -0.0840642647884746}, {\"ORF\": \"YIL113W\", \"Cluster\": 1, \"Sample Point\": \"R6.Ratio\", \"Ratio\": 2.39592867633114}, {\"ORF\": \"YIL113W\", \"Cluster\": 1, \"Sample Point\": \"R7.Ratio\", \"Ratio\": 1.28630418515664}, {\"ORF\": \"YIL125W\", \"Cluster\": 1, \"Sample Point\": \"R1.Ratio\", \"Ratio\": 0.234465253637023}, {\"ORF\": \"YIL125W\", \"Cluster\": 1, \"Sample Point\": \"R2.Ratio\", \"Ratio\": 0.556393348524385}, {\"ORF\": \"YIL125W\", \"Cluster\": 1, \"Sample Point\": \"R3.Ratio\", \"Ratio\": 0.377069649079823}, {\"ORF\": \"YIL125W\", \"Cluster\": 1, \"Sample Point\": \"R4.Ratio\", \"Ratio\": 0.120294233717712}, {\"ORF\": \"YIL125W\", \"Cluster\": 1, \"Sample Point\": \"R5.Ratio\", \"Ratio\": 0.494109070270043}, {\"ORF\": \"YIL125W\", \"Cluster\": 1, \"Sample Point\": \"R6.Ratio\", \"Ratio\": 1.43440282414577}, {\"ORF\": \"YIL125W\", \"Cluster\": 1, \"Sample Point\": \"R7.Ratio\", \"Ratio\": 2.94341647163363}, {\"ORF\": \"YIL136W\", \"Cluster\": 1, \"Sample Point\": \"R1.Ratio\", \"Ratio\": -0.978195629681652}, {\"ORF\": \"YIL136W\", \"Cluster\": 1, \"Sample Point\": \"R2.Ratio\", \"Ratio\": -0.263034405833794}, {\"ORF\": \"YIL136W\", \"Cluster\": 1, \"Sample Point\": \"R3.Ratio\", \"Ratio\": 0.217591435072627}, {\"ORF\": \"YIL136W\", \"Cluster\": 1, \"Sample Point\": \"R4.Ratio\", \"Ratio\": -0.250961573533219}, {\"ORF\": \"YIL136W\", \"Cluster\": 1, \"Sample Point\": \"R5.Ratio\", \"Ratio\": 1.32192809488736}, {\"ORF\": \"YIL136W\", \"Cluster\": 1, \"Sample Point\": \"R6.Ratio\", \"Ratio\": 3.47393118833241}, {\"ORF\": \"YIL136W\", \"Cluster\": 1, \"Sample Point\": \"R7.Ratio\", \"Ratio\": 1.78587519464715}, {\"ORF\": \"YIL162W\", \"Cluster\": 1, \"Sample Point\": \"R1.Ratio\", \"Ratio\": 0.0588936890535686}, {\"ORF\": \"YIL162W\", \"Cluster\": 1, \"Sample Point\": \"R2.Ratio\", \"Ratio\": 0.377069649079823}, {\"ORF\": \"YIL162W\", \"Cluster\": 1, \"Sample Point\": \"R3.Ratio\", \"Ratio\": 0.785875194647153}, {\"ORF\": \"YIL162W\", \"Cluster\": 1, \"Sample Point\": \"R4.Ratio\", \"Ratio\": 0.377069649079823}, {\"ORF\": \"YIL162W\", \"Cluster\": 1, \"Sample Point\": \"R5.Ratio\", \"Ratio\": 0.0439433475875972}, {\"ORF\": \"YIL162W\", \"Cluster\": 1, \"Sample Point\": \"R6.Ratio\", \"Ratio\": 2.73696559416621}, {\"ORF\": \"YIL162W\", \"Cluster\": 1, \"Sample Point\": \"R7.Ratio\", \"Ratio\": 1.35845397091248}, {\"ORF\": \"YBR072W\", \"Cluster\": 1, \"Sample Point\": \"R1.Ratio\", \"Ratio\": -0.0143552929770701}, {\"ORF\": \"YBR072W\", \"Cluster\": 1, \"Sample Point\": \"R2.Ratio\", \"Ratio\": 0.395928676331139}, {\"ORF\": \"YBR072W\", \"Cluster\": 1, \"Sample Point\": \"R3.Ratio\", \"Ratio\": 0.358453970912476}, {\"ORF\": \"YBR072W\", \"Cluster\": 1, \"Sample Point\": \"R4.Ratio\", \"Ratio\": 1.0}, {\"ORF\": \"YBR072W\", \"Cluster\": 1, \"Sample Point\": \"R5.Ratio\", \"Ratio\": 1.43440282414577}, {\"ORF\": \"YBR072W\", \"Cluster\": 1, \"Sample Point\": \"R6.Ratio\", \"Ratio\": 3.47393118833241}, {\"ORF\": \"YBR072W\", \"Cluster\": 1, \"Sample Point\": \"R7.Ratio\", \"Ratio\": 2.83650126771712}, {\"ORF\": \"YJL045W\", \"Cluster\": 1, \"Sample Point\": \"R1.Ratio\", \"Ratio\": -0.333423733725192}, {\"ORF\": \"YJL045W\", \"Cluster\": 1, \"Sample Point\": \"R2.Ratio\", \"Ratio\": -0.189033824390017}, {\"ORF\": \"YJL045W\", \"Cluster\": 1, \"Sample Point\": \"R3.Ratio\", \"Ratio\": 0.415037499278844}, {\"ORF\": \"YJL045W\", \"Cluster\": 1, \"Sample Point\": \"R4.Ratio\", \"Ratio\": -0.0840642647884746}, {\"ORF\": \"YJL045W\", \"Cluster\": 1, \"Sample Point\": \"R5.Ratio\", \"Ratio\": -0.485426827170242}, {\"ORF\": \"YJL045W\", \"Cluster\": 1, \"Sample Point\": \"R6.Ratio\", \"Ratio\": 1.0}, {\"ORF\": \"YJL045W\", \"Cluster\": 1, \"Sample Point\": \"R7.Ratio\", \"Ratio\": 2.32192809488736}, {\"ORF\": \"YJL089W\", \"Cluster\": 1, \"Sample Point\": \"R1.Ratio\", \"Ratio\": -0.632268215499513}, {\"ORF\": \"YJL089W\", \"Cluster\": 1, \"Sample Point\": \"R2.Ratio\", \"Ratio\": -0.344828496997441}, {\"ORF\": \"YJL089W\", \"Cluster\": 1, \"Sample Point\": \"R3.Ratio\", \"Ratio\": -0.238786859587116}, {\"ORF\": \"YJL089W\", \"Cluster\": 1, \"Sample Point\": \"R4.Ratio\", \"Ratio\": -0.189033824390017}, {\"ORF\": \"YJL089W\", \"Cluster\": 1, \"Sample Point\": \"R5.Ratio\", \"Ratio\": -0.250961573533219}, {\"ORF\": \"YJL089W\", \"Cluster\": 1, \"Sample Point\": \"R6.Ratio\", \"Ratio\": 1.12029423371771}, {\"ORF\": \"YJL089W\", \"Cluster\": 1, \"Sample Point\": \"R7.Ratio\", \"Ratio\": 3.05889368905357}, {\"ORF\": \"YJL109C\", \"Cluster\": 0, \"Sample Point\": \"R1.Ratio\", \"Ratio\": -0.0840642647884746}, {\"ORF\": \"YJL109C\", \"Cluster\": 0, \"Sample Point\": \"R2.Ratio\", \"Ratio\": 0.0291463456595165}, {\"ORF\": \"YJL109C\", \"Cluster\": 0, \"Sample Point\": \"R3.Ratio\", \"Ratio\": -0.111031312388744}, {\"ORF\": \"YJL109C\", \"Cluster\": 0, \"Sample Point\": \"R4.Ratio\", \"Ratio\": -1.17632277264046}, {\"ORF\": \"YJL109C\", \"Cluster\": 0, \"Sample Point\": \"R5.Ratio\", \"Ratio\": -1.08406426478847}, {\"ORF\": \"YJL109C\", \"Cluster\": 0, \"Sample Point\": \"R6.Ratio\", \"Ratio\": -3.23419472295381}, {\"ORF\": \"YJL109C\", \"Cluster\": 0, \"Sample Point\": \"R7.Ratio\", \"Ratio\": -1.98913900736823}, {\"ORF\": \"YJL136C\", \"Cluster\": 0, \"Sample Point\": \"R1.Ratio\", \"Ratio\": 0.184424571137428}, {\"ORF\": \"YJL136C\", \"Cluster\": 0, \"Sample Point\": \"R2.Ratio\", \"Ratio\": -0.0840642647884746}, {\"ORF\": \"YJL136C\", \"Cluster\": 0, \"Sample Point\": \"R3.Ratio\", \"Ratio\": 0.340075441597622}, {\"ORF\": \"YJL136C\", \"Cluster\": 0, \"Sample Point\": \"R4.Ratio\", \"Ratio\": -0.070389327891398}, {\"ORF\": \"YJL136C\", \"Cluster\": 0, \"Sample Point\": \"R5.Ratio\", \"Ratio\": -0.475084882948783}, {\"ORF\": \"YJL136C\", \"Cluster\": 0, \"Sample Point\": \"R6.Ratio\", \"Ratio\": -1.46466826700344}, {\"ORF\": \"YJL136C\", \"Cluster\": 0, \"Sample Point\": \"R7.Ratio\", \"Ratio\": -2.35895882583233}, {\"ORF\": \"YJL148W\", \"Cluster\": 0, \"Sample Point\": \"R1.Ratio\", \"Ratio\": 0.0892673380970873}, {\"ORF\": \"YJL148W\", \"Cluster\": 0, \"Sample Point\": \"R2.Ratio\", \"Ratio\": -0.20163386116965}, {\"ORF\": \"YJL148W\", \"Cluster\": 0, \"Sample Point\": \"R3.Ratio\", \"Ratio\": 0.168122758808327}, {\"ORF\": \"YJL148W\", \"Cluster\": 0, \"Sample Point\": \"R4.Ratio\", \"Ratio\": -0.75702324650746}, {\"ORF\": \"YJL148W\", \"Cluster\": 0, \"Sample Point\": \"R5.Ratio\", \"Ratio\": -0.678071905112638}, {\"ORF\": \"YJL148W\", \"Cluster\": 0, \"Sample Point\": \"R6.Ratio\", \"Ratio\": -1.29278174922785}, {\"ORF\": \"YJL148W\", \"Cluster\": 0, \"Sample Point\": \"R7.Ratio\", \"Ratio\": -2.41413553298445}, {\"ORF\": \"YJL177W\", \"Cluster\": 0, \"Sample Point\": \"R1.Ratio\", \"Ratio\": 0.340075441597622}, {\"ORF\": \"YJL177W\", \"Cluster\": 0, \"Sample Point\": \"R2.Ratio\", \"Ratio\": 0.136061549576028}, {\"ORF\": \"YJL177W\", \"Cluster\": 0, \"Sample Point\": \"R3.Ratio\", \"Ratio\": 0.136061549576028}, {\"ORF\": \"YJL177W\", \"Cluster\": 0, \"Sample Point\": \"R4.Ratio\", \"Ratio\": -0.422233000683048}, {\"ORF\": \"YJL177W\", \"Cluster\": 0, \"Sample Point\": \"R5.Ratio\", \"Ratio\": -0.622930350920177}, {\"ORF\": \"YJL177W\", \"Cluster\": 0, \"Sample Point\": \"R6.Ratio\", \"Ratio\": -1.93357263826102}, {\"ORF\": \"YJL177W\", \"Cluster\": 0, \"Sample Point\": \"R7.Ratio\", \"Ratio\": -2.38956681176273}, {\"ORF\": \"YJL190C\", \"Cluster\": 0, \"Sample Point\": \"R1.Ratio\", \"Ratio\": 0.120294233717712}, {\"ORF\": \"YJL190C\", \"Cluster\": 0, \"Sample Point\": \"R2.Ratio\", \"Ratio\": -0.189033824390017}, {\"ORF\": \"YJL190C\", \"Cluster\": 0, \"Sample Point\": \"R3.Ratio\", \"Ratio\": 0.340075441597622}, {\"ORF\": \"YJL190C\", \"Cluster\": 0, \"Sample Point\": \"R4.Ratio\", \"Ratio\": 0.0892673380970873}, {\"ORF\": \"YJL190C\", \"Cluster\": 0, \"Sample Point\": \"R5.Ratio\", \"Ratio\": -0.0840642647884746}, {\"ORF\": \"YJL190C\", \"Cluster\": 0, \"Sample Point\": \"R6.Ratio\", \"Ratio\": -1.4594316186373}, {\"ORF\": \"YJL190C\", \"Cluster\": 0, \"Sample Point\": \"R7.Ratio\", \"Ratio\": -2.32481060342048}, {\"ORF\": \"YJR095W\", \"Cluster\": 1, \"Sample Point\": \"R1.Ratio\", \"Ratio\": -0.613531652917927}, {\"ORF\": \"YJR095W\", \"Cluster\": 1, \"Sample Point\": \"R2.Ratio\", \"Ratio\": -0.464668267003444}, {\"ORF\": \"YJR095W\", \"Cluster\": 1, \"Sample Point\": \"R3.Ratio\", \"Ratio\": 1.08926733809709}, {\"ORF\": \"YJR095W\", \"Cluster\": 1, \"Sample Point\": \"R4.Ratio\", \"Ratio\": -0.124328135002202}, {\"ORF\": \"YJR095W\", \"Cluster\": 1, \"Sample Point\": \"R5.Ratio\", \"Ratio\": -0.176322772640463}, {\"ORF\": \"YJR095W\", \"Cluster\": 1, \"Sample Point\": \"R6.Ratio\", \"Ratio\": 1.35845397091248}, {\"ORF\": \"YJR095W\", \"Cluster\": 1, \"Sample Point\": \"R7.Ratio\", \"Ratio\": 3.64385618977472}, {\"ORF\": \"YJR096W\", \"Cluster\": 1, \"Sample Point\": \"R1.Ratio\", \"Ratio\": -0.411426245726465}, {\"ORF\": \"YJR096W\", \"Cluster\": 1, \"Sample Point\": \"R2.Ratio\", \"Ratio\": 0.217591435072627}, {\"ORF\": \"YJR096W\", \"Cluster\": 1, \"Sample Point\": \"R3.Ratio\", \"Ratio\": 0.200912693925996}, {\"ORF\": \"YJR096W\", \"Cluster\": 1, \"Sample Point\": \"R4.Ratio\", \"Ratio\": 0.340075441597622}, {\"ORF\": \"YJR096W\", \"Cluster\": 1, \"Sample Point\": \"R5.Ratio\", \"Ratio\": 0.943416471633632}, {\"ORF\": \"YJR096W\", \"Cluster\": 1, \"Sample Point\": \"R6.Ratio\", \"Ratio\": 2.83650126771712}, {\"ORF\": \"YJR096W\", \"Cluster\": 1, \"Sample Point\": \"R7.Ratio\", \"Ratio\": 1.43440282414577}, {\"ORF\": \"YJR123W\", \"Cluster\": 0, \"Sample Point\": \"R1.Ratio\", \"Ratio\": 0.104697378666693}, {\"ORF\": \"YJR123W\", \"Cluster\": 0, \"Sample Point\": \"R2.Ratio\", \"Ratio\": 0.0892673380970873}, {\"ORF\": \"YJR123W\", \"Cluster\": 0, \"Sample Point\": \"R3.Ratio\", \"Ratio\": 0.168122758808327}, {\"ORF\": \"YJR123W\", \"Cluster\": 0, \"Sample Point\": \"R4.Ratio\", \"Ratio\": -0.37851162325373}, {\"ORF\": \"YJR123W\", \"Cluster\": 0, \"Sample Point\": \"R5.Ratio\", \"Ratio\": -0.411426245726465}, {\"ORF\": \"YJR123W\", \"Cluster\": 0, \"Sample Point\": \"R6.Ratio\", \"Ratio\": -1.85598969730848}, {\"ORF\": \"YJR123W\", \"Cluster\": 0, \"Sample Point\": \"R7.Ratio\", \"Ratio\": -2.48026512205446}, {\"ORF\": \"YJR145C\", \"Cluster\": 0, \"Sample Point\": \"R1.Ratio\", \"Ratio\": 0.0740005814437768}, {\"ORF\": \"YJR145C\", \"Cluster\": 0, \"Sample Point\": \"R2.Ratio\", \"Ratio\": 0.0588936890535686}, {\"ORF\": \"YJR145C\", \"Cluster\": 0, \"Sample Point\": \"R3.Ratio\", \"Ratio\": -0.250961573533219}, {\"ORF\": \"YJR145C\", \"Cluster\": 0, \"Sample Point\": \"R4.Ratio\", \"Ratio\": -0.565597175854225}, {\"ORF\": \"YJR145C\", \"Cluster\": 0, \"Sample Point\": \"R5.Ratio\", \"Ratio\": -0.422233000683048}, {\"ORF\": \"YJR145C\", \"Cluster\": 0, \"Sample Point\": \"R6.Ratio\", \"Ratio\": -1.53605290024021}, {\"ORF\": \"YJR145C\", \"Cluster\": 0, \"Sample Point\": \"R7.Ratio\", \"Ratio\": -2.61353165291793}, {\"ORF\": \"YKL009W\", \"Cluster\": 0, \"Sample Point\": \"R1.Ratio\", \"Ratio\": -0.150559676575381}, {\"ORF\": \"YKL009W\", \"Cluster\": 0, \"Sample Point\": \"R2.Ratio\", \"Ratio\": -0.443606651475615}, {\"ORF\": \"YKL009W\", \"Cluster\": 0, \"Sample Point\": \"R3.Ratio\", \"Ratio\": -0.0976107966264223}, {\"ORF\": \"YKL009W\", \"Cluster\": 0, \"Sample Point\": \"R4.Ratio\", \"Ratio\": -0.790772037862}, {\"ORF\": \"YKL009W\", \"Cluster\": 0, \"Sample Point\": \"R5.Ratio\", \"Ratio\": -1.07724299893246}, {\"ORF\": \"YKL009W\", \"Cluster\": 0, \"Sample Point\": \"R6.Ratio\", \"Ratio\": -2.03913839390696}, {\"ORF\": \"YKL009W\", \"Cluster\": 0, \"Sample Point\": \"R7.Ratio\", \"Ratio\": -2.52105073690096}, {\"ORF\": \"YKL026C\", \"Cluster\": 1, \"Sample Point\": \"R1.Ratio\", \"Ratio\": -0.189033824390017}, {\"ORF\": \"YKL026C\", \"Cluster\": 1, \"Sample Point\": \"R2.Ratio\", \"Ratio\": -0.150559676575381}, {\"ORF\": \"YKL026C\", \"Cluster\": 1, \"Sample Point\": \"R3.Ratio\", \"Ratio\": 0.0291463456595165}, {\"ORF\": \"YKL026C\", \"Cluster\": 1, \"Sample Point\": \"R4.Ratio\", \"Ratio\": 0.2688167584278}, {\"ORF\": \"YKL026C\", \"Cluster\": 1, \"Sample Point\": \"R5.Ratio\", \"Ratio\": 0.535331732996556}, {\"ORF\": \"YKL026C\", \"Cluster\": 1, \"Sample Point\": \"R6.Ratio\", \"Ratio\": 3.64385618977472}, {\"ORF\": \"YKL026C\", \"Cluster\": 1, \"Sample Point\": \"R7.Ratio\", \"Ratio\": 2.73696559416621}, {\"ORF\": \"YBR116C\", \"Cluster\": 1, \"Sample Point\": \"R1.Ratio\", \"Ratio\": -0.16349873228288}, {\"ORF\": \"YBR116C\", \"Cluster\": 1, \"Sample Point\": \"R2.Ratio\", \"Ratio\": 0.184424571137428}, {\"ORF\": \"YBR116C\", \"Cluster\": 1, \"Sample Point\": \"R3.Ratio\", \"Ratio\": 0.0439433475875972}, {\"ORF\": \"YBR116C\", \"Cluster\": 1, \"Sample Point\": \"R4.Ratio\", \"Ratio\": -0.22650852980868}, {\"ORF\": \"YBR116C\", \"Cluster\": 1, \"Sample Point\": \"R5.Ratio\", \"Ratio\": -0.422233000683048}, {\"ORF\": \"YBR116C\", \"Cluster\": 1, \"Sample Point\": \"R6.Ratio\", \"Ratio\": 1.78587519464715}, {\"ORF\": \"YBR116C\", \"Cluster\": 1, \"Sample Point\": \"R7.Ratio\", \"Ratio\": 2.39592867633114}, {\"ORF\": \"YBR117C\", \"Cluster\": 1, \"Sample Point\": \"R1.Ratio\", \"Ratio\": 0.358453970912476}, {\"ORF\": \"YBR117C\", \"Cluster\": 1, \"Sample Point\": \"R2.Ratio\", \"Ratio\": 0.643856189774725}, {\"ORF\": \"YBR117C\", \"Cluster\": 1, \"Sample Point\": \"R3.Ratio\", \"Ratio\": 0.68965987938785}, {\"ORF\": \"YBR117C\", \"Cluster\": 1, \"Sample Point\": \"R4.Ratio\", \"Ratio\": 0.0439433475875972}, {\"ORF\": \"YBR117C\", \"Cluster\": 1, \"Sample Point\": \"R5.Ratio\", \"Ratio\": -0.27500704749987}, {\"ORF\": \"YBR117C\", \"Cluster\": 1, \"Sample Point\": \"R6.Ratio\", \"Ratio\": 1.64385618977472}, {\"ORF\": \"YBR117C\", \"Cluster\": 1, \"Sample Point\": \"R7.Ratio\", \"Ratio\": 2.47393118833241}, {\"ORF\": \"YKL081W\", \"Cluster\": 0, \"Sample Point\": \"R1.Ratio\", \"Ratio\": 0.0740005814437768}, {\"ORF\": \"YKL081W\", \"Cluster\": 0, \"Sample Point\": \"R2.Ratio\", \"Ratio\": -0.150559676575381}, {\"ORF\": \"YKL081W\", \"Cluster\": 0, \"Sample Point\": \"R3.Ratio\", \"Ratio\": -0.0143552929770701}, {\"ORF\": \"YKL081W\", \"Cluster\": 0, \"Sample Point\": \"R4.Ratio\", \"Ratio\": -0.925999418556223}, {\"ORF\": \"YKL081W\", \"Cluster\": 0, \"Sample Point\": \"R5.Ratio\", \"Ratio\": -0.722466024471091}, {\"ORF\": \"YKL081W\", \"Cluster\": 0, \"Sample Point\": \"R6.Ratio\", \"Ratio\": -2.15704371014558}, {\"ORF\": \"YKL081W\", \"Cluster\": 0, \"Sample Point\": \"R7.Ratio\", \"Ratio\": -2.43562859405209}, {\"ORF\": \"YKL085W\", \"Cluster\": 1, \"Sample Point\": \"R1.Ratio\", \"Ratio\": 0.0439433475875972}, {\"ORF\": \"YKL085W\", \"Cluster\": 1, \"Sample Point\": \"R2.Ratio\", \"Ratio\": 0.0144995696951152}, {\"ORF\": \"YKL085W\", \"Cluster\": 1, \"Sample Point\": \"R3.Ratio\", \"Ratio\": 0.286304185156641}, {\"ORF\": \"YKL085W\", \"Cluster\": 1, \"Sample Point\": \"R4.Ratio\", \"Ratio\": 0.915935735211525}, {\"ORF\": \"YKL085W\", \"Cluster\": 1, \"Sample Point\": \"R5.Ratio\", \"Ratio\": 1.35845397091248}, {\"ORF\": \"YKL085W\", \"Cluster\": 1, \"Sample Point\": \"R6.Ratio\", \"Ratio\": 2.83650126771712}, {\"ORF\": \"YKL085W\", \"Cluster\": 1, \"Sample Point\": \"R7.Ratio\", \"Ratio\": 2.55639334852439}, {\"ORF\": \"YKL103C\", \"Cluster\": 1, \"Sample Point\": \"R1.Ratio\", \"Ratio\": -0.070389327891398}, {\"ORF\": \"YKL103C\", \"Cluster\": 1, \"Sample Point\": \"R2.Ratio\", \"Ratio\": 0.377069649079823}, {\"ORF\": \"YKL103C\", \"Cluster\": 1, \"Sample Point\": \"R3.Ratio\", \"Ratio\": 0.473931188332412}, {\"ORF\": \"YKL103C\", \"Cluster\": 1, \"Sample Point\": \"R4.Ratio\", \"Ratio\": 0.888968687611256}, {\"ORF\": \"YKL103C\", \"Cluster\": 1, \"Sample Point\": \"R5.Ratio\", \"Ratio\": 1.32192809488736}, {\"ORF\": \"YKL103C\", \"Cluster\": 1, \"Sample Point\": \"R6.Ratio\", \"Ratio\": 2.39592867633114}, {\"ORF\": \"YKL103C\", \"Cluster\": 1, \"Sample Point\": \"R7.Ratio\", \"Ratio\": 1.68965987938785}, {\"ORF\": \"YKL109W\", \"Cluster\": 1, \"Sample Point\": \"R1.Ratio\", \"Ratio\": 0.234465253637023}, {\"ORF\": \"YKL109W\", \"Cluster\": 1, \"Sample Point\": \"R2.Ratio\", \"Ratio\": 0.577766999316952}, {\"ORF\": \"YKL109W\", \"Cluster\": 1, \"Sample Point\": \"R3.Ratio\", \"Ratio\": 1.02914634565952}, {\"ORF\": \"YKL109W\", \"Cluster\": 1, \"Sample Point\": \"R4.Ratio\", \"Ratio\": 0.666576266274808}, {\"ORF\": \"YKL109W\", \"Cluster\": 1, \"Sample Point\": \"R5.Ratio\", \"Ratio\": 0.62148837674627}, {\"ORF\": \"YKL109W\", \"Cluster\": 1, \"Sample Point\": \"R6.Ratio\", \"Ratio\": 2.55639334852439}, {\"ORF\": \"YKL109W\", \"Cluster\": 1, \"Sample Point\": \"R7.Ratio\", \"Ratio\": 3.18442457113743}, {\"ORF\": \"YKL141W\", \"Cluster\": 1, \"Sample Point\": \"R1.Ratio\", \"Ratio\": 0.358453970912476}, {\"ORF\": \"YKL141W\", \"Cluster\": 1, \"Sample Point\": \"R2.Ratio\", \"Ratio\": 0.168122758808327}, {\"ORF\": \"YKL141W\", \"Cluster\": 1, \"Sample Point\": \"R3.Ratio\", \"Ratio\": 0.643856189774725}, {\"ORF\": \"YKL141W\", \"Cluster\": 1, \"Sample Point\": \"R4.Ratio\", \"Ratio\": 0.785875194647153}, {\"ORF\": \"YKL141W\", \"Cluster\": 1, \"Sample Point\": \"R5.Ratio\", \"Ratio\": 1.15200309344505}, {\"ORF\": \"YKL141W\", \"Cluster\": 1, \"Sample Point\": \"R6.Ratio\", \"Ratio\": 1.94341647163363}, {\"ORF\": \"YKL141W\", \"Cluster\": 1, \"Sample Point\": \"R7.Ratio\", \"Ratio\": 2.64385618977472}, {\"ORF\": \"YKL142W\", \"Cluster\": 1, \"Sample Point\": \"R1.Ratio\", \"Ratio\": -0.070389327891398}, {\"ORF\": \"YKL142W\", \"Cluster\": 1, \"Sample Point\": \"R2.Ratio\", \"Ratio\": 0.217591435072627}, {\"ORF\": \"YKL142W\", \"Cluster\": 1, \"Sample Point\": \"R3.Ratio\", \"Ratio\": 0.234465253637023}, {\"ORF\": \"YKL142W\", \"Cluster\": 1, \"Sample Point\": \"R4.Ratio\", \"Ratio\": 0.494109070270043}, {\"ORF\": \"YKL142W\", \"Cluster\": 1, \"Sample Point\": \"R5.Ratio\", \"Ratio\": 1.02914634565952}, {\"ORF\": \"YKL142W\", \"Cluster\": 1, \"Sample Point\": \"R6.Ratio\", \"Ratio\": 2.47393118833241}, {\"ORF\": \"YKL142W\", \"Cluster\": 1, \"Sample Point\": \"R7.Ratio\", \"Ratio\": 1.15200309344505}, {\"ORF\": \"YKL151C\", \"Cluster\": 1, \"Sample Point\": \"R1.Ratio\", \"Ratio\": -0.124328135002202}, {\"ORF\": \"YKL151C\", \"Cluster\": 1, \"Sample Point\": \"R2.Ratio\", \"Ratio\": 0.234465253637023}, {\"ORF\": \"YKL151C\", \"Cluster\": 1, \"Sample Point\": \"R3.Ratio\", \"Ratio\": 0.577766999316952}, {\"ORF\": \"YKL151C\", \"Cluster\": 1, \"Sample Point\": \"R4.Ratio\", \"Ratio\": 0.62148837674627}, {\"ORF\": \"YKL151C\", \"Cluster\": 1, \"Sample Point\": \"R5.Ratio\", \"Ratio\": 0.251538766995964}, {\"ORF\": \"YKL151C\", \"Cluster\": 1, \"Sample Point\": \"R6.Ratio\", \"Ratio\": 2.55639334852439}, {\"ORF\": \"YKL151C\", \"Cluster\": 1, \"Sample Point\": \"R7.Ratio\", \"Ratio\": 1.78587519464715}, {\"ORF\": \"YKL187C\", \"Cluster\": 1, \"Sample Point\": \"R1.Ratio\", \"Ratio\": 0.0439433475875972}, {\"ORF\": \"YKL187C\", \"Cluster\": 1, \"Sample Point\": \"R2.Ratio\", \"Ratio\": 0.0740005814437768}, {\"ORF\": \"YKL187C\", \"Cluster\": 1, \"Sample Point\": \"R3.Ratio\", \"Ratio\": 0.200912693925996}, {\"ORF\": \"YKL187C\", \"Cluster\": 1, \"Sample Point\": \"R4.Ratio\", \"Ratio\": -0.16349873228288}, {\"ORF\": \"YKL187C\", \"Cluster\": 1, \"Sample Point\": \"R5.Ratio\", \"Ratio\": -0.400537929583729}, {\"ORF\": \"YKL187C\", \"Cluster\": 1, \"Sample Point\": \"R6.Ratio\", \"Ratio\": 2.12029423371771}, {\"ORF\": \"YKL187C\", \"Cluster\": 1, \"Sample Point\": \"R7.Ratio\", \"Ratio\": 3.32192809488736}, {\"ORF\": \"YKL193C\", \"Cluster\": 1, \"Sample Point\": \"R1.Ratio\", \"Ratio\": -0.0565835283663676}, {\"ORF\": \"YKL193C\", \"Cluster\": 1, \"Sample Point\": \"R2.Ratio\", \"Ratio\": -0.124328135002202}, {\"ORF\": \"YKL193C\", \"Cluster\": 1, \"Sample Point\": \"R3.Ratio\", \"Ratio\": -0.263034405833794}, {\"ORF\": \"YKL193C\", \"Cluster\": 1, \"Sample Point\": \"R4.Ratio\", \"Ratio\": 0.184424571137428}, {\"ORF\": \"YKL193C\", \"Cluster\": 1, \"Sample Point\": \"R5.Ratio\", \"Ratio\": 0.514573172829758}, {\"ORF\": \"YKL193C\", \"Cluster\": 1, \"Sample Point\": \"R6.Ratio\", \"Ratio\": 2.47393118833241}, {\"ORF\": \"YKL193C\", \"Cluster\": 1, \"Sample Point\": \"R7.Ratio\", \"Ratio\": 1.43440282414577}, {\"ORF\": \"YKL217W\", \"Cluster\": 1, \"Sample Point\": \"R1.Ratio\", \"Ratio\": -0.485426827170242}, {\"ORF\": \"YKL217W\", \"Cluster\": 1, \"Sample Point\": \"R2.Ratio\", \"Ratio\": -0.070389327891398}, {\"ORF\": \"YKL217W\", \"Cluster\": 1, \"Sample Point\": \"R3.Ratio\", \"Ratio\": 0.0439433475875972}, {\"ORF\": \"YKL217W\", \"Cluster\": 1, \"Sample Point\": \"R4.Ratio\", \"Ratio\": -0.333423733725192}, {\"ORF\": \"YKL217W\", \"Cluster\": 1, \"Sample Point\": \"R5.Ratio\", \"Ratio\": 0.120294233717712}, {\"ORF\": \"YKL217W\", \"Cluster\": 1, \"Sample Point\": \"R6.Ratio\", \"Ratio\": 3.47393118833241}, {\"ORF\": \"YKL217W\", \"Cluster\": 1, \"Sample Point\": \"R7.Ratio\", \"Ratio\": 3.83650126771712}, {\"ORF\": \"YKR059W\", \"Cluster\": 0, \"Sample Point\": \"R1.Ratio\", \"Ratio\": 0.217591435072627}, {\"ORF\": \"YKR059W\", \"Cluster\": 0, \"Sample Point\": \"R2.Ratio\", \"Ratio\": 0.0740005814437768}, {\"ORF\": \"YKR059W\", \"Cluster\": 0, \"Sample Point\": \"R3.Ratio\", \"Ratio\": 0.473931188332412}, {\"ORF\": \"YKR059W\", \"Cluster\": 0, \"Sample Point\": \"R4.Ratio\", \"Ratio\": -0.27500704749987}, {\"ORF\": \"YKR059W\", \"Cluster\": 0, \"Sample Point\": \"R5.Ratio\", \"Ratio\": -0.505890929729957}, {\"ORF\": \"YKR059W\", \"Cluster\": 0, \"Sample Point\": \"R6.Ratio\", \"Ratio\": -1.44360665147561}, {\"ORF\": \"YKR059W\", \"Cluster\": 0, \"Sample Point\": \"R7.Ratio\", \"Ratio\": -2.3305584000308}, {\"ORF\": \"YBR139W\", \"Cluster\": 1, \"Sample Point\": \"R1.Ratio\", \"Ratio\": 0.120294233717712}, {\"ORF\": \"YBR139W\", \"Cluster\": 1, \"Sample Point\": \"R2.Ratio\", \"Ratio\": 0.514573172829758}, {\"ORF\": \"YBR139W\", \"Cluster\": 1, \"Sample Point\": \"R3.Ratio\", \"Ratio\": 0.434402824145775}, {\"ORF\": \"YBR139W\", \"Cluster\": 1, \"Sample Point\": \"R4.Ratio\", \"Ratio\": 1.08926733809709}, {\"ORF\": \"YBR139W\", \"Cluster\": 1, \"Sample Point\": \"R5.Ratio\", \"Ratio\": 0.888968687611256}, {\"ORF\": \"YBR139W\", \"Cluster\": 1, \"Sample Point\": \"R6.Ratio\", \"Ratio\": 2.0}, {\"ORF\": \"YBR139W\", \"Cluster\": 1, \"Sample Point\": \"R7.Ratio\", \"Ratio\": 2.39592867633114}, {\"ORF\": \"YKR097W\", \"Cluster\": 1, \"Sample Point\": \"R1.Ratio\", \"Ratio\": -0.124328135002202}, {\"ORF\": \"YKR097W\", \"Cluster\": 1, \"Sample Point\": \"R2.Ratio\", \"Ratio\": -0.176322772640463}, {\"ORF\": \"YKR097W\", \"Cluster\": 1, \"Sample Point\": \"R3.Ratio\", \"Ratio\": 0.434402824145775}, {\"ORF\": \"YKR097W\", \"Cluster\": 1, \"Sample Point\": \"R4.Ratio\", \"Ratio\": -0.0840642647884746}, {\"ORF\": \"YKR097W\", \"Cluster\": 1, \"Sample Point\": \"R5.Ratio\", \"Ratio\": -0.250961573533219}, {\"ORF\": \"YKR097W\", \"Cluster\": 1, \"Sample Point\": \"R6.Ratio\", \"Ratio\": 0.415037499278844}, {\"ORF\": \"YKR097W\", \"Cluster\": 1, \"Sample Point\": \"R7.Ratio\", \"Ratio\": 3.83650126771712}, {\"ORF\": \"YLL026w\", \"Cluster\": 1, \"Sample Point\": \"R1.Ratio\", \"Ratio\": 0.0144995696951152}, {\"ORF\": \"YLL026w\", \"Cluster\": 1, \"Sample Point\": \"R2.Ratio\", \"Ratio\": 0.0144995696951152}, {\"ORF\": \"YLL026w\", \"Cluster\": 1, \"Sample Point\": \"R3.Ratio\", \"Ratio\": -0.189033824390017}, {\"ORF\": \"YLL026w\", \"Cluster\": 1, \"Sample Point\": \"R4.Ratio\", \"Ratio\": 0.836501267717121}, {\"ORF\": \"YLL026w\", \"Cluster\": 1, \"Sample Point\": \"R5.Ratio\", \"Ratio\": 1.0}, {\"ORF\": \"YLL026w\", \"Cluster\": 1, \"Sample Point\": \"R6.Ratio\", \"Ratio\": 2.39592867633114}, {\"ORF\": \"YLL026w\", \"Cluster\": 1, \"Sample Point\": \"R7.Ratio\", \"Ratio\": 2.64385618977472}, {\"ORF\": \"YBR147W\", \"Cluster\": 1, \"Sample Point\": \"R1.Ratio\", \"Ratio\": -0.0976107966264223}, {\"ORF\": \"YBR147W\", \"Cluster\": 1, \"Sample Point\": \"R2.Ratio\", \"Ratio\": 0.340075441597622}, {\"ORF\": \"YBR147W\", \"Cluster\": 1, \"Sample Point\": \"R3.Ratio\", \"Ratio\": -0.028569152196771}, {\"ORF\": \"YBR147W\", \"Cluster\": 1, \"Sample Point\": \"R4.Ratio\", \"Ratio\": 0.0740005814437768}, {\"ORF\": \"YBR147W\", \"Cluster\": 1, \"Sample Point\": \"R5.Ratio\", \"Ratio\": 0.251538766995964}, {\"ORF\": \"YBR147W\", \"Cluster\": 1, \"Sample Point\": \"R6.Ratio\", \"Ratio\": 3.05889368905357}, {\"ORF\": \"YBR147W\", \"Cluster\": 1, \"Sample Point\": \"R7.Ratio\", \"Ratio\": 2.47393118833241}, {\"ORF\": \"YLL041c\", \"Cluster\": 1, \"Sample Point\": \"R1.Ratio\", \"Ratio\": -0.0565835283663676}, {\"ORF\": \"YLL041c\", \"Cluster\": 1, \"Sample Point\": \"R2.Ratio\", \"Ratio\": -0.0976107966264223}, {\"ORF\": \"YLL041c\", \"Cluster\": 1, \"Sample Point\": \"R3.Ratio\", \"Ratio\": 0.494109070270043}, {\"ORF\": \"YLL041c\", \"Cluster\": 1, \"Sample Point\": \"R4.Ratio\", \"Ratio\": 1.05889368905357}, {\"ORF\": \"YLL041c\", \"Cluster\": 1, \"Sample Point\": \"R5.Ratio\", \"Ratio\": 1.43440282414577}, {\"ORF\": \"YLL041c\", \"Cluster\": 1, \"Sample Point\": \"R6.Ratio\", \"Ratio\": 2.55639334852439}, {\"ORF\": \"YLL041c\", \"Cluster\": 1, \"Sample Point\": \"R7.Ratio\", \"Ratio\": 2.64385618977472}, {\"ORF\": \"YLL044W\", \"Cluster\": 0, \"Sample Point\": \"R1.Ratio\", \"Ratio\": 0.286304185156641}, {\"ORF\": \"YLL044W\", \"Cluster\": 0, \"Sample Point\": \"R2.Ratio\", \"Ratio\": 0.0144995696951152}, {\"ORF\": \"YLL044W\", \"Cluster\": 0, \"Sample Point\": \"R3.Ratio\", \"Ratio\": -0.16349873228288}, {\"ORF\": \"YLL044W\", \"Cluster\": 0, \"Sample Point\": \"R4.Ratio\", \"Ratio\": -0.443606651475615}, {\"ORF\": \"YLL044W\", \"Cluster\": 0, \"Sample Point\": \"R5.Ratio\", \"Ratio\": -0.713695814843359}, {\"ORF\": \"YLL044W\", \"Cluster\": 0, \"Sample Point\": \"R6.Ratio\", \"Ratio\": -2.09085343045111}, {\"ORF\": \"YLL044W\", \"Cluster\": 0, \"Sample Point\": \"R7.Ratio\", \"Ratio\": -2.53356334821451}, {\"ORF\": \"YLL045c\", \"Cluster\": 0, \"Sample Point\": \"R1.Ratio\", \"Ratio\": 0.184424571137428}, {\"ORF\": \"YLL045c\", \"Cluster\": 0, \"Sample Point\": \"R2.Ratio\", \"Ratio\": -0.176322772640463}, {\"ORF\": \"YLL045c\", \"Cluster\": 0, \"Sample Point\": \"R3.Ratio\", \"Ratio\": -0.0840642647884746}, {\"ORF\": \"YLL045c\", \"Cluster\": 0, \"Sample Point\": \"R4.Ratio\", \"Ratio\": -0.111031312388744}, {\"ORF\": \"YLL045c\", \"Cluster\": 0, \"Sample Point\": \"R5.Ratio\", \"Ratio\": -0.111031312388744}, {\"ORF\": \"YLL045c\", \"Cluster\": 0, \"Sample Point\": \"R6.Ratio\", \"Ratio\": -1.94860084749336}, {\"ORF\": \"YLL045c\", \"Cluster\": 0, \"Sample Point\": \"R7.Ratio\", \"Ratio\": -3.06522762277562}, {\"ORF\": \"YLR048w\", \"Cluster\": 0, \"Sample Point\": \"R1.Ratio\", \"Ratio\": 0.321928094887362}, {\"ORF\": \"YLR048w\", \"Cluster\": 0, \"Sample Point\": \"R2.Ratio\", \"Ratio\": 0.234465253637023}, {\"ORF\": \"YLR048w\", \"Cluster\": 0, \"Sample Point\": \"R3.Ratio\", \"Ratio\": 0.454031630894707}, {\"ORF\": \"YLR048w\", \"Cluster\": 0, \"Sample Point\": \"R4.Ratio\", \"Ratio\": -0.111031312388744}, {\"ORF\": \"YLR048w\", \"Cluster\": 0, \"Sample Point\": \"R5.Ratio\", \"Ratio\": -0.344828496997441}, {\"ORF\": \"YLR048w\", \"Cluster\": 0, \"Sample Point\": \"R6.Ratio\", \"Ratio\": -1.9297909977186}, {\"ORF\": \"YLR048w\", \"Cluster\": 0, \"Sample Point\": \"R7.Ratio\", \"Ratio\": -2.58736499093646}, {\"ORF\": \"YLR062C\", \"Cluster\": 0, \"Sample Point\": \"R1.Ratio\", \"Ratio\": 0.184424571137428}, {\"ORF\": \"YLR062C\", \"Cluster\": 0, \"Sample Point\": \"R2.Ratio\", \"Ratio\": -0.0565835283663676}, {\"ORF\": \"YLR062C\", \"Cluster\": 0, \"Sample Point\": \"R3.Ratio\", \"Ratio\": 0.0588936890535686}, {\"ORF\": \"YLR062C\", \"Cluster\": 0, \"Sample Point\": \"R4.Ratio\", \"Ratio\": -0.356143810225275}, {\"ORF\": \"YLR062C\", \"Cluster\": 0, \"Sample Point\": \"R5.Ratio\", \"Ratio\": -0.0976107966264223}, {\"ORF\": \"YLR062C\", \"Cluster\": 0, \"Sample Point\": \"R6.Ratio\", \"Ratio\": -1.91073266190291}, {\"ORF\": \"YLR062C\", \"Cluster\": 0, \"Sample Point\": \"R7.Ratio\", \"Ratio\": -2.86591881455221}, {\"ORF\": \"YLR076C\", \"Cluster\": 0, \"Sample Point\": \"R1.Ratio\", \"Ratio\": 0.217591435072627}, {\"ORF\": \"YLR076C\", \"Cluster\": 0, \"Sample Point\": \"R2.Ratio\", \"Ratio\": -0.0426443374084937}, {\"ORF\": \"YLR076C\", \"Cluster\": 0, \"Sample Point\": \"R3.Ratio\", \"Ratio\": 0.0892673380970873}, {\"ORF\": \"YLR076C\", \"Cluster\": 0, \"Sample Point\": \"R4.Ratio\", \"Ratio\": 0.0740005814437768}, {\"ORF\": \"YLR076C\", \"Cluster\": 0, \"Sample Point\": \"R5.Ratio\", \"Ratio\": -0.31034012061215}, {\"ORF\": \"YLR076C\", \"Cluster\": 0, \"Sample Point\": \"R6.Ratio\", \"Ratio\": -1.49569516262407}, {\"ORF\": \"YLR076C\", \"Cluster\": 0, \"Sample Point\": \"R7.Ratio\", \"Ratio\": -2.32481060342048}, {\"ORF\": \"YLR129w\", \"Cluster\": 0, \"Sample Point\": \"R1.Ratio\", \"Ratio\": -0.344828496997441}, {\"ORF\": \"YLR129w\", \"Cluster\": 0, \"Sample Point\": \"R2.Ratio\", \"Ratio\": -0.37851162325373}, {\"ORF\": \"YLR129w\", \"Cluster\": 0, \"Sample Point\": \"R3.Ratio\", \"Ratio\": -0.286881147788162}, {\"ORF\": \"YLR129w\", \"Cluster\": 0, \"Sample Point\": \"R4.Ratio\", \"Ratio\": -0.887525270741588}, {\"ORF\": \"YLR129w\", \"Cluster\": 0, \"Sample Point\": \"R5.Ratio\", \"Ratio\": -0.863938450423972}, {\"ORF\": \"YLR129w\", \"Cluster\": 0, \"Sample Point\": \"R6.Ratio\", \"Ratio\": -2.81147103052984}, {\"ORF\": \"YLR129w\", \"Cluster\": 0, \"Sample Point\": \"R7.Ratio\", \"Ratio\": -2.09423606984577}, {\"ORF\": \"YLR142w\", \"Cluster\": 1, \"Sample Point\": \"R1.Ratio\", \"Ratio\": -0.176322772640463}, {\"ORF\": \"YLR142w\", \"Cluster\": 1, \"Sample Point\": \"R2.Ratio\", \"Ratio\": -0.464668267003444}, {\"ORF\": \"YLR142w\", \"Cluster\": 1, \"Sample Point\": \"R3.Ratio\", \"Ratio\": -0.505890929729957}, {\"ORF\": \"YLR142w\", \"Cluster\": 1, \"Sample Point\": \"R4.Ratio\", \"Ratio\": -0.263034405833794}, {\"ORF\": \"YLR142w\", \"Cluster\": 1, \"Sample Point\": \"R5.Ratio\", \"Ratio\": -0.20163386116965}, {\"ORF\": \"YLR142w\", \"Cluster\": 1, \"Sample Point\": \"R6.Ratio\", \"Ratio\": 0.514573172829758}, {\"ORF\": \"YLR142w\", \"Cluster\": 1, \"Sample Point\": \"R7.Ratio\", \"Ratio\": 2.39592867633114}, {\"ORF\": \"YLR149C\", \"Cluster\": 1, \"Sample Point\": \"R1.Ratio\", \"Ratio\": -0.263034405833794}, {\"ORF\": \"YLR149C\", \"Cluster\": 1, \"Sample Point\": \"R2.Ratio\", \"Ratio\": -0.124328135002202}, {\"ORF\": \"YLR149C\", \"Cluster\": 1, \"Sample Point\": \"R3.Ratio\", \"Ratio\": -0.189033824390017}, {\"ORF\": \"YLR149C\", \"Cluster\": 1, \"Sample Point\": \"R4.Ratio\", \"Ratio\": 0.599462070416271}, {\"ORF\": \"YLR149C\", \"Cluster\": 1, \"Sample Point\": \"R5.Ratio\", \"Ratio\": 0.286304185156641}, {\"ORF\": \"YLR149C\", \"Cluster\": 1, \"Sample Point\": \"R6.Ratio\", \"Ratio\": 2.47393118833241}, {\"ORF\": \"YLR149C\", \"Cluster\": 1, \"Sample Point\": \"R7.Ratio\", \"Ratio\": 2.73696559416621}, {\"ORF\": \"YLR174W\", \"Cluster\": 1, \"Sample Point\": \"R1.Ratio\", \"Ratio\": -0.111031312388744}, {\"ORF\": \"YLR174W\", \"Cluster\": 1, \"Sample Point\": \"R2.Ratio\", \"Ratio\": -0.286881147788162}, {\"ORF\": \"YLR174W\", \"Cluster\": 1, \"Sample Point\": \"R3.Ratio\", \"Ratio\": 0.713118852211838}, {\"ORF\": \"YLR174W\", \"Cluster\": 1, \"Sample Point\": \"R4.Ratio\", \"Ratio\": 0.120294233717712}, {\"ORF\": \"YLR174W\", \"Cluster\": 1, \"Sample Point\": \"R5.Ratio\", \"Ratio\": -0.137503523749935}, {\"ORF\": \"YLR174W\", \"Cluster\": 1, \"Sample Point\": \"R6.Ratio\", \"Ratio\": 1.28630418515664}, {\"ORF\": \"YLR174W\", \"Cluster\": 1, \"Sample Point\": \"R7.Ratio\", \"Ratio\": 3.32192809488736}, {\"ORF\": \"YLR178C\", \"Cluster\": 1, \"Sample Point\": \"R1.Ratio\", \"Ratio\": -0.22650852980868}, {\"ORF\": \"YLR178C\", \"Cluster\": 1, \"Sample Point\": \"R2.Ratio\", \"Ratio\": -0.214124805352847}, {\"ORF\": \"YLR178C\", \"Cluster\": 1, \"Sample Point\": \"R3.Ratio\", \"Ratio\": -0.0565835283663676}, {\"ORF\": \"YLR178C\", \"Cluster\": 1, \"Sample Point\": \"R4.Ratio\", \"Ratio\": 0.761213140412884}, {\"ORF\": \"YLR178C\", \"Cluster\": 1, \"Sample Point\": \"R5.Ratio\", \"Ratio\": 1.25153876699596}, {\"ORF\": \"YLR178C\", \"Cluster\": 1, \"Sample Point\": \"R6.Ratio\", \"Ratio\": 2.64385618977472}, {\"ORF\": \"YLR178C\", \"Cluster\": 1, \"Sample Point\": \"R7.Ratio\", \"Ratio\": 1.78587519464715}, {\"ORF\": \"YLR180W\", \"Cluster\": 0, \"Sample Point\": \"R1.Ratio\", \"Ratio\": 0.184424571137428}, {\"ORF\": \"YLR180W\", \"Cluster\": 0, \"Sample Point\": \"R2.Ratio\", \"Ratio\": 0.2688167584278}, {\"ORF\": \"YLR180W\", \"Cluster\": 0, \"Sample Point\": \"R3.Ratio\", \"Ratio\": 0.217591435072627}, {\"ORF\": \"YLR180W\", \"Cluster\": 0, \"Sample Point\": \"R4.Ratio\", \"Ratio\": -0.925999418556223}, {\"ORF\": \"YLR180W\", \"Cluster\": 0, \"Sample Point\": \"R5.Ratio\", \"Ratio\": -1.0703893278914}, {\"ORF\": \"YLR180W\", \"Cluster\": 0, \"Sample Point\": \"R6.Ratio\", \"Ratio\": -2.54596836910529}, {\"ORF\": \"YLR180W\", \"Cluster\": 0, \"Sample Point\": \"R7.Ratio\", \"Ratio\": -3.06350294230616}, {\"ORF\": \"YLR186W\", \"Cluster\": 0, \"Sample Point\": \"R1.Ratio\", \"Ratio\": 0.0740005814437768}, {\"ORF\": \"YLR186W\", \"Cluster\": 0, \"Sample Point\": \"R2.Ratio\", \"Ratio\": -0.0426443374084937}, {\"ORF\": \"YLR186W\", \"Cluster\": 0, \"Sample Point\": \"R3.Ratio\", \"Ratio\": -0.298658315564515}, {\"ORF\": \"YLR186W\", \"Cluster\": 0, \"Sample Point\": \"R4.Ratio\", \"Ratio\": -1.0}, {\"ORF\": \"YLR186W\", \"Cluster\": 0, \"Sample Point\": \"R5.Ratio\", \"Ratio\": -0.687060688339892}, {\"ORF\": \"YLR186W\", \"Cluster\": 0, \"Sample Point\": \"R6.Ratio\", \"Ratio\": -1.38956681176273}, {\"ORF\": \"YLR186W\", \"Cluster\": 0, \"Sample Point\": \"R7.Ratio\", \"Ratio\": -2.42223300068305}, {\"ORF\": \"YLR196W\", \"Cluster\": 0, \"Sample Point\": \"R1.Ratio\", \"Ratio\": 0.251538766995964}, {\"ORF\": \"YLR196W\", \"Cluster\": 0, \"Sample Point\": \"R2.Ratio\", \"Ratio\": 0.0892673380970873}, {\"ORF\": \"YLR196W\", \"Cluster\": 0, \"Sample Point\": \"R3.Ratio\", \"Ratio\": 0.2688167584278}, {\"ORF\": \"YLR196W\", \"Cluster\": 0, \"Sample Point\": \"R4.Ratio\", \"Ratio\": -0.855989697308481}, {\"ORF\": \"YLR196W\", \"Cluster\": 0, \"Sample Point\": \"R5.Ratio\", \"Ratio\": -0.925999418556223}, {\"ORF\": \"YLR196W\", \"Cluster\": 0, \"Sample Point\": \"R6.Ratio\", \"Ratio\": -1.53605290024021}, {\"ORF\": \"YLR196W\", \"Cluster\": 0, \"Sample Point\": \"R7.Ratio\", \"Ratio\": -2.78240856492737}, {\"ORF\": \"YLR198C\", \"Cluster\": 0, \"Sample Point\": \"R1.Ratio\", \"Ratio\": 0.3040061868901}, {\"ORF\": \"YLR198C\", \"Cluster\": 0, \"Sample Point\": \"R2.Ratio\", \"Ratio\": 0.0144995696951152}, {\"ORF\": \"YLR198C\", \"Cluster\": 0, \"Sample Point\": \"R3.Ratio\", \"Ratio\": 0.454031630894707}, {\"ORF\": \"YLR198C\", \"Cluster\": 0, \"Sample Point\": \"R4.Ratio\", \"Ratio\": -0.150559676575381}, {\"ORF\": \"YLR198C\", \"Cluster\": 0, \"Sample Point\": \"R5.Ratio\", \"Ratio\": -0.22650852980868}, {\"ORF\": \"YLR198C\", \"Cluster\": 0, \"Sample Point\": \"R6.Ratio\", \"Ratio\": -1.36176835941915}, {\"ORF\": \"YLR198C\", \"Cluster\": 0, \"Sample Point\": \"R7.Ratio\", \"Ratio\": -2.47767732756531}, {\"ORF\": \"YLR249W\", \"Cluster\": 0, \"Sample Point\": \"R1.Ratio\", \"Ratio\": 0.0588936890535686}, {\"ORF\": \"YLR249W\", \"Cluster\": 0, \"Sample Point\": \"R2.Ratio\", \"Ratio\": 0.0291463456595165}, {\"ORF\": \"YLR249W\", \"Cluster\": 0, \"Sample Point\": \"R3.Ratio\", \"Ratio\": 0.120294233717712}, {\"ORF\": \"YLR249W\", \"Cluster\": 0, \"Sample Point\": \"R4.Ratio\", \"Ratio\": -0.765534746362977}, {\"ORF\": \"YLR249W\", \"Cluster\": 0, \"Sample Point\": \"R5.Ratio\", \"Ratio\": -0.0565835283663676}, {\"ORF\": \"YLR249W\", \"Cluster\": 0, \"Sample Point\": \"R6.Ratio\", \"Ratio\": -1.47508488294878}, {\"ORF\": \"YLR249W\", \"Cluster\": 0, \"Sample Point\": \"R7.Ratio\", \"Ratio\": -2.76128527336162}, {\"ORF\": \"YLR258W\", \"Cluster\": 1, \"Sample Point\": \"R1.Ratio\", \"Ratio\": 0.104697378666693}, {\"ORF\": \"YLR258W\", \"Cluster\": 1, \"Sample Point\": \"R2.Ratio\", \"Ratio\": 0.434402824145775}, {\"ORF\": \"YLR258W\", \"Cluster\": 1, \"Sample Point\": \"R3.Ratio\", \"Ratio\": 0.454031630894707}, {\"ORF\": \"YLR258W\", \"Cluster\": 1, \"Sample Point\": \"R4.Ratio\", \"Ratio\": 1.88896868761126}, {\"ORF\": \"YLR258W\", \"Cluster\": 1, \"Sample Point\": \"R5.Ratio\", \"Ratio\": 2.0}, {\"ORF\": \"YLR258W\", \"Cluster\": 1, \"Sample Point\": \"R6.Ratio\", \"Ratio\": 3.32192809488736}, {\"ORF\": \"YLR258W\", \"Cluster\": 1, \"Sample Point\": \"R7.Ratio\", \"Ratio\": 2.55639334852439}, {\"ORF\": \"YLR267W\", \"Cluster\": 1, \"Sample Point\": \"R1.Ratio\", \"Ratio\": -0.124328135002202}, {\"ORF\": \"YLR267W\", \"Cluster\": 1, \"Sample Point\": \"R2.Ratio\", \"Ratio\": 0.120294233717712}, {\"ORF\": \"YLR267W\", \"Cluster\": 1, \"Sample Point\": \"R3.Ratio\", \"Ratio\": 0.2688167584278}, {\"ORF\": \"YLR267W\", \"Cluster\": 1, \"Sample Point\": \"R4.Ratio\", \"Ratio\": -0.111031312388744}, {\"ORF\": \"YLR267W\", \"Cluster\": 1, \"Sample Point\": \"R5.Ratio\", \"Ratio\": -0.485426827170242}, {\"ORF\": \"YLR267W\", \"Cluster\": 1, \"Sample Point\": \"R6.Ratio\", \"Ratio\": 1.64385618977472}, {\"ORF\": \"YLR267W\", \"Cluster\": 1, \"Sample Point\": \"R7.Ratio\", \"Ratio\": 2.73696559416621}, {\"ORF\": \"YLR270W\", \"Cluster\": 1, \"Sample Point\": \"R1.Ratio\", \"Ratio\": 0.104697378666693}, {\"ORF\": \"YLR270W\", \"Cluster\": 1, \"Sample Point\": \"R2.Ratio\", \"Ratio\": -0.028569152196771}, {\"ORF\": \"YLR270W\", \"Cluster\": 1, \"Sample Point\": \"R3.Ratio\", \"Ratio\": 0.217591435072627}, {\"ORF\": \"YLR270W\", \"Cluster\": 1, \"Sample Point\": \"R4.Ratio\", \"Ratio\": 0.62148837674627}, {\"ORF\": \"YLR270W\", \"Cluster\": 1, \"Sample Point\": \"R5.Ratio\", \"Ratio\": 0.377069649079823}, {\"ORF\": \"YLR270W\", \"Cluster\": 1, \"Sample Point\": \"R6.Ratio\", \"Ratio\": 3.05889368905357}, {\"ORF\": \"YLR270W\", \"Cluster\": 1, \"Sample Point\": \"R7.Ratio\", \"Ratio\": 1.51457317282976}, {\"ORF\": \"YLR304C\", \"Cluster\": 1, \"Sample Point\": \"R1.Ratio\", \"Ratio\": 0.200912693925996}, {\"ORF\": \"YLR304C\", \"Cluster\": 1, \"Sample Point\": \"R2.Ratio\", \"Ratio\": 0.556393348524385}, {\"ORF\": \"YLR304C\", \"Cluster\": 1, \"Sample Point\": \"R3.Ratio\", \"Ratio\": 0.494109070270043}, {\"ORF\": \"YLR304C\", \"Cluster\": 1, \"Sample Point\": \"R4.Ratio\", \"Ratio\": 1.02914634565952}, {\"ORF\": \"YLR304C\", \"Cluster\": 1, \"Sample Point\": \"R5.Ratio\", \"Ratio\": 1.21759143507263}, {\"ORF\": \"YLR304C\", \"Cluster\": 1, \"Sample Point\": \"R6.Ratio\", \"Ratio\": 1.94341647163363}, {\"ORF\": \"YLR304C\", \"Cluster\": 1, \"Sample Point\": \"R7.Ratio\", \"Ratio\": 2.64385618977472}, {\"ORF\": \"YLR312C\", \"Cluster\": 1, \"Sample Point\": \"R1.Ratio\", \"Ratio\": -0.613531652917927}, {\"ORF\": \"YLR312C\", \"Cluster\": 1, \"Sample Point\": \"R2.Ratio\", \"Ratio\": -0.659924558402378}, {\"ORF\": \"YLR312C\", \"Cluster\": 1, \"Sample Point\": \"R3.Ratio\", \"Ratio\": 0.0}, {\"ORF\": \"YLR312C\", \"Cluster\": 1, \"Sample Point\": \"R4.Ratio\", \"Ratio\": 0.184424571137428}, {\"ORF\": \"YLR312C\", \"Cluster\": 1, \"Sample Point\": \"R5.Ratio\", \"Ratio\": -0.27500704749987}, {\"ORF\": \"YLR312C\", \"Cluster\": 1, \"Sample Point\": \"R6.Ratio\", \"Ratio\": 1.25153876699596}, {\"ORF\": \"YLR312C\", \"Cluster\": 1, \"Sample Point\": \"R7.Ratio\", \"Ratio\": 2.32192809488736}, {\"ORF\": \"YBR181C\", \"Cluster\": 0, \"Sample Point\": \"R1.Ratio\", \"Ratio\": 0.184424571137428}, {\"ORF\": \"YBR181C\", \"Cluster\": 0, \"Sample Point\": \"R2.Ratio\", \"Ratio\": 0.217591435072627}, {\"ORF\": \"YBR181C\", \"Cluster\": 0, \"Sample Point\": \"R3.Ratio\", \"Ratio\": 0.200912693925996}, {\"ORF\": \"YBR181C\", \"Cluster\": 0, \"Sample Point\": \"R4.Ratio\", \"Ratio\": 0.0892673380970873}, {\"ORF\": \"YBR181C\", \"Cluster\": 0, \"Sample Point\": \"R5.Ratio\", \"Ratio\": 0.120294233717712}, {\"ORF\": \"YBR181C\", \"Cluster\": 0, \"Sample Point\": \"R6.Ratio\", \"Ratio\": -1.58496250072116}, {\"ORF\": \"YBR181C\", \"Cluster\": 0, \"Sample Point\": \"R7.Ratio\", \"Ratio\": -2.56803210477128}, {\"ORF\": \"YLR325C\", \"Cluster\": 0, \"Sample Point\": \"R1.Ratio\", \"Ratio\": 0.0439433475875972}, {\"ORF\": \"YLR325C\", \"Cluster\": 0, \"Sample Point\": \"R2.Ratio\", \"Ratio\": 0.0144995696951152}, {\"ORF\": \"YLR325C\", \"Cluster\": 0, \"Sample Point\": \"R3.Ratio\", \"Ratio\": 0.120294233717712}, {\"ORF\": \"YLR325C\", \"Cluster\": 0, \"Sample Point\": \"R4.Ratio\", \"Ratio\": 0.0291463456595165}, {\"ORF\": \"YLR325C\", \"Cluster\": 0, \"Sample Point\": \"R5.Ratio\", \"Ratio\": -0.298658315564515}, {\"ORF\": \"YLR325C\", \"Cluster\": 0, \"Sample Point\": \"R6.Ratio\", \"Ratio\": -1.54596836910529}, {\"ORF\": \"YLR325C\", \"Cluster\": 0, \"Sample Point\": \"R7.Ratio\", \"Ratio\": -2.59454854955035}, {\"ORF\": \"YLR327C\", \"Cluster\": 1, \"Sample Point\": \"R1.Ratio\", \"Ratio\": -0.189033824390017}, {\"ORF\": \"YLR327C\", \"Cluster\": 1, \"Sample Point\": \"R2.Ratio\", \"Ratio\": -0.333423733725192}, {\"ORF\": \"YLR327C\", \"Cluster\": 1, \"Sample Point\": \"R3.Ratio\", \"Ratio\": 0.0892673380970873}, {\"ORF\": \"YLR327C\", \"Cluster\": 1, \"Sample Point\": \"R4.Ratio\", \"Ratio\": 0.915935735211525}, {\"ORF\": \"YLR327C\", \"Cluster\": 1, \"Sample Point\": \"R5.Ratio\", \"Ratio\": 1.08926733809709}, {\"ORF\": \"YLR327C\", \"Cluster\": 1, \"Sample Point\": \"R6.Ratio\", \"Ratio\": 3.32192809488736}, {\"ORF\": \"YLR327C\", \"Cluster\": 1, \"Sample Point\": \"R7.Ratio\", \"Ratio\": 2.64385618977472}, {\"ORF\": \"YLR339C\", \"Cluster\": 0, \"Sample Point\": \"R1.Ratio\", \"Ratio\": 0.321928094887362}, {\"ORF\": \"YLR339C\", \"Cluster\": 0, \"Sample Point\": \"R2.Ratio\", \"Ratio\": 0.473931188332412}, {\"ORF\": \"YLR339C\", \"Cluster\": 0, \"Sample Point\": \"R3.Ratio\", \"Ratio\": 0.3040061868901}, {\"ORF\": \"YLR339C\", \"Cluster\": 0, \"Sample Point\": \"R4.Ratio\", \"Ratio\": -0.214124805352847}, {\"ORF\": \"YLR339C\", \"Cluster\": 0, \"Sample Point\": \"R5.Ratio\", \"Ratio\": -0.669026765509631}, {\"ORF\": \"YLR339C\", \"Cluster\": 0, \"Sample Point\": \"R6.Ratio\", \"Ratio\": -1.78240856492737}, {\"ORF\": \"YLR339C\", \"Cluster\": 0, \"Sample Point\": \"R7.Ratio\", \"Ratio\": -2.55826763405574}, {\"ORF\": \"YLR340W\", \"Cluster\": 0, \"Sample Point\": \"R1.Ratio\", \"Ratio\": 0.200912693925996}, {\"ORF\": \"YLR340W\", \"Cluster\": 0, \"Sample Point\": \"R2.Ratio\", \"Ratio\": 0.321928094887362}, {\"ORF\": \"YLR340W\", \"Cluster\": 0, \"Sample Point\": \"R3.Ratio\", \"Ratio\": 0.473931188332412}, {\"ORF\": \"YLR340W\", \"Cluster\": 0, \"Sample Point\": \"R4.Ratio\", \"Ratio\": -0.0840642647884746}, {\"ORF\": \"YLR340W\", \"Cluster\": 0, \"Sample Point\": \"R5.Ratio\", \"Ratio\": -0.443606651475615}, {\"ORF\": \"YLR340W\", \"Cluster\": 0, \"Sample Point\": \"R6.Ratio\", \"Ratio\": -1.8073549220576}, {\"ORF\": \"YLR340W\", \"Cluster\": 0, \"Sample Point\": \"R7.Ratio\", \"Ratio\": -2.77610398807316}, {\"ORF\": \"YBR183W\", \"Cluster\": 1, \"Sample Point\": \"R1.Ratio\", \"Ratio\": -0.36737106564853}, {\"ORF\": \"YBR183W\", \"Cluster\": 1, \"Sample Point\": \"R2.Ratio\", \"Ratio\": -0.400537929583729}, {\"ORF\": \"YBR183W\", \"Cluster\": 1, \"Sample Point\": \"R3.Ratio\", \"Ratio\": 0.395928676331139}, {\"ORF\": \"YBR183W\", \"Cluster\": 1, \"Sample Point\": \"R4.Ratio\", \"Ratio\": 1.05889368905357}, {\"ORF\": \"YBR183W\", \"Cluster\": 1, \"Sample Point\": \"R5.Ratio\", \"Ratio\": 0.862496476250065}, {\"ORF\": \"YBR183W\", \"Cluster\": 1, \"Sample Point\": \"R6.Ratio\", \"Ratio\": 2.55639334852439}, {\"ORF\": \"YBR183W\", \"Cluster\": 1, \"Sample Point\": \"R7.Ratio\", \"Ratio\": 1.43440282414577}, {\"ORF\": \"YLR344W\", \"Cluster\": 0, \"Sample Point\": \"R1.Ratio\", \"Ratio\": -0.0840642647884746}, {\"ORF\": \"YLR344W\", \"Cluster\": 0, \"Sample Point\": \"R2.Ratio\", \"Ratio\": -0.176322772640463}, {\"ORF\": \"YLR344W\", \"Cluster\": 0, \"Sample Point\": \"R3.Ratio\", \"Ratio\": -0.356143810225275}, {\"ORF\": \"YLR344W\", \"Cluster\": 0, \"Sample Point\": \"R4.Ratio\", \"Ratio\": -0.704871964456353}, {\"ORF\": \"YLR344W\", \"Cluster\": 0, \"Sample Point\": \"R5.Ratio\", \"Ratio\": -0.505890929729957}, {\"ORF\": \"YLR344W\", \"Cluster\": 0, \"Sample Point\": \"R6.Ratio\", \"Ratio\": -1.56559717585423}, {\"ORF\": \"YLR344W\", \"Cluster\": 0, \"Sample Point\": \"R7.Ratio\", \"Ratio\": -2.37851162325373}, {\"ORF\": \"YLR355C\", \"Cluster\": 0, \"Sample Point\": \"R1.Ratio\", \"Ratio\": 0.358453970912476}, {\"ORF\": \"YLR355C\", \"Cluster\": 0, \"Sample Point\": \"R2.Ratio\", \"Ratio\": 0.0588936890535686}, {\"ORF\": \"YLR355C\", \"Cluster\": 0, \"Sample Point\": \"R3.Ratio\", \"Ratio\": -0.454175893185802}, {\"ORF\": \"YLR355C\", \"Cluster\": 0, \"Sample Point\": \"R4.Ratio\", \"Ratio\": -1.24488705912353}, {\"ORF\": \"YLR355C\", \"Cluster\": 0, \"Sample Point\": \"R5.Ratio\", \"Ratio\": -1.22032995487956}, {\"ORF\": \"YLR355C\", \"Cluster\": 0, \"Sample Point\": \"R6.Ratio\", \"Ratio\": -2.39231742277876}, {\"ORF\": \"YLR355C\", \"Cluster\": 0, \"Sample Point\": \"R7.Ratio\", \"Ratio\": -2.13422093976063}, {\"ORF\": \"YLR356W\", \"Cluster\": 1, \"Sample Point\": \"R1.Ratio\", \"Ratio\": -0.111031312388744}, {\"ORF\": \"YLR356W\", \"Cluster\": 1, \"Sample Point\": \"R2.Ratio\", \"Ratio\": 0.599462070416271}, {\"ORF\": \"YLR356W\", \"Cluster\": 1, \"Sample Point\": \"R3.Ratio\", \"Ratio\": 0.535331732996556}, {\"ORF\": \"YLR356W\", \"Cluster\": 1, \"Sample Point\": \"R4.Ratio\", \"Ratio\": 0.862496476250065}, {\"ORF\": \"YLR356W\", \"Cluster\": 1, \"Sample Point\": \"R5.Ratio\", \"Ratio\": 0.810966175609983}, {\"ORF\": \"YLR356W\", \"Cluster\": 1, \"Sample Point\": \"R6.Ratio\", \"Ratio\": 2.83650126771712}, {\"ORF\": \"YLR356W\", \"Cluster\": 1, \"Sample Point\": \"R7.Ratio\", \"Ratio\": 1.88896868761126}, {\"ORF\": \"YLR377C\", \"Cluster\": 1, \"Sample Point\": \"R1.Ratio\", \"Ratio\": -0.22650852980868}, {\"ORF\": \"YLR377C\", \"Cluster\": 1, \"Sample Point\": \"R2.Ratio\", \"Ratio\": -0.028569152196771}, {\"ORF\": \"YLR377C\", \"Cluster\": 1, \"Sample Point\": \"R3.Ratio\", \"Ratio\": 0.251538766995964}, {\"ORF\": \"YLR377C\", \"Cluster\": 1, \"Sample Point\": \"R4.Ratio\", \"Ratio\": -0.16349873228288}, {\"ORF\": \"YLR377C\", \"Cluster\": 1, \"Sample Point\": \"R5.Ratio\", \"Ratio\": -0.124328135002202}, {\"ORF\": \"YLR377C\", \"Cluster\": 1, \"Sample Point\": \"R6.Ratio\", \"Ratio\": 0.473931188332412}, {\"ORF\": \"YLR377C\", \"Cluster\": 1, \"Sample Point\": \"R7.Ratio\", \"Ratio\": 3.83650126771712}, {\"ORF\": \"YBR189W\", \"Cluster\": 0, \"Sample Point\": \"R1.Ratio\", \"Ratio\": -0.028569152196771}, {\"ORF\": \"YBR189W\", \"Cluster\": 0, \"Sample Point\": \"R2.Ratio\", \"Ratio\": -0.31034012061215}, {\"ORF\": \"YBR189W\", \"Cluster\": 0, \"Sample Point\": \"R3.Ratio\", \"Ratio\": 0.0291463456595165}, {\"ORF\": \"YBR189W\", \"Cluster\": 0, \"Sample Point\": \"R4.Ratio\", \"Ratio\": -0.27500704749987}, {\"ORF\": \"YBR189W\", \"Cluster\": 0, \"Sample Point\": \"R5.Ratio\", \"Ratio\": -0.545968369105293}, {\"ORF\": \"YBR189W\", \"Cluster\": 0, \"Sample Point\": \"R6.Ratio\", \"Ratio\": -1.97819562968165}, {\"ORF\": \"YBR189W\", \"Cluster\": 0, \"Sample Point\": \"R7.Ratio\", \"Ratio\": -2.65535182861255}, {\"ORF\": \"YLR413W\", \"Cluster\": 0, \"Sample Point\": \"R1.Ratio\", \"Ratio\": 0.217591435072627}, {\"ORF\": \"YLR413W\", \"Cluster\": 0, \"Sample Point\": \"R2.Ratio\", \"Ratio\": 0.358453970912476}, {\"ORF\": \"YLR413W\", \"Cluster\": 0, \"Sample Point\": \"R3.Ratio\", \"Ratio\": 0.535331732996556}, {\"ORF\": \"YLR413W\", \"Cluster\": 0, \"Sample Point\": \"R4.Ratio\", \"Ratio\": -0.650764559116902}, {\"ORF\": \"YLR413W\", \"Cluster\": 0, \"Sample Point\": \"R5.Ratio\", \"Ratio\": -0.669026765509631}, {\"ORF\": \"YLR413W\", \"Cluster\": 0, \"Sample Point\": \"R6.Ratio\", \"Ratio\": -2.4032677223393}, {\"ORF\": \"YLR413W\", \"Cluster\": 0, \"Sample Point\": \"R7.Ratio\", \"Ratio\": -2.82781902461732}, {\"ORF\": \"YBR191W\", \"Cluster\": 0, \"Sample Point\": \"R1.Ratio\", \"Ratio\": 0.0740005814437768}, {\"ORF\": \"YBR191W\", \"Cluster\": 0, \"Sample Point\": \"R2.Ratio\", \"Ratio\": -0.250961573533219}, {\"ORF\": \"YBR191W\", \"Cluster\": 0, \"Sample Point\": \"R3.Ratio\", \"Ratio\": 0.0588936890535686}, {\"ORF\": \"YBR191W\", \"Cluster\": 0, \"Sample Point\": \"R4.Ratio\", \"Ratio\": -0.238786859587116}, {\"ORF\": \"YBR191W\", \"Cluster\": 0, \"Sample Point\": \"R5.Ratio\", \"Ratio\": -0.55581615506164}, {\"ORF\": \"YBR191W\", \"Cluster\": 0, \"Sample Point\": \"R6.Ratio\", \"Ratio\": -1.73552217729654}, {\"ORF\": \"YBR191W\", \"Cluster\": 0, \"Sample Point\": \"R7.Ratio\", \"Ratio\": -2.66902676550963}, {\"ORF\": \"YLR448W\", \"Cluster\": 0, \"Sample Point\": \"R1.Ratio\", \"Ratio\": 0.340075441597622}, {\"ORF\": \"YLR448W\", \"Cluster\": 0, \"Sample Point\": \"R2.Ratio\", \"Ratio\": 0.0291463456595165}, {\"ORF\": \"YLR448W\", \"Cluster\": 0, \"Sample Point\": \"R3.Ratio\", \"Ratio\": -0.214124805352847}, {\"ORF\": \"YLR448W\", \"Cluster\": 0, \"Sample Point\": \"R4.Ratio\", \"Ratio\": -0.613531652917927}, {\"ORF\": \"YLR448W\", \"Cluster\": 0, \"Sample Point\": \"R5.Ratio\", \"Ratio\": -0.704871964456353}, {\"ORF\": \"YLR448W\", \"Cluster\": 0, \"Sample Point\": \"R6.Ratio\", \"Ratio\": -1.89530262133331}, {\"ORF\": \"YLR448W\", \"Cluster\": 0, \"Sample Point\": \"R7.Ratio\", \"Ratio\": -2.32768736417605}, {\"ORF\": \"YLR449W\", \"Cluster\": 0, \"Sample Point\": \"R1.Ratio\", \"Ratio\": -0.0426443374084937}, {\"ORF\": \"YLR449W\", \"Cluster\": 0, \"Sample Point\": \"R2.Ratio\", \"Ratio\": -0.028569152196771}, {\"ORF\": \"YLR449W\", \"Cluster\": 0, \"Sample Point\": \"R3.Ratio\", \"Ratio\": 0.136061549576028}, {\"ORF\": \"YLR449W\", \"Cluster\": 0, \"Sample Point\": \"R4.Ratio\", \"Ratio\": -1.19534759832222}, {\"ORF\": \"YLR449W\", \"Cluster\": 0, \"Sample Point\": \"R5.Ratio\", \"Ratio\": -0.970853654340484}, {\"ORF\": \"YLR449W\", \"Cluster\": 0, \"Sample Point\": \"R6.Ratio\", \"Ratio\": -2.61353165291793}, {\"ORF\": \"YLR449W\", \"Cluster\": 0, \"Sample Point\": \"R7.Ratio\", \"Ratio\": -2.20789285164133}, {\"ORF\": \"YML054C\", \"Cluster\": 1, \"Sample Point\": \"R1.Ratio\", \"Ratio\": -0.575312330687437}, {\"ORF\": \"YML054C\", \"Cluster\": 1, \"Sample Point\": \"R2.Ratio\", \"Ratio\": -0.0976107966264223}, {\"ORF\": \"YML054C\", \"Cluster\": 1, \"Sample Point\": \"R3.Ratio\", \"Ratio\": 0.434402824145775}, {\"ORF\": \"YML054C\", \"Cluster\": 1, \"Sample Point\": \"R4.Ratio\", \"Ratio\": -0.111031312388744}, {\"ORF\": \"YML054C\", \"Cluster\": 1, \"Sample Point\": \"R5.Ratio\", \"Ratio\": -0.0426443374084937}, {\"ORF\": \"YML054C\", \"Cluster\": 1, \"Sample Point\": \"R6.Ratio\", \"Ratio\": 2.32192809488736}, {\"ORF\": \"YML054C\", \"Cluster\": 1, \"Sample Point\": \"R7.Ratio\", \"Ratio\": 2.94341647163363}, {\"ORF\": \"YML063W\", \"Cluster\": 0, \"Sample Point\": \"R1.Ratio\", \"Ratio\": 0.217591435072627}, {\"ORF\": \"YML063W\", \"Cluster\": 0, \"Sample Point\": \"R2.Ratio\", \"Ratio\": 0.217591435072627}, {\"ORF\": \"YML063W\", \"Cluster\": 0, \"Sample Point\": \"R3.Ratio\", \"Ratio\": 0.395928676331139}, {\"ORF\": \"YML063W\", \"Cluster\": 0, \"Sample Point\": \"R4.Ratio\", \"Ratio\": 0.0144995696951152}, {\"ORF\": \"YML063W\", \"Cluster\": 0, \"Sample Point\": \"R5.Ratio\", \"Ratio\": -0.028569152196771}, {\"ORF\": \"YML063W\", \"Cluster\": 0, \"Sample Point\": \"R6.Ratio\", \"Ratio\": -1.58014548442338}, {\"ORF\": \"YML063W\", \"Cluster\": 0, \"Sample Point\": \"R7.Ratio\", \"Ratio\": -2.48542682717024}, {\"ORF\": \"YML128C\", \"Cluster\": 1, \"Sample Point\": \"R1.Ratio\", \"Ratio\": -0.124328135002202}, {\"ORF\": \"YML128C\", \"Cluster\": 1, \"Sample Point\": \"R2.Ratio\", \"Ratio\": 0.200912693925996}, {\"ORF\": \"YML128C\", \"Cluster\": 1, \"Sample Point\": \"R3.Ratio\", \"Ratio\": 0.971430847803229}, {\"ORF\": \"YML128C\", \"Cluster\": 1, \"Sample Point\": \"R4.Ratio\", \"Ratio\": 1.55639334852439}, {\"ORF\": \"YML128C\", \"Cluster\": 1, \"Sample Point\": \"R5.Ratio\", \"Ratio\": 1.35845397091248}, {\"ORF\": \"YML128C\", \"Cluster\": 1, \"Sample Point\": \"R6.Ratio\", \"Ratio\": 4.32192809488736}, {\"ORF\": \"YML128C\", \"Cluster\": 1, \"Sample Point\": \"R7.Ratio\", \"Ratio\": 3.47393118833241}, {\"ORF\": \"YMR090W\", \"Cluster\": 1, \"Sample Point\": \"R1.Ratio\", \"Ratio\": -0.176322772640463}, {\"ORF\": \"YMR090W\", \"Cluster\": 1, \"Sample Point\": \"R2.Ratio\", \"Ratio\": 0.0892673380970873}, {\"ORF\": \"YMR090W\", \"Cluster\": 1, \"Sample Point\": \"R3.Ratio\", \"Ratio\": 0.577766999316952}, {\"ORF\": \"YMR090W\", \"Cluster\": 1, \"Sample Point\": \"R4.Ratio\", \"Ratio\": 0.321928094887362}, {\"ORF\": \"YMR090W\", \"Cluster\": 1, \"Sample Point\": \"R5.Ratio\", \"Ratio\": 0.971430847803229}, {\"ORF\": \"YMR090W\", \"Cluster\": 1, \"Sample Point\": \"R6.Ratio\", \"Ratio\": 2.32192809488736}, {\"ORF\": \"YMR090W\", \"Cluster\": 1, \"Sample Point\": \"R7.Ratio\", \"Ratio\": 1.02914634565952}, {\"ORF\": \"YMR093W\", \"Cluster\": 0, \"Sample Point\": \"R1.Ratio\", \"Ratio\": 0.0740005814437768}, {\"ORF\": \"YMR093W\", \"Cluster\": 0, \"Sample Point\": \"R2.Ratio\", \"Ratio\": 0.0}, {\"ORF\": \"YMR093W\", \"Cluster\": 0, \"Sample Point\": \"R3.Ratio\", \"Ratio\": -0.454175893185802}, {\"ORF\": \"YMR093W\", \"Cluster\": 0, \"Sample Point\": \"R4.Ratio\", \"Ratio\": -1.27500704749987}, {\"ORF\": \"YMR093W\", \"Cluster\": 0, \"Sample Point\": \"R5.Ratio\", \"Ratio\": -1.33913738491959}, {\"ORF\": \"YMR093W\", \"Cluster\": 0, \"Sample Point\": \"R6.Ratio\", \"Ratio\": -1.85199883711245}, {\"ORF\": \"YMR093W\", \"Cluster\": 0, \"Sample Point\": \"R7.Ratio\", \"Ratio\": -2.46205231879643}, {\"ORF\": \"YMR105C\", \"Cluster\": 1, \"Sample Point\": \"R1.Ratio\", \"Ratio\": 0.136061549576028}, {\"ORF\": \"YMR105C\", \"Cluster\": 1, \"Sample Point\": \"R2.Ratio\", \"Ratio\": 0.535331732996556}, {\"ORF\": \"YMR105C\", \"Cluster\": 1, \"Sample Point\": \"R3.Ratio\", \"Ratio\": 0.713118852211838}, {\"ORF\": \"YMR105C\", \"Cluster\": 1, \"Sample Point\": \"R4.Ratio\", \"Ratio\": 1.73696559416621}, {\"ORF\": \"YMR105C\", \"Cluster\": 1, \"Sample Point\": \"R5.Ratio\", \"Ratio\": 1.47393118833241}, {\"ORF\": \"YMR105C\", \"Cluster\": 1, \"Sample Point\": \"R6.Ratio\", \"Ratio\": 3.18442457113743}, {\"ORF\": \"YMR105C\", \"Cluster\": 1, \"Sample Point\": \"R7.Ratio\", \"Ratio\": 2.64385618977472}, {\"ORF\": \"YMR107W\", \"Cluster\": 1, \"Sample Point\": \"R1.Ratio\", \"Ratio\": -0.411426245726465}, {\"ORF\": \"YMR107W\", \"Cluster\": 1, \"Sample Point\": \"R2.Ratio\", \"Ratio\": -0.263034405833794}, {\"ORF\": \"YMR107W\", \"Cluster\": 1, \"Sample Point\": \"R3.Ratio\", \"Ratio\": -0.20163386116965}, {\"ORF\": \"YMR107W\", \"Cluster\": 1, \"Sample Point\": \"R4.Ratio\", \"Ratio\": -0.298658315564515}, {\"ORF\": \"YMR107W\", \"Cluster\": 1, \"Sample Point\": \"R5.Ratio\", \"Ratio\": -0.111031312388744}, {\"ORF\": \"YMR107W\", \"Cluster\": 1, \"Sample Point\": \"R6.Ratio\", \"Ratio\": 2.32192809488736}, {\"ORF\": \"YMR107W\", \"Cluster\": 1, \"Sample Point\": \"R7.Ratio\", \"Ratio\": 2.32192809488736}, {\"ORF\": \"YMR121C\", \"Cluster\": 0, \"Sample Point\": \"R1.Ratio\", \"Ratio\": 0.340075441597622}, {\"ORF\": \"YMR121C\", \"Cluster\": 0, \"Sample Point\": \"R2.Ratio\", \"Ratio\": -0.0426443374084937}, {\"ORF\": \"YMR121C\", \"Cluster\": 0, \"Sample Point\": \"R3.Ratio\", \"Ratio\": 0.340075441597622}, {\"ORF\": \"YMR121C\", \"Cluster\": 0, \"Sample Point\": \"R4.Ratio\", \"Ratio\": 0.321928094887362}, {\"ORF\": \"YMR121C\", \"Cluster\": 0, \"Sample Point\": \"R5.Ratio\", \"Ratio\": -0.111031312388744}, {\"ORF\": \"YMR121C\", \"Cluster\": 0, \"Sample Point\": \"R6.Ratio\", \"Ratio\": -1.36176835941915}, {\"ORF\": \"YMR121C\", \"Cluster\": 0, \"Sample Point\": \"R7.Ratio\", \"Ratio\": -2.4594316186373}, {\"ORF\": \"YMR131C\", \"Cluster\": 0, \"Sample Point\": \"R1.Ratio\", \"Ratio\": 0.217591435072627}, {\"ORF\": \"YMR131C\", \"Cluster\": 0, \"Sample Point\": \"R2.Ratio\", \"Ratio\": 0.104697378666693}, {\"ORF\": \"YMR131C\", \"Cluster\": 0, \"Sample Point\": \"R3.Ratio\", \"Ratio\": 0.321928094887362}, {\"ORF\": \"YMR131C\", \"Cluster\": 0, \"Sample Point\": \"R4.Ratio\", \"Ratio\": -0.411426245726465}, {\"ORF\": \"YMR131C\", \"Cluster\": 0, \"Sample Point\": \"R5.Ratio\", \"Ratio\": -0.831877241191673}, {\"ORF\": \"YMR131C\", \"Cluster\": 0, \"Sample Point\": \"R6.Ratio\", \"Ratio\": -1.33342373372519}, {\"ORF\": \"YMR131C\", \"Cluster\": 0, \"Sample Point\": \"R7.Ratio\", \"Ratio\": -2.59693514238723}, {\"ORF\": \"YMR170C\", \"Cluster\": 1, \"Sample Point\": \"R1.Ratio\", \"Ratio\": 0.184424571137428}, {\"ORF\": \"YMR170C\", \"Cluster\": 1, \"Sample Point\": \"R2.Ratio\", \"Ratio\": 0.234465253637023}, {\"ORF\": \"YMR170C\", \"Cluster\": 1, \"Sample Point\": \"R3.Ratio\", \"Ratio\": 0.200912693925996}, {\"ORF\": \"YMR170C\", \"Cluster\": 1, \"Sample Point\": \"R4.Ratio\", \"Ratio\": 0.434402824145775}, {\"ORF\": \"YMR170C\", \"Cluster\": 1, \"Sample Point\": \"R5.Ratio\", \"Ratio\": 0.713118852211838}, {\"ORF\": \"YMR170C\", \"Cluster\": 1, \"Sample Point\": \"R6.Ratio\", \"Ratio\": 3.64385618977472}, {\"ORF\": \"YMR170C\", \"Cluster\": 1, \"Sample Point\": \"R7.Ratio\", \"Ratio\": 2.25153876699596}, {\"ORF\": \"YMR191W\", \"Cluster\": 1, \"Sample Point\": \"R1.Ratio\", \"Ratio\": -0.0143552929770701}, {\"ORF\": \"YMR191W\", \"Cluster\": 1, \"Sample Point\": \"R2.Ratio\", \"Ratio\": 0.15200309344505}, {\"ORF\": \"YMR191W\", \"Cluster\": 1, \"Sample Point\": \"R3.Ratio\", \"Ratio\": 0.599462070416271}, {\"ORF\": \"YMR191W\", \"Cluster\": 1, \"Sample Point\": \"R4.Ratio\", \"Ratio\": 0.514573172829758}, {\"ORF\": \"YMR191W\", \"Cluster\": 1, \"Sample Point\": \"R5.Ratio\", \"Ratio\": 0.377069649079823}, {\"ORF\": \"YMR191W\", \"Cluster\": 1, \"Sample Point\": \"R6.Ratio\", \"Ratio\": 1.83650126771712}, {\"ORF\": \"YMR191W\", \"Cluster\": 1, \"Sample Point\": \"R7.Ratio\", \"Ratio\": 2.32192809488736}, {\"ORF\": \"YMR217W\", \"Cluster\": 0, \"Sample Point\": \"R1.Ratio\", \"Ratio\": 0.15200309344505}, {\"ORF\": \"YMR217W\", \"Cluster\": 0, \"Sample Point\": \"R2.Ratio\", \"Ratio\": 0.120294233717712}, {\"ORF\": \"YMR217W\", \"Cluster\": 0, \"Sample Point\": \"R3.Ratio\", \"Ratio\": 0.184424571137428}, {\"ORF\": \"YMR217W\", \"Cluster\": 0, \"Sample Point\": \"R4.Ratio\", \"Ratio\": -1.07724299893246}, {\"ORF\": \"YMR217W\", \"Cluster\": 0, \"Sample Point\": \"R5.Ratio\", \"Ratio\": -1.27500704749987}, {\"ORF\": \"YMR217W\", \"Cluster\": 0, \"Sample Point\": \"R6.Ratio\", \"Ratio\": -1.62293035092018}, {\"ORF\": \"YMR217W\", \"Cluster\": 0, \"Sample Point\": \"R7.Ratio\", \"Ratio\": -2.7311832415722}, {\"ORF\": \"YMR250W\", \"Cluster\": 1, \"Sample Point\": \"R1.Ratio\", \"Ratio\": -0.0840642647884746}, {\"ORF\": \"YMR250W\", \"Cluster\": 1, \"Sample Point\": \"R2.Ratio\", \"Ratio\": 0.473931188332412}, {\"ORF\": \"YMR250W\", \"Cluster\": 1, \"Sample Point\": \"R3.Ratio\", \"Ratio\": 1.02914634565952}, {\"ORF\": \"YMR250W\", \"Cluster\": 1, \"Sample Point\": \"R4.Ratio\", \"Ratio\": 1.78587519464715}, {\"ORF\": \"YMR250W\", \"Cluster\": 1, \"Sample Point\": \"R5.Ratio\", \"Ratio\": 2.12029423371771}, {\"ORF\": \"YMR250W\", \"Cluster\": 1, \"Sample Point\": \"R6.Ratio\", \"Ratio\": 3.05889368905357}, {\"ORF\": \"YMR250W\", \"Cluster\": 1, \"Sample Point\": \"R7.Ratio\", \"Ratio\": 3.18442457113743}, {\"ORF\": \"YMR290C\", \"Cluster\": 0, \"Sample Point\": \"R1.Ratio\", \"Ratio\": 0.120294233717712}, {\"ORF\": \"YMR290C\", \"Cluster\": 0, \"Sample Point\": \"R2.Ratio\", \"Ratio\": -0.22650852980868}, {\"ORF\": \"YMR290C\", \"Cluster\": 0, \"Sample Point\": \"R3.Ratio\", \"Ratio\": -0.238786859587116}, {\"ORF\": \"YMR290C\", \"Cluster\": 0, \"Sample Point\": \"R4.Ratio\", \"Ratio\": -1.15704371014558}, {\"ORF\": \"YMR290C\", \"Cluster\": 0, \"Sample Point\": \"R5.Ratio\", \"Ratio\": -1.40599235967584}, {\"ORF\": \"YMR290C\", \"Cluster\": 0, \"Sample Point\": \"R6.Ratio\", \"Ratio\": -2.67129337248158}, {\"ORF\": \"YMR290C\", \"Cluster\": 0, \"Sample Point\": \"R7.Ratio\", \"Ratio\": -3.0}, {\"ORF\": \"YNL002C\", \"Cluster\": 0, \"Sample Point\": \"R1.Ratio\", \"Ratio\": -0.0976107966264223}, {\"ORF\": \"YNL002C\", \"Cluster\": 0, \"Sample Point\": \"R2.Ratio\", \"Ratio\": -0.36737106564853}, {\"ORF\": \"YNL002C\", \"Cluster\": 0, \"Sample Point\": \"R3.Ratio\", \"Ratio\": -0.250961573533219}, {\"ORF\": \"YNL002C\", \"Cluster\": 0, \"Sample Point\": \"R4.Ratio\", \"Ratio\": -1.18269229751619}, {\"ORF\": \"YNL002C\", \"Cluster\": 0, \"Sample Point\": \"R5.Ratio\", \"Ratio\": -0.871843648509318}, {\"ORF\": \"YNL002C\", \"Cluster\": 0, \"Sample Point\": \"R6.Ratio\", \"Ratio\": -2.8011586560937}, {\"ORF\": \"YNL002C\", \"Cluster\": 0, \"Sample Point\": \"R7.Ratio\", \"Ratio\": -2.38956681176273}, {\"ORF\": \"YBR238C\", \"Cluster\": 0, \"Sample Point\": \"R1.Ratio\", \"Ratio\": 0.15200309344505}, {\"ORF\": \"YBR238C\", \"Cluster\": 0, \"Sample Point\": \"R2.Ratio\", \"Ratio\": 0.943416471633632}, {\"ORF\": \"YBR238C\", \"Cluster\": 0, \"Sample Point\": \"R3.Ratio\", \"Ratio\": 0.377069649079823}, {\"ORF\": \"YBR238C\", \"Cluster\": 0, \"Sample Point\": \"R4.Ratio\", \"Ratio\": -0.782408564927373}, {\"ORF\": \"YBR238C\", \"Cluster\": 0, \"Sample Point\": \"R5.Ratio\", \"Ratio\": -0.978195629681652}, {\"ORF\": \"YBR238C\", \"Cluster\": 0, \"Sample Point\": \"R6.Ratio\", \"Ratio\": -1.50080205305716}, {\"ORF\": \"YBR238C\", \"Cluster\": 0, \"Sample Point\": \"R7.Ratio\", \"Ratio\": -2.33913738491959}, {\"ORF\": \"YNL015W\", \"Cluster\": 1, \"Sample Point\": \"R1.Ratio\", \"Ratio\": -0.070389327891398}, {\"ORF\": \"YNL015W\", \"Cluster\": 1, \"Sample Point\": \"R2.Ratio\", \"Ratio\": -0.321928094887362}, {\"ORF\": \"YNL015W\", \"Cluster\": 1, \"Sample Point\": \"R3.Ratio\", \"Ratio\": 0.514573172829758}, {\"ORF\": \"YNL015W\", \"Cluster\": 1, \"Sample Point\": \"R4.Ratio\", \"Ratio\": 0.810966175609983}, {\"ORF\": \"YNL015W\", \"Cluster\": 1, \"Sample Point\": \"R5.Ratio\", \"Ratio\": 0.915935735211525}, {\"ORF\": \"YNL015W\", \"Cluster\": 1, \"Sample Point\": \"R6.Ratio\", \"Ratio\": 3.05889368905357}, {\"ORF\": \"YNL015W\", \"Cluster\": 1, \"Sample Point\": \"R7.Ratio\", \"Ratio\": 2.25153876699596}, {\"ORF\": \"YBR241C\", \"Cluster\": 1, \"Sample Point\": \"R1.Ratio\", \"Ratio\": -0.978195629681652}, {\"ORF\": \"YBR241C\", \"Cluster\": 1, \"Sample Point\": \"R2.Ratio\", \"Ratio\": 0.0588936890535686}, {\"ORF\": \"YBR241C\", \"Cluster\": 1, \"Sample Point\": \"R3.Ratio\", \"Ratio\": 0.415037499278844}, {\"ORF\": \"YBR241C\", \"Cluster\": 1, \"Sample Point\": \"R4.Ratio\", \"Ratio\": 0.184424571137428}, {\"ORF\": \"YBR241C\", \"Cluster\": 1, \"Sample Point\": \"R5.Ratio\", \"Ratio\": -0.189033824390017}, {\"ORF\": \"YBR241C\", \"Cluster\": 1, \"Sample Point\": \"R6.Ratio\", \"Ratio\": 2.47393118833241}, {\"ORF\": \"YBR241C\", \"Cluster\": 1, \"Sample Point\": \"R7.Ratio\", \"Ratio\": 1.55639334852439}, {\"ORF\": \"YNL052W\", \"Cluster\": 1, \"Sample Point\": \"R1.Ratio\", \"Ratio\": -0.238786859587116}, {\"ORF\": \"YNL052W\", \"Cluster\": 1, \"Sample Point\": \"R2.Ratio\", \"Ratio\": -0.238786859587116}, {\"ORF\": \"YNL052W\", \"Cluster\": 1, \"Sample Point\": \"R3.Ratio\", \"Ratio\": -0.0976107966264223}, {\"ORF\": \"YNL052W\", \"Cluster\": 1, \"Sample Point\": \"R4.Ratio\", \"Ratio\": 0.0892673380970873}, {\"ORF\": \"YNL052W\", \"Cluster\": 1, \"Sample Point\": \"R5.Ratio\", \"Ratio\": 0.643856189774725}, {\"ORF\": \"YNL052W\", \"Cluster\": 1, \"Sample Point\": \"R6.Ratio\", \"Ratio\": 1.78587519464715}, {\"ORF\": \"YNL052W\", \"Cluster\": 1, \"Sample Point\": \"R7.Ratio\", \"Ratio\": 2.32192809488736}, {\"ORF\": \"YNL065W\", \"Cluster\": 0, \"Sample Point\": \"R1.Ratio\", \"Ratio\": 0.0}, {\"ORF\": \"YNL065W\", \"Cluster\": 0, \"Sample Point\": \"R2.Ratio\", \"Ratio\": 0.286304185156641}, {\"ORF\": \"YNL065W\", \"Cluster\": 0, \"Sample Point\": \"R3.Ratio\", \"Ratio\": -0.214124805352847}, {\"ORF\": \"YNL065W\", \"Cluster\": 0, \"Sample Point\": \"R4.Ratio\", \"Ratio\": -0.992768430768924}, {\"ORF\": \"YNL065W\", \"Cluster\": 0, \"Sample Point\": \"R5.Ratio\", \"Ratio\": -0.214124805352847}, {\"ORF\": \"YNL065W\", \"Cluster\": 0, \"Sample Point\": \"R6.Ratio\", \"Ratio\": -2.19219416528334}, {\"ORF\": \"YNL065W\", \"Cluster\": 0, \"Sample Point\": \"R7.Ratio\", \"Ratio\": -2.39780296186249}, {\"ORF\": \"YNL067W\", \"Cluster\": 0, \"Sample Point\": \"R1.Ratio\", \"Ratio\": 0.0439433475875972}, {\"ORF\": \"YNL067W\", \"Cluster\": 0, \"Sample Point\": \"R2.Ratio\", \"Ratio\": -0.36737106564853}, {\"ORF\": \"YNL067W\", \"Cluster\": 0, \"Sample Point\": \"R3.Ratio\", \"Ratio\": -0.137503523749935}, {\"ORF\": \"YNL067W\", \"Cluster\": 0, \"Sample Point\": \"R4.Ratio\", \"Ratio\": -0.389566811762726}, {\"ORF\": \"YNL067W\", \"Cluster\": 0, \"Sample Point\": \"R5.Ratio\", \"Ratio\": -0.22650852980868}, {\"ORF\": \"YNL067W\", \"Cluster\": 0, \"Sample Point\": \"R6.Ratio\", \"Ratio\": -0.722466024471091}, {\"ORF\": \"YNL067W\", \"Cluster\": 0, \"Sample Point\": \"R7.Ratio\", \"Ratio\": -2.38681094647222}, {\"ORF\": \"YNL069C\", \"Cluster\": 0, \"Sample Point\": \"R1.Ratio\", \"Ratio\": -0.0976107966264223}, {\"ORF\": \"YNL069C\", \"Cluster\": 0, \"Sample Point\": \"R2.Ratio\", \"Ratio\": -0.0426443374084937}, {\"ORF\": \"YNL069C\", \"Cluster\": 0, \"Sample Point\": \"R3.Ratio\", \"Ratio\": 0.3040061868901}, {\"ORF\": \"YNL069C\", \"Cluster\": 0, \"Sample Point\": \"R4.Ratio\", \"Ratio\": -0.20163386116965}, {\"ORF\": \"YNL069C\", \"Cluster\": 0, \"Sample Point\": \"R5.Ratio\", \"Ratio\": -0.0840642647884746}, {\"ORF\": \"YNL069C\", \"Cluster\": 0, \"Sample Point\": \"R6.Ratio\", \"Ratio\": -1.10433665981474}, {\"ORF\": \"YNL069C\", \"Cluster\": 0, \"Sample Point\": \"R7.Ratio\", \"Ratio\": -2.74631276642546}, {\"ORF\": \"YNL096C\", \"Cluster\": 0, \"Sample Point\": \"R1.Ratio\", \"Ratio\": 0.120294233717712}, {\"ORF\": \"YNL096C\", \"Cluster\": 0, \"Sample Point\": \"R2.Ratio\", \"Ratio\": -0.028569152196771}, {\"ORF\": \"YNL096C\", \"Cluster\": 0, \"Sample Point\": \"R3.Ratio\", \"Ratio\": -0.321928094887362}, {\"ORF\": \"YNL096C\", \"Cluster\": 0, \"Sample Point\": \"R4.Ratio\", \"Ratio\": -0.495695162624069}, {\"ORF\": \"YNL096C\", \"Cluster\": 0, \"Sample Point\": \"R5.Ratio\", \"Ratio\": -0.400537929583729}, {\"ORF\": \"YNL096C\", \"Cluster\": 0, \"Sample Point\": \"R6.Ratio\", \"Ratio\": -2.19534759832222}, {\"ORF\": \"YNL096C\", \"Cluster\": 0, \"Sample Point\": \"R7.Ratio\", \"Ratio\": -2.790772037862}, {\"ORF\": \"YBR247C\", \"Cluster\": 0, \"Sample Point\": \"R1.Ratio\", \"Ratio\": -0.028569152196771}, {\"ORF\": \"YBR247C\", \"Cluster\": 0, \"Sample Point\": \"R2.Ratio\", \"Ratio\": -0.214124805352847}, {\"ORF\": \"YBR247C\", \"Cluster\": 0, \"Sample Point\": \"R3.Ratio\", \"Ratio\": -0.070389327891398}, {\"ORF\": \"YBR247C\", \"Cluster\": 0, \"Sample Point\": \"R4.Ratio\", \"Ratio\": -1.17632277264046}, {\"ORF\": \"YBR247C\", \"Cluster\": 0, \"Sample Point\": \"R5.Ratio\", \"Ratio\": -1.03562390973072}, {\"ORF\": \"YBR247C\", \"Cluster\": 0, \"Sample Point\": \"R6.Ratio\", \"Ratio\": -1.20789285164133}, {\"ORF\": \"YBR247C\", \"Cluster\": 0, \"Sample Point\": \"R7.Ratio\", \"Ratio\": -2.76553474636298}, {\"ORF\": \"YNL117W\", \"Cluster\": 1, \"Sample Point\": \"R1.Ratio\", \"Ratio\": -0.31034012061215}, {\"ORF\": \"YNL117W\", \"Cluster\": 1, \"Sample Point\": \"R2.Ratio\", \"Ratio\": -0.0426443374084937}, {\"ORF\": \"YNL117W\", \"Cluster\": 1, \"Sample Point\": \"R3.Ratio\", \"Ratio\": 0.713118852211838}, {\"ORF\": \"YNL117W\", \"Cluster\": 1, \"Sample Point\": \"R4.Ratio\", \"Ratio\": -0.298658315564515}, {\"ORF\": \"YNL117W\", \"Cluster\": 1, \"Sample Point\": \"R5.Ratio\", \"Ratio\": -0.263034405833794}, {\"ORF\": \"YNL117W\", \"Cluster\": 1, \"Sample Point\": \"R6.Ratio\", \"Ratio\": 0.761213140412884}, {\"ORF\": \"YNL117W\", \"Cluster\": 1, \"Sample Point\": \"R7.Ratio\", \"Ratio\": 3.18442457113743}, {\"ORF\": \"YNL119W\", \"Cluster\": 0, \"Sample Point\": \"R1.Ratio\", \"Ratio\": 0.136061549576028}, {\"ORF\": \"YNL119W\", \"Cluster\": 0, \"Sample Point\": \"R2.Ratio\", \"Ratio\": -0.028569152196771}, {\"ORF\": \"YNL119W\", \"Cluster\": 0, \"Sample Point\": \"R3.Ratio\", \"Ratio\": 0.3040061868901}, {\"ORF\": \"YNL119W\", \"Cluster\": 0, \"Sample Point\": \"R4.Ratio\", \"Ratio\": -0.214124805352847}, {\"ORF\": \"YNL119W\", \"Cluster\": 0, \"Sample Point\": \"R5.Ratio\", \"Ratio\": -0.20163386116965}, {\"ORF\": \"YNL119W\", \"Cluster\": 0, \"Sample Point\": \"R6.Ratio\", \"Ratio\": -1.15704371014558}, {\"ORF\": \"YNL119W\", \"Cluster\": 0, \"Sample Point\": \"R7.Ratio\", \"Ratio\": -2.79701297783614}, {\"ORF\": \"YBR249C\", \"Cluster\": 0, \"Sample Point\": \"R1.Ratio\", \"Ratio\": 0.15200309344505}, {\"ORF\": \"YBR249C\", \"Cluster\": 0, \"Sample Point\": \"R2.Ratio\", \"Ratio\": 0.0439433475875972}, {\"ORF\": \"YBR249C\", \"Cluster\": 0, \"Sample Point\": \"R3.Ratio\", \"Ratio\": 0.136061549576028}, {\"ORF\": \"YBR249C\", \"Cluster\": 0, \"Sample Point\": \"R4.Ratio\", \"Ratio\": -0.432959407276106}, {\"ORF\": \"YBR249C\", \"Cluster\": 0, \"Sample Point\": \"R5.Ratio\", \"Ratio\": -0.594548549550354}, {\"ORF\": \"YBR249C\", \"Cluster\": 0, \"Sample Point\": \"R6.Ratio\", \"Ratio\": -2.02147972741045}, {\"ORF\": \"YBR249C\", \"Cluster\": 0, \"Sample Point\": \"R7.Ratio\", \"Ratio\": -2.36176835941915}, {\"ORF\": \"YNL134C\", \"Cluster\": 1, \"Sample Point\": \"R1.Ratio\", \"Ratio\": 0.136061549576028}, {\"ORF\": \"YNL134C\", \"Cluster\": 1, \"Sample Point\": \"R2.Ratio\", \"Ratio\": 0.0892673380970873}, {\"ORF\": \"YNL134C\", \"Cluster\": 1, \"Sample Point\": \"R3.Ratio\", \"Ratio\": 0.0740005814437768}, {\"ORF\": \"YNL134C\", \"Cluster\": 1, \"Sample Point\": \"R4.Ratio\", \"Ratio\": 0.104697378666693}, {\"ORF\": \"YNL134C\", \"Cluster\": 1, \"Sample Point\": \"R5.Ratio\", \"Ratio\": 0.2688167584278}, {\"ORF\": \"YNL134C\", \"Cluster\": 1, \"Sample Point\": \"R6.Ratio\", \"Ratio\": 2.32192809488736}, {\"ORF\": \"YNL134C\", \"Cluster\": 1, \"Sample Point\": \"R7.Ratio\", \"Ratio\": 2.05889368905357}, {\"ORF\": \"YNL141W\", \"Cluster\": 0, \"Sample Point\": \"R1.Ratio\", \"Ratio\": -0.16349873228288}, {\"ORF\": \"YNL141W\", \"Cluster\": 0, \"Sample Point\": \"R2.Ratio\", \"Ratio\": -0.0426443374084937}, {\"ORF\": \"YNL141W\", \"Cluster\": 0, \"Sample Point\": \"R3.Ratio\", \"Ratio\": -0.070389327891398}, {\"ORF\": \"YNL141W\", \"Cluster\": 0, \"Sample Point\": \"R4.Ratio\", \"Ratio\": -1.25701061820602}, {\"ORF\": \"YNL141W\", \"Cluster\": 0, \"Sample Point\": \"R5.Ratio\", \"Ratio\": -1.19534759832222}, {\"ORF\": \"YNL141W\", \"Cluster\": 0, \"Sample Point\": \"R6.Ratio\", \"Ratio\": -2.81557542886257}, {\"ORF\": \"YNL141W\", \"Cluster\": 0, \"Sample Point\": \"R7.Ratio\", \"Ratio\": -3.13093086982645}, {\"ORF\": \"YNL160W\", \"Cluster\": 1, \"Sample Point\": \"R1.Ratio\", \"Ratio\": 0.234465253637023}, {\"ORF\": \"YNL160W\", \"Cluster\": 1, \"Sample Point\": \"R2.Ratio\", \"Ratio\": 0.340075441597622}, {\"ORF\": \"YNL160W\", \"Cluster\": 1, \"Sample Point\": \"R3.Ratio\", \"Ratio\": 1.12029423371771}, {\"ORF\": \"YNL160W\", \"Cluster\": 1, \"Sample Point\": \"R4.Ratio\", \"Ratio\": 1.47393118833241}, {\"ORF\": \"YNL160W\", \"Cluster\": 1, \"Sample Point\": \"R5.Ratio\", \"Ratio\": 1.73696559416621}, {\"ORF\": \"YNL160W\", \"Cluster\": 1, \"Sample Point\": \"R6.Ratio\", \"Ratio\": 3.05889368905357}, {\"ORF\": \"YNL160W\", \"Cluster\": 1, \"Sample Point\": \"R7.Ratio\", \"Ratio\": 2.83650126771712}, {\"ORF\": \"YNL173C\", \"Cluster\": 1, \"Sample Point\": \"R1.Ratio\", \"Ratio\": -0.070389327891398}, {\"ORF\": \"YNL173C\", \"Cluster\": 1, \"Sample Point\": \"R2.Ratio\", \"Ratio\": -0.250961573533219}, {\"ORF\": \"YNL173C\", \"Cluster\": 1, \"Sample Point\": \"R3.Ratio\", \"Ratio\": 0.104697378666693}, {\"ORF\": \"YNL173C\", \"Cluster\": 1, \"Sample Point\": \"R4.Ratio\", \"Ratio\": 0.862496476250065}, {\"ORF\": \"YNL173C\", \"Cluster\": 1, \"Sample Point\": \"R5.Ratio\", \"Ratio\": 0.785875194647153}, {\"ORF\": \"YNL173C\", \"Cluster\": 1, \"Sample Point\": \"R6.Ratio\", \"Ratio\": 2.64385618977472}, {\"ORF\": \"YNL173C\", \"Cluster\": 1, \"Sample Point\": \"R7.Ratio\", \"Ratio\": 1.68965987938785}, {\"ORF\": \"YNL174W\", \"Cluster\": 0, \"Sample Point\": \"R1.Ratio\", \"Ratio\": 0.0588936890535686}, {\"ORF\": \"YNL174W\", \"Cluster\": 0, \"Sample Point\": \"R2.Ratio\", \"Ratio\": -0.214124805352847}, {\"ORF\": \"YNL174W\", \"Cluster\": 0, \"Sample Point\": \"R3.Ratio\", \"Ratio\": 0.0144995696951152}, {\"ORF\": \"YNL174W\", \"Cluster\": 0, \"Sample Point\": \"R4.Ratio\", \"Ratio\": -0.963474123974886}, {\"ORF\": \"YNL174W\", \"Cluster\": 0, \"Sample Point\": \"R5.Ratio\", \"Ratio\": -0.879705766282288}, {\"ORF\": \"YNL174W\", \"Cluster\": 0, \"Sample Point\": \"R6.Ratio\", \"Ratio\": -2.38681094647222}, {\"ORF\": \"YNL174W\", \"Cluster\": 0, \"Sample Point\": \"R7.Ratio\", \"Ratio\": -1.18903382439002}, {\"ORF\": \"YNL175C\", \"Cluster\": 0, \"Sample Point\": \"R1.Ratio\", \"Ratio\": 0.200912693925996}, {\"ORF\": \"YNL175C\", \"Cluster\": 0, \"Sample Point\": \"R2.Ratio\", \"Ratio\": -0.189033824390017}, {\"ORF\": \"YNL175C\", \"Cluster\": 0, \"Sample Point\": \"R3.Ratio\", \"Ratio\": 0.120294233717712}, {\"ORF\": \"YNL175C\", \"Cluster\": 0, \"Sample Point\": \"R4.Ratio\", \"Ratio\": -0.650764559116902}, {\"ORF\": \"YNL175C\", \"Cluster\": 0, \"Sample Point\": \"R5.Ratio\", \"Ratio\": -0.903038270112912}, {\"ORF\": \"YNL175C\", \"Cluster\": 0, \"Sample Point\": \"R6.Ratio\", \"Ratio\": -1.70043971814109}, {\"ORF\": \"YNL175C\", \"Cluster\": 0, \"Sample Point\": \"R7.Ratio\", \"Ratio\": -2.62293035092018}, {\"ORF\": \"YNL194C\", \"Cluster\": 1, \"Sample Point\": \"R1.Ratio\", \"Ratio\": -0.286881147788162}, {\"ORF\": \"YNL194C\", \"Cluster\": 1, \"Sample Point\": \"R2.Ratio\", \"Ratio\": 0.0291463456595165}, {\"ORF\": \"YNL194C\", \"Cluster\": 1, \"Sample Point\": \"R3.Ratio\", \"Ratio\": 0.136061549576028}, {\"ORF\": \"YNL194C\", \"Cluster\": 1, \"Sample Point\": \"R4.Ratio\", \"Ratio\": -0.16349873228288}, {\"ORF\": \"YNL194C\", \"Cluster\": 1, \"Sample Point\": \"R5.Ratio\", \"Ratio\": 0.3040061868901}, {\"ORF\": \"YNL194C\", \"Cluster\": 1, \"Sample Point\": \"R6.Ratio\", \"Ratio\": 3.83650126771712}, {\"ORF\": \"YNL194C\", \"Cluster\": 1, \"Sample Point\": \"R7.Ratio\", \"Ratio\": 3.32192809488736}, {\"ORF\": \"YNL195C\", \"Cluster\": 1, \"Sample Point\": \"R1.Ratio\", \"Ratio\": -0.321928094887362}, {\"ORF\": \"YNL195C\", \"Cluster\": 1, \"Sample Point\": \"R2.Ratio\", \"Ratio\": -0.238786859587116}, {\"ORF\": \"YNL195C\", \"Cluster\": 1, \"Sample Point\": \"R3.Ratio\", \"Ratio\": -0.111031312388744}, {\"ORF\": \"YNL195C\", \"Cluster\": 1, \"Sample Point\": \"R4.Ratio\", \"Ratio\": -0.150559676575381}, {\"ORF\": \"YNL195C\", \"Cluster\": 1, \"Sample Point\": \"R5.Ratio\", \"Ratio\": 0.0291463456595165}, {\"ORF\": \"YNL195C\", \"Cluster\": 1, \"Sample Point\": \"R6.Ratio\", \"Ratio\": 0.761213140412884}, {\"ORF\": \"YNL195C\", \"Cluster\": 1, \"Sample Point\": \"R7.Ratio\", \"Ratio\": 2.32192809488736}, {\"ORF\": \"YNL200C\", \"Cluster\": 1, \"Sample Point\": \"R1.Ratio\", \"Ratio\": -0.22650852980868}, {\"ORF\": \"YNL200C\", \"Cluster\": 1, \"Sample Point\": \"R2.Ratio\", \"Ratio\": -0.028569152196771}, {\"ORF\": \"YNL200C\", \"Cluster\": 1, \"Sample Point\": \"R3.Ratio\", \"Ratio\": 0.358453970912476}, {\"ORF\": \"YNL200C\", \"Cluster\": 1, \"Sample Point\": \"R4.Ratio\", \"Ratio\": 1.25153876699596}, {\"ORF\": \"YNL200C\", \"Cluster\": 1, \"Sample Point\": \"R5.Ratio\", \"Ratio\": 1.51457317282976}, {\"ORF\": \"YNL200C\", \"Cluster\": 1, \"Sample Point\": \"R6.Ratio\", \"Ratio\": 3.83650126771712}, {\"ORF\": \"YNL200C\", \"Cluster\": 1, \"Sample Point\": \"R7.Ratio\", \"Ratio\": 2.55639334852439}, {\"ORF\": \"YNL274C\", \"Cluster\": 1, \"Sample Point\": \"R1.Ratio\", \"Ratio\": 0.0144995696951152}, {\"ORF\": \"YNL274C\", \"Cluster\": 1, \"Sample Point\": \"R2.Ratio\", \"Ratio\": 0.0588936890535686}, {\"ORF\": \"YNL274C\", \"Cluster\": 1, \"Sample Point\": \"R3.Ratio\", \"Ratio\": 0.358453970912476}, {\"ORF\": \"YNL274C\", \"Cluster\": 1, \"Sample Point\": \"R4.Ratio\", \"Ratio\": 0.643856189774725}, {\"ORF\": \"YNL274C\", \"Cluster\": 1, \"Sample Point\": \"R5.Ratio\", \"Ratio\": 0.494109070270043}, {\"ORF\": \"YNL274C\", \"Cluster\": 1, \"Sample Point\": \"R6.Ratio\", \"Ratio\": 2.73696559416621}, {\"ORF\": \"YNL274C\", \"Cluster\": 1, \"Sample Point\": \"R7.Ratio\", \"Ratio\": 1.68965987938785}, {\"ORF\": \"YNL301C\", \"Cluster\": 0, \"Sample Point\": \"R1.Ratio\", \"Ratio\": 0.217591435072627}, {\"ORF\": \"YNL301C\", \"Cluster\": 0, \"Sample Point\": \"R2.Ratio\", \"Ratio\": -0.124328135002202}, {\"ORF\": \"YNL301C\", \"Cluster\": 0, \"Sample Point\": \"R3.Ratio\", \"Ratio\": 0.251538766995964}, {\"ORF\": \"YNL301C\", \"Cluster\": 0, \"Sample Point\": \"R4.Ratio\", \"Ratio\": -0.298658315564515}, {\"ORF\": \"YNL301C\", \"Cluster\": 0, \"Sample Point\": \"R5.Ratio\", \"Ratio\": -0.545968369105293}, {\"ORF\": \"YNL301C\", \"Cluster\": 0, \"Sample Point\": \"R6.Ratio\", \"Ratio\": -1.89917563048051}, {\"ORF\": \"YNL301C\", \"Cluster\": 0, \"Sample Point\": \"R7.Ratio\", \"Ratio\": -2.48284828306847}, {\"ORF\": \"YNL303W\", \"Cluster\": 0, \"Sample Point\": \"R1.Ratio\", \"Ratio\": -0.389566811762726}, {\"ORF\": \"YNL303W\", \"Cluster\": 0, \"Sample Point\": \"R2.Ratio\", \"Ratio\": -0.748461233004036}, {\"ORF\": \"YNL303W\", \"Cluster\": 0, \"Sample Point\": \"R3.Ratio\", \"Ratio\": -0.344828496997441}, {\"ORF\": \"YNL303W\", \"Cluster\": 0, \"Sample Point\": \"R4.Ratio\", \"Ratio\": -0.613531652917927}, {\"ORF\": \"YNL303W\", \"Cluster\": 0, \"Sample Point\": \"R5.Ratio\", \"Ratio\": -1.11103131238874}, {\"ORF\": \"YNL303W\", \"Cluster\": 0, \"Sample Point\": \"R6.Ratio\", \"Ratio\": -2.56315813040281}, {\"ORF\": \"YNL303W\", \"Cluster\": 0, \"Sample Point\": \"R7.Ratio\", \"Ratio\": -2.49569516262407}, {\"ORF\": \"YNL305C\", \"Cluster\": 1, \"Sample Point\": \"R1.Ratio\", \"Ratio\": -0.124328135002202}, {\"ORF\": \"YNL305C\", \"Cluster\": 1, \"Sample Point\": \"R2.Ratio\", \"Ratio\": 0.104697378666693}, {\"ORF\": \"YNL305C\", \"Cluster\": 1, \"Sample Point\": \"R3.Ratio\", \"Ratio\": 0.494109070270043}, {\"ORF\": \"YNL305C\", \"Cluster\": 1, \"Sample Point\": \"R4.Ratio\", \"Ratio\": 0.136061549576028}, {\"ORF\": \"YNL305C\", \"Cluster\": 1, \"Sample Point\": \"R5.Ratio\", \"Ratio\": 0.888968687611256}, {\"ORF\": \"YNL305C\", \"Cluster\": 1, \"Sample Point\": \"R6.Ratio\", \"Ratio\": 2.39592867633114}, {\"ORF\": \"YNL305C\", \"Cluster\": 1, \"Sample Point\": \"R7.Ratio\", \"Ratio\": 1.12029423371771}, {\"ORF\": \"YNR001C\", \"Cluster\": 1, \"Sample Point\": \"R1.Ratio\", \"Ratio\": 0.184424571137428}, {\"ORF\": \"YNR001C\", \"Cluster\": 1, \"Sample Point\": \"R2.Ratio\", \"Ratio\": 0.454031630894707}, {\"ORF\": \"YNR001C\", \"Cluster\": 1, \"Sample Point\": \"R3.Ratio\", \"Ratio\": 0.643856189774725}, {\"ORF\": \"YNR001C\", \"Cluster\": 1, \"Sample Point\": \"R4.Ratio\", \"Ratio\": 0.713118852211838}, {\"ORF\": \"YNR001C\", \"Cluster\": 1, \"Sample Point\": \"R5.Ratio\", \"Ratio\": 1.21759143507263}, {\"ORF\": \"YNR001C\", \"Cluster\": 1, \"Sample Point\": \"R6.Ratio\", \"Ratio\": 2.64385618977472}, {\"ORF\": \"YNR001C\", \"Cluster\": 1, \"Sample Point\": \"R7.Ratio\", \"Ratio\": 3.18442457113743}, {\"ORF\": \"YAL054C\", \"Cluster\": 1, \"Sample Point\": \"R1.Ratio\", \"Ratio\": -0.669026765509631}, {\"ORF\": \"YAL054C\", \"Cluster\": 1, \"Sample Point\": \"R2.Ratio\", \"Ratio\": -0.189033824390017}, {\"ORF\": \"YAL054C\", \"Cluster\": 1, \"Sample Point\": \"R3.Ratio\", \"Ratio\": 0.0}, {\"ORF\": \"YAL054C\", \"Cluster\": 1, \"Sample Point\": \"R4.Ratio\", \"Ratio\": -0.189033824390017}, {\"ORF\": \"YAL054C\", \"Cluster\": 1, \"Sample Point\": \"R5.Ratio\", \"Ratio\": -0.298658315564515}, {\"ORF\": \"YAL054C\", \"Cluster\": 1, \"Sample Point\": \"R6.Ratio\", \"Ratio\": 1.47393118833241}, {\"ORF\": \"YAL054C\", \"Cluster\": 1, \"Sample Point\": \"R7.Ratio\", \"Ratio\": 3.64385618977472}, {\"ORF\": \"YNR053C\", \"Cluster\": 0, \"Sample Point\": \"R1.Ratio\", \"Ratio\": 0.200912693925996}, {\"ORF\": \"YNR053C\", \"Cluster\": 0, \"Sample Point\": \"R2.Ratio\", \"Ratio\": 0.415037499278844}, {\"ORF\": \"YNR053C\", \"Cluster\": 0, \"Sample Point\": \"R3.Ratio\", \"Ratio\": 0.286304185156641}, {\"ORF\": \"YNR053C\", \"Cluster\": 0, \"Sample Point\": \"R4.Ratio\", \"Ratio\": -0.495695162624069}, {\"ORF\": \"YNR053C\", \"Cluster\": 0, \"Sample Point\": \"R5.Ratio\", \"Ratio\": -0.594548549550354}, {\"ORF\": \"YNR053C\", \"Cluster\": 0, \"Sample Point\": \"R6.Ratio\", \"Ratio\": -1.73984810269933}, {\"ORF\": \"YNR053C\", \"Cluster\": 0, \"Sample Point\": \"R7.Ratio\", \"Ratio\": -2.39506279951758}, {\"ORF\": \"YOL120C\", \"Cluster\": 0, \"Sample Point\": \"R1.Ratio\", \"Ratio\": 0.2688167584278}, {\"ORF\": \"YOL120C\", \"Cluster\": 0, \"Sample Point\": \"R2.Ratio\", \"Ratio\": -0.0840642647884746}, {\"ORF\": \"YOL120C\", \"Cluster\": 0, \"Sample Point\": \"R3.Ratio\", \"Ratio\": 0.395928676331139}, {\"ORF\": \"YOL120C\", \"Cluster\": 0, \"Sample Point\": \"R4.Ratio\", \"Ratio\": -0.16349873228288}, {\"ORF\": \"YOL120C\", \"Cluster\": 0, \"Sample Point\": \"R5.Ratio\", \"Ratio\": -0.594548549550354}, {\"ORF\": \"YOL120C\", \"Cluster\": 0, \"Sample Point\": \"R6.Ratio\", \"Ratio\": -1.8073549220576}, {\"ORF\": \"YOL120C\", \"Cluster\": 0, \"Sample Point\": \"R7.Ratio\", \"Ratio\": -2.41683974191283}, {\"ORF\": \"YOL032W\", \"Cluster\": 1, \"Sample Point\": \"R1.Ratio\", \"Ratio\": -0.070389327891398}, {\"ORF\": \"YOL032W\", \"Cluster\": 1, \"Sample Point\": \"R2.Ratio\", \"Ratio\": -0.028569152196771}, {\"ORF\": \"YOL032W\", \"Cluster\": 1, \"Sample Point\": \"R3.Ratio\", \"Ratio\": 0.286304185156641}, {\"ORF\": \"YOL032W\", \"Cluster\": 1, \"Sample Point\": \"R4.Ratio\", \"Ratio\": 0.184424571137428}, {\"ORF\": \"YOL032W\", \"Cluster\": 1, \"Sample Point\": \"R5.Ratio\", \"Ratio\": 0.0892673380970873}, {\"ORF\": \"YOL032W\", \"Cluster\": 1, \"Sample Point\": \"R6.Ratio\", \"Ratio\": 2.55639334852439}, {\"ORF\": \"YOL032W\", \"Cluster\": 1, \"Sample Point\": \"R7.Ratio\", \"Ratio\": 1.68965987938785}, {\"ORF\": \"YOL039W\", \"Cluster\": 0, \"Sample Point\": \"R1.Ratio\", \"Ratio\": 0.0740005814437768}, {\"ORF\": \"YOL039W\", \"Cluster\": 0, \"Sample Point\": \"R2.Ratio\", \"Ratio\": -0.028569152196771}, {\"ORF\": \"YOL039W\", \"Cluster\": 0, \"Sample Point\": \"R3.Ratio\", \"Ratio\": 0.104697378666693}, {\"ORF\": \"YOL039W\", \"Cluster\": 0, \"Sample Point\": \"R4.Ratio\", \"Ratio\": 0.0}, {\"ORF\": \"YOL039W\", \"Cluster\": 0, \"Sample Point\": \"R5.Ratio\", \"Ratio\": 0.0}, {\"ORF\": \"YOL039W\", \"Cluster\": 0, \"Sample Point\": \"R6.Ratio\", \"Ratio\": -0.16349873228288}, {\"ORF\": \"YOL039W\", \"Cluster\": 0, \"Sample Point\": \"R7.Ratio\", \"Ratio\": -2.30158764660319}, {\"ORF\": \"YOL040C\", \"Cluster\": 0, \"Sample Point\": \"R1.Ratio\", \"Ratio\": 0.104697378666693}, {\"ORF\": \"YOL040C\", \"Cluster\": 0, \"Sample Point\": \"R2.Ratio\", \"Ratio\": 0.0588936890535686}, {\"ORF\": \"YOL040C\", \"Cluster\": 0, \"Sample Point\": \"R3.Ratio\", \"Ratio\": -0.137503523749935}, {\"ORF\": \"YOL040C\", \"Cluster\": 0, \"Sample Point\": \"R4.Ratio\", \"Ratio\": -0.411426245726465}, {\"ORF\": \"YOL040C\", \"Cluster\": 0, \"Sample Point\": \"R5.Ratio\", \"Ratio\": -0.55581615506164}, {\"ORF\": \"YOL040C\", \"Cluster\": 0, \"Sample Point\": \"R6.Ratio\", \"Ratio\": -1.53106949272595}, {\"ORF\": \"YOL040C\", \"Cluster\": 0, \"Sample Point\": \"R7.Ratio\", \"Ratio\": -2.65535182861255}, {\"ORF\": \"YOL053C\", \"Cluster\": 1, \"Sample Point\": \"R1.Ratio\", \"Ratio\": -0.111031312388744}, {\"ORF\": \"YOL053C\", \"Cluster\": 1, \"Sample Point\": \"R2.Ratio\", \"Ratio\": -0.16349873228288}, {\"ORF\": \"YOL053C\", \"Cluster\": 1, \"Sample Point\": \"R3.Ratio\", \"Ratio\": 0.0892673380970873}, {\"ORF\": \"YOL053C\", \"Cluster\": 1, \"Sample Point\": \"R4.Ratio\", \"Ratio\": 0.888968687611256}, {\"ORF\": \"YOL053C\", \"Cluster\": 1, \"Sample Point\": \"R5.Ratio\", \"Ratio\": 0.915935735211525}, {\"ORF\": \"YOL053C\", \"Cluster\": 1, \"Sample Point\": \"R6.Ratio\", \"Ratio\": 2.55639334852439}, {\"ORF\": \"YOL053C\", \"Cluster\": 1, \"Sample Point\": \"R7.Ratio\", \"Ratio\": 1.78587519464715}, {\"ORF\": \"YOL084W\", \"Cluster\": 1, \"Sample Point\": \"R1.Ratio\", \"Ratio\": -0.31034012061215}, {\"ORF\": \"YOL084W\", \"Cluster\": 1, \"Sample Point\": \"R2.Ratio\", \"Ratio\": 0.120294233717712}, {\"ORF\": \"YOL084W\", \"Cluster\": 1, \"Sample Point\": \"R3.Ratio\", \"Ratio\": 0.434402824145775}, {\"ORF\": \"YOL084W\", \"Cluster\": 1, \"Sample Point\": \"R4.Ratio\", \"Ratio\": 0.0}, {\"ORF\": \"YOL084W\", \"Cluster\": 1, \"Sample Point\": \"R5.Ratio\", \"Ratio\": -0.070389327891398}, {\"ORF\": \"YOL084W\", \"Cluster\": 1, \"Sample Point\": \"R6.Ratio\", \"Ratio\": 1.32192809488736}, {\"ORF\": \"YOL084W\", \"Cluster\": 1, \"Sample Point\": \"R7.Ratio\", \"Ratio\": 2.64385618977472}, {\"ORF\": \"YOR065W\", \"Cluster\": 1, \"Sample Point\": \"R1.Ratio\", \"Ratio\": 0.168122758808327}, {\"ORF\": \"YOR065W\", \"Cluster\": 1, \"Sample Point\": \"R2.Ratio\", \"Ratio\": 0.104697378666693}, {\"ORF\": \"YOR065W\", \"Cluster\": 1, \"Sample Point\": \"R3.Ratio\", \"Ratio\": 0.321928094887362}, {\"ORF\": \"YOR065W\", \"Cluster\": 1, \"Sample Point\": \"R4.Ratio\", \"Ratio\": 0.286304185156641}, {\"ORF\": \"YOR065W\", \"Cluster\": 1, \"Sample Point\": \"R5.Ratio\", \"Ratio\": 0.943416471633632}, {\"ORF\": \"YOR065W\", \"Cluster\": 1, \"Sample Point\": \"R6.Ratio\", \"Ratio\": 1.68965987938785}, {\"ORF\": \"YOR065W\", \"Cluster\": 1, \"Sample Point\": \"R7.Ratio\", \"Ratio\": 2.39592867633114}, {\"ORF\": \"YOR178C\", \"Cluster\": 1, \"Sample Point\": \"R1.Ratio\", \"Ratio\": -0.189033824390017}, {\"ORF\": \"YOR178C\", \"Cluster\": 1, \"Sample Point\": \"R2.Ratio\", \"Ratio\": -0.070389327891398}, {\"ORF\": \"YOR178C\", \"Cluster\": 1, \"Sample Point\": \"R3.Ratio\", \"Ratio\": 0.473931188332412}, {\"ORF\": \"YOR178C\", \"Cluster\": 1, \"Sample Point\": \"R4.Ratio\", \"Ratio\": 0.2688167584278}, {\"ORF\": \"YOR178C\", \"Cluster\": 1, \"Sample Point\": \"R5.Ratio\", \"Ratio\": 0.136061549576028}, {\"ORF\": \"YOR178C\", \"Cluster\": 1, \"Sample Point\": \"R6.Ratio\", \"Ratio\": 2.32192809488736}, {\"ORF\": \"YOR178C\", \"Cluster\": 1, \"Sample Point\": \"R7.Ratio\", \"Ratio\": 2.05889368905357}, {\"ORF\": \"YOR215C\", \"Cluster\": 1, \"Sample Point\": \"R1.Ratio\", \"Ratio\": 0.0740005814437768}, {\"ORF\": \"YOR215C\", \"Cluster\": 1, \"Sample Point\": \"R2.Ratio\", \"Ratio\": 0.0}, {\"ORF\": \"YOR215C\", \"Cluster\": 1, \"Sample Point\": \"R3.Ratio\", \"Ratio\": 0.377069649079823}, {\"ORF\": \"YOR215C\", \"Cluster\": 1, \"Sample Point\": \"R4.Ratio\", \"Ratio\": 0.785875194647153}, {\"ORF\": \"YOR215C\", \"Cluster\": 1, \"Sample Point\": \"R5.Ratio\", \"Ratio\": 0.943416471633632}, {\"ORF\": \"YOR215C\", \"Cluster\": 1, \"Sample Point\": \"R6.Ratio\", \"Ratio\": 3.47393118833241}, {\"ORF\": \"YOR215C\", \"Cluster\": 1, \"Sample Point\": \"R7.Ratio\", \"Ratio\": 2.83650126771712}, {\"ORF\": \"YOR234C\", \"Cluster\": 0, \"Sample Point\": \"R1.Ratio\", \"Ratio\": 0.0740005814437768}, {\"ORF\": \"YOR234C\", \"Cluster\": 0, \"Sample Point\": \"R2.Ratio\", \"Ratio\": 0.0740005814437768}, {\"ORF\": \"YOR234C\", \"Cluster\": 0, \"Sample Point\": \"R3.Ratio\", \"Ratio\": -0.124328135002202}, {\"ORF\": \"YOR234C\", \"Cluster\": 0, \"Sample Point\": \"R4.Ratio\", \"Ratio\": -0.36737106564853}, {\"ORF\": \"YOR234C\", \"Cluster\": 0, \"Sample Point\": \"R5.Ratio\", \"Ratio\": -0.485426827170242}, {\"ORF\": \"YOR234C\", \"Cluster\": 0, \"Sample Point\": \"R6.Ratio\", \"Ratio\": -1.6959938131099}, {\"ORF\": \"YOR234C\", \"Cluster\": 0, \"Sample Point\": \"R7.Ratio\", \"Ratio\": -2.30158764660319}, {\"ORF\": \"YOR309C\", \"Cluster\": 0, \"Sample Point\": \"R1.Ratio\", \"Ratio\": 0.200912693925996}, {\"ORF\": \"YOR309C\", \"Cluster\": 0, \"Sample Point\": \"R2.Ratio\", \"Ratio\": 0.0291463456595165}, {\"ORF\": \"YOR309C\", \"Cluster\": 0, \"Sample Point\": \"R3.Ratio\", \"Ratio\": 0.234465253637023}, {\"ORF\": \"YOR309C\", \"Cluster\": 0, \"Sample Point\": \"R4.Ratio\", \"Ratio\": -0.641546029087524}, {\"ORF\": \"YOR309C\", \"Cluster\": 0, \"Sample Point\": \"R5.Ratio\", \"Ratio\": -0.37851162325373}, {\"ORF\": \"YOR309C\", \"Cluster\": 0, \"Sample Point\": \"R6.Ratio\", \"Ratio\": -2.09761079662642}, {\"ORF\": \"YOR309C\", \"Cluster\": 0, \"Sample Point\": \"R7.Ratio\", \"Ratio\": -2.96347412397489}, {\"ORF\": \"YOR310C\", \"Cluster\": 0, \"Sample Point\": \"R1.Ratio\", \"Ratio\": 0.15200309344505}, {\"ORF\": \"YOR310C\", \"Cluster\": 0, \"Sample Point\": \"R2.Ratio\", \"Ratio\": -0.0143552929770701}, {\"ORF\": \"YOR310C\", \"Cluster\": 0, \"Sample Point\": \"R3.Ratio\", \"Ratio\": 0.340075441597622}, {\"ORF\": \"YOR310C\", \"Cluster\": 0, \"Sample Point\": \"R4.Ratio\", \"Ratio\": -0.604071323668861}, {\"ORF\": \"YOR310C\", \"Cluster\": 0, \"Sample Point\": \"R5.Ratio\", \"Ratio\": -0.641546029087524}, {\"ORF\": \"YOR310C\", \"Cluster\": 0, \"Sample Point\": \"R6.Ratio\", \"Ratio\": -1.81966818349646}, {\"ORF\": \"YOR310C\", \"Cluster\": 0, \"Sample Point\": \"R7.Ratio\", \"Ratio\": -3.09592441999854}, {\"ORF\": \"YCL025C\", \"Cluster\": 1, \"Sample Point\": \"R1.Ratio\", \"Ratio\": 0.0}, {\"ORF\": \"YCL025C\", \"Cluster\": 1, \"Sample Point\": \"R2.Ratio\", \"Ratio\": -0.028569152196771}, {\"ORF\": \"YCL025C\", \"Cluster\": 1, \"Sample Point\": \"R3.Ratio\", \"Ratio\": 0.434402824145775}, {\"ORF\": \"YCL025C\", \"Cluster\": 1, \"Sample Point\": \"R4.Ratio\", \"Ratio\": 0.0439433475875972}, {\"ORF\": \"YCL025C\", \"Cluster\": 1, \"Sample Point\": \"R5.Ratio\", \"Ratio\": 0.643856189774725}, {\"ORF\": \"YCL025C\", \"Cluster\": 1, \"Sample Point\": \"R6.Ratio\", \"Ratio\": 0.666576266274808}, {\"ORF\": \"YCL025C\", \"Cluster\": 1, \"Sample Point\": \"R7.Ratio\", \"Ratio\": 2.47393118833241}, {\"ORF\": \"YOR312C\", \"Cluster\": 0, \"Sample Point\": \"R1.Ratio\", \"Ratio\": 0.234465253637023}, {\"ORF\": \"YOR312C\", \"Cluster\": 0, \"Sample Point\": \"R2.Ratio\", \"Ratio\": -0.0143552929770701}, {\"ORF\": \"YOR312C\", \"Cluster\": 0, \"Sample Point\": \"R3.Ratio\", \"Ratio\": 0.251538766995964}, {\"ORF\": \"YOR312C\", \"Cluster\": 0, \"Sample Point\": \"R4.Ratio\", \"Ratio\": -0.422233000683048}, {\"ORF\": \"YOR312C\", \"Cluster\": 0, \"Sample Point\": \"R5.Ratio\", \"Ratio\": -0.454175893185802}, {\"ORF\": \"YOR312C\", \"Cluster\": 0, \"Sample Point\": \"R6.Ratio\", \"Ratio\": -1.51601514700366}, {\"ORF\": \"YOR312C\", \"Cluster\": 0, \"Sample Point\": \"R7.Ratio\", \"Ratio\": -2.53106949272595}, {\"ORF\": \"YOR374W\", \"Cluster\": 1, \"Sample Point\": \"R1.Ratio\", \"Ratio\": 0.0}, {\"ORF\": \"YOR374W\", \"Cluster\": 1, \"Sample Point\": \"R2.Ratio\", \"Ratio\": 0.494109070270043}, {\"ORF\": \"YOR374W\", \"Cluster\": 1, \"Sample Point\": \"R3.Ratio\", \"Ratio\": 0.340075441597622}, {\"ORF\": \"YOR374W\", \"Cluster\": 1, \"Sample Point\": \"R4.Ratio\", \"Ratio\": 1.0}, {\"ORF\": \"YOR374W\", \"Cluster\": 1, \"Sample Point\": \"R5.Ratio\", \"Ratio\": 1.32192809488736}, {\"ORF\": \"YOR374W\", \"Cluster\": 1, \"Sample Point\": \"R6.Ratio\", \"Ratio\": 2.47393118833241}, {\"ORF\": \"YOR374W\", \"Cluster\": 1, \"Sample Point\": \"R7.Ratio\", \"Ratio\": 2.47393118833241}, {\"ORF\": \"YPL012W\", \"Cluster\": 0, \"Sample Point\": \"R1.Ratio\", \"Ratio\": 0.0892673380970873}, {\"ORF\": \"YPL012W\", \"Cluster\": 0, \"Sample Point\": \"R2.Ratio\", \"Ratio\": -0.27500704749987}, {\"ORF\": \"YPL012W\", \"Cluster\": 0, \"Sample Point\": \"R3.Ratio\", \"Ratio\": -0.150559676575381}, {\"ORF\": \"YPL012W\", \"Cluster\": 0, \"Sample Point\": \"R4.Ratio\", \"Ratio\": -1.17632277264046}, {\"ORF\": \"YPL012W\", \"Cluster\": 0, \"Sample Point\": \"R5.Ratio\", \"Ratio\": -1.58496250072116}, {\"ORF\": \"YPL012W\", \"Cluster\": 0, \"Sample Point\": \"R6.Ratio\", \"Ratio\": -2.9560566524124}, {\"ORF\": \"YPL012W\", \"Cluster\": 0, \"Sample Point\": \"R7.Ratio\", \"Ratio\": -3.07553263116736}, {\"ORF\": \"YCL035C\", \"Cluster\": 1, \"Sample Point\": \"R1.Ratio\", \"Ratio\": 0.0291463456595165}, {\"ORF\": \"YCL035C\", \"Cluster\": 1, \"Sample Point\": \"R2.Ratio\", \"Ratio\": 0.321928094887362}, {\"ORF\": \"YCL035C\", \"Cluster\": 1, \"Sample Point\": \"R3.Ratio\", \"Ratio\": 0.535331732996556}, {\"ORF\": \"YCL035C\", \"Cluster\": 1, \"Sample Point\": \"R4.Ratio\", \"Ratio\": 0.666576266274808}, {\"ORF\": \"YCL035C\", \"Cluster\": 1, \"Sample Point\": \"R5.Ratio\", \"Ratio\": 0.2688167584278}, {\"ORF\": \"YCL035C\", \"Cluster\": 1, \"Sample Point\": \"R6.Ratio\", \"Ratio\": 2.55639334852439}, {\"ORF\": \"YCL035C\", \"Cluster\": 1, \"Sample Point\": \"R7.Ratio\", \"Ratio\": 1.51457317282976}, {\"ORF\": \"YPL131W\", \"Cluster\": 0, \"Sample Point\": \"R1.Ratio\", \"Ratio\": 0.0588936890535686}, {\"ORF\": \"YPL131W\", \"Cluster\": 0, \"Sample Point\": \"R2.Ratio\", \"Ratio\": 0.0892673380970873}, {\"ORF\": \"YPL131W\", \"Cluster\": 0, \"Sample Point\": \"R3.Ratio\", \"Ratio\": 0.15200309344505}, {\"ORF\": \"YPL131W\", \"Cluster\": 0, \"Sample Point\": \"R4.Ratio\", \"Ratio\": -0.823749360308273}, {\"ORF\": \"YPL131W\", \"Cluster\": 0, \"Sample Point\": \"R5.Ratio\", \"Ratio\": -0.22650852980868}, {\"ORF\": \"YPL131W\", \"Cluster\": 0, \"Sample Point\": \"R6.Ratio\", \"Ratio\": -1.65535182861255}, {\"ORF\": \"YPL131W\", \"Cluster\": 0, \"Sample Point\": \"R7.Ratio\", \"Ratio\": -2.53356334821451}, {\"ORF\": \"YPL220W\", \"Cluster\": 0, \"Sample Point\": \"R1.Ratio\", \"Ratio\": 0.0439433475875972}, {\"ORF\": \"YPL220W\", \"Cluster\": 0, \"Sample Point\": \"R2.Ratio\", \"Ratio\": -0.0143552929770701}, {\"ORF\": \"YPL220W\", \"Cluster\": 0, \"Sample Point\": \"R3.Ratio\", \"Ratio\": 0.395928676331139}, {\"ORF\": \"YPL220W\", \"Cluster\": 0, \"Sample Point\": \"R4.Ratio\", \"Ratio\": -0.356143810225275}, {\"ORF\": \"YPL220W\", \"Cluster\": 0, \"Sample Point\": \"R5.Ratio\", \"Ratio\": -0.0426443374084937}, {\"ORF\": \"YPL220W\", \"Cluster\": 0, \"Sample Point\": \"R6.Ratio\", \"Ratio\": -1.60407132366886}, {\"ORF\": \"YPL220W\", \"Cluster\": 0, \"Sample Point\": \"R7.Ratio\", \"Ratio\": -2.76765479823735}, {\"ORF\": \"YPL226W\", \"Cluster\": 0, \"Sample Point\": \"R1.Ratio\", \"Ratio\": 0.0439433475875972}, {\"ORF\": \"YPL226W\", \"Cluster\": 0, \"Sample Point\": \"R2.Ratio\", \"Ratio\": 0.0740005814437768}, {\"ORF\": \"YPL226W\", \"Cluster\": 0, \"Sample Point\": \"R3.Ratio\", \"Ratio\": -0.0976107966264223}, {\"ORF\": \"YPL226W\", \"Cluster\": 0, \"Sample Point\": \"R4.Ratio\", \"Ratio\": -0.839959587489532}, {\"ORF\": \"YPL226W\", \"Cluster\": 0, \"Sample Point\": \"R5.Ratio\", \"Ratio\": -1.17632277264046}, {\"ORF\": \"YPL226W\", \"Cluster\": 0, \"Sample Point\": \"R6.Ratio\", \"Ratio\": -1.88752527074159}, {\"ORF\": \"YPL226W\", \"Cluster\": 0, \"Sample Point\": \"R7.Ratio\", \"Ratio\": -2.45680614923047}, {\"ORF\": \"YPR137W\", \"Cluster\": 0, \"Sample Point\": \"R1.Ratio\", \"Ratio\": 0.0740005814437768}, {\"ORF\": \"YPR137W\", \"Cluster\": 0, \"Sample Point\": \"R2.Ratio\", \"Ratio\": -0.176322772640463}, {\"ORF\": \"YPR137W\", \"Cluster\": 0, \"Sample Point\": \"R3.Ratio\", \"Ratio\": -0.20163386116965}, {\"ORF\": \"YPR137W\", \"Cluster\": 0, \"Sample Point\": \"R4.Ratio\", \"Ratio\": -0.887525270741588}, {\"ORF\": \"YPR137W\", \"Cluster\": 0, \"Sample Point\": \"R5.Ratio\", \"Ratio\": -0.918386234446348}, {\"ORF\": \"YPR137W\", \"Cluster\": 0, \"Sample Point\": \"R6.Ratio\", \"Ratio\": -1.6959938131099}, {\"ORF\": \"YPR137W\", \"Cluster\": 0, \"Sample Point\": \"R7.Ratio\", \"Ratio\": -2.95419631038688}, {\"ORF\": \"YPR149W\", \"Cluster\": 1, \"Sample Point\": \"R1.Ratio\", \"Ratio\": 0.15200309344505}, {\"ORF\": \"YPR149W\", \"Cluster\": 1, \"Sample Point\": \"R2.Ratio\", \"Ratio\": 0.120294233717712}, {\"ORF\": \"YPR149W\", \"Cluster\": 1, \"Sample Point\": \"R3.Ratio\", \"Ratio\": 0.395928676331139}, {\"ORF\": \"YPR149W\", \"Cluster\": 1, \"Sample Point\": \"R4.Ratio\", \"Ratio\": 0.810966175609983}, {\"ORF\": \"YPR149W\", \"Cluster\": 1, \"Sample Point\": \"R5.Ratio\", \"Ratio\": 0.915935735211525}, {\"ORF\": \"YPR149W\", \"Cluster\": 1, \"Sample Point\": \"R6.Ratio\", \"Ratio\": 2.05889368905357}, {\"ORF\": \"YPR149W\", \"Cluster\": 1, \"Sample Point\": \"R7.Ratio\", \"Ratio\": 2.32192809488736}, {\"ORF\": \"YPR184W\", \"Cluster\": 1, \"Sample Point\": \"R1.Ratio\", \"Ratio\": -0.238786859587116}, {\"ORF\": \"YPR184W\", \"Cluster\": 1, \"Sample Point\": \"R2.Ratio\", \"Ratio\": -0.0840642647884746}, {\"ORF\": \"YPR184W\", \"Cluster\": 1, \"Sample Point\": \"R3.Ratio\", \"Ratio\": -0.27500704749987}, {\"ORF\": \"YPR184W\", \"Cluster\": 1, \"Sample Point\": \"R4.Ratio\", \"Ratio\": 0.200912693925996}, {\"ORF\": \"YPR184W\", \"Cluster\": 1, \"Sample Point\": \"R5.Ratio\", \"Ratio\": 0.556393348524385}, {\"ORF\": \"YPR184W\", \"Cluster\": 1, \"Sample Point\": \"R6.Ratio\", \"Ratio\": 1.51457317282976}, {\"ORF\": \"YPR184W\", \"Cluster\": 1, \"Sample Point\": \"R7.Ratio\", \"Ratio\": 2.64385618977472}, {\"ORF\": \"YDL215C\", \"Cluster\": 1, \"Sample Point\": \"R1.Ratio\", \"Ratio\": -0.070389327891398}, {\"ORF\": \"YDL215C\", \"Cluster\": 1, \"Sample Point\": \"R2.Ratio\", \"Ratio\": 0.0439433475875972}, {\"ORF\": \"YDL215C\", \"Cluster\": 1, \"Sample Point\": \"R3.Ratio\", \"Ratio\": 0.0439433475875972}, {\"ORF\": \"YDL215C\", \"Cluster\": 1, \"Sample Point\": \"R4.Ratio\", \"Ratio\": -0.464668267003444}, {\"ORF\": \"YDL215C\", \"Cluster\": 1, \"Sample Point\": \"R5.Ratio\", \"Ratio\": -0.0565835283663676}, {\"ORF\": \"YDL215C\", \"Cluster\": 1, \"Sample Point\": \"R6.Ratio\", \"Ratio\": 0.3040061868901}, {\"ORF\": \"YDL215C\", \"Cluster\": 1, \"Sample Point\": \"R7.Ratio\", \"Ratio\": 2.32192809488736}, {\"ORF\": \"YDR258C\", \"Cluster\": 1, \"Sample Point\": \"R1.Ratio\", \"Ratio\": -0.214124805352847}, {\"ORF\": \"YDR258C\", \"Cluster\": 1, \"Sample Point\": \"R2.Ratio\", \"Ratio\": -0.0840642647884746}, {\"ORF\": \"YDR258C\", \"Cluster\": 1, \"Sample Point\": \"R3.Ratio\", \"Ratio\": -0.263034405833794}, {\"ORF\": \"YDR258C\", \"Cluster\": 1, \"Sample Point\": \"R4.Ratio\", \"Ratio\": 0.666576266274808}, {\"ORF\": \"YDR258C\", \"Cluster\": 1, \"Sample Point\": \"R5.Ratio\", \"Ratio\": 0.915935735211525}, {\"ORF\": \"YDR258C\", \"Cluster\": 1, \"Sample Point\": \"R6.Ratio\", \"Ratio\": 2.18442457113743}, {\"ORF\": \"YDR258C\", \"Cluster\": 1, \"Sample Point\": \"R7.Ratio\", \"Ratio\": 2.47393118833241}, {\"ORF\": \"YCR010C\", \"Cluster\": 1, \"Sample Point\": \"R1.Ratio\", \"Ratio\": -0.485426827170242}, {\"ORF\": \"YCR010C\", \"Cluster\": 1, \"Sample Point\": \"R2.Ratio\", \"Ratio\": -0.36737106564853}, {\"ORF\": \"YCR010C\", \"Cluster\": 1, \"Sample Point\": \"R3.Ratio\", \"Ratio\": 0.234465253637023}, {\"ORF\": \"YCR010C\", \"Cluster\": 1, \"Sample Point\": \"R4.Ratio\", \"Ratio\": -0.36737106564853}, {\"ORF\": \"YCR010C\", \"Cluster\": 1, \"Sample Point\": \"R5.Ratio\", \"Ratio\": -0.422233000683048}, {\"ORF\": \"YCR010C\", \"Cluster\": 1, \"Sample Point\": \"R6.Ratio\", \"Ratio\": 0.535331732996556}, {\"ORF\": \"YCR010C\", \"Cluster\": 1, \"Sample Point\": \"R7.Ratio\", \"Ratio\": 2.64385618977472}, {\"ORF\": \"YCR021c\", \"Cluster\": 1, \"Sample Point\": \"R1.Ratio\", \"Ratio\": -0.790772037862}, {\"ORF\": \"YCR021c\", \"Cluster\": 1, \"Sample Point\": \"R2.Ratio\", \"Ratio\": 0.0144995696951152}, {\"ORF\": \"YCR021c\", \"Cluster\": 1, \"Sample Point\": \"R3.Ratio\", \"Ratio\": 1.88896868761126}, {\"ORF\": \"YCR021c\", \"Cluster\": 1, \"Sample Point\": \"R4.Ratio\", \"Ratio\": 1.55639334852439}, {\"ORF\": \"YCR021c\", \"Cluster\": 1, \"Sample Point\": \"R5.Ratio\", \"Ratio\": 0.862496476250065}, {\"ORF\": \"YCR021c\", \"Cluster\": 1, \"Sample Point\": \"R6.Ratio\", \"Ratio\": 3.64385618977472}, {\"ORF\": \"YCR021c\", \"Cluster\": 1, \"Sample Point\": \"R7.Ratio\", \"Ratio\": 3.32192809488736}, {\"ORF\": \"YDL083C\", \"Cluster\": 0, \"Sample Point\": \"R1.Ratio\", \"Ratio\": 0.104697378666693}, {\"ORF\": \"YDL083C\", \"Cluster\": 0, \"Sample Point\": \"R2.Ratio\", \"Ratio\": -0.286881147788162}, {\"ORF\": \"YDL083C\", \"Cluster\": 0, \"Sample Point\": \"R3.Ratio\", \"Ratio\": -0.189033824390017}, {\"ORF\": \"YDL083C\", \"Cluster\": 0, \"Sample Point\": \"R4.Ratio\", \"Ratio\": -0.650764559116902}, {\"ORF\": \"YDL083C\", \"Cluster\": 0, \"Sample Point\": \"R5.Ratio\", \"Ratio\": -0.799087306074004}, {\"ORF\": \"YDL083C\", \"Cluster\": 0, \"Sample Point\": \"R6.Ratio\", \"Ratio\": -1.17632277264046}, {\"ORF\": \"YDL083C\", \"Cluster\": 0, \"Sample Point\": \"R7.Ratio\", \"Ratio\": -2.40053792958373}, {\"ORF\": \"YDL085w\", \"Cluster\": 1, \"Sample Point\": \"R1.Ratio\", \"Ratio\": -0.111031312388744}, {\"ORF\": \"YDL085w\", \"Cluster\": 1, \"Sample Point\": \"R2.Ratio\", \"Ratio\": 1.0}, {\"ORF\": \"YDL085w\", \"Cluster\": 1, \"Sample Point\": \"R3.Ratio\", \"Ratio\": 0.0588936890535686}, {\"ORF\": \"YDL085w\", \"Cluster\": 1, \"Sample Point\": \"R4.Ratio\", \"Ratio\": -0.124328135002202}, {\"ORF\": \"YDL085w\", \"Cluster\": 1, \"Sample Point\": \"R5.Ratio\", \"Ratio\": -0.27500704749987}, {\"ORF\": \"YDL085w\", \"Cluster\": 1, \"Sample Point\": \"R6.Ratio\", \"Ratio\": 2.05889368905357}, {\"ORF\": \"YDL085w\", \"Cluster\": 1, \"Sample Point\": \"R7.Ratio\", \"Ratio\": 2.83650126771712}, {\"ORF\": \"YDL136w\", \"Cluster\": 0, \"Sample Point\": \"R1.Ratio\", \"Ratio\": -0.070389327891398}, {\"ORF\": \"YDL136w\", \"Cluster\": 0, \"Sample Point\": \"R2.Ratio\", \"Ratio\": -0.0143552929770701}, {\"ORF\": \"YDL136w\", \"Cluster\": 0, \"Sample Point\": \"R3.Ratio\", \"Ratio\": -0.0426443374084937}, {\"ORF\": \"YDL136w\", \"Cluster\": 0, \"Sample Point\": \"R4.Ratio\", \"Ratio\": -0.36737106564853}, {\"ORF\": \"YDL136w\", \"Cluster\": 0, \"Sample Point\": \"R5.Ratio\", \"Ratio\": -0.214124805352847}, {\"ORF\": \"YDL136w\", \"Cluster\": 0, \"Sample Point\": \"R6.Ratio\", \"Ratio\": -1.55090066464752}, {\"ORF\": \"YDL136w\", \"Cluster\": 0, \"Sample Point\": \"R7.Ratio\", \"Ratio\": -2.56315813040281}, {\"ORF\": \"YDL199c\", \"Cluster\": 1, \"Sample Point\": \"R1.Ratio\", \"Ratio\": -0.0426443374084937}, {\"ORF\": \"YDL199c\", \"Cluster\": 1, \"Sample Point\": \"R2.Ratio\", \"Ratio\": 0.494109070270043}, {\"ORF\": \"YDL199c\", \"Cluster\": 1, \"Sample Point\": \"R3.Ratio\", \"Ratio\": 0.415037499278844}, {\"ORF\": \"YDL199c\", \"Cluster\": 1, \"Sample Point\": \"R4.Ratio\", \"Ratio\": 0.184424571137428}, {\"ORF\": \"YDL199c\", \"Cluster\": 1, \"Sample Point\": \"R5.Ratio\", \"Ratio\": -0.344828496997441}, {\"ORF\": \"YDL199c\", \"Cluster\": 1, \"Sample Point\": \"R6.Ratio\", \"Ratio\": 1.73696559416621}, {\"ORF\": \"YDL199c\", \"Cluster\": 1, \"Sample Point\": \"R7.Ratio\", \"Ratio\": 2.32192809488736}, {\"ORF\": \"YDL204w\", \"Cluster\": 1, \"Sample Point\": \"R1.Ratio\", \"Ratio\": -0.36737106564853}, {\"ORF\": \"YDL204w\", \"Cluster\": 1, \"Sample Point\": \"R2.Ratio\", \"Ratio\": 0.915935735211525}, {\"ORF\": \"YDL204w\", \"Cluster\": 1, \"Sample Point\": \"R3.Ratio\", \"Ratio\": -0.505890929729957}, {\"ORF\": \"YDL204w\", \"Cluster\": 1, \"Sample Point\": \"R4.Ratio\", \"Ratio\": 0.2688167584278}, {\"ORF\": \"YDL204w\", \"Cluster\": 1, \"Sample Point\": \"R5.Ratio\", \"Ratio\": 0.0892673380970873}, {\"ORF\": \"YDL204w\", \"Cluster\": 1, \"Sample Point\": \"R6.Ratio\", \"Ratio\": 4.05889368905357}, {\"ORF\": \"YDL204w\", \"Cluster\": 1, \"Sample Point\": \"R7.Ratio\", \"Ratio\": 3.05889368905357}, {\"ORF\": \"YDL208W\", \"Cluster\": 0, \"Sample Point\": \"R1.Ratio\", \"Ratio\": 0.0439433475875972}, {\"ORF\": \"YDL208W\", \"Cluster\": 0, \"Sample Point\": \"R2.Ratio\", \"Ratio\": -0.150559676575381}, {\"ORF\": \"YDL208W\", \"Cluster\": 0, \"Sample Point\": \"R3.Ratio\", \"Ratio\": 0.0439433475875972}, {\"ORF\": \"YDL208W\", \"Cluster\": 0, \"Sample Point\": \"R4.Ratio\", \"Ratio\": -0.575312330687437}, {\"ORF\": \"YDL208W\", \"Cluster\": 0, \"Sample Point\": \"R5.Ratio\", \"Ratio\": -0.485426827170242}, {\"ORF\": \"YDL208W\", \"Cluster\": 0, \"Sample Point\": \"R6.Ratio\", \"Ratio\": -2.14404636961671}, {\"ORF\": \"YDL208W\", \"Cluster\": 0, \"Sample Point\": \"R7.Ratio\", \"Ratio\": -2.63691458035588}]}}, {\"mode\": \"vega-lite\"});\n",
       "</script>"
      ],
      "text/plain": [
       "alt.Chart(...)"
      ]
     },
     "execution_count": 26,
     "metadata": {},
     "output_type": "execute_result"
    }
   ],
   "source": [
    "### YOUR SOLUTION HERE\n",
    "### YOUR SOLUTION HERE"
   ]
  },
  {
   "cell_type": "markdown",
   "metadata": {
    "slideshow": {
     "slide_type": "subslide"
    }
   },
   "source": [
    "**Stop and think:** How can you now if you selected the right number of clusters?"
   ]
  },
  {
   "cell_type": "markdown",
   "metadata": {
    "slideshow": {
     "slide_type": "subslide"
    }
   },
   "source": [
    "### YOUR SOLUTION HERE\n",
    "### YOUR SOLUTION HERE"
   ]
  },
  {
   "cell_type": "markdown",
   "metadata": {
    "slideshow": {
     "slide_type": "subslide"
    }
   },
   "source": [
    "**Exercise 2:** Analyze two clusterings (k=2 and k=3) by calculating the silhouette score."
   ]
  },
  {
   "cell_type": "code",
   "execution_count": 27,
   "metadata": {
    "slideshow": {
     "slide_type": "subslide"
    }
   },
   "outputs": [
    {
     "name": "stdout",
     "output_type": "stream",
     "text": [
      "Score for k=2 0.7544866254183358\n",
      "Score for k=3 0.518441778993325\n"
     ]
    }
   ],
   "source": [
    "from sklearn.metrics import silhouette_score\n",
    "\n",
    "### YOUR SOLUTION HERE\n",
    "cluster2 = clusterer2.predict(df_subset.drop(['ORF','Name','Cluster'],axis=1))\n",
    "cluster3 = clusterer3.predict(df_subset.drop(['ORF','Name','Cluster'],axis=1))\n",
    "print('Score for k=2',silhouette_score(df_subset.drop(['ORF','Name','Cluster'],axis=1), cluster2))\n",
    "print('Score for k=3',silhouette_score(df_subset.drop(['ORF','Name','Cluster'],axis=1), cluster3))"
   ]
  },
  {
   "cell_type": "code",
   "execution_count": null,
   "metadata": {},
   "outputs": [],
   "source": []
  }
 ],
 "metadata": {
  "celltoolbar": "Slideshow",
  "jupytext": {
   "encoding": "# -*- coding: utf-8 -*-",
   "formats": "ipynb,md,py"
  },
  "kernelspec": {
   "display_name": "Python 3 (ipykernel)",
   "language": "python",
   "name": "python3"
  },
  "language_info": {
   "codemirror_mode": {
    "name": "ipython",
    "version": 3
   },
   "file_extension": ".py",
   "mimetype": "text/x-python",
   "name": "python",
   "nbconvert_exporter": "python",
   "pygments_lexer": "ipython3",
   "version": "3.9.6"
  }
 },
 "nbformat": 4,
 "nbformat_minor": 4
}
