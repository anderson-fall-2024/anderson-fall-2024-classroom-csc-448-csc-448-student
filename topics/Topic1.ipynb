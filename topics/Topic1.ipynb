{
 "cells": [
  {
   "cell_type": "markdown",
   "metadata": {},
   "source": [
    "# Colab Start Section"
   ]
  },
  {
   "cell_type": "markdown",
   "metadata": {},
   "source": [
    "Step 1 is to upload a copy of your private key. I am assuming your private key is named id_ed25519. If that isn't the case, you'll have to make manual changes."
   ]
  },
  {
   "cell_type": "code",
   "execution_count": 1,
   "metadata": {},
   "outputs": [],
   "source": [
    "# Change these of course to what is your email and your GitHub username\n",
    "EMAIL = \"pauleanderson@gmail.com\"\n",
    "USERNAME = \"pauleanderson\""
   ]
  },
  {
   "cell_type": "code",
   "execution_count": null,
   "metadata": {},
   "outputs": [],
   "source": [
    "from google.colab import files\n",
    "uploaded = files.upload()"
   ]
  },
  {
   "cell_type": "code",
   "execution_count": null,
   "metadata": {},
   "outputs": [],
   "source": [
    "%%bash -s \"$EMAIL\" \"$USERNAME\"\n",
    "\n",
    "rm -rf /root/.ssh/*\n",
    "mkdir /root/.ssh\n",
    "\n",
    "mv id_ed25519 /root/.ssh/\n",
    "\n",
    "chmod 600 /root/.ssh/id_ed25519\n",
    "\n",
    "git config --global user.email \"$1\"\n",
    "git config --global user.name \"$2\""
   ]
  },
  {
   "cell_type": "code",
   "execution_count": 2,
   "metadata": {},
   "outputs": [
    {
     "name": "stderr",
     "output_type": "stream",
     "text": [
      "UsageError: Cell magic `%%shell` not found.\n"
     ]
    }
   ],
   "source": [
    "%%bash -s \"$USERNAME\"\n",
    "\n",
    "eval \"$(ssh-agent -s)\"\n",
    "\n",
    "ssh-add ~/.ssh/id_ed25519\n",
    "\n",
    "ssh-keyscan -t rsa github.com >> ~/.ssh/known_hosts\n",
    "\n",
    "git clone git@github.com:anderson-fall-2024/csc-448-$1.git"
   ]
  },
  {
   "cell_type": "markdown",
   "metadata": {
    "hideCode": false,
    "hidePrompt": false,
    "slideshow": {
     "slide_type": "slide"
    }
   },
   "source": [
    "# Topic 1\n",
    "# Where in the Genome Does DNA Replication Begin?\n",
    "## Secondary Title: Algorithm Warmup\n",
    "\n",
    "Motivation and some exercises are variations on those available in Bioinformatics Algorithms: An Active-Learning Approach by Phillip Compeau & Pavel Pevzner."
   ]
  },
  {
   "cell_type": "markdown",
   "metadata": {
    "slideshow": {
     "slide_type": "subslide"
    }
   },
   "source": [
    "### Learning objectives for the week and lab:\n",
    "1. Build our mental model of biology (two ways)\n",
    "2. Warm up our algorithm abilities after summer break\n",
    "3. Gain experience translating a biological problem into a problem we can solve via code"
   ]
  },
  {
   "cell_type": "code",
   "execution_count": 3,
   "metadata": {},
   "outputs": [
    {
     "name": "stdout",
     "output_type": "stream",
     "text": [
      "The autoreload extension is already loaded. To reload it, use:\n",
      "  %reload_ext autoreload\n"
     ]
    }
   ],
   "source": [
    "#### NO NEED TO EDIT ####\n",
    "NOTEBOOK = \"Topic1\"\n",
    "\n",
    "%load_ext autoreload\n",
    "%autoreload 2\n",
    "\n",
    "import sys\n",
    "sys.path.insert(0,f\"csc-448-{USERNAME}/py448\")\n",
    "sys.path.insert(0,\"../py448\")\n",
    "\n",
    "from importlib import import_module\n",
    "helper = import_module(f'{NOTEBOOK}_helper')\n",
    "\n",
    "## BEGIN SOLUTION\n",
    "import joblib\n",
    "answers = {}\n",
    "## END SOLUTION\n",
    "#### NO NEED TO EDIT ####"
   ]
  },
  {
   "cell_type": "markdown",
   "metadata": {
    "hideCode": false,
    "hidePrompt": false,
    "slideshow": {
     "slide_type": "slide"
    }
   },
   "source": [
    "# Molecular biology for bioinformatics\n",
    "Short introduction into some of the concepts we must familiarize ourselves with in this class. We will add to our biological knowledge a little bit at a time.\n",
    "\n",
    "Credit for some of this content comes from: http://web.stanford.edu/class/cs173/papers/primer.pdf\n",
    "\n",
    "<img src=\"https://www.thoughtco.com/thmb/pTDTZI1GH12gJr-DEyozAcVOGvA=/1500x1039/filters:fill(auto,1)/genes-DNA-573388755f9b58723d5eb4fd.jpg\" width=800>"
   ]
  },
  {
   "cell_type": "markdown",
   "metadata": {
    "hideCode": false,
    "hidePrompt": false,
    "slideshow": {
     "slide_type": "subslide"
    }
   },
   "source": [
    "### Goals of Molecular Biology\n",
    "* Sequencing and comparing full genomes of organisms.\n",
    "* Identifying the genes and determining the foundations of the proteins they encode.\n",
    "* Understanding gene expression.\n",
    "* Understanding genetic diseases.\n",
    "* Understanding evolution and evolutionary history.\n",
    "* Understanding proteins, which means predicting the folding of the amino acid\n",
    "sequence, and characterizing the function of the protein based on this folding.\n",
    "* Constructing synthetic proteins, which means creating amino acid sequences,\n",
    "such that the protein produced from these have a desired function."
   ]
  },
  {
   "cell_type": "markdown",
   "metadata": {
    "hideCode": false,
    "hidePrompt": false,
    "slideshow": {
     "slide_type": "subslide"
    }
   },
   "source": [
    "### Polymers\n",
    "Three types of polymers will play a roll in this class and in biology: DNA, RNA, and proteins\n",
    "\n",
    "DNA sequences are the information-containing molecules and are composed of\n",
    "nucleotides from an alphabet of four letters: A, C, G and T. The DNA of an organism plays a central role in its existence. It is arranged in\n",
    "the form of chromosomes. These strings may be millions of nucleotides long,\n",
    "measured in base pairs (bp).\n",
    "\n",
    "The entire set of genetic information of an organism is called its genome. Genome sizes vary for different species.\n",
    "\n",
    "<img src=\"https://old-ib.bioninja.com.au/_Media/genome-size-table_med.jpeg\" widt=300>"
   ]
  },
  {
   "cell_type": "markdown",
   "metadata": {
    "hideCode": false,
    "hidePrompt": false,
    "slideshow": {
     "slide_type": "subslide"
    }
   },
   "source": [
    "Proteins, which are the operational molecules, are composed of chains of amino\n",
    "acids, called polypeptides, each from an alphabet of 20 letters:\n",
    "    \n",
    "<img src=\"https://qph.fs.quoracdn.net/main-qimg-aaa1523b121f7374bb1bdc294d0107ba\">"
   ]
  },
  {
   "cell_type": "markdown",
   "metadata": {
    "hideCode": false,
    "hidePrompt": false,
    "slideshow": {
     "slide_type": "subslide"
    }
   },
   "source": [
    "RNA sequences, which stand between DNA and protein, are composed of nucleotides from an alphabet of four letters: A, C, G, U.\n",
    "\n",
    "The Central Dogma of Molecular Biology describes the interaction of these polymers:\n",
    "- DNA acts as a template to replicate itself;\n",
    "- DNA is also transcribed into RNA; and\n",
    "- RNA is translated into protein."
   ]
  },
  {
   "cell_type": "markdown",
   "metadata": {
    "hideCode": false,
    "hidePrompt": false,
    "slideshow": {
     "slide_type": "subslide"
    }
   },
   "source": [
    "<img src=\"https://cdn1.byjus.com/wp-content/uploads/2018/11/Central-Dogma-DNA-to-RNA-to-Protein.png\">"
   ]
  },
  {
   "cell_type": "markdown",
   "metadata": {
    "hideCode": false,
    "hidePrompt": false,
    "slideshow": {
     "slide_type": "subslide"
    }
   },
   "source": [
    "1. Replication of DNA.\n",
    "Each strand in a DNA is a chemical ”mirror image” of the other. If there is\n",
    "an a on one strand, there will always be a t in the same position on the other\n",
    "strand, and vice versa; if there is a c on the one strand, its ”partner” on the\n",
    "other strand will always be a g, and vice versa.\n",
    "When a cell divides to form daughter cells, DNA is replicated by untwisting the\n",
    "two strands and using each strand as a template to produce its chemical mirror\n",
    "image.\n",
    "2. Transcription of DNA.\n",
    "DNA also act as a blueprint for RNA, more exactly three main types of RNA:\n",
    "messenger RNA (mRNA), transfer RNA (tRNA), and ribosomal RNA (rRNA).\n",
    "They carry information from the genome to the ribosomes, the protein synthesis\n",
    "apparatus in a cell.\n",
    "3. Translation of mRNA.\n",
    "The information in an mRNA will be translated into a sequence of amino acids,\n",
    "creating a polypeptide molecule.3"
   ]
  },
  {
   "cell_type": "markdown",
   "metadata": {
    "hideCode": false,
    "hidePrompt": false,
    "slideshow": {
     "slide_type": "subslide"
    }
   },
   "source": [
    "#### More on proteins\n",
    "\n",
    "\"Organic chemistry is the chemistry of carbon compounds. Biochemistry is the study of carbon compounds that crawl.\" - Mike Adam\n",
    "\n",
    "Example, human insulin is composed by two words (chains of amino acids):\n",
    "\n",
    "A: gly ile val glu gln cys cys thr ser ile cys ser leu tyr glu leu glu asn tyr cys asn.\n",
    "\n",
    "B: phe val asn gln his leu cys gly ser his leu val glu ala leu tyr leu val cys gly glu arg\n",
    "gly phe phe tyr thr pro lys thr.\n",
    "\n",
    "The function of a protein is a direct consequence of its three-dimensional structure"
   ]
  },
  {
   "cell_type": "markdown",
   "metadata": {
    "hideCode": false,
    "hidePrompt": false,
    "slideshow": {
     "slide_type": "subslide"
    }
   },
   "source": [
    "### More on genes\n",
    "Historically, the heritable factors which determine much of the physical make up of\n",
    "organisms are called genes.\n",
    "\n",
    "Usually there are several different forms one gene can have. These forms are called\n",
    "alleles.\n",
    "\n",
    "A combination of alleles describes the make-up of an individual, more exactly:\n",
    "* The genetic make-up of an individual is its genotype.\n",
    "* The expression of the genes of an individual is its phenotype."
   ]
  },
  {
   "cell_type": "markdown",
   "metadata": {
    "hideCode": false,
    "hidePrompt": false,
    "slideshow": {
     "slide_type": "subslide"
    }
   },
   "source": [
    "**Stop and think:** Find as many different pictures of human insulin protein and insert them here.\n",
    "\n",
    "**Stop and think:** Why are there different pictures?\n",
    "\n",
    "**Stop and think:** Now find the gene sequence of insulin and paste it below."
   ]
  },
  {
   "cell_type": "markdown",
   "metadata": {
    "hideCode": false,
    "hidePrompt": false,
    "slideshow": {
     "slide_type": "slide"
    }
   },
   "source": [
    "## Genome Replication\n",
    "* One of most important tasks carried out in the cell. \n",
    "* Must be carried out before cell division\n",
    "* In 1953, James Watson and Francis Crick ended their paper on DNA double helix with:\n",
    "\n",
    "\"It has not escaped our notice that the specific pairing we have postulated immediately suggests a possible copying mechanism for the genetic material.\"\n",
    "\n",
    "<img src=\"https://images.fineartamerica.com/images/artworkimages/mediumlarge/1/watson-and-crick-a-barrington-brown-and-photo-researchers.jpg\" alt=\"drawing\" width=\"400\"/>"
   ]
  },
  {
   "cell_type": "markdown",
   "metadata": {
    "slideshow": {
     "slide_type": "subslide"
    }
   },
   "source": [
    "## History and controversy\n",
    "We shouldn't mention Dr. James Watson without discussing his unfounded pronouncements on genetics, race, and intelligence - https://www.nytimes.com/2019/01/01/science/watson-dna-genetics-race.html\n",
    "\n",
    "I reject these views as despicable and they have no place in science. Instead I will discuss the first bioinformatician: Margaret Dayhoff (1925-1983). \n",
    "\n",
    "<img width=500 src=\"https://th-thumbnailer.cdn-si-edu.com/GmajFEn1eTINwE6DwIzMQ7YmO6g=/1072x720/filters:no_upscale()/https://tf-cmsv2-smithsonianmag-media.s3.amazonaws.com/filer/07/5c/075cc94d-bc5e-40c7-8dc5-cea9f0461493/margaret_dayhoff.jpg\">"
   ]
  },
  {
   "cell_type": "markdown",
   "metadata": {
    "slideshow": {
     "slide_type": "subslide"
    }
   },
   "source": [
    "<img width=500 src=\"https://encrypted-tbn0.gstatic.com/images?q=tbn:ANd9GcTTHGxsUleSB-Y7poOJghLcGMEVzbpx0iA-mA&s\">\n",
    "\n",
    "Margaret Dayhoff produced COMPROTEIN, the first bioinformatics software. (A) An IBM 7090 mainframe, for which COMPROTEIN was made to run. (B) A punch card containing one line of FORTRAN code (the language COMPROTEIN was written with). (C) An entire program’s source code in punch cards. (D) A simplified overview of COMPROTEIN’s input (i.e. Edman peptide sequences) and output (a consensus protein sequence)."
   ]
  },
  {
   "cell_type": "markdown",
   "metadata": {
    "hideCode": false,
    "hidePrompt": false,
    "slideshow": {
     "slide_type": "subslide"
    }
   },
   "source": [
    "## Let's review some biology\n",
    "<img src=\"https://upload.wikimedia.org/wikipedia/commons/thumb/3/37/Difference_DNA_RNA-EN.svg/1200px-Difference_DNA_RNA-EN.svg.png\" width=\"600\"/>\n",
    "\n"
   ]
  },
  {
   "cell_type": "markdown",
   "metadata": {
    "hideCode": false,
    "hidePrompt": false,
    "slideshow": {
     "slide_type": "subslide"
    }
   },
   "source": [
    "## DNA and RNA code\n",
    "* Not a binary alphabet\n",
    "* DNA alphabet: AGCT\n",
    "* RNA alphabet: AGCU\n",
    "* Nucleotides are complementary (A binds to T and G binds to C)\n",
    "* Replication begins at replication origin (*ori*)\n",
    "* **Binary is a base-2 system, what is DNA/RNA?**"
   ]
  },
  {
   "cell_type": "markdown",
   "metadata": {
    "hideCode": false,
    "hidePrompt": false,
    "slideshow": {
     "slide_type": "subslide"
    }
   },
   "source": [
    "## Why should I care?\n",
    "* DNA polymerases - molecular copy machines that start by locating a *ori* - origin of replication\n",
    "* Some gene therapy methods use genetically engineered mini-genomes, which are called **viral vectors**\n",
    "* Viral vectors are able to penetrate cell walls\n",
    "* Viral vectors carry artificial genes that have been used to engineer frost-resistant tomatoes and pesticide-resistant corn. \n",
    "\n",
    "In 1990, **gene therapy was successfully performed on humans when it saved the life of a four year old girl** suffered from Severe Combined Immunodeficiency Disorder.\n",
    "\n",
    "How does this relate to this topic? \n",
    "* To ensure the treatment works, scientists must know the location of *ori* and avoid disrupting this site."
   ]
  },
  {
   "cell_type": "markdown",
   "metadata": {
    "hideCode": false,
    "hidePrompt": false,
    "slideshow": {
     "slide_type": "slide"
    }
   },
   "source": [
    "# Looking for *ori*\n",
    "Verified *ori* of Vibrio cholerae, the bacterium that causes cholera (~500 nucleotides):\n",
    "<pre>\n",
    "atcaatgatcaacgtaagcttctaagcatgatcaaggtgctcacacagtttatccacaac\n",
    "ctgagtggatgacatcaagataggtcgttgtatctccttcctctcgtactctcatgacca\n",
    "cggaaagatgatcaagagaggatgatttcttggccatatcgcaatgaatacttgtgactt\n",
    "gtgcttccaattgacatcttcagcgccatattgcgctggccaaggtgacggagcgggatt\n",
    "acgaaagcatgatcatggctgttgttctgtttatcttgttttgactgagacttgttagga\n",
    "tagacggtttttcatcactgactagccaaagccttactctgcctgacatcgaccgtaaat\n",
    "tgataatgaatttacatgcttccgcgacgatttacctcttgatcatcgatccgattgaag\n",
    "atcttcaattgttaattctcttgcctcgactcatagccatgatgagctcttgatcatgtt\n",
    "tccttaaccctctattttttacggaagaatgatcaagctgctgctcttgatcatcgtttc\n",
    "</pre>"
   ]
  },
  {
   "cell_type": "markdown",
   "metadata": {
    "hideCode": false,
    "hidePrompt": false,
    "slideshow": {
     "slide_type": "subslide"
    }
   },
   "source": [
    "## DnaA box\n",
    "* **There is a hidden message in *ori* that orders the cell to begin replication here.**\n",
    "* We know that the initiation of replication is mediated by a protein called **DnaA** that looks for a short segment within *ori*.\n",
    "* This short segment is known as a *DnaA box*\n",
    "* **Biologists want to find this hidden message, but is that clearly defined enough for us CS/STAT/MATH/EGR folks?**\n",
    "\n",
    "<img src=\"https://upload.wikimedia.org/wikipedia/commons/thumb/b/bb/PDB_2hcb_EBI.jpg/220px-PDB_2hcb_EBI.jpg\">"
   ]
  },
  {
   "cell_type": "markdown",
   "metadata": {
    "hideCode": false,
    "hidePrompt": false,
    "slideshow": {
     "slide_type": "subslide"
    }
   },
   "source": [
    "## Counting words\n",
    "* Turns out that the patterns in our DNA are not random. \n",
    "* Some patterns are more common than others. \n",
    "* Biologically speaking this helps because certain protins can only bind to DNA if a specific string of nucleotides is present and if that string is more prevelant then we have a greater chance of success (and less likely a mutation will cause problems). \n",
    "* We are going to refer to a *k*-mer as a string of length *k*."
   ]
  },
  {
   "cell_type": "markdown",
   "metadata": {
    "hideCode": false,
    "hidePrompt": false,
    "slideshow": {
     "slide_type": "subslide"
    }
   },
   "source": [
    "### Why? Why? Why?\n",
    "\"Nothing in biology makes sense except in the light of evolution.\" - Theodosius Dobzhansky"
   ]
  },
  {
   "cell_type": "markdown",
   "metadata": {
    "hideCode": false,
    "hidePrompt": false,
    "slideshow": {
     "slide_type": "subslide"
    }
   },
   "source": [
    "We are looking for surprisingly frequent substrings (contiguous strings appearing within) this *ori*.\n",
    "<pre>\n",
    "atcaatgatcaacgtaagcttctaagcatgatcaaggtgctcacacagtttatccacaac\n",
    "ctgagtggatgacatcaagataggtcgttgtatctccttcctctcgtactctcatgacca\n",
    "cggaaagatgatcaagagaggatgatttcttggccatatcgcaatgaatacttgtgactt\n",
    "gtgcttccaattgacatcttcagcgccatattgcgctggccaaggtgacggagcgggatt\n",
    "acgaaagcatgatcatggctgttgttctgtttatcttgttttgactgagacttgttagga\n",
    "tagacggtttttcatcactgactagccaaagccttactctgcctgacatcgaccgtaaat\n",
    "tgataatgaatttacatgcttccgcgacgatttacctcttgatcatcgatccgattgaag\n",
    "atcttcaattgttaattctcttgcctcgactcatagccatgatgagctcttgatcatgtt\n",
    "tccttaaccctctattttttacggaagaatgatcaagctgctgctcttgatcatcgtttc\n",
    "</pre>\n",
    "Are there any substrings that occur more frequent than others?\n",
    "\n",
    "Before we go about searching for unknown substrings, we'll write a function that counts the number of occurances of a specific substring."
   ]
  },
  {
   "cell_type": "markdown",
   "metadata": {
    "hideCode": false,
    "hidePrompt": false,
    "slideshow": {
     "slide_type": "subslide"
    }
   },
   "source": [
    "**Exercise 1.**\n",
    "A *k*-mer is a string of length ``k``. For this exercise, define a function ``count(text, pattern)`` as the number of times that a k-mer ``pattern`` appears as a substring of ``text``. For example,\n",
    "\n",
    "For example:\n",
    "<pre>\n",
    "count(\"ACAACTATGCATACTATCGGGAACTATCCT\",\"ACTAT\")=3.\n",
    "</pre>\n",
    "Please note that count(\"CGATATATCCATAG\", \"ATA\") is equal to 3 (not 2) since we should account for overlapping occurrences of ``pattern`` in ``text``."
   ]
  },
  {
   "cell_type": "code",
   "execution_count": 4,
   "metadata": {
    "hideCode": false,
    "hidePrompt": false,
    "slideshow": {
     "slide_type": "skip"
    }
   },
   "outputs": [
    {
     "data": {
      "text/plain": [
       "3"
      ]
     },
     "execution_count": 4,
     "metadata": {},
     "output_type": "execute_result"
    }
   ],
   "source": [
    "## BEGIN SOLUTION\n",
    "answers[\"answer_exercise_1a\"] = helper.count(\"ACAACTATGCATACTATCGGGAACTATCCT\",\"ACTAT\")\n",
    "answers[\"answer_exercise_1b\"] = helper.count(\"ACAACTATGCATACTATCGGGAACTATCCT\",\"AC\")\n",
    "answers[\"answer_exercise_1c\"] = helper.count(\"ACAACTATGCATACTATCGGGAACTATCCT\",\"GA\")\n",
    "## END SOLUTION\n",
    "helper.count(\"ACAACTATGCATACTATCGGGAACTATCCT\",\"ACTAT\")"
   ]
  },
  {
   "cell_type": "markdown",
   "metadata": {
    "hideCode": false,
    "hidePrompt": false,
    "slideshow": {
     "slide_type": "subslide"
    }
   },
   "source": [
    "**Exercise 2.** Find the most frequent *k*-mers in a string.\n",
    "* Input: A string ``text`` and an integer ``k``.\n",
    "* Output: All most frequent *k*-mers in ``text`` and their count.\n",
    "* Requirements: Do not use a dictionary/map"
   ]
  },
  {
   "cell_type": "code",
   "execution_count": 5,
   "metadata": {
    "hideCode": false,
    "hidePrompt": false,
    "slideshow": {
     "slide_type": "subslide"
    }
   },
   "outputs": [
    {
     "name": "stdout",
     "output_type": "stream",
     "text": [
      "(['ACTAT'], 3)\n",
      "(['ACTA', 'CTAT'], 3)\n"
     ]
    }
   ],
   "source": [
    "## BEGIN SOLUTION\n",
    "answers[\"answer_exercise_2a\"] = helper.frequent_words(\"ACAACTATGCATACTATCGGGAACTATCCT\",4)\n",
    "answers[\"answer_exercise_2b\"] = helper.frequent_words(\"ACAACTATGCATACTATCGGGAACTATCCT\",5)\n",
    "answers[\"answer_exercise_2c\"] = helper.frequent_words(\"ACAACTATGCATACTATCGGGAACTATCCT\",3)\n",
    "## END SOLUTION\n",
    "print(helper.frequent_words(\"ACAACTATGCATACTATCGGGAACTATCCT\",5))\n",
    "print(helper.frequent_words(\"ACAACTATGCATACTATCGGGAACTATCCT\",4))"
   ]
  },
  {
   "cell_type": "markdown",
   "metadata": {
    "slideshow": {
     "slide_type": "subslide"
    }
   },
   "source": [
    "**Problem 4:** What is the Big-O of frequent words? Define ``|text|`` as the length of ``text`` and ``k`` as an integer. Assume the unit of measurement is comparing a single charater (i.e., comparing ABC to DEF costs 3 units).\n",
    "\n",
    "A. '|text|^2'<br>\n",
    "B. '|text|^2*k'<br>\n",
    "C. 'k^2'<br>\n",
    "\n",
    "##### BEGIN SOLUTION\n",
    "B\n",
    "##### END SOLUTION\n",
    "\n",
    "**Your answer here**"
   ]
  },
  {
   "cell_type": "markdown",
   "metadata": {
    "hideCode": false,
    "hidePrompt": false,
    "slideshow": {
     "slide_type": "subslide"
    }
   },
   "source": [
    "### Now let's look at the *ori* and see what 9-mers appear"
   ]
  },
  {
   "cell_type": "code",
   "execution_count": 6,
   "metadata": {
    "hideCode": false,
    "hidePrompt": false,
    "slideshow": {
     "slide_type": "fragment"
    }
   },
   "outputs": [
    {
     "data": {
      "text/plain": [
       "(['atgatcaag', 'ctcttgatc', 'cttgatcat', 'tcttgatca'], 3)"
      ]
     },
     "execution_count": 6,
     "metadata": {},
     "output_type": "execute_result"
    }
   ],
   "source": [
    "text = \"atcaatgatcaacgtaagcttctaagcatgatcaaggtgctcacacagtttatccacaacctgagtggatgacatcaagataggtcgttgtatctccttcctctcgtactctcatgaccacggaaagatgatcaagagaggatgatttcttggccatatcgcaatgaatacttgtgacttgtgcttccaattgacatcttcagcgccatattgcgctggccaaggtgacggagcgggattacgaaagcatgatcatggctgttgttctgtttatcttgttttgactgagacttgttaggatagacggtttttcatcactgactagccaaagccttactctgcctgacatcgaccgtaaattgataatgaatttacatgcttccgcgacgatttacctcttgatcatcgatccgattgaagatcttcaattgttaattctcttgcctcgactcatagccatgatgagctcttgatcatgtttccttaaccctctattttttacggaagaatgatcaagctgctgctcttgatcatcgtttc\"\n",
    "helper.frequent_words(text,9)"
   ]
  },
  {
   "cell_type": "markdown",
   "metadata": {
    "hideCode": false,
    "hidePrompt": false,
    "slideshow": {
     "slide_type": "fragment"
    }
   },
   "source": [
    "Notice anything interesting about the sequences?"
   ]
  },
  {
   "cell_type": "markdown",
   "metadata": {
    "hideCode": false,
    "hidePrompt": false,
    "slideshow": {
     "slide_type": "subslide"
    }
   },
   "source": [
    "As previously stated, nucleotides only bind to their complement, so A and T bind and G and C bind. It is also true that DNA is read in specific direction. Very much in the same way we read left to right. DNA is read from what is called the 5' end to the 3' end.\n",
    "\n",
    "<img src=\"https://image.slidesharecdn.com/dna-replication-lin-140210083429-phpapp02/95/dna-replicationlin-4-638.jpg?cb=1392021295\" width=400/>\n",
    "\n",
    "So we can now understand and look for something very important called a reverse complement. The definition of which is right there in the name. ACTG is the reverse complement of CAGT. Let's now write a simple funciton to find the reverse complement."
   ]
  },
  {
   "cell_type": "markdown",
   "metadata": {
    "hideCode": false,
    "hidePrompt": false,
    "slideshow": {
     "slide_type": "subslide"
    }
   },
   "source": [
    "**Exercise 3.** Write a function that find the reverse complement of a DNA sequence.\n",
    "* Input: A string ``text`` representing DNA.\n",
    "* Output: The reverse complement of ``text``."
   ]
  },
  {
   "cell_type": "code",
   "execution_count": 7,
   "metadata": {
    "hideCode": false,
    "hidePrompt": false,
    "slideshow": {
     "slide_type": "subslide"
    }
   },
   "outputs": [
    {
     "data": {
      "text/plain": [
       "'actg'"
      ]
     },
     "execution_count": 7,
     "metadata": {},
     "output_type": "execute_result"
    }
   ],
   "source": [
    "## BEGIN SOLUTION\n",
    "answers[\"answer_exercise_3\"] = helper.reverse_complement(\"cagt\")\n",
    "## END SOLUTION\n",
    "helper.reverse_complement(\"cagt\")"
   ]
  },
  {
   "cell_type": "markdown",
   "metadata": {
    "hideCode": false,
    "hidePrompt": false,
    "slideshow": {
     "slide_type": "subslide"
    }
   },
   "source": [
    "### Back to our 9-mers"
   ]
  },
  {
   "cell_type": "code",
   "execution_count": 8,
   "metadata": {
    "hideCode": false,
    "hidePrompt": false,
    "slideshow": {
     "slide_type": "fragment"
    }
   },
   "outputs": [
    {
     "name": "stdout",
     "output_type": "stream",
     "text": [
      "(['atgatcaag', 'ctcttgatc', 'cttgatcat', 'tcttgatca'], 3)\n",
      "Reverse complement of first 9-mer: cttgatcat\n"
     ]
    }
   ],
   "source": [
    "solutions = helper.frequent_words(text,9)\n",
    "print(solutions)\n",
    "print(\"Reverse complement of first 9-mer:\",helper.reverse_complement(solutions[0][0]))"
   ]
  },
  {
   "cell_type": "markdown",
   "metadata": {
    "hideCode": false,
    "hidePrompt": false,
    "slideshow": {
     "slide_type": "fragment"
    }
   },
   "source": [
    "**Problem 4.** What is interesting about the reverse complement of the first 9-mer?\n",
    "\n",
    "**Your answer here**"
   ]
  },
  {
   "cell_type": "markdown",
   "metadata": {
    "hideCode": false,
    "hidePrompt": false,
    "slideshow": {
     "slide_type": "subslide"
    }
   },
   "source": [
    "### Writing faster code\n",
    "**Exercise 4.** Let's now write faster code that produces a frequency map. \n",
    "* Input: A string ``text`` representing DNA and integer ``k``.\n",
    "* Output: a frequency map (Python dictionary) that maps every pattern of size ``k`` to the number of times that pattern occurs."
   ]
  },
  {
   "cell_type": "code",
   "execution_count": 9,
   "metadata": {
    "hideCode": false,
    "hidePrompt": false,
    "slideshow": {
     "slide_type": "subslide"
    }
   },
   "outputs": [
    {
     "data": {
      "text/plain": [
       "{'atc': 21,\n",
       " 'tca': 17,\n",
       " 'caa': 12,\n",
       " 'aat': 10,\n",
       " 'atg': 15,\n",
       " 'tga': 25,\n",
       " 'gat': 21,\n",
       " 'aac': 3,\n",
       " 'acg': 7,\n",
       " 'cgt': 5,\n",
       " 'gta': 4,\n",
       " 'taa': 6,\n",
       " 'aag': 12,\n",
       " 'agc': 10,\n",
       " 'gct': 10,\n",
       " 'ctt': 17,\n",
       " 'ttc': 12,\n",
       " 'tct': 16,\n",
       " 'cta': 3,\n",
       " 'gca': 3,\n",
       " 'cat': 16,\n",
       " 'agg': 5,\n",
       " 'ggt': 4,\n",
       " 'gtg': 5,\n",
       " 'tgc': 8,\n",
       " 'ctc': 14,\n",
       " 'cac': 5,\n",
       " 'aca': 7,\n",
       " 'cag': 2,\n",
       " 'agt': 2,\n",
       " 'gtt': 11,\n",
       " 'ttt': 16,\n",
       " 'tta': 10,\n",
       " 'tat': 6,\n",
       " 'tcc': 7,\n",
       " 'cca': 8,\n",
       " 'acc': 5,\n",
       " 'cct': 9,\n",
       " 'ctg': 10,\n",
       " 'gag': 6,\n",
       " 'tgg': 4,\n",
       " 'gga': 7,\n",
       " 'gac': 13,\n",
       " 'aga': 8,\n",
       " 'ata': 7,\n",
       " 'tag': 5,\n",
       " 'gtc': 1,\n",
       " 'tcg': 7,\n",
       " 'ttg': 17,\n",
       " 'tgt': 10,\n",
       " 'tac': 7,\n",
       " 'act': 9,\n",
       " 'cgg': 5,\n",
       " 'gaa': 7,\n",
       " 'aaa': 4,\n",
       " 'att': 11,\n",
       " 'ggc': 3,\n",
       " 'gcc': 8,\n",
       " 'cgc': 4,\n",
       " 'gcg': 4,\n",
       " 'ggg': 1,\n",
       " 'cga': 7,\n",
       " 'ccg': 3,\n",
       " 'ccc': 1}"
      ]
     },
     "execution_count": 9,
     "metadata": {},
     "output_type": "execute_result"
    }
   ],
   "source": [
    "## BEGIN SOLUTION\n",
    "answers[\"answer_exercise_4\"] = helper.frequency_table(text,3)\n",
    "## END SOLUTION\n",
    "freq_map = helper.frequency_table(text,3)\n",
    "freq_map"
   ]
  },
  {
   "cell_type": "markdown",
   "metadata": {
    "slideshow": {
     "slide_type": "subslide"
    }
   },
   "source": [
    "## A word about packages\n",
    "I try to limit the number of Python packages that you need for this class. They are roughly pandas+numpy and networkx.\n",
    "\n",
    "In your project, you are welcome to use bioinformatics Python and non-Python packages. You are encouraged to do so."
   ]
  },
  {
   "cell_type": "code",
   "execution_count": 10,
   "metadata": {
    "hideCode": false,
    "hidePrompt": false,
    "slideshow": {
     "slide_type": "subslide"
    }
   },
   "outputs": [
    {
     "data": {
      "text/plain": [
       "atc    21\n",
       "tca    17\n",
       "caa    12\n",
       "aat    10\n",
       "atg    15\n",
       "       ..\n",
       "gcg     4\n",
       "ggg     1\n",
       "cga     7\n",
       "ccg     3\n",
       "ccc     1\n",
       "Length: 64, dtype: int64"
      ]
     },
     "execution_count": 10,
     "metadata": {},
     "output_type": "execute_result"
    }
   ],
   "source": [
    "# I'm only using pandas here so the output is presentable,\n",
    "# you can remove it of course and see the full dictionary\n",
    "import pandas as pd\n",
    "pd.Series(helper.frequency_table(text,3))"
   ]
  },
  {
   "cell_type": "markdown",
   "metadata": {
    "hideCode": false,
    "hidePrompt": false,
    "slideshow": {
     "slide_type": "subslide"
    }
   },
   "source": [
    "### Write better frequent words\n",
    "**Exercise 5.** Write a function that finds the frequent patterns using a dictionary/map. \n",
    "* Input: A string ``text`` representing DNA and integer ``k``.\n",
    "* Output: All most frequent *k*-mers in ``text`` and their count.\n",
    "* Requirements: Use your frequency_table function (i.e., use the dictionary)."
   ]
  },
  {
   "cell_type": "code",
   "execution_count": 11,
   "metadata": {
    "hideCode": false,
    "hidePrompt": false,
    "slideshow": {
     "slide_type": "subslide"
    }
   },
   "outputs": [
    {
     "data": {
      "text/plain": [
       "(['atgatcaag', 'ctcttgatc', 'tcttgatca', 'cttgatcat'], 3)"
      ]
     },
     "execution_count": 11,
     "metadata": {},
     "output_type": "execute_result"
    }
   ],
   "source": [
    "## BEGIN SOLUTION\n",
    "answers[\"answer_exercise_5\"] = helper.better_frequent_words(text,9)\n",
    "## END SOLUTION\n",
    "helper.better_frequent_words(text,9)"
   ]
  },
  {
   "cell_type": "markdown",
   "metadata": {
    "hideCode": false,
    "hidePrompt": false,
    "slideshow": {
     "slide_type": "subslide"
    }
   },
   "source": [
    "### Clump Finding Problem\n",
    "* Imagine you are trying to find *ori* in a newly sequenced genome\n",
    "* Old frequent hidden messages won't be useful\n",
    "* One solution is to use a sliding window and look for a region where a $k$-mer appears several times in short succession\n",
    "* For example if TGCA forms a (25,3)-clump then it appears at least 3 times in a window of length 25"
   ]
  },
  {
   "cell_type": "markdown",
   "metadata": {
    "hideCode": false,
    "hidePrompt": false,
    "slideshow": {
     "slide_type": "subslide"
    }
   },
   "source": [
    "Even if we solve the clump finding problem, we still have an issue\n",
    "* Specifically, for the *E. coli* genome we find hundreds of different 9-mers forming (500,3)-clumps\n",
    "* This makes it absolutely unclear which of these 9-mers might represent a DnaA box in the bacterium’s *ori* region.\n",
    "* Please carefully read the sections entitled \"The Simplest Way to Replicate DNA\" and \"Asymmetry of Replication\" in the book. Dig into the biology, but the abstract model/representation we are using in this class does not require you to understand that biology in detail. Chat with me in Slack about what you find confusing and interesting. "
   ]
  },
  {
   "cell_type": "markdown",
   "metadata": {
    "hideCode": false,
    "hidePrompt": false,
    "slideshow": {
     "slide_type": "subslide"
    }
   },
   "source": [
    "### Statistics of the Foward and Reverse Half-Strands\n",
    "The most important consequence for us from the discussion of DNA replication is that we now have four pieces:\n",
    "1. Forward half-strand x 2\n",
    "2. Reverse half-strand x 2\n",
    "\n",
    "<img src=\"http://bioinformaticsalgorithms.com/images/Replication/half_strands.png\" width=400>\n",
    "\n"
   ]
  },
  {
   "cell_type": "markdown",
   "metadata": {
    "hideCode": false,
    "hidePrompt": false,
    "slideshow": {
     "slide_type": "subslide"
    }
   },
   "source": [
    "### Why does this matter?\n",
    "Consider the genome of *Thermotoga petrophila*. If we count the nucleotides in the forward and reverse half strands, then we get the following:\n",
    "\n",
    "<img src=\"http://bioinformaticsalgorithms.com/images/Replication/forward_reverse_nucleotide_counts.png\" width=400>\n",
    "\n",
    "**Notice that the number of C's and G's is different in the reverse and forward half-strand. Why is this?**"
   ]
  },
  {
   "cell_type": "markdown",
   "metadata": {
    "hideCode": false,
    "hidePrompt": false,
    "slideshow": {
     "slide_type": "subslide"
    }
   },
   "source": [
    "Take a minute to read this and then we will discuss together and then we will discuss:\n",
    "\n",
    "\"It turns out that we observe these discrepancies because cytosine (C) has a tendency to mutate into thymine (T) through a process called deamination. Deamination rates rise 100-fold when DNA is single-stranded, which leads to a decrease in cytosine on the forward half-strand. Also, since C-G base pairs eventually change into T-A base pairs, deamination results in the observed decrease in guanine (G) on the reverse half-strand (recall that a forward parent half-strand synthesizes a reverse daughter half-strand, and vice-versa).\" - Bioinformatics Algorithms 3rd Edition\n",
    "\n",
    "For more biology, I like this: https://www.youtube.com/watch?v=Sa1iRB7wAEs&ab_channel=HussainBiology"
   ]
  },
  {
   "cell_type": "markdown",
   "metadata": {
    "hideCode": false,
    "hidePrompt": false,
    "slideshow": {
     "slide_type": "subslide"
    }
   },
   "source": [
    "### Minimum skew problem\n",
    "We can use this statistic to find the *ori*.\n",
    "\n",
    "Our idea is to traverse the genome, keeping a running total of the difference between the counts of G and C. If this difference starts increasing, then we guess we are on the forward half-strand. If this difference starts decreasing, then we guess that we are on the reverse half-strand.\n",
    "\n",
    "\n",
    "<img src=\"http://bioinformaticsalgorithms.com/images/Replication/increasing_decreasing_skew.png\" width=600>\n"
   ]
  },
  {
   "cell_type": "markdown",
   "metadata": {
    "hideCode": false,
    "hidePrompt": false,
    "slideshow": {
     "slide_type": "subslide"
    }
   },
   "source": [
    "We define $Skew_i(Genome)$ as the difference between the total number of occurrences of G and the total number of occurrences of C in the first $i$ nucleotides of Genome. \n",
    "\n",
    "Note that we can compute $Skew_i(Genome)$ incrementally.  \n",
    "\n",
    "If the next nucleotide is G, then $Skew_{i+1}(Genome)$ = $Skew_i(Genome)$ + 1\n",
    "\n",
    "if this nucleotide is C, then $Skew_{i+1}(Genome)$ = $Skew_i(Genome)$ – 1\n",
    "\n",
    "otherwise, $Skew_{i+1}(Genome)$ = $Skew_i(Genome)$."
   ]
  },
  {
   "cell_type": "markdown",
   "metadata": {
    "hideCode": false,
    "hidePrompt": false,
    "slideshow": {
     "slide_type": "subslide"
    }
   },
   "source": [
    "**Exercise 6:** Compute the skew at every position of a Genome\n",
    "\n",
    "Input: A DNA string Genome.\n",
    "\n",
    "Output: An array that computes the $Skew_i(Genome)$. You can assume $Skew_0(Genome)$=0"
   ]
  },
  {
   "cell_type": "markdown",
   "metadata": {
    "hideCode": false,
    "hidePrompt": false,
    "slideshow": {
     "slide_type": "subslide"
    }
   },
   "source": [
    "**Read in the *E coli* genome**"
   ]
  },
  {
   "cell_type": "code",
   "execution_count": 12,
   "metadata": {
    "hideCode": false,
    "hidePrompt": false,
    "slideshow": {
     "slide_type": "fragment"
    }
   },
   "outputs": [],
   "source": [
    "import pandas as pd\n",
    "data = pd.read_table(\"http://bioinformaticsalgorithms.com/data/realdatasets/Rearrangements/E_coli.txt\",header=None)\n",
    "genome = data.values[0,0]"
   ]
  },
  {
   "cell_type": "code",
   "execution_count": 13,
   "metadata": {
    "hideCode": false,
    "hidePrompt": false,
    "slideshow": {
     "slide_type": "subslide"
    }
   },
   "outputs": [],
   "source": [
    "## BEGIN SOLUTION\n",
    "answers[\"answer_exercise_6\"] = helper.skew(genome)\n",
    "## END SOLUTION\n",
    "skews = helper.skew(genome)"
   ]
  },
  {
   "cell_type": "code",
   "execution_count": 14,
   "metadata": {
    "hideCode": false,
    "hidePrompt": false,
    "slideshow": {
     "slide_type": "skip"
    }
   },
   "outputs": [
    {
     "data": {
      "text/plain": [
       "0             0\n",
       "1             0\n",
       "2             1\n",
       "3             0\n",
       "4             0\n",
       "           ... \n",
       "4639671   -2630\n",
       "4639672   -2630\n",
       "4639673   -2630\n",
       "4639674   -2630\n",
       "4639675   -2631\n",
       "Length: 4639676, dtype: int64"
      ]
     },
     "execution_count": 14,
     "metadata": {},
     "output_type": "execute_result"
    }
   ],
   "source": [
    "# Again I'm using pandas because the display would be horrible otherwise.\n",
    "# I will either give you the pandas code or teach you that pandas/numpy code\n",
    "skews = pd.Series(helper.skew(genome))\n",
    "skews"
   ]
  },
  {
   "cell_type": "code",
   "execution_count": 15,
   "metadata": {
    "hideCode": false,
    "hidePrompt": false,
    "slideshow": {
     "slide_type": "subslide"
    }
   },
   "outputs": [
    {
     "data": {
      "text/plain": [
       "Text(0, 0.5, 'Skew')"
      ]
     },
     "execution_count": 15,
     "metadata": {},
     "output_type": "execute_result"
    },
    {
     "data": {
      "image/png": "[encoded data removed]",
      "text/plain": [
       "<Figure size 640x480 with 1 Axes>"
      ]
     },
     "metadata": {},
     "output_type": "display_data"
    }
   ],
   "source": [
    "%matplotlib inline\n",
    "ax=skews.plot.line();\n",
    "ax.set_ylabel('Skew')"
   ]
  },
  {
   "cell_type": "markdown",
   "metadata": {
    "hideCode": false,
    "hidePrompt": false,
    "slideshow": {
     "slide_type": "fragment"
    }
   },
   "source": [
    "Where do you think the *ori* is located?"
   ]
  },
  {
   "cell_type": "code",
   "execution_count": 16,
   "metadata": {
    "hideCode": false,
    "hidePrompt": false,
    "slideshow": {
     "slide_type": "fragment"
    }
   },
   "outputs": [
    {
     "name": "stdout",
     "output_type": "stream",
     "text": [
      "Position: 3923621\n"
     ]
    }
   ],
   "source": [
    "print('Position:',skews.idxmin()+1)"
   ]
  },
  {
   "cell_type": "code",
   "execution_count": 17,
   "metadata": {},
   "outputs": [],
   "source": [
    "## BEGIN SOLUTION\n",
    "joblib.dump(answers,f\"../tests/answers_{NOTEBOOK}.joblib\");\n",
    "## END SOLUTION\n",
    "# Good job!"
   ]
  },
  {
   "cell_type": "markdown",
   "metadata": {},
   "source": [
    "# Test your code"
   ]
  },
  {
   "cell_type": "code",
   "execution_count": 21,
   "metadata": {},
   "outputs": [
    {
     "name": "stdout",
     "output_type": "stream",
     "text": [
      "\u001b[1m============================= test session starts ==============================\u001b[0m\n",
      "platform darwin -- Python 3.9.6, pytest-8.3.3, pluggy-1.5.0\n",
      "rootdir: /Users/pander14/GitHub/csc-448-instructor/tests\n",
      "plugins: anyio-4.6.0\n",
      "collected 6 items\n",
      "\n",
      "test_Topic1.py \u001b[32m.\u001b[0m\u001b[32m.\u001b[0m\u001b[32m.\u001b[0m\u001b[32m.\u001b[0m\u001b[32m.\u001b[0m\u001b[32m.\u001b[0m\u001b[32m                                                    [100%]\u001b[0m\n",
      "\n",
      "\u001b[32m============================== \u001b[32m\u001b[1m6 passed\u001b[0m\u001b[32m in 3.14s\u001b[0m\u001b[32m ===============================\u001b[0m\n"
     ]
    }
   ],
   "source": [
    "%%bash -s \"$USERNAME\"\n",
    "\n",
    "cd csc-448-$1/tests\n",
    "pytest test_Topic1.py"
   ]
  },
  {
   "cell_type": "markdown",
   "metadata": {},
   "source": [
    "# Colab End Section - Submit your code"
   ]
  },
  {
   "cell_type": "code",
   "execution_count": null,
   "metadata": {},
   "outputs": [],
   "source": [
    "%%bash -s \"$USERNAME\"\n",
    "\n",
    "eval \"$(ssh-agent -s)\"\n",
    "\n",
    "ssh-add ~/.ssh/id_ed25519\n",
    "\n",
    "ssh-keyscan -t rsa github.com >> ~/.ssh/known_hosts\n",
    "\n",
    "cd csc-448-$1\n",
    "./command_line_sync.sh"
   ]
  },
  {
   "cell_type": "code",
   "execution_count": null,
   "metadata": {},
   "outputs": [],
   "source": []
  }
 ],
 "metadata": {
  "celltoolbar": "Slideshow",
  "hide_code_all_hidden": false,
  "jupytext": {
   "formats": "ipynb,md,py"
  },
  "kernelspec": {
   "display_name": "Python 3 (ipykernel)",
   "language": "python",
   "name": "python3"
  },
  "language_info": {
   "codemirror_mode": {
    "name": "ipython",
    "version": 3
   },
   "file_extension": ".py",
   "mimetype": "text/x-python",
   "name": "python",
   "nbconvert_exporter": "python",
   "pygments_lexer": "ipython3",
   "version": "3.9.6"
  }
 },
 "nbformat": 4,
 "nbformat_minor": 4
}
