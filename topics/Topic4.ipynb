{
 "cells": [
  {
   "cell_type": "markdown",
   "metadata": {},
   "source": [
    "# Colab Start Section"
   ]
  },
  {
   "cell_type": "markdown",
   "metadata": {},
   "source": [
    "Step 1 is to upload a copy of your private key. I am assuming your private key is named id_ed25519. If that isn't the case, you'll have to make manual changes."
   ]
  },
  {
   "cell_type": "code",
   "execution_count": 20,
   "metadata": {},
   "outputs": [],
   "source": [
    "# Change these of course to what is your email and your GitHub username\n",
    "EMAIL = \"pauleanderson@gmail.com\"\n",
    "USERNAME = \"instructor\""
   ]
  },
  {
   "cell_type": "code",
   "execution_count": null,
   "metadata": {},
   "outputs": [],
   "source": [
    "from google.colab import files\n",
    "uploaded = files.upload()"
   ]
  },
  {
   "cell_type": "code",
   "execution_count": null,
   "metadata": {},
   "outputs": [],
   "source": [
    "%%bash -s \"$EMAIL\" \"$USERNAME\"\n",
    "\n",
    "rm -rf /root/.ssh/*\n",
    "mkdir /root/.ssh\n",
    "\n",
    "mv id_ed25519 /root/.ssh/\n",
    "\n",
    "chmod 600 /root/.ssh/id_ed25519\n",
    "\n",
    "git config --global user.email \"$1\"\n",
    "git config --global user.name \"$2\""
   ]
  },
  {
   "cell_type": "code",
   "execution_count": 2,
   "metadata": {},
   "outputs": [
    {
     "name": "stderr",
     "output_type": "stream",
     "text": [
      "UsageError: Cell magic `%%shell` not found.\n"
     ]
    }
   ],
   "source": [
    "%%bash -s \"$USERNAME\"\n",
    "\n",
    "eval \"$(ssh-agent -s)\"\n",
    "\n",
    "ssh-add ~/.ssh/id_ed25519\n",
    "\n",
    "ssh-keyscan -t rsa github.com >> ~/.ssh/known_hosts\n",
    "\n",
    "git clone git@github.com:anderson-fall-2024/csc-448-$1.git"
   ]
  },
  {
   "cell_type": "markdown",
   "metadata": {
    "slideshow": {
     "slide_type": "slide"
    }
   },
   "source": [
    "# Topic 4 - Which animal gave us SARS?\n",
    "## Secondary Title: Evolutionary Tree Construction\n",
    "\n",
    "Motivation and some exercises are variations on those available in Bioinformatics Algorithms: An Active-Learning Approach by Phillip Compeau & Pavel Pevzner."
   ]
  },
  {
   "cell_type": "markdown",
   "metadata": {
    "slideshow": {
     "slide_type": "subslide"
    }
   },
   "source": [
    "## Learning Outcomes\n",
    "* Understand evolutionary trees and their uses in biology\n",
    "* Apply, analyze, and evaluate evolutionary tree algorithms"
   ]
  },
  {
   "cell_type": "markdown",
   "metadata": {
    "slideshow": {
     "slide_type": "slide"
    }
   },
   "source": [
    "# Fastest Outbreak?"
   ]
  },
  {
   "cell_type": "markdown",
   "metadata": {
    "slideshow": {
     "slide_type": "subslide"
    }
   },
   "source": [
    "## SARS crosses Pacific Ocean within a week\n",
    "* Feb 21, 2003 - Chinese doctor Liu Jianlu flys to Hong Kong to attend a wedding\n",
    "* Two weeks later Dr. Liu Jianlu dies but tells doctors that he recently treated sick patients in Guangdong Province\n",
    "* Feb 23, 2003 - Man staying across the hall from Liu Jianlu travels to Hanoi and dies after infecting 80 people\n",
    "* Feb 26, 2003 - Woman traveled home to Toronto bringing the disease and initiating an outbreak there.\n",
    "\n",
    "* It took 5 years for the Black Death to travel from Constantinople to Kiev\n",
    "* It took HIV two decades to circle the global"
   ]
  },
  {
   "cell_type": "markdown",
   "metadata": {
    "slideshow": {
     "slide_type": "subslide"
    }
   },
   "source": [
    "## Reaction\n",
    "The reaction was immense with Chinese officials threatening to execute infected patients who violated quarantine.\n",
    "\n",
    "If international travel spread the disease then international collaboration would contain it.\n",
    "\n",
    "Within weeks bioligists identified a virus that caused the epdemic and sequences the genome. The new disease earned the name Severe Acute Respiratory Syndrome or SARS\n",
    "\n",
    "<a href=\"https://theconversation.com/the-mysterious-disappearance-of-the-first-sars-virus-and-why-we-need-a-vaccine-for-the-current-one-but-didnt-for-the-other-137583\">Article on SARS and COVID19</a>"
   ]
  },
  {
   "cell_type": "markdown",
   "metadata": {
    "slideshow": {
     "slide_type": "subslide"
    }
   },
   "source": [
    "## Evolution of SARS\n",
    "* SARS belongs to a family of viruses called conoraviruses (named after latin word *corona* meaning crown)\n",
    "* Before SARS the coronaviruses were thought to only cause minor problems like the common cold\n",
    "\n",
    "<table>\n",
    "    <tr>\n",
    "        <td>\n",
    "            <img src=\"http://bioinformaticsalgorithms.com/images/Evolution/coronavirus.png\" width=200>\n",
    "        </td>\n",
    "        <td>\n",
    "            <img src=\"http://bioinformaticsalgorithms.com/images/Evolution/eclipse.png\" width=200>\n",
    "        </td>\n",
    "    </tr>\n",
    "    </table>"
   ]
  },
  {
   "cell_type": "markdown",
   "metadata": {
    "slideshow": {
     "slide_type": "subslide"
    }
   },
   "source": [
    "## Sequencing\n",
    "* By fall 2003, researchers sequenced many strains from patients in various contries\n",
    "* OK ... so we keep talking about sequencing...\n",
    "<center>\n",
    "<img src=\"https://www.genengnews.com/wp-content/uploads/2018/10/Aug23_GEN_Baker_NGSChallenges_GettyImages537618080_ktsimage_DNATestSangerSeq2004017011.jpg\" width=400>\n",
    "</center>\n",
    "* <a href=\"https://www.youtube.com/watch?v=zBPKj0mMcDg&ab_channel=ThermoFisherScientific\">But what are some modern ways to do sequencing?</a>"
   ]
  },
  {
   "cell_type": "markdown",
   "metadata": {
    "slideshow": {
     "slide_type": "subslide"
    }
   },
   "source": [
    "## Questions\n",
    "* How did SARS-CoV cross the species barrier to humans? \n",
    "* When and where did it happen? How did SARS spread around the world, and who infected whom?\n",
    "\n",
    "Each of these questions about SARS is ultimately related to the problem of constructing evolutionary trees (also known as phylogenies). Here is an evolutionary tree for HIV, but what algorithms do we use for this?\n",
    "\n",
    "<img src=\"http://bioinformaticsalgorithms.com/images/Evolution/HIV_phylogeny.png\" width=500>"
   ]
  },
  {
   "cell_type": "markdown",
   "metadata": {
    "slideshow": {
     "slide_type": "slide"
    }
   },
   "source": [
    "# Distance Matrices to Evolutionary Trees\n",
    "* Scientists started sequencing cornonavirus from various species to determine which is most similar to SARS\n",
    "* Comparing (multiple alignment) of entire viral genomes is tricky because viral genes are often rearranged, inserted, and deleted\n",
    "* Scientists focused on one of six genes in SARS-CoV\n",
    "* Gene that encodes Spike protein\n",
    "    * Identifies and binds to receptor site on host's cell membrane\n",
    "    * Spike protein is 1,255 amino acids long and rather weak similarity with Spike proteins in other coronaviruses\n",
    "    * Even subtle similarities turned out to be ssufficient for constructing a multiple alignment (comparison) across coronaviruses"
   ]
  },
  {
   "cell_type": "markdown",
   "metadata": {
    "slideshow": {
     "slide_type": "subslide"
    }
   },
   "source": [
    "## Distance matrix\n",
    "Consider the DNA sequences shown below for 4 different species. \n",
    "<img src=\"http://bioinformaticsalgorithms.com/images/Evolution/mammal_alignment_distance_matrix.png\" width=400>\n",
    "The above example defined a distance matrix of +1 for every mismatched position. In general, $D$ must satisfy three properties. It must be symmetric (for all $i$ and $j$, $D_{i,j}$ = $D_{j,i}$), non-negative (for all $i$ and $j$, $D_{i,j}$ $\\ge$ 0) and satisfy the triangle inequality (for all $i$, $j$, and $k$, $D_{i,j} + D_{j,k} \\ge D_{i,k}$ )."
   ]
  },
  {
   "cell_type": "markdown",
   "metadata": {
    "slideshow": {
     "slide_type": "subslide"
    }
   },
   "source": [
    "<img src=\"http://bioinformaticsalgorithms.com/images/Evolution/tree_of_life.png\" width=700>"
   ]
  },
  {
   "cell_type": "markdown",
   "metadata": {
    "slideshow": {
     "slide_type": "subslide"
    }
   },
   "source": [
    "## Rooted trees\n",
    "<img src=\"http://bioinformaticsalgorithms.com/images/Evolution/rooted_tree_time.png\" width=700>"
   ]
  },
  {
   "cell_type": "markdown",
   "metadata": {
    "slideshow": {
     "slide_type": "subslide"
    }
   },
   "source": [
    "## What are we aiming for?\n",
    "We say that a weighted unooted tree $T$ fits a distance matrix $D$ if $d_{i,j}=D_{i,j}$ for every pair of leaves $i$ and $j$. Example:\n",
    "\n",
    "<img src=\"http://bioinformaticsalgorithms.com/images/Evolution/additive_distance_matrix.png\" width=300>\n",
    "\n",
    "<img src=\"http://bioinformaticsalgorithms.com/images/Evolution/simple_tree_fitting_additive_matrix.png\" width=300>"
   ]
  },
  {
   "cell_type": "markdown",
   "metadata": {
    "slideshow": {
     "slide_type": "slide"
    }
   },
   "source": [
    "## Technical Detour (networkx and pandas): \n",
    "\n",
    "``networkx`` is a very useful Python package. It provides a great visualization for many different applications. In your projects you can use other evolutionary tree tools."
   ]
  },
  {
   "cell_type": "code",
   "execution_count": 21,
   "metadata": {},
   "outputs": [
    {
     "name": "stdout",
     "output_type": "stream",
     "text": [
      "The autoreload extension is already loaded. To reload it, use:\n",
      "  %reload_ext autoreload\n"
     ]
    }
   ],
   "source": [
    "#### NO NEED TO EDIT ####\n",
    "%load_ext autoreload\n",
    "%autoreload 2\n",
    "%matplotlib inline\n",
    "\n",
    "import sys\n",
    "sys.path.insert(0,f\"csc-448-{USERNAME}\")\n",
    "sys.path.insert(0,\"..\")\n",
    "\n",
    "from py448 import Topic4_helper\n",
    "\n",
    "#### NO NEED TO EDIT ####"
   ]
  },
  {
   "cell_type": "code",
   "execution_count": 22,
   "metadata": {
    "slideshow": {
     "slide_type": "subslide"
    }
   },
   "outputs": [],
   "source": [
    "%matplotlib inline \n",
    "\n",
    "import networkx as nx\n",
    "\n",
    "G = nx.Graph()\n",
    "\n",
    "G.add_edge('v1', 'v5', weight=11)\n",
    "G.add_edge('v2', 'v5', weight=2)\n",
    "G.add_edge('v5', 'v6', weight=4)\n",
    "G.add_edge('v6', 'v3', weight=6)\n",
    "G.add_edge('v6', 'v4', weight=7)"
   ]
  },
  {
   "cell_type": "code",
   "execution_count": 23,
   "metadata": {
    "slideshow": {
     "slide_type": "subslide"
    }
   },
   "outputs": [
    {
     "data": {
      "image/png": "[encoded data removed]",
      "text/plain": [
       "<Figure size 1000x500 with 1 Axes>"
      ]
     },
     "metadata": {},
     "output_type": "display_data"
    }
   ],
   "source": [
    "Topic4_helper.show(G)"
   ]
  },
  {
   "cell_type": "code",
   "execution_count": 24,
   "metadata": {
    "slideshow": {
     "slide_type": "subslide"
    }
   },
   "outputs": [
    {
     "data": {
      "text/html": [
       "<div>\n",
       "<style scoped>\n",
       "    .dataframe tbody tr th:only-of-type {\n",
       "        vertical-align: middle;\n",
       "    }\n",
       "\n",
       "    .dataframe tbody tr th {\n",
       "        vertical-align: top;\n",
       "    }\n",
       "\n",
       "    .dataframe thead th {\n",
       "        text-align: right;\n",
       "    }\n",
       "</style>\n",
       "<table border=\"1\" class=\"dataframe\">\n",
       "  <thead>\n",
       "    <tr style=\"text-align: right;\">\n",
       "      <th></th>\n",
       "      <th>v1</th>\n",
       "      <th>v5</th>\n",
       "      <th>v2</th>\n",
       "      <th>v6</th>\n",
       "      <th>v3</th>\n",
       "      <th>v4</th>\n",
       "    </tr>\n",
       "  </thead>\n",
       "  <tbody>\n",
       "    <tr>\n",
       "      <th>v1</th>\n",
       "      <td>0</td>\n",
       "      <td>11</td>\n",
       "      <td>0</td>\n",
       "      <td>0</td>\n",
       "      <td>0</td>\n",
       "      <td>0</td>\n",
       "    </tr>\n",
       "    <tr>\n",
       "      <th>v5</th>\n",
       "      <td>11</td>\n",
       "      <td>0</td>\n",
       "      <td>2</td>\n",
       "      <td>4</td>\n",
       "      <td>0</td>\n",
       "      <td>0</td>\n",
       "    </tr>\n",
       "    <tr>\n",
       "      <th>v2</th>\n",
       "      <td>0</td>\n",
       "      <td>2</td>\n",
       "      <td>0</td>\n",
       "      <td>0</td>\n",
       "      <td>0</td>\n",
       "      <td>0</td>\n",
       "    </tr>\n",
       "    <tr>\n",
       "      <th>v6</th>\n",
       "      <td>0</td>\n",
       "      <td>4</td>\n",
       "      <td>0</td>\n",
       "      <td>0</td>\n",
       "      <td>6</td>\n",
       "      <td>7</td>\n",
       "    </tr>\n",
       "    <tr>\n",
       "      <th>v3</th>\n",
       "      <td>0</td>\n",
       "      <td>0</td>\n",
       "      <td>0</td>\n",
       "      <td>6</td>\n",
       "      <td>0</td>\n",
       "      <td>0</td>\n",
       "    </tr>\n",
       "    <tr>\n",
       "      <th>v4</th>\n",
       "      <td>0</td>\n",
       "      <td>0</td>\n",
       "      <td>0</td>\n",
       "      <td>7</td>\n",
       "      <td>0</td>\n",
       "      <td>0</td>\n",
       "    </tr>\n",
       "  </tbody>\n",
       "</table>\n",
       "</div>"
      ],
      "text/plain": [
       "    v1  v5  v2  v6  v3  v4\n",
       "v1   0  11   0   0   0   0\n",
       "v5  11   0   2   4   0   0\n",
       "v2   0   2   0   0   0   0\n",
       "v6   0   4   0   0   6   7\n",
       "v3   0   0   0   6   0   0\n",
       "v4   0   0   0   7   0   0"
      ]
     },
     "execution_count": 24,
     "metadata": {},
     "output_type": "execute_result"
    }
   ],
   "source": [
    "Topic4_helper.show_adj(G)"
   ]
  },
  {
   "cell_type": "markdown",
   "metadata": {
    "slideshow": {
     "slide_type": "slide"
    }
   },
   "source": [
    "## Into the algorithms"
   ]
  },
  {
   "cell_type": "markdown",
   "metadata": {
    "slideshow": {
     "slide_type": "subslide"
    }
   },
   "source": [
    "## Let's talk about a given graph and neighboring leaves\n",
    "<br>\n",
    "<center>\n",
    "${\\color{red}{d_{k,m}}} = \\dfrac{({\\color{purple}{d_{i,m}}} + {\\color{red}{d_{k,m}}}) + ({\\color{blue}{d_{j,m}}} + {\\color{red}{d_{k,m}}}) - ({\\color{purple}{d_{i,m}}} + {\\color{blue}{d_{j,m}}})}{2} = \\dfrac{d_{i,k} +d_{j,k} - d_{i,j}}{2}$\n",
    "\n",
    "<img src=\"http://bioinformaticsalgorithms.com/images/Evolution/neighboring_leaves_equality.png\" width=500>\n",
    "</center>"
   ]
  },
  {
   "cell_type": "markdown",
   "metadata": {
    "slideshow": {
     "slide_type": "subslide"
    }
   },
   "source": [
    "**Exercise 1** Compute the distances between leaves in a weighted tree\n",
    "\n",
    "Input: A weighted tree defined by the package networkx\n",
    "\n",
    "Output: $n \\times n$ matrix ($d_{i,j}$), where $d_{i,j}$ is the length of the path between leaves $i$ and $j$.\n",
    "\n",
    "Learning objectives:\n",
    "1. Refresh memory of graph traversal (path finding)\n",
    "2. Understand the difference between $d_{i,j}$ and $D_{i,j}$.\n",
    "3. Gain exposure and work with networkx python package."
   ]
  },
  {
   "cell_type": "code",
   "execution_count": 25,
   "metadata": {
    "slideshow": {
     "slide_type": "subslide"
    }
   },
   "outputs": [
    {
     "data": {
      "text/html": [
       "<div>\n",
       "<style scoped>\n",
       "    .dataframe tbody tr th:only-of-type {\n",
       "        vertical-align: middle;\n",
       "    }\n",
       "\n",
       "    .dataframe tbody tr th {\n",
       "        vertical-align: top;\n",
       "    }\n",
       "\n",
       "    .dataframe thead th {\n",
       "        text-align: right;\n",
       "    }\n",
       "</style>\n",
       "<table border=\"1\" class=\"dataframe\">\n",
       "  <thead>\n",
       "    <tr style=\"text-align: right;\">\n",
       "      <th></th>\n",
       "      <th>v1</th>\n",
       "      <th>v2</th>\n",
       "      <th>v3</th>\n",
       "      <th>v4</th>\n",
       "      <th>v5</th>\n",
       "      <th>v6</th>\n",
       "    </tr>\n",
       "  </thead>\n",
       "  <tbody>\n",
       "    <tr>\n",
       "      <th>v1</th>\n",
       "      <td>0</td>\n",
       "      <td>13</td>\n",
       "      <td>21</td>\n",
       "      <td>22</td>\n",
       "      <td>11</td>\n",
       "      <td>15</td>\n",
       "    </tr>\n",
       "    <tr>\n",
       "      <th>v2</th>\n",
       "      <td>13</td>\n",
       "      <td>0</td>\n",
       "      <td>12</td>\n",
       "      <td>13</td>\n",
       "      <td>2</td>\n",
       "      <td>6</td>\n",
       "    </tr>\n",
       "    <tr>\n",
       "      <th>v3</th>\n",
       "      <td>21</td>\n",
       "      <td>12</td>\n",
       "      <td>0</td>\n",
       "      <td>13</td>\n",
       "      <td>10</td>\n",
       "      <td>6</td>\n",
       "    </tr>\n",
       "    <tr>\n",
       "      <th>v4</th>\n",
       "      <td>22</td>\n",
       "      <td>13</td>\n",
       "      <td>13</td>\n",
       "      <td>0</td>\n",
       "      <td>11</td>\n",
       "      <td>7</td>\n",
       "    </tr>\n",
       "    <tr>\n",
       "      <th>v5</th>\n",
       "      <td>11</td>\n",
       "      <td>2</td>\n",
       "      <td>10</td>\n",
       "      <td>11</td>\n",
       "      <td>0</td>\n",
       "      <td>4</td>\n",
       "    </tr>\n",
       "    <tr>\n",
       "      <th>v6</th>\n",
       "      <td>15</td>\n",
       "      <td>6</td>\n",
       "      <td>6</td>\n",
       "      <td>7</td>\n",
       "      <td>4</td>\n",
       "      <td>0</td>\n",
       "    </tr>\n",
       "  </tbody>\n",
       "</table>\n",
       "</div>"
      ],
      "text/plain": [
       "    v1  v2  v3  v4  v5  v6\n",
       "v1   0  13  21  22  11  15\n",
       "v2  13   0  12  13   2   6\n",
       "v3  21  12   0  13  10   6\n",
       "v4  22  13  13   0  11   7\n",
       "v5  11   2  10  11   0   4\n",
       "v6  15   6   6   7   4   0"
      ]
     },
     "execution_count": 25,
     "metadata": {},
     "output_type": "execute_result"
    }
   ],
   "source": [
    "r = Topic4_helper.compute_d(G)\n",
    "r"
   ]
  },
  {
   "cell_type": "markdown",
   "metadata": {
    "slideshow": {
     "slide_type": "subslide"
    }
   },
   "source": [
    "## What if you need to find the graph?\n",
    "<img src=\"http://bioinformaticsalgorithms.com/images/Evolution/additive_phylogeny.png\" width=450>"
   ]
  },
  {
   "cell_type": "markdown",
   "metadata": {
    "slideshow": {
     "slide_type": "subslide"
    }
   },
   "source": [
    "**Exercise 2** Implement limb length algorightm.\n",
    "\n",
    "Input: An addititve distance matrix $D$ and a node $j$\n",
    "\n",
    "Output: The length of the limb connect leaf $j$ to its parent in $Tree(D)$.\n",
    "\n",
    "Learning outcomes:\n",
    "1. Understanding why this function is needed when we just computed the paths weights previously.\n",
    "2. Understanding the Limb Length Theorem in Chapter 7."
   ]
  },
  {
   "cell_type": "code",
   "execution_count": 26,
   "metadata": {
    "slideshow": {
     "slide_type": "subslide"
    }
   },
   "outputs": [
    {
     "name": "stdout",
     "output_type": "stream",
     "text": [
      "    v1  v2  v3  v4\n",
      "v1   0  13  21  22\n",
      "v2  13   0  12  13\n",
      "v3  21  12   0  13\n",
      "v4  22  13  13   0\n"
     ]
    },
    {
     "data": {
      "text/plain": [
       "np.float64(7.0)"
      ]
     },
     "execution_count": 26,
     "metadata": {},
     "output_type": "execute_result"
    }
   ],
   "source": [
    "import pandas as pd\n",
    "\n",
    "names = [\"v1\",\"v2\",\"v3\",\"v4\"]\n",
    "D = pd.DataFrame([[0,13,21,22],[13,0,12,13],[21,12,0,13],[22,13,13,0]],index=names,columns=names)\n",
    "print(D)\n",
    "r = Topic4_helper.limb(D,\"v4\")\n",
    "r"
   ]
  },
  {
   "cell_type": "markdown",
   "metadata": {
    "slideshow": {
     "slide_type": "subslide"
    }
   },
   "source": [
    "## Building up additive phylogeny\n",
    "One piece at a time... First thing will be to find out where we could insert a noode.\n",
    "\n",
    "Learning outcomes:\n",
    "1. Using recursion and by extension debugging recursion\n",
    "2. Understand additive versus non-additive $D$\n",
    "3. Constructing our first evolutionary tree"
   ]
  },
  {
   "cell_type": "markdown",
   "metadata": {
    "slideshow": {
     "slide_type": "subslide"
    }
   },
   "source": [
    "**Exercise 3** Implement a portion of ``AdditivePhylogeny`` algorithm from Chapter 7.\n",
    "\n",
    "Input: Distance matrix $D$ and node name $n$.\n",
    "\n",
    "Output: Return the node names $i,k$ that satisfy $D_{i,k} = D_{i,n} + D_{n,k}$. In other words, where can you insert $n$ back in."
   ]
  },
  {
   "cell_type": "code",
   "execution_count": 27,
   "metadata": {
    "slideshow": {
     "slide_type": "skip"
    }
   },
   "outputs": [],
   "source": [
    "import copy\n",
    "Dorig = copy.copy(D)"
   ]
  },
  {
   "cell_type": "code",
   "execution_count": 28,
   "metadata": {
    "slideshow": {
     "slide_type": "subslide"
    }
   },
   "outputs": [
    {
     "name": "stdout",
     "output_type": "stream",
     "text": [
      "Starting D\n",
      "    v1  v2  v3  v4\n",
      "v1   0  13  21  22\n",
      "v2  13   0  12  13\n",
      "v3  21  12   0  13\n",
      "v4  22  13  13   0\n",
      "Node to remove: v4\n",
      "New D\n",
      "    v1  v2  v3  v4\n",
      "v1   0  13  21  15\n",
      "v2  13   0  12   6\n",
      "v3  21  12   0   6\n",
      "v4  15   6   6   0\n",
      "v4\n"
     ]
    },
    {
     "data": {
      "text/plain": [
       "('v1', 'v3')"
      ]
     },
     "execution_count": 28,
     "metadata": {},
     "output_type": "execute_result"
    }
   ],
   "source": [
    "D = copy.copy(Dorig)\n",
    "print(\"Starting D\")\n",
    "print(D)\n",
    "limbLength = Topic4_helper.limb(D,D.index[-1]) # our algorithm will choose the last node\n",
    "n = D.index[-1]\n",
    "print(\"Node to remove:\",n)\n",
    "Dtrimmed = D.drop(n).drop(n,axis=1)\n",
    "for j in Dtrimmed.index:\n",
    "    D.loc[j,n] = D.loc[j,n] - limbLength\n",
    "    D.loc[n,j] = D.loc[j,n]\n",
    "print(\"New D\")\n",
    "print(D)\n",
    "print(n)\n",
    "r = Topic4_helper.find(D,n)\n",
    "r"
   ]
  },
  {
   "cell_type": "markdown",
   "metadata": {},
   "source": [
    "**Exercise 4 and 5** Implement of ``AdditivePhylogeny`` algorithm from Chapter 7.\n",
    "\n",
    "Input: Distance matrix $D$.\n",
    "\n",
    "Output: Return a networkx graph with the correct weight."
   ]
  },
  {
   "cell_type": "code",
   "execution_count": 29,
   "metadata": {},
   "outputs": [
    {
     "data": {
      "image/png": "[encoded data removed]",
      "text/plain": [
       "<Figure size 1000x500 with 1 Axes>"
      ]
     },
     "metadata": {},
     "output_type": "display_data"
    }
   ],
   "source": [
    "base_G = Topic4_helper.base_case(D.iloc[:2,:].iloc[:,:2])\n",
    "Topic4_helper.show(base_G)"
   ]
  },
  {
   "cell_type": "code",
   "execution_count": 39,
   "metadata": {
    "slideshow": {
     "slide_type": "subslide"
    }
   },
   "outputs": [
    {
     "name": "stdout",
     "output_type": "stream",
     "text": [
      "\n",
      "Node we are adding v3\n",
      "Limb Length 10.0\n",
      "New number: 6\n",
      "Dtrimmed\n",
      "    v1  v2  v3\n",
      "v1   0  13  11\n",
      "v2  13   0   2\n",
      "v3  11   2   0\n",
      "Start\n",
      "    v1  v2\n",
      "v1   0  13\n",
      "v2  13   0\n",
      "End\n",
      "      v1   v2    v6    v3\n",
      "v1   0.0  0.0  11.0   0.0\n",
      "v2   0.0  0.0   2.0   0.0\n",
      "v6  11.0  2.0   0.0  10.0\n",
      "v3   0.0  0.0  10.0   0.0\n",
      "\n",
      "Node we are adding v4\n",
      "Limb Length 7.0\n",
      "New number: 5\n",
      "Dtrimmed\n",
      "    v1  v2  v3  v4\n",
      "v1   0  13  21  15\n",
      "v2  13   0  12   6\n",
      "v3  21  12   0   6\n",
      "v4  15   6   6   0\n",
      "Start\n",
      "      v1   v2    v6    v3\n",
      "v1   0.0  0.0  11.0   0.0\n",
      "v2   0.0  0.0   2.0   0.0\n",
      "v6  11.0  2.0   0.0  10.0\n",
      "v3   0.0  0.0  10.0   0.0\n",
      "End\n",
      "      v1   v2    v6   v3   v5   v4\n",
      "v1   0.0  0.0  11.0  0.0  0.0  0.0\n",
      "v2   0.0  0.0   2.0  0.0  0.0  0.0\n",
      "v6  11.0  2.0   0.0  0.0  4.0  0.0\n",
      "v3   0.0  0.0   0.0  0.0  6.0  0.0\n",
      "v5   0.0  0.0   4.0  6.0  0.0  7.0\n",
      "v4   0.0  0.0   0.0  0.0  7.0  0.0\n"
     ]
    },
    {
     "data": {
      "image/png": "[encoded data removed]",
      "text/plain": [
       "<Figure size 1000x500 with 1 Axes>"
      ]
     },
     "metadata": {},
     "output_type": "display_data"
    }
   ],
   "source": [
    "D = copy.copy(Dorig)\n",
    "G2 = Topic4_helper.additive_phylogeny(D,len(D)+1)\n",
    "Topic4_helper.show(G2)"
   ]
  },
  {
   "cell_type": "markdown",
   "metadata": {
    "slideshow": {
     "slide_type": "subslide"
    }
   },
   "source": [
    "**Exercise 6.** Run your new algorithm on SARS data derived from multiple alignment of Spike proteins."
   ]
  },
  {
   "cell_type": "code",
   "execution_count": 33,
   "metadata": {
    "slideshow": {
     "slide_type": "subslide"
    }
   },
   "outputs": [
    {
     "name": "stdout",
     "output_type": "stream",
     "text": [
      "Opening ../data/coronavirus_distance_matrix_additive.txt\n"
     ]
    },
    {
     "data": {
      "text/html": [
       "<div>\n",
       "<style scoped>\n",
       "    .dataframe tbody tr th:only-of-type {\n",
       "        vertical-align: middle;\n",
       "    }\n",
       "\n",
       "    .dataframe tbody tr th {\n",
       "        vertical-align: top;\n",
       "    }\n",
       "\n",
       "    .dataframe thead th {\n",
       "        text-align: right;\n",
       "    }\n",
       "</style>\n",
       "<table border=\"1\" class=\"dataframe\">\n",
       "  <thead>\n",
       "    <tr style=\"text-align: right;\">\n",
       "      <th></th>\n",
       "      <th>Cow</th>\n",
       "      <th>Pig</th>\n",
       "      <th>Horse</th>\n",
       "      <th>Mouse</th>\n",
       "      <th>Dog</th>\n",
       "      <th>Cat</th>\n",
       "      <th>Turkey</th>\n",
       "      <th>Civet</th>\n",
       "      <th>Human</th>\n",
       "    </tr>\n",
       "  </thead>\n",
       "  <tbody>\n",
       "    <tr>\n",
       "      <th>Cow</th>\n",
       "      <td>0</td>\n",
       "      <td>295</td>\n",
       "      <td>306</td>\n",
       "      <td>497</td>\n",
       "      <td>1081</td>\n",
       "      <td>1091</td>\n",
       "      <td>1003</td>\n",
       "      <td>956</td>\n",
       "      <td>954</td>\n",
       "    </tr>\n",
       "    <tr>\n",
       "      <th>Pig</th>\n",
       "      <td>295</td>\n",
       "      <td>0</td>\n",
       "      <td>309</td>\n",
       "      <td>500</td>\n",
       "      <td>1084</td>\n",
       "      <td>1094</td>\n",
       "      <td>1006</td>\n",
       "      <td>959</td>\n",
       "      <td>957</td>\n",
       "    </tr>\n",
       "    <tr>\n",
       "      <th>Horse</th>\n",
       "      <td>306</td>\n",
       "      <td>309</td>\n",
       "      <td>0</td>\n",
       "      <td>489</td>\n",
       "      <td>1073</td>\n",
       "      <td>1083</td>\n",
       "      <td>995</td>\n",
       "      <td>948</td>\n",
       "      <td>946</td>\n",
       "    </tr>\n",
       "    <tr>\n",
       "      <th>Mouse</th>\n",
       "      <td>497</td>\n",
       "      <td>500</td>\n",
       "      <td>489</td>\n",
       "      <td>0</td>\n",
       "      <td>1092</td>\n",
       "      <td>1102</td>\n",
       "      <td>1014</td>\n",
       "      <td>967</td>\n",
       "      <td>965</td>\n",
       "    </tr>\n",
       "    <tr>\n",
       "      <th>Dog</th>\n",
       "      <td>1081</td>\n",
       "      <td>1084</td>\n",
       "      <td>1073</td>\n",
       "      <td>1092</td>\n",
       "      <td>0</td>\n",
       "      <td>818</td>\n",
       "      <td>1056</td>\n",
       "      <td>1053</td>\n",
       "      <td>1051</td>\n",
       "    </tr>\n",
       "    <tr>\n",
       "      <th>Cat</th>\n",
       "      <td>1091</td>\n",
       "      <td>1094</td>\n",
       "      <td>1083</td>\n",
       "      <td>1102</td>\n",
       "      <td>818</td>\n",
       "      <td>0</td>\n",
       "      <td>1066</td>\n",
       "      <td>1063</td>\n",
       "      <td>1061</td>\n",
       "    </tr>\n",
       "    <tr>\n",
       "      <th>Turkey</th>\n",
       "      <td>1003</td>\n",
       "      <td>1006</td>\n",
       "      <td>995</td>\n",
       "      <td>1014</td>\n",
       "      <td>1056</td>\n",
       "      <td>1066</td>\n",
       "      <td>0</td>\n",
       "      <td>975</td>\n",
       "      <td>973</td>\n",
       "    </tr>\n",
       "    <tr>\n",
       "      <th>Civet</th>\n",
       "      <td>956</td>\n",
       "      <td>959</td>\n",
       "      <td>948</td>\n",
       "      <td>967</td>\n",
       "      <td>1053</td>\n",
       "      <td>1063</td>\n",
       "      <td>975</td>\n",
       "      <td>0</td>\n",
       "      <td>16</td>\n",
       "    </tr>\n",
       "    <tr>\n",
       "      <th>Human</th>\n",
       "      <td>954</td>\n",
       "      <td>957</td>\n",
       "      <td>946</td>\n",
       "      <td>965</td>\n",
       "      <td>1051</td>\n",
       "      <td>1061</td>\n",
       "      <td>973</td>\n",
       "      <td>16</td>\n",
       "      <td>0</td>\n",
       "    </tr>\n",
       "  </tbody>\n",
       "</table>\n",
       "</div>"
      ],
      "text/plain": [
       "         Cow   Pig  Horse  Mouse   Dog   Cat  Turkey  Civet  Human\n",
       "Cow        0   295    306    497  1081  1091    1003    956    954\n",
       "Pig      295     0    309    500  1084  1094    1006    959    957\n",
       "Horse    306   309      0    489  1073  1083     995    948    946\n",
       "Mouse    497   500    489      0  1092  1102    1014    967    965\n",
       "Dog     1081  1084   1073   1092     0   818    1056   1053   1051\n",
       "Cat     1091  1094   1083   1102   818     0    1066   1063   1061\n",
       "Turkey  1003  1006    995   1014  1056  1066       0    975    973\n",
       "Civet    956   959    948    967  1053  1063     975      0     16\n",
       "Human    954   957    946    965  1051  1061     973     16      0"
      ]
     },
     "execution_count": 33,
     "metadata": {},
     "output_type": "execute_result"
    }
   ],
   "source": [
    "import os.path\n",
    "\n",
    "file = None\n",
    "locations = [f'csc-448-{USERNAME}/data/coronavirus_distance_matrix_additive.txt',f'csc-448-{USERNAME}/csc-448-student/data/coronavirus_distance_matrix_additive.txt']\n",
    "for f in locations:\n",
    "    if os.path.isfile(f):\n",
    "        file = f\n",
    "        break\n",
    "print('Opening',file)\n",
    "D_sars = pd.read_csv(file,index_col=0)\n",
    "D_sars"
   ]
  },
  {
   "cell_type": "code",
   "execution_count": 44,
   "metadata": {
    "slideshow": {
     "slide_type": "subslide"
    }
   },
   "outputs": [
    {
     "name": "stdout",
     "output_type": "stream",
     "text": [
      "\n",
      "Node we are adding Horse\n",
      "Limb Length 160.0\n",
      "New number: 16\n",
      "Dtrimmed\n",
      "       Cow  Pig  Horse\n",
      "Cow      0  295    146\n",
      "Pig    295    0    149\n",
      "Horse  146  149      0\n",
      "Start\n",
      "     Cow  Pig\n",
      "Cow    0  295\n",
      "Pig  295    0\n",
      "End\n",
      "         Cow    Pig    v16  Horse\n",
      "Cow      0.0    0.0  146.0    0.0\n",
      "Pig      0.0    0.0  149.0    0.0\n",
      "v16    146.0  149.0    0.0  160.0\n",
      "Horse    0.0    0.0  160.0    0.0\n",
      "\n",
      "Node we are adding Mouse\n",
      "Limb Length 340.0\n",
      "New number: 15\n",
      "Dtrimmed\n",
      "       Cow  Pig  Horse  Mouse\n",
      "Cow      0  295    306    157\n",
      "Pig    295    0    309    160\n",
      "Horse  306  309      0    149\n",
      "Mouse  157  160    149      0\n",
      "Start\n",
      "         Cow    Pig    v16  Horse\n",
      "Cow      0.0    0.0  146.0    0.0\n",
      "Pig      0.0    0.0  149.0    0.0\n",
      "v16    146.0  149.0    0.0  160.0\n",
      "Horse    0.0    0.0  160.0    0.0\n",
      "End\n",
      "         Cow    Pig    v16  Horse    v15  Mouse\n",
      "Cow      0.0    0.0  146.0    0.0    0.0    0.0\n",
      "Pig      0.0    0.0  149.0    0.0    0.0    0.0\n",
      "v16    146.0  149.0    0.0    0.0   11.0    0.0\n",
      "Horse    0.0    0.0    0.0    0.0  149.0    0.0\n",
      "v15      0.0    0.0   11.0  149.0    0.0  340.0\n",
      "Mouse    0.0    0.0    0.0    0.0  340.0    0.0\n",
      "\n",
      "Node we are adding Dog\n",
      "Limb Length 838.0\n",
      "New number: 14\n",
      "Dtrimmed\n",
      "       Cow  Pig  Horse  Mouse  Dog\n",
      "Cow      0  295    306    497  243\n",
      "Pig    295    0    309    500  246\n",
      "Horse  306  309      0    489  235\n",
      "Mouse  497  500    489      0  254\n",
      "Dog    243  246    235    254    0\n",
      "Start\n",
      "         Cow    Pig    v16  Horse    v15  Mouse\n",
      "Cow      0.0    0.0  146.0    0.0    0.0    0.0\n",
      "Pig      0.0    0.0  149.0    0.0    0.0    0.0\n",
      "v16    146.0  149.0    0.0    0.0   11.0    0.0\n",
      "Horse    0.0    0.0    0.0    0.0  149.0    0.0\n",
      "v15      0.0    0.0   11.0  149.0    0.0  340.0\n",
      "Mouse    0.0    0.0    0.0    0.0  340.0    0.0\n",
      "End\n",
      "         Cow    Pig    v16  Horse    v15  Mouse    v14    Dog\n",
      "Cow      0.0    0.0  146.0    0.0    0.0    0.0    0.0    0.0\n",
      "Pig      0.0    0.0  149.0    0.0    0.0    0.0    0.0    0.0\n",
      "v16    146.0  149.0    0.0    0.0   11.0    0.0    0.0    0.0\n",
      "Horse    0.0    0.0    0.0    0.0  149.0    0.0    0.0    0.0\n",
      "v15      0.0    0.0   11.0  149.0    0.0    0.0   86.0    0.0\n",
      "Mouse    0.0    0.0    0.0    0.0    0.0    0.0  254.0    0.0\n",
      "v14      0.0    0.0    0.0    0.0   86.0  254.0    0.0  838.0\n",
      "Dog      0.0    0.0    0.0    0.0    0.0    0.0  838.0    0.0\n",
      "\n",
      "Node we are adding Cat\n",
      "Limb Length 414.0\n",
      "New number: 13\n",
      "Dtrimmed\n",
      "        Cow   Pig  Horse  Mouse   Dog  Cat\n",
      "Cow       0   295    306    497  1081  677\n",
      "Pig     295     0    309    500  1084  680\n",
      "Horse   306   309      0    489  1073  669\n",
      "Mouse   497   500    489      0  1092  688\n",
      "Dog    1081  1084   1073   1092     0  404\n",
      "Cat     677   680    669    688   404    0\n",
      "Start\n",
      "         Cow    Pig    v16  Horse    v15  Mouse    v14    Dog\n",
      "Cow      0.0    0.0  146.0    0.0    0.0    0.0    0.0    0.0\n",
      "Pig      0.0    0.0  149.0    0.0    0.0    0.0    0.0    0.0\n",
      "v16    146.0  149.0    0.0    0.0   11.0    0.0    0.0    0.0\n",
      "Horse    0.0    0.0    0.0    0.0  149.0    0.0    0.0    0.0\n",
      "v15      0.0    0.0   11.0  149.0    0.0    0.0   86.0    0.0\n",
      "Mouse    0.0    0.0    0.0    0.0    0.0    0.0  254.0    0.0\n",
      "v14      0.0    0.0    0.0    0.0   86.0  254.0    0.0  838.0\n",
      "Dog      0.0    0.0    0.0    0.0    0.0    0.0  838.0    0.0\n",
      "End\n",
      "         Cow    Pig    v16  Horse    v15  Mouse    v14    Dog    v13    Cat\n",
      "Cow      0.0    0.0  146.0    0.0    0.0    0.0    0.0    0.0    0.0    0.0\n",
      "Pig      0.0    0.0  149.0    0.0    0.0    0.0    0.0    0.0    0.0    0.0\n",
      "v16    146.0  149.0    0.0    0.0   11.0    0.0    0.0    0.0    0.0    0.0\n",
      "Horse    0.0    0.0    0.0    0.0  149.0    0.0    0.0    0.0    0.0    0.0\n",
      "v15      0.0    0.0   11.0  149.0    0.0    0.0   86.0    0.0    0.0    0.0\n",
      "Mouse    0.0    0.0    0.0    0.0    0.0    0.0  254.0    0.0    0.0    0.0\n",
      "v14      0.0    0.0    0.0    0.0   86.0  254.0    0.0    0.0  434.0    0.0\n",
      "Dog      0.0    0.0    0.0    0.0    0.0    0.0    0.0    0.0  404.0    0.0\n",
      "v13      0.0    0.0    0.0    0.0    0.0    0.0  434.0  404.0    0.0  414.0\n",
      "Cat      0.0    0.0    0.0    0.0    0.0    0.0    0.0    0.0  414.0    0.0\n",
      "\n",
      "Node we are adding Turkey\n",
      "Limb Length 489.0\n",
      "New number: 12\n",
      "Dtrimmed\n",
      "         Cow   Pig  Horse  Mouse   Dog   Cat  Turkey\n",
      "Cow        0   295    306    497  1081  1091     514\n",
      "Pig      295     0    309    500  1084  1094     517\n",
      "Horse    306   309      0    489  1073  1083     506\n",
      "Mouse    497   500    489      0  1092  1102     525\n",
      "Dog     1081  1084   1073   1092     0   818     567\n",
      "Cat     1091  1094   1083   1102   818     0     577\n",
      "Turkey   514   517    506    525   567   577       0\n",
      "Start\n",
      "         Cow    Pig    v16  Horse    v15  Mouse    v14    Dog    v13    Cat\n",
      "Cow      0.0    0.0  146.0    0.0    0.0    0.0    0.0    0.0    0.0    0.0\n",
      "Pig      0.0    0.0  149.0    0.0    0.0    0.0    0.0    0.0    0.0    0.0\n",
      "v16    146.0  149.0    0.0    0.0   11.0    0.0    0.0    0.0    0.0    0.0\n",
      "Horse    0.0    0.0    0.0    0.0  149.0    0.0    0.0    0.0    0.0    0.0\n",
      "v15      0.0    0.0   11.0  149.0    0.0    0.0   86.0    0.0    0.0    0.0\n",
      "Mouse    0.0    0.0    0.0    0.0    0.0    0.0  254.0    0.0    0.0    0.0\n",
      "v14      0.0    0.0    0.0    0.0   86.0  254.0    0.0    0.0  434.0    0.0\n",
      "Dog      0.0    0.0    0.0    0.0    0.0    0.0    0.0    0.0  404.0    0.0\n",
      "v13      0.0    0.0    0.0    0.0    0.0    0.0  434.0  404.0    0.0  414.0\n",
      "Cat      0.0    0.0    0.0    0.0    0.0    0.0    0.0    0.0  414.0    0.0\n",
      "End\n",
      "          Cow    Pig    v16  Horse    v15  Mouse    v14    Dog    v13    Cat  \\\n",
      "Cow       0.0    0.0  146.0    0.0    0.0    0.0    0.0    0.0    0.0    0.0   \n",
      "Pig       0.0    0.0  149.0    0.0    0.0    0.0    0.0    0.0    0.0    0.0   \n",
      "v16     146.0  149.0    0.0    0.0   11.0    0.0    0.0    0.0    0.0    0.0   \n",
      "Horse     0.0    0.0    0.0    0.0  149.0    0.0    0.0    0.0    0.0    0.0   \n",
      "v15       0.0    0.0   11.0  149.0    0.0    0.0   86.0    0.0    0.0    0.0   \n",
      "Mouse     0.0    0.0    0.0    0.0    0.0    0.0  254.0    0.0    0.0    0.0   \n",
      "v14       0.0    0.0    0.0    0.0   86.0  254.0    0.0    0.0    0.0    0.0   \n",
      "Dog       0.0    0.0    0.0    0.0    0.0    0.0    0.0    0.0  404.0    0.0   \n",
      "v13       0.0    0.0    0.0    0.0    0.0    0.0    0.0  404.0    0.0  414.0   \n",
      "Cat       0.0    0.0    0.0    0.0    0.0    0.0    0.0    0.0  414.0    0.0   \n",
      "v12       0.0    0.0    0.0    0.0    0.0    0.0  271.0    0.0  163.0    0.0   \n",
      "Turkey    0.0    0.0    0.0    0.0    0.0    0.0    0.0    0.0    0.0    0.0   \n",
      "\n",
      "          v12  Turkey  \n",
      "Cow       0.0     0.0  \n",
      "Pig       0.0     0.0  \n",
      "v16       0.0     0.0  \n",
      "Horse     0.0     0.0  \n",
      "v15       0.0     0.0  \n",
      "Mouse     0.0     0.0  \n",
      "v14     271.0     0.0  \n",
      "Dog       0.0     0.0  \n",
      "v13     163.0     0.0  \n",
      "Cat       0.0     0.0  \n",
      "v12       0.0   489.0  \n",
      "Turkey  489.0     0.0  \n",
      "\n",
      "Node we are adding Civet\n",
      "Limb Length 464.0\n",
      "New number: 11\n",
      "Dtrimmed\n",
      "         Cow   Pig  Horse  Mouse   Dog   Cat  Turkey  Civet\n",
      "Cow        0   295    306    497  1081  1091    1003    492\n",
      "Pig      295     0    309    500  1084  1094    1006    495\n",
      "Horse    306   309      0    489  1073  1083     995    484\n",
      "Mouse    497   500    489      0  1092  1102    1014    503\n",
      "Dog     1081  1084   1073   1092     0   818    1056    589\n",
      "Cat     1091  1094   1083   1102   818     0    1066    599\n",
      "Turkey  1003  1006    995   1014  1056  1066       0    511\n",
      "Civet    492   495    484    503   589   599     511      0\n",
      "Start\n",
      "          Cow    Pig    v16  Horse    v15  Mouse    v14    Dog    v13    Cat  \\\n",
      "Cow       0.0    0.0  146.0    0.0    0.0    0.0    0.0    0.0    0.0    0.0   \n",
      "Pig       0.0    0.0  149.0    0.0    0.0    0.0    0.0    0.0    0.0    0.0   \n",
      "v16     146.0  149.0    0.0    0.0   11.0    0.0    0.0    0.0    0.0    0.0   \n",
      "Horse     0.0    0.0    0.0    0.0  149.0    0.0    0.0    0.0    0.0    0.0   \n",
      "v15       0.0    0.0   11.0  149.0    0.0    0.0   86.0    0.0    0.0    0.0   \n",
      "Mouse     0.0    0.0    0.0    0.0    0.0    0.0  254.0    0.0    0.0    0.0   \n",
      "v14       0.0    0.0    0.0    0.0   86.0  254.0    0.0    0.0    0.0    0.0   \n",
      "Dog       0.0    0.0    0.0    0.0    0.0    0.0    0.0    0.0  404.0    0.0   \n",
      "v13       0.0    0.0    0.0    0.0    0.0    0.0    0.0  404.0    0.0  414.0   \n",
      "Cat       0.0    0.0    0.0    0.0    0.0    0.0    0.0    0.0  414.0    0.0   \n",
      "v12       0.0    0.0    0.0    0.0    0.0    0.0  271.0    0.0  163.0    0.0   \n",
      "Turkey    0.0    0.0    0.0    0.0    0.0    0.0    0.0    0.0    0.0    0.0   \n",
      "\n",
      "          v12  Turkey  \n",
      "Cow       0.0     0.0  \n",
      "Pig       0.0     0.0  \n",
      "v16       0.0     0.0  \n",
      "Horse     0.0     0.0  \n",
      "v15       0.0     0.0  \n",
      "Mouse     0.0     0.0  \n",
      "v14     271.0     0.0  \n",
      "Dog       0.0     0.0  \n",
      "v13     163.0     0.0  \n",
      "Cat       0.0     0.0  \n",
      "v12       0.0   489.0  \n",
      "Turkey  489.0     0.0  \n",
      "End\n",
      "          Cow    Pig    v16  Horse    v15  Mouse    v14    Dog    v13    Cat  \\\n",
      "Cow       0.0    0.0  146.0    0.0    0.0    0.0    0.0    0.0    0.0    0.0   \n",
      "Pig       0.0    0.0  149.0    0.0    0.0    0.0    0.0    0.0    0.0    0.0   \n",
      "v16     146.0  149.0    0.0    0.0   11.0    0.0    0.0    0.0    0.0    0.0   \n",
      "Horse     0.0    0.0    0.0    0.0  149.0    0.0    0.0    0.0    0.0    0.0   \n",
      "v15       0.0    0.0   11.0  149.0    0.0    0.0   86.0    0.0    0.0    0.0   \n",
      "Mouse     0.0    0.0    0.0    0.0    0.0    0.0  254.0    0.0    0.0    0.0   \n",
      "v14       0.0    0.0    0.0    0.0   86.0  254.0    0.0    0.0    0.0    0.0   \n",
      "Dog       0.0    0.0    0.0    0.0    0.0    0.0    0.0    0.0  404.0    0.0   \n",
      "v13       0.0    0.0    0.0    0.0    0.0    0.0    0.0  404.0    0.0  414.0   \n",
      "Cat       0.0    0.0    0.0    0.0    0.0    0.0    0.0    0.0  414.0    0.0   \n",
      "v12       0.0    0.0    0.0    0.0    0.0    0.0    0.0    0.0  163.0    0.0   \n",
      "Turkey    0.0    0.0    0.0    0.0    0.0    0.0    0.0    0.0    0.0    0.0   \n",
      "v11       0.0    0.0    0.0    0.0    0.0    0.0  249.0    0.0    0.0    0.0   \n",
      "Civet     0.0    0.0    0.0    0.0    0.0    0.0    0.0    0.0    0.0    0.0   \n",
      "\n",
      "          v12  Turkey    v11  Civet  \n",
      "Cow       0.0     0.0    0.0    0.0  \n",
      "Pig       0.0     0.0    0.0    0.0  \n",
      "v16       0.0     0.0    0.0    0.0  \n",
      "Horse     0.0     0.0    0.0    0.0  \n",
      "v15       0.0     0.0    0.0    0.0  \n",
      "Mouse     0.0     0.0    0.0    0.0  \n",
      "v14       0.0     0.0  249.0    0.0  \n",
      "Dog       0.0     0.0    0.0    0.0  \n",
      "v13     163.0     0.0    0.0    0.0  \n",
      "Cat       0.0     0.0    0.0    0.0  \n",
      "v12       0.0   489.0   22.0    0.0  \n",
      "Turkey  489.0     0.0    0.0    0.0  \n",
      "v11      22.0     0.0    0.0  464.0  \n",
      "Civet     0.0     0.0  464.0    0.0  \n",
      "\n",
      "Node we are adding Human\n",
      "Limb Length 7.0\n",
      "New number: 10\n",
      "Dtrimmed\n",
      "         Cow   Pig  Horse  Mouse   Dog   Cat  Turkey  Civet  Human\n",
      "Cow        0   295    306    497  1081  1091    1003    956    947\n",
      "Pig      295     0    309    500  1084  1094    1006    959    950\n",
      "Horse    306   309      0    489  1073  1083     995    948    939\n",
      "Mouse    497   500    489      0  1092  1102    1014    967    958\n",
      "Dog     1081  1084   1073   1092     0   818    1056   1053   1044\n",
      "Cat     1091  1094   1083   1102   818     0    1066   1063   1054\n",
      "Turkey  1003  1006    995   1014  1056  1066       0    975    966\n",
      "Civet    956   959    948    967  1053  1063     975      0      9\n",
      "Human    947   950    939    958  1044  1054     966      9      0\n",
      "Start\n",
      "          Cow    Pig    v16  Horse    v15  Mouse    v14    Dog    v13    Cat  \\\n",
      "Cow       0.0    0.0  146.0    0.0    0.0    0.0    0.0    0.0    0.0    0.0   \n",
      "Pig       0.0    0.0  149.0    0.0    0.0    0.0    0.0    0.0    0.0    0.0   \n",
      "v16     146.0  149.0    0.0    0.0   11.0    0.0    0.0    0.0    0.0    0.0   \n",
      "Horse     0.0    0.0    0.0    0.0  149.0    0.0    0.0    0.0    0.0    0.0   \n",
      "v15       0.0    0.0   11.0  149.0    0.0    0.0   86.0    0.0    0.0    0.0   \n",
      "Mouse     0.0    0.0    0.0    0.0    0.0    0.0  254.0    0.0    0.0    0.0   \n",
      "v14       0.0    0.0    0.0    0.0   86.0  254.0    0.0    0.0    0.0    0.0   \n",
      "Dog       0.0    0.0    0.0    0.0    0.0    0.0    0.0    0.0  404.0    0.0   \n",
      "v13       0.0    0.0    0.0    0.0    0.0    0.0    0.0  404.0    0.0  414.0   \n",
      "Cat       0.0    0.0    0.0    0.0    0.0    0.0    0.0    0.0  414.0    0.0   \n",
      "v12       0.0    0.0    0.0    0.0    0.0    0.0    0.0    0.0  163.0    0.0   \n",
      "Turkey    0.0    0.0    0.0    0.0    0.0    0.0    0.0    0.0    0.0    0.0   \n",
      "v11       0.0    0.0    0.0    0.0    0.0    0.0  249.0    0.0    0.0    0.0   \n",
      "Civet     0.0    0.0    0.0    0.0    0.0    0.0    0.0    0.0    0.0    0.0   \n",
      "\n",
      "          v12  Turkey    v11  Civet  \n",
      "Cow       0.0     0.0    0.0    0.0  \n",
      "Pig       0.0     0.0    0.0    0.0  \n",
      "v16       0.0     0.0    0.0    0.0  \n",
      "Horse     0.0     0.0    0.0    0.0  \n",
      "v15       0.0     0.0    0.0    0.0  \n",
      "Mouse     0.0     0.0    0.0    0.0  \n",
      "v14       0.0     0.0  249.0    0.0  \n",
      "Dog       0.0     0.0    0.0    0.0  \n",
      "v13     163.0     0.0    0.0    0.0  \n",
      "Cat       0.0     0.0    0.0    0.0  \n",
      "v12       0.0   489.0   22.0    0.0  \n",
      "Turkey  489.0     0.0    0.0    0.0  \n",
      "v11      22.0     0.0    0.0  464.0  \n",
      "Civet     0.0     0.0  464.0    0.0  \n",
      "End\n",
      "          Cow    Pig    v16  Horse    v15  Mouse    v14    Dog    v13    Cat  \\\n",
      "Cow       0.0    0.0  146.0    0.0    0.0    0.0    0.0    0.0    0.0    0.0   \n",
      "Pig       0.0    0.0  149.0    0.0    0.0    0.0    0.0    0.0    0.0    0.0   \n",
      "v16     146.0  149.0    0.0    0.0   11.0    0.0    0.0    0.0    0.0    0.0   \n",
      "Horse     0.0    0.0    0.0    0.0  149.0    0.0    0.0    0.0    0.0    0.0   \n",
      "v15       0.0    0.0   11.0  149.0    0.0    0.0   86.0    0.0    0.0    0.0   \n",
      "Mouse     0.0    0.0    0.0    0.0    0.0    0.0  254.0    0.0    0.0    0.0   \n",
      "v14       0.0    0.0    0.0    0.0   86.0  254.0    0.0    0.0    0.0    0.0   \n",
      "Dog       0.0    0.0    0.0    0.0    0.0    0.0    0.0    0.0  404.0    0.0   \n",
      "v13       0.0    0.0    0.0    0.0    0.0    0.0    0.0  404.0    0.0  414.0   \n",
      "Cat       0.0    0.0    0.0    0.0    0.0    0.0    0.0    0.0  414.0    0.0   \n",
      "v12       0.0    0.0    0.0    0.0    0.0    0.0    0.0    0.0  163.0    0.0   \n",
      "Turkey    0.0    0.0    0.0    0.0    0.0    0.0    0.0    0.0    0.0    0.0   \n",
      "v11       0.0    0.0    0.0    0.0    0.0    0.0  249.0    0.0    0.0    0.0   \n",
      "Civet     0.0    0.0    0.0    0.0    0.0    0.0    0.0    0.0    0.0    0.0   \n",
      "v10       0.0    0.0    0.0    0.0    0.0    0.0    0.0    0.0    0.0    0.0   \n",
      "Human     0.0    0.0    0.0    0.0    0.0    0.0    0.0    0.0    0.0    0.0   \n",
      "\n",
      "          v12  Turkey    v11  Civet    v10  Human  \n",
      "Cow       0.0     0.0    0.0    0.0    0.0    0.0  \n",
      "Pig       0.0     0.0    0.0    0.0    0.0    0.0  \n",
      "v16       0.0     0.0    0.0    0.0    0.0    0.0  \n",
      "Horse     0.0     0.0    0.0    0.0    0.0    0.0  \n",
      "v15       0.0     0.0    0.0    0.0    0.0    0.0  \n",
      "Mouse     0.0     0.0    0.0    0.0    0.0    0.0  \n",
      "v14       0.0     0.0  249.0    0.0    0.0    0.0  \n",
      "Dog       0.0     0.0    0.0    0.0    0.0    0.0  \n",
      "v13     163.0     0.0    0.0    0.0    0.0    0.0  \n",
      "Cat       0.0     0.0    0.0    0.0    0.0    0.0  \n",
      "v12       0.0   489.0   22.0    0.0    0.0    0.0  \n",
      "Turkey  489.0     0.0    0.0    0.0    0.0    0.0  \n",
      "v11      22.0     0.0    0.0    0.0  455.0    0.0  \n",
      "Civet     0.0     0.0    0.0    0.0    9.0    0.0  \n",
      "v10       0.0     0.0  455.0    9.0    0.0    7.0  \n",
      "Human     0.0     0.0    0.0    0.0    7.0    0.0  \n"
     ]
    },
    {
     "data": {
      "image/png": "[encoded data removed]",
      "text/plain": [
       "<Figure size 1000x500 with 1 Axes>"
      ]
     },
     "metadata": {},
     "output_type": "display_data"
    }
   ],
   "source": [
    "from pylab import rcParams\n",
    "rcParams['figure.figsize'] = 10, 5\n",
    "\n",
    "G3 = Topic4_helper.additive_phylogeny(D_sars,len(D_sars)+1)\n",
    "r\n",
    "Topic4_helper.show(G3)"
   ]
  },
  {
   "cell_type": "code",
   "execution_count": 45,
   "metadata": {
    "slideshow": {
     "slide_type": "skip"
    }
   },
   "outputs": [
    {
     "data": {
      "text/html": [
       "<div>\n",
       "<style scoped>\n",
       "    .dataframe tbody tr th:only-of-type {\n",
       "        vertical-align: middle;\n",
       "    }\n",
       "\n",
       "    .dataframe tbody tr th {\n",
       "        vertical-align: top;\n",
       "    }\n",
       "\n",
       "    .dataframe thead th {\n",
       "        text-align: right;\n",
       "    }\n",
       "</style>\n",
       "<table border=\"1\" class=\"dataframe\">\n",
       "  <thead>\n",
       "    <tr style=\"text-align: right;\">\n",
       "      <th></th>\n",
       "      <th>Cow</th>\n",
       "      <th>Pig</th>\n",
       "      <th>v16</th>\n",
       "      <th>Horse</th>\n",
       "      <th>v15</th>\n",
       "      <th>Mouse</th>\n",
       "      <th>v14</th>\n",
       "      <th>Dog</th>\n",
       "      <th>v13</th>\n",
       "      <th>Cat</th>\n",
       "      <th>v12</th>\n",
       "      <th>Turkey</th>\n",
       "      <th>v11</th>\n",
       "      <th>Civet</th>\n",
       "      <th>v10</th>\n",
       "      <th>Human</th>\n",
       "    </tr>\n",
       "  </thead>\n",
       "  <tbody>\n",
       "    <tr>\n",
       "      <th>Cow</th>\n",
       "      <td>0.0</td>\n",
       "      <td>0.0</td>\n",
       "      <td>146.0</td>\n",
       "      <td>0.0</td>\n",
       "      <td>0.0</td>\n",
       "      <td>0.0</td>\n",
       "      <td>0.0</td>\n",
       "      <td>0.0</td>\n",
       "      <td>0.0</td>\n",
       "      <td>0.0</td>\n",
       "      <td>0.0</td>\n",
       "      <td>0.0</td>\n",
       "      <td>0.0</td>\n",
       "      <td>0.0</td>\n",
       "      <td>0.0</td>\n",
       "      <td>0.0</td>\n",
       "    </tr>\n",
       "    <tr>\n",
       "      <th>Pig</th>\n",
       "      <td>0.0</td>\n",
       "      <td>0.0</td>\n",
       "      <td>149.0</td>\n",
       "      <td>0.0</td>\n",
       "      <td>0.0</td>\n",
       "      <td>0.0</td>\n",
       "      <td>0.0</td>\n",
       "      <td>0.0</td>\n",
       "      <td>0.0</td>\n",
       "      <td>0.0</td>\n",
       "      <td>0.0</td>\n",
       "      <td>0.0</td>\n",
       "      <td>0.0</td>\n",
       "      <td>0.0</td>\n",
       "      <td>0.0</td>\n",
       "      <td>0.0</td>\n",
       "    </tr>\n",
       "    <tr>\n",
       "      <th>v16</th>\n",
       "      <td>146.0</td>\n",
       "      <td>149.0</td>\n",
       "      <td>0.0</td>\n",
       "      <td>0.0</td>\n",
       "      <td>11.0</td>\n",
       "      <td>0.0</td>\n",
       "      <td>0.0</td>\n",
       "      <td>0.0</td>\n",
       "      <td>0.0</td>\n",
       "      <td>0.0</td>\n",
       "      <td>0.0</td>\n",
       "      <td>0.0</td>\n",
       "      <td>0.0</td>\n",
       "      <td>0.0</td>\n",
       "      <td>0.0</td>\n",
       "      <td>0.0</td>\n",
       "    </tr>\n",
       "    <tr>\n",
       "      <th>Horse</th>\n",
       "      <td>0.0</td>\n",
       "      <td>0.0</td>\n",
       "      <td>0.0</td>\n",
       "      <td>0.0</td>\n",
       "      <td>149.0</td>\n",
       "      <td>0.0</td>\n",
       "      <td>0.0</td>\n",
       "      <td>0.0</td>\n",
       "      <td>0.0</td>\n",
       "      <td>0.0</td>\n",
       "      <td>0.0</td>\n",
       "      <td>0.0</td>\n",
       "      <td>0.0</td>\n",
       "      <td>0.0</td>\n",
       "      <td>0.0</td>\n",
       "      <td>0.0</td>\n",
       "    </tr>\n",
       "    <tr>\n",
       "      <th>v15</th>\n",
       "      <td>0.0</td>\n",
       "      <td>0.0</td>\n",
       "      <td>11.0</td>\n",
       "      <td>149.0</td>\n",
       "      <td>0.0</td>\n",
       "      <td>0.0</td>\n",
       "      <td>86.0</td>\n",
       "      <td>0.0</td>\n",
       "      <td>0.0</td>\n",
       "      <td>0.0</td>\n",
       "      <td>0.0</td>\n",
       "      <td>0.0</td>\n",
       "      <td>0.0</td>\n",
       "      <td>0.0</td>\n",
       "      <td>0.0</td>\n",
       "      <td>0.0</td>\n",
       "    </tr>\n",
       "    <tr>\n",
       "      <th>Mouse</th>\n",
       "      <td>0.0</td>\n",
       "      <td>0.0</td>\n",
       "      <td>0.0</td>\n",
       "      <td>0.0</td>\n",
       "      <td>0.0</td>\n",
       "      <td>0.0</td>\n",
       "      <td>254.0</td>\n",
       "      <td>0.0</td>\n",
       "      <td>0.0</td>\n",
       "      <td>0.0</td>\n",
       "      <td>0.0</td>\n",
       "      <td>0.0</td>\n",
       "      <td>0.0</td>\n",
       "      <td>0.0</td>\n",
       "      <td>0.0</td>\n",
       "      <td>0.0</td>\n",
       "    </tr>\n",
       "    <tr>\n",
       "      <th>v14</th>\n",
       "      <td>0.0</td>\n",
       "      <td>0.0</td>\n",
       "      <td>0.0</td>\n",
       "      <td>0.0</td>\n",
       "      <td>86.0</td>\n",
       "      <td>254.0</td>\n",
       "      <td>0.0</td>\n",
       "      <td>0.0</td>\n",
       "      <td>0.0</td>\n",
       "      <td>0.0</td>\n",
       "      <td>0.0</td>\n",
       "      <td>0.0</td>\n",
       "      <td>249.0</td>\n",
       "      <td>0.0</td>\n",
       "      <td>0.0</td>\n",
       "      <td>0.0</td>\n",
       "    </tr>\n",
       "    <tr>\n",
       "      <th>Dog</th>\n",
       "      <td>0.0</td>\n",
       "      <td>0.0</td>\n",
       "      <td>0.0</td>\n",
       "      <td>0.0</td>\n",
       "      <td>0.0</td>\n",
       "      <td>0.0</td>\n",
       "      <td>0.0</td>\n",
       "      <td>0.0</td>\n",
       "      <td>404.0</td>\n",
       "      <td>0.0</td>\n",
       "      <td>0.0</td>\n",
       "      <td>0.0</td>\n",
       "      <td>0.0</td>\n",
       "      <td>0.0</td>\n",
       "      <td>0.0</td>\n",
       "      <td>0.0</td>\n",
       "    </tr>\n",
       "    <tr>\n",
       "      <th>v13</th>\n",
       "      <td>0.0</td>\n",
       "      <td>0.0</td>\n",
       "      <td>0.0</td>\n",
       "      <td>0.0</td>\n",
       "      <td>0.0</td>\n",
       "      <td>0.0</td>\n",
       "      <td>0.0</td>\n",
       "      <td>404.0</td>\n",
       "      <td>0.0</td>\n",
       "      <td>414.0</td>\n",
       "      <td>163.0</td>\n",
       "      <td>0.0</td>\n",
       "      <td>0.0</td>\n",
       "      <td>0.0</td>\n",
       "      <td>0.0</td>\n",
       "      <td>0.0</td>\n",
       "    </tr>\n",
       "    <tr>\n",
       "      <th>Cat</th>\n",
       "      <td>0.0</td>\n",
       "      <td>0.0</td>\n",
       "      <td>0.0</td>\n",
       "      <td>0.0</td>\n",
       "      <td>0.0</td>\n",
       "      <td>0.0</td>\n",
       "      <td>0.0</td>\n",
       "      <td>0.0</td>\n",
       "      <td>414.0</td>\n",
       "      <td>0.0</td>\n",
       "      <td>0.0</td>\n",
       "      <td>0.0</td>\n",
       "      <td>0.0</td>\n",
       "      <td>0.0</td>\n",
       "      <td>0.0</td>\n",
       "      <td>0.0</td>\n",
       "    </tr>\n",
       "    <tr>\n",
       "      <th>v12</th>\n",
       "      <td>0.0</td>\n",
       "      <td>0.0</td>\n",
       "      <td>0.0</td>\n",
       "      <td>0.0</td>\n",
       "      <td>0.0</td>\n",
       "      <td>0.0</td>\n",
       "      <td>0.0</td>\n",
       "      <td>0.0</td>\n",
       "      <td>163.0</td>\n",
       "      <td>0.0</td>\n",
       "      <td>0.0</td>\n",
       "      <td>489.0</td>\n",
       "      <td>22.0</td>\n",
       "      <td>0.0</td>\n",
       "      <td>0.0</td>\n",
       "      <td>0.0</td>\n",
       "    </tr>\n",
       "    <tr>\n",
       "      <th>Turkey</th>\n",
       "      <td>0.0</td>\n",
       "      <td>0.0</td>\n",
       "      <td>0.0</td>\n",
       "      <td>0.0</td>\n",
       "      <td>0.0</td>\n",
       "      <td>0.0</td>\n",
       "      <td>0.0</td>\n",
       "      <td>0.0</td>\n",
       "      <td>0.0</td>\n",
       "      <td>0.0</td>\n",
       "      <td>489.0</td>\n",
       "      <td>0.0</td>\n",
       "      <td>0.0</td>\n",
       "      <td>0.0</td>\n",
       "      <td>0.0</td>\n",
       "      <td>0.0</td>\n",
       "    </tr>\n",
       "    <tr>\n",
       "      <th>v11</th>\n",
       "      <td>0.0</td>\n",
       "      <td>0.0</td>\n",
       "      <td>0.0</td>\n",
       "      <td>0.0</td>\n",
       "      <td>0.0</td>\n",
       "      <td>0.0</td>\n",
       "      <td>249.0</td>\n",
       "      <td>0.0</td>\n",
       "      <td>0.0</td>\n",
       "      <td>0.0</td>\n",
       "      <td>22.0</td>\n",
       "      <td>0.0</td>\n",
       "      <td>0.0</td>\n",
       "      <td>0.0</td>\n",
       "      <td>455.0</td>\n",
       "      <td>0.0</td>\n",
       "    </tr>\n",
       "    <tr>\n",
       "      <th>Civet</th>\n",
       "      <td>0.0</td>\n",
       "      <td>0.0</td>\n",
       "      <td>0.0</td>\n",
       "      <td>0.0</td>\n",
       "      <td>0.0</td>\n",
       "      <td>0.0</td>\n",
       "      <td>0.0</td>\n",
       "      <td>0.0</td>\n",
       "      <td>0.0</td>\n",
       "      <td>0.0</td>\n",
       "      <td>0.0</td>\n",
       "      <td>0.0</td>\n",
       "      <td>0.0</td>\n",
       "      <td>0.0</td>\n",
       "      <td>9.0</td>\n",
       "      <td>0.0</td>\n",
       "    </tr>\n",
       "    <tr>\n",
       "      <th>v10</th>\n",
       "      <td>0.0</td>\n",
       "      <td>0.0</td>\n",
       "      <td>0.0</td>\n",
       "      <td>0.0</td>\n",
       "      <td>0.0</td>\n",
       "      <td>0.0</td>\n",
       "      <td>0.0</td>\n",
       "      <td>0.0</td>\n",
       "      <td>0.0</td>\n",
       "      <td>0.0</td>\n",
       "      <td>0.0</td>\n",
       "      <td>0.0</td>\n",
       "      <td>455.0</td>\n",
       "      <td>9.0</td>\n",
       "      <td>0.0</td>\n",
       "      <td>7.0</td>\n",
       "    </tr>\n",
       "    <tr>\n",
       "      <th>Human</th>\n",
       "      <td>0.0</td>\n",
       "      <td>0.0</td>\n",
       "      <td>0.0</td>\n",
       "      <td>0.0</td>\n",
       "      <td>0.0</td>\n",
       "      <td>0.0</td>\n",
       "      <td>0.0</td>\n",
       "      <td>0.0</td>\n",
       "      <td>0.0</td>\n",
       "      <td>0.0</td>\n",
       "      <td>0.0</td>\n",
       "      <td>0.0</td>\n",
       "      <td>0.0</td>\n",
       "      <td>0.0</td>\n",
       "      <td>7.0</td>\n",
       "      <td>0.0</td>\n",
       "    </tr>\n",
       "  </tbody>\n",
       "</table>\n",
       "</div>"
      ],
      "text/plain": [
       "          Cow    Pig    v16  Horse    v15  Mouse    v14    Dog    v13    Cat  \\\n",
       "Cow       0.0    0.0  146.0    0.0    0.0    0.0    0.0    0.0    0.0    0.0   \n",
       "Pig       0.0    0.0  149.0    0.0    0.0    0.0    0.0    0.0    0.0    0.0   \n",
       "v16     146.0  149.0    0.0    0.0   11.0    0.0    0.0    0.0    0.0    0.0   \n",
       "Horse     0.0    0.0    0.0    0.0  149.0    0.0    0.0    0.0    0.0    0.0   \n",
       "v15       0.0    0.0   11.0  149.0    0.0    0.0   86.0    0.0    0.0    0.0   \n",
       "Mouse     0.0    0.0    0.0    0.0    0.0    0.0  254.0    0.0    0.0    0.0   \n",
       "v14       0.0    0.0    0.0    0.0   86.0  254.0    0.0    0.0    0.0    0.0   \n",
       "Dog       0.0    0.0    0.0    0.0    0.0    0.0    0.0    0.0  404.0    0.0   \n",
       "v13       0.0    0.0    0.0    0.0    0.0    0.0    0.0  404.0    0.0  414.0   \n",
       "Cat       0.0    0.0    0.0    0.0    0.0    0.0    0.0    0.0  414.0    0.0   \n",
       "v12       0.0    0.0    0.0    0.0    0.0    0.0    0.0    0.0  163.0    0.0   \n",
       "Turkey    0.0    0.0    0.0    0.0    0.0    0.0    0.0    0.0    0.0    0.0   \n",
       "v11       0.0    0.0    0.0    0.0    0.0    0.0  249.0    0.0    0.0    0.0   \n",
       "Civet     0.0    0.0    0.0    0.0    0.0    0.0    0.0    0.0    0.0    0.0   \n",
       "v10       0.0    0.0    0.0    0.0    0.0    0.0    0.0    0.0    0.0    0.0   \n",
       "Human     0.0    0.0    0.0    0.0    0.0    0.0    0.0    0.0    0.0    0.0   \n",
       "\n",
       "          v12  Turkey    v11  Civet    v10  Human  \n",
       "Cow       0.0     0.0    0.0    0.0    0.0    0.0  \n",
       "Pig       0.0     0.0    0.0    0.0    0.0    0.0  \n",
       "v16       0.0     0.0    0.0    0.0    0.0    0.0  \n",
       "Horse     0.0     0.0    0.0    0.0    0.0    0.0  \n",
       "v15       0.0     0.0    0.0    0.0    0.0    0.0  \n",
       "Mouse     0.0     0.0    0.0    0.0    0.0    0.0  \n",
       "v14       0.0     0.0  249.0    0.0    0.0    0.0  \n",
       "Dog       0.0     0.0    0.0    0.0    0.0    0.0  \n",
       "v13     163.0     0.0    0.0    0.0    0.0    0.0  \n",
       "Cat       0.0     0.0    0.0    0.0    0.0    0.0  \n",
       "v12       0.0   489.0   22.0    0.0    0.0    0.0  \n",
       "Turkey  489.0     0.0    0.0    0.0    0.0    0.0  \n",
       "v11      22.0     0.0    0.0    0.0  455.0    0.0  \n",
       "Civet     0.0     0.0    0.0    0.0    9.0    0.0  \n",
       "v10       0.0     0.0  455.0    9.0    0.0    7.0  \n",
       "Human     0.0     0.0    0.0    0.0    7.0    0.0  "
      ]
     },
     "execution_count": 45,
     "metadata": {},
     "output_type": "execute_result"
    }
   ],
   "source": [
    "Topic4_helper.show_adj(G3)"
   ]
  },
  {
   "cell_type": "markdown",
   "metadata": {
    "slideshow": {
     "slide_type": "skip"
    }
   },
   "source": [
    "**Helper function to check things out**"
   ]
  },
  {
   "cell_type": "code",
   "execution_count": 46,
   "metadata": {
    "slideshow": {
     "slide_type": "skip"
    }
   },
   "outputs": [],
   "source": [
    "def compute_path_cost(T,i,k):\n",
    "    cost = 0\n",
    "    try:\n",
    "        path = list(nx.all_simple_paths(T,i,k))[0]\n",
    "    except:\n",
    "        return -1\n",
    "    a = path[0]\n",
    "    cost = 0\n",
    "    A = Topic4_helper.show_adj(G3)\n",
    "    for b in path[1:]:\n",
    "        cost += A.loc[a,b]\n",
    "        a = b\n",
    "    return cost"
   ]
  },
  {
   "cell_type": "code",
   "execution_count": 47,
   "metadata": {
    "slideshow": {
     "slide_type": "skip"
    }
   },
   "outputs": [
    {
     "data": {
      "text/plain": [
       "np.float64(973.0)"
      ]
     },
     "execution_count": 47,
     "metadata": {},
     "output_type": "execute_result"
    }
   ],
   "source": [
    "compute_path_cost(G3,'Human','Turkey')"
   ]
  },
  {
   "cell_type": "code",
   "execution_count": 48,
   "metadata": {
    "slideshow": {
     "slide_type": "fragment"
    }
   },
   "outputs": [
    {
     "data": {
      "text/plain": [
       "np.True_"
      ]
     },
     "execution_count": 48,
     "metadata": {},
     "output_type": "execute_result"
    }
   ],
   "source": [
    "compute_path_cost(G3,'Human','Turkey') == D_sars.loc['Human','Turkey']"
   ]
  },
  {
   "cell_type": "code",
   "execution_count": 49,
   "metadata": {
    "slideshow": {
     "slide_type": "skip"
    }
   },
   "outputs": [],
   "source": [
    "# Don't forget to push!"
   ]
  },
  {
   "cell_type": "markdown",
   "metadata": {},
   "source": [
    "# Test your code"
   ]
  },
  {
   "cell_type": "code",
   "execution_count": 52,
   "metadata": {},
   "outputs": [
    {
     "name": "stdout",
     "output_type": "stream",
     "text": [
      "\u001b[1m============================= test session starts ==============================\u001b[0m\n",
      "platform darwin -- Python 3.9.6, pytest-8.3.3, pluggy-1.5.0\n",
      "rootdir: /Users/pander14/GitHub/csc-448-instructor/tests\n",
      "plugins: anyio-4.6.0\n",
      "collected 6 items\n",
      "\n",
      "test_Topic4.py \u001b[32m.\u001b[0m\u001b[32m.\u001b[0m\u001b[32m.\u001b[0m\u001b[32m.\u001b[0m\u001b[32m.\u001b[0m\u001b[32m.\u001b[0m\u001b[32m                                                    [100%]\u001b[0m\n",
      "\n",
      "\u001b[32m============================== \u001b[32m\u001b[1m6 passed\u001b[0m\u001b[32m in 0.55s\u001b[0m\u001b[32m ===============================\u001b[0m\n"
     ]
    }
   ],
   "source": [
    "%%bash -s \"$USERNAME\"\n",
    "\n",
    "cd ../tests #csc-448-$1/tests\n",
    "pytest test_Topic4.py"
   ]
  },
  {
   "cell_type": "markdown",
   "metadata": {},
   "source": [
    "# Colab End Section - Submit your code"
   ]
  },
  {
   "cell_type": "code",
   "execution_count": null,
   "metadata": {},
   "outputs": [],
   "source": [
    "%%bash -s \"$USERNAME\"\n",
    "\n",
    "eval \"$(ssh-agent -s)\"\n",
    "\n",
    "ssh-add ~/.ssh/id_ed25519\n",
    "\n",
    "ssh-keyscan -t rsa github.com >> ~/.ssh/known_hosts\n",
    "\n",
    "cd csc-448-$1\n",
    "git add .\n",
    "git commit -m update\n",
    "git push\n",
    "#./command_line_sync.sh # - if you want to sync"
   ]
  },
  {
   "cell_type": "code",
   "execution_count": 55,
   "metadata": {
    "slideshow": {
     "slide_type": "skip"
    }
   },
   "outputs": [],
   "source": [
    "# Don't forget to push!"
   ]
  }
 ],
 "metadata": {
  "celltoolbar": "Slideshow",
  "jupytext": {
   "formats": "ipynb,md,py"
  },
  "kernelspec": {
   "display_name": "Python 3 (ipykernel)",
   "language": "python",
   "name": "python3"
  },
  "language_info": {
   "codemirror_mode": {
    "name": "ipython",
    "version": 3
   },
   "file_extension": ".py",
   "mimetype": "text/x-python",
   "name": "python",
   "nbconvert_exporter": "python",
   "pygments_lexer": "ipython3",
   "version": "3.9.6"
  }
 },
 "nbformat": 4,
 "nbformat_minor": 4
}
